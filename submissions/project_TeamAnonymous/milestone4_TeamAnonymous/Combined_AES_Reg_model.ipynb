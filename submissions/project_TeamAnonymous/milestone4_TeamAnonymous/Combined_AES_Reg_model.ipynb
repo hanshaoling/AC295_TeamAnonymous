{
 "cells": [
  {
   "cell_type": "code",
   "execution_count": 1,
   "metadata": {
    "colab": {
     "base_uri": "https://localhost:8080/"
    },
    "id": "vur-a16daJSG",
    "outputId": "313b2bab-d830-455a-8bde-92b7561d7a03"
   },
   "outputs": [
    {
     "name": "stdout",
     "output_type": "stream",
     "text": [
      "Mounted at /content/drive\n"
     ]
    }
   ],
   "source": [
    "from google.colab import drive\n",
    "drive.mount('/content/drive')"
   ]
  },
  {
   "cell_type": "code",
   "execution_count": 2,
   "metadata": {
    "colab": {
     "base_uri": "https://localhost:8080/"
    },
    "id": "4bvH-Iiz1iSS",
    "outputId": "8fd1bbef-015c-484a-a3aa-69b3b5cd0c31"
   },
   "outputs": [
    {
     "name": "stdout",
     "output_type": "stream",
     "text": [
      "Collecting transformers\n",
      "\u001b[?25l  Downloading https://files.pythonhosted.org/packages/ed/db/98c3ea1a78190dac41c0127a063abf92bd01b4b0b6970a6db1c2f5b66fa0/transformers-4.0.1-py3-none-any.whl (1.4MB)\n",
      "\u001b[K     |████████████████████████████████| 1.4MB 12.6MB/s \n",
      "\u001b[?25hRequirement already satisfied: requests in /usr/local/lib/python3.6/dist-packages (from transformers) (2.23.0)\n",
      "Requirement already satisfied: numpy in /usr/local/lib/python3.6/dist-packages (from transformers) (1.18.5)\n",
      "Requirement already satisfied: packaging in /usr/local/lib/python3.6/dist-packages (from transformers) (20.7)\n",
      "Collecting tokenizers==0.9.4\n",
      "\u001b[?25l  Downloading https://files.pythonhosted.org/packages/0f/1c/e789a8b12e28be5bc1ce2156cf87cb522b379be9cadc7ad8091a4cc107c4/tokenizers-0.9.4-cp36-cp36m-manylinux2010_x86_64.whl (2.9MB)\n",
      "\u001b[K     |████████████████████████████████| 2.9MB 17.2MB/s \n",
      "\u001b[?25hRequirement already satisfied: dataclasses; python_version < \"3.7\" in /usr/local/lib/python3.6/dist-packages (from transformers) (0.8)\n",
      "Collecting sacremoses\n",
      "\u001b[?25l  Downloading https://files.pythonhosted.org/packages/7d/34/09d19aff26edcc8eb2a01bed8e98f13a1537005d31e95233fd48216eed10/sacremoses-0.0.43.tar.gz (883kB)\n",
      "\u001b[K     |████████████████████████████████| 890kB 49.5MB/s \n",
      "\u001b[?25hRequirement already satisfied: regex!=2019.12.17 in /usr/local/lib/python3.6/dist-packages (from transformers) (2019.12.20)\n",
      "Requirement already satisfied: tqdm>=4.27 in /usr/local/lib/python3.6/dist-packages (from transformers) (4.41.1)\n",
      "Requirement already satisfied: filelock in /usr/local/lib/python3.6/dist-packages (from transformers) (3.0.12)\n",
      "Requirement already satisfied: idna<3,>=2.5 in /usr/local/lib/python3.6/dist-packages (from requests->transformers) (2.10)\n",
      "Requirement already satisfied: urllib3!=1.25.0,!=1.25.1,<1.26,>=1.21.1 in /usr/local/lib/python3.6/dist-packages (from requests->transformers) (1.24.3)\n",
      "Requirement already satisfied: chardet<4,>=3.0.2 in /usr/local/lib/python3.6/dist-packages (from requests->transformers) (3.0.4)\n",
      "Requirement already satisfied: certifi>=2017.4.17 in /usr/local/lib/python3.6/dist-packages (from requests->transformers) (2020.12.5)\n",
      "Requirement already satisfied: pyparsing>=2.0.2 in /usr/local/lib/python3.6/dist-packages (from packaging->transformers) (2.4.7)\n",
      "Requirement already satisfied: six in /usr/local/lib/python3.6/dist-packages (from sacremoses->transformers) (1.15.0)\n",
      "Requirement already satisfied: click in /usr/local/lib/python3.6/dist-packages (from sacremoses->transformers) (7.1.2)\n",
      "Requirement already satisfied: joblib in /usr/local/lib/python3.6/dist-packages (from sacremoses->transformers) (0.17.0)\n",
      "Building wheels for collected packages: sacremoses\n",
      "  Building wheel for sacremoses (setup.py) ... \u001b[?25l\u001b[?25hdone\n",
      "  Created wheel for sacremoses: filename=sacremoses-0.0.43-cp36-none-any.whl size=893261 sha256=3d366d8532d34101fab692addbdd4fe74614c2dca3a25e8c0ccf48f1107f034b\n",
      "  Stored in directory: /root/.cache/pip/wheels/29/3c/fd/7ce5c3f0666dab31a50123635e6fb5e19ceb42ce38d4e58f45\n",
      "Successfully built sacremoses\n",
      "Installing collected packages: tokenizers, sacremoses, transformers\n",
      "Successfully installed sacremoses-0.0.43 tokenizers-0.9.4 transformers-4.0.1\n"
     ]
    }
   ],
   "source": [
    "!pip install transformers #Installing Huggingface transformers "
   ]
  },
  {
   "cell_type": "code",
   "execution_count": 3,
   "metadata": {
    "id": "jL2TovZraR5G"
   },
   "outputs": [],
   "source": [
    "import os\n",
    "import requests\n",
    "import tempfile\n",
    "import zipfile\n",
    "import shutil\n",
    "import json\n",
    "import time\n",
    "import sys\n",
    "import cv2\n",
    "import numpy as np\n",
    "import pandas as pd\n",
    "from glob import glob\n",
    "import subprocess\n",
    "import matplotlib.pyplot as plt\n",
    "import re\n",
    "import string\n",
    "%matplotlib inline\n",
    "\n",
    "\n",
    "import tensorflow as tf\n",
    "from tensorflow import keras\n",
    "from tensorflow.python.keras import backend as K\n",
    "from tensorflow.keras.models import Model, Sequential\n",
    "from tensorflow.keras import layers\n",
    "from tensorflow.keras.layers import LSTM, Embedding, Dense, GRU\n",
    "from tensorflow.keras import activations\n",
    "from tensorflow.keras import optimizers\n",
    "from tensorflow.keras import losses\n",
    "from tensorflow.keras import metrics\n",
    "from tensorflow.keras import initializers\n",
    "from tensorflow.keras import regularizers\n",
    "from tensorflow.keras.utils import to_categorical\n",
    "from keras.utils.layer_utils import count_params\n",
    "import tensorflow_hub as hub\n",
    "from tensorflow.keras.layers.experimental.preprocessing import TextVectorization\n",
    "from transformers import BertTokenizer, TFBertForSequenceClassification, TFBertModel\n",
    "\n",
    "#import tensorflow_model_optimization as tfmot\n",
    "#from tensorflow_model_optimization.sparsity.keras import prune_low_magnitude\n",
    "from sklearn.model_selection import train_test_split\n",
    "from sklearn.metrics import cohen_kappa_score"
   ]
  },
  {
   "cell_type": "markdown",
   "metadata": {
    "id": "fBZMtHQnFtEu"
   },
   "source": [
    "# Read data"
   ]
  },
  {
   "cell_type": "code",
   "execution_count": 5,
   "metadata": {
    "id": "C-WKzoiPaqE9"
   },
   "outputs": [],
   "source": [
    "data = pd.read_excel('/content/drive/MyDrive/AC295 Final Project/training_set_rel3.xls')\n",
    "data = data[~np.isnan(data['domain1_score'].values)]"
   ]
  },
  {
   "cell_type": "markdown",
   "metadata": {
    "id": "JZGVC8jEbINk"
   },
   "source": [
    "**As mentioned in milestone3, classification is not appropriate when we have large number of score levels. Instead of doing classification, we try regression. In this way, we can combine essays from all prompts. We rescale the scores to [0, 1] to train the model, then rescale back to examine performance of models (quadratic weighted kappa).**"
   ]
  },
  {
   "cell_type": "markdown",
   "metadata": {
    "id": "7nLzdvgXd8hL"
   },
   "source": [
    "# scaling"
   ]
  },
  {
   "cell_type": "code",
   "execution_count": 6,
   "metadata": {
    "id": "iUQ-GoZXf548"
   },
   "outputs": [],
   "source": [
    "low_scale={1:2,2:1,3:0,4:0,5:0,6:0,7:0,8:0}\n",
    "high_scale={1:12,2:6,3:3,4:3,5:4,6:4,7:30,8:60}"
   ]
  },
  {
   "cell_type": "code",
   "execution_count": 7,
   "metadata": {
    "id": "h7Qf6UwCgMbQ"
   },
   "outputs": [],
   "source": [
    "data['low_scale']=data.essay_set.map(low_scale)\n",
    "data['high_scale']=data.essay_set.map(high_scale)\n",
    "data['scaled_score']=(data.domain1_score-data.low_scale)/(data.high_scale-data.low_scale)"
   ]
  },
  {
   "cell_type": "code",
   "execution_count": 8,
   "metadata": {
    "colab": {
     "base_uri": "https://localhost:8080/",
     "height": 983
    },
    "id": "iRs9-6_EVIN4",
    "outputId": "ada8ae3d-0d97-4699-d3a9-cde302e21d83"
   },
   "outputs": [
    {
     "data": {
      "text/html": [
       "<div>\n",
       "<style scoped>\n",
       "    .dataframe tbody tr th:only-of-type {\n",
       "        vertical-align: middle;\n",
       "    }\n",
       "\n",
       "    .dataframe tbody tr th {\n",
       "        vertical-align: top;\n",
       "    }\n",
       "\n",
       "    .dataframe thead th {\n",
       "        text-align: right;\n",
       "    }\n",
       "</style>\n",
       "<table border=\"1\" class=\"dataframe\">\n",
       "  <thead>\n",
       "    <tr style=\"text-align: right;\">\n",
       "      <th></th>\n",
       "      <th>essay_id</th>\n",
       "      <th>essay_set</th>\n",
       "      <th>essay</th>\n",
       "      <th>rater1_domain1</th>\n",
       "      <th>rater2_domain1</th>\n",
       "      <th>rater3_domain1</th>\n",
       "      <th>domain1_score</th>\n",
       "      <th>rater1_domain2</th>\n",
       "      <th>rater2_domain2</th>\n",
       "      <th>domain2_score</th>\n",
       "      <th>rater1_trait1</th>\n",
       "      <th>rater1_trait2</th>\n",
       "      <th>rater1_trait3</th>\n",
       "      <th>rater1_trait4</th>\n",
       "      <th>rater1_trait5</th>\n",
       "      <th>rater1_trait6</th>\n",
       "      <th>rater2_trait1</th>\n",
       "      <th>rater2_trait2</th>\n",
       "      <th>rater2_trait3</th>\n",
       "      <th>rater2_trait4</th>\n",
       "      <th>rater2_trait5</th>\n",
       "      <th>rater2_trait6</th>\n",
       "      <th>rater3_trait1</th>\n",
       "      <th>rater3_trait2</th>\n",
       "      <th>rater3_trait3</th>\n",
       "      <th>rater3_trait4</th>\n",
       "      <th>rater3_trait5</th>\n",
       "      <th>rater3_trait6</th>\n",
       "      <th>low_scale</th>\n",
       "      <th>high_scale</th>\n",
       "      <th>scaled_score</th>\n",
       "    </tr>\n",
       "  </thead>\n",
       "  <tbody>\n",
       "    <tr>\n",
       "      <th>0</th>\n",
       "      <td>1</td>\n",
       "      <td>1</td>\n",
       "      <td>Dear local newspaper, I think effects computer...</td>\n",
       "      <td>4.0</td>\n",
       "      <td>4.0</td>\n",
       "      <td>NaN</td>\n",
       "      <td>8.0</td>\n",
       "      <td>NaN</td>\n",
       "      <td>NaN</td>\n",
       "      <td>NaN</td>\n",
       "      <td>NaN</td>\n",
       "      <td>NaN</td>\n",
       "      <td>NaN</td>\n",
       "      <td>NaN</td>\n",
       "      <td>NaN</td>\n",
       "      <td>NaN</td>\n",
       "      <td>NaN</td>\n",
       "      <td>NaN</td>\n",
       "      <td>NaN</td>\n",
       "      <td>NaN</td>\n",
       "      <td>NaN</td>\n",
       "      <td>NaN</td>\n",
       "      <td>NaN</td>\n",
       "      <td>NaN</td>\n",
       "      <td>NaN</td>\n",
       "      <td>NaN</td>\n",
       "      <td>NaN</td>\n",
       "      <td>NaN</td>\n",
       "      <td>2</td>\n",
       "      <td>12</td>\n",
       "      <td>0.600000</td>\n",
       "    </tr>\n",
       "    <tr>\n",
       "      <th>1</th>\n",
       "      <td>2</td>\n",
       "      <td>1</td>\n",
       "      <td>Dear @CAPS1 @CAPS2, I believe that using compu...</td>\n",
       "      <td>5.0</td>\n",
       "      <td>4.0</td>\n",
       "      <td>NaN</td>\n",
       "      <td>9.0</td>\n",
       "      <td>NaN</td>\n",
       "      <td>NaN</td>\n",
       "      <td>NaN</td>\n",
       "      <td>NaN</td>\n",
       "      <td>NaN</td>\n",
       "      <td>NaN</td>\n",
       "      <td>NaN</td>\n",
       "      <td>NaN</td>\n",
       "      <td>NaN</td>\n",
       "      <td>NaN</td>\n",
       "      <td>NaN</td>\n",
       "      <td>NaN</td>\n",
       "      <td>NaN</td>\n",
       "      <td>NaN</td>\n",
       "      <td>NaN</td>\n",
       "      <td>NaN</td>\n",
       "      <td>NaN</td>\n",
       "      <td>NaN</td>\n",
       "      <td>NaN</td>\n",
       "      <td>NaN</td>\n",
       "      <td>NaN</td>\n",
       "      <td>2</td>\n",
       "      <td>12</td>\n",
       "      <td>0.700000</td>\n",
       "    </tr>\n",
       "    <tr>\n",
       "      <th>2</th>\n",
       "      <td>3</td>\n",
       "      <td>1</td>\n",
       "      <td>Dear, @CAPS1 @CAPS2 @CAPS3 More and more peopl...</td>\n",
       "      <td>4.0</td>\n",
       "      <td>3.0</td>\n",
       "      <td>NaN</td>\n",
       "      <td>7.0</td>\n",
       "      <td>NaN</td>\n",
       "      <td>NaN</td>\n",
       "      <td>NaN</td>\n",
       "      <td>NaN</td>\n",
       "      <td>NaN</td>\n",
       "      <td>NaN</td>\n",
       "      <td>NaN</td>\n",
       "      <td>NaN</td>\n",
       "      <td>NaN</td>\n",
       "      <td>NaN</td>\n",
       "      <td>NaN</td>\n",
       "      <td>NaN</td>\n",
       "      <td>NaN</td>\n",
       "      <td>NaN</td>\n",
       "      <td>NaN</td>\n",
       "      <td>NaN</td>\n",
       "      <td>NaN</td>\n",
       "      <td>NaN</td>\n",
       "      <td>NaN</td>\n",
       "      <td>NaN</td>\n",
       "      <td>NaN</td>\n",
       "      <td>2</td>\n",
       "      <td>12</td>\n",
       "      <td>0.500000</td>\n",
       "    </tr>\n",
       "    <tr>\n",
       "      <th>3</th>\n",
       "      <td>4</td>\n",
       "      <td>1</td>\n",
       "      <td>Dear Local Newspaper, @CAPS1 I have found that...</td>\n",
       "      <td>5.0</td>\n",
       "      <td>5.0</td>\n",
       "      <td>NaN</td>\n",
       "      <td>10.0</td>\n",
       "      <td>NaN</td>\n",
       "      <td>NaN</td>\n",
       "      <td>NaN</td>\n",
       "      <td>NaN</td>\n",
       "      <td>NaN</td>\n",
       "      <td>NaN</td>\n",
       "      <td>NaN</td>\n",
       "      <td>NaN</td>\n",
       "      <td>NaN</td>\n",
       "      <td>NaN</td>\n",
       "      <td>NaN</td>\n",
       "      <td>NaN</td>\n",
       "      <td>NaN</td>\n",
       "      <td>NaN</td>\n",
       "      <td>NaN</td>\n",
       "      <td>NaN</td>\n",
       "      <td>NaN</td>\n",
       "      <td>NaN</td>\n",
       "      <td>NaN</td>\n",
       "      <td>NaN</td>\n",
       "      <td>NaN</td>\n",
       "      <td>2</td>\n",
       "      <td>12</td>\n",
       "      <td>0.800000</td>\n",
       "    </tr>\n",
       "    <tr>\n",
       "      <th>4</th>\n",
       "      <td>5</td>\n",
       "      <td>1</td>\n",
       "      <td>Dear @LOCATION1, I know having computers has a...</td>\n",
       "      <td>4.0</td>\n",
       "      <td>4.0</td>\n",
       "      <td>NaN</td>\n",
       "      <td>8.0</td>\n",
       "      <td>NaN</td>\n",
       "      <td>NaN</td>\n",
       "      <td>NaN</td>\n",
       "      <td>NaN</td>\n",
       "      <td>NaN</td>\n",
       "      <td>NaN</td>\n",
       "      <td>NaN</td>\n",
       "      <td>NaN</td>\n",
       "      <td>NaN</td>\n",
       "      <td>NaN</td>\n",
       "      <td>NaN</td>\n",
       "      <td>NaN</td>\n",
       "      <td>NaN</td>\n",
       "      <td>NaN</td>\n",
       "      <td>NaN</td>\n",
       "      <td>NaN</td>\n",
       "      <td>NaN</td>\n",
       "      <td>NaN</td>\n",
       "      <td>NaN</td>\n",
       "      <td>NaN</td>\n",
       "      <td>NaN</td>\n",
       "      <td>2</td>\n",
       "      <td>12</td>\n",
       "      <td>0.600000</td>\n",
       "    </tr>\n",
       "    <tr>\n",
       "      <th>...</th>\n",
       "      <td>...</td>\n",
       "      <td>...</td>\n",
       "      <td>...</td>\n",
       "      <td>...</td>\n",
       "      <td>...</td>\n",
       "      <td>...</td>\n",
       "      <td>...</td>\n",
       "      <td>...</td>\n",
       "      <td>...</td>\n",
       "      <td>...</td>\n",
       "      <td>...</td>\n",
       "      <td>...</td>\n",
       "      <td>...</td>\n",
       "      <td>...</td>\n",
       "      <td>...</td>\n",
       "      <td>...</td>\n",
       "      <td>...</td>\n",
       "      <td>...</td>\n",
       "      <td>...</td>\n",
       "      <td>...</td>\n",
       "      <td>...</td>\n",
       "      <td>...</td>\n",
       "      <td>...</td>\n",
       "      <td>...</td>\n",
       "      <td>...</td>\n",
       "      <td>...</td>\n",
       "      <td>...</td>\n",
       "      <td>...</td>\n",
       "      <td>...</td>\n",
       "      <td>...</td>\n",
       "      <td>...</td>\n",
       "    </tr>\n",
       "    <tr>\n",
       "      <th>12973</th>\n",
       "      <td>21626</td>\n",
       "      <td>8</td>\n",
       "      <td>In most stories mothers and daughters are eit...</td>\n",
       "      <td>17.0</td>\n",
       "      <td>18.0</td>\n",
       "      <td>NaN</td>\n",
       "      <td>35.0</td>\n",
       "      <td>NaN</td>\n",
       "      <td>NaN</td>\n",
       "      <td>NaN</td>\n",
       "      <td>4.0</td>\n",
       "      <td>3.0</td>\n",
       "      <td>4.0</td>\n",
       "      <td>4.0</td>\n",
       "      <td>4.0</td>\n",
       "      <td>3.0</td>\n",
       "      <td>4.0</td>\n",
       "      <td>4.0</td>\n",
       "      <td>4.0</td>\n",
       "      <td>4.0</td>\n",
       "      <td>4.0</td>\n",
       "      <td>3.0</td>\n",
       "      <td>NaN</td>\n",
       "      <td>NaN</td>\n",
       "      <td>NaN</td>\n",
       "      <td>NaN</td>\n",
       "      <td>NaN</td>\n",
       "      <td>NaN</td>\n",
       "      <td>0</td>\n",
       "      <td>60</td>\n",
       "      <td>0.583333</td>\n",
       "    </tr>\n",
       "    <tr>\n",
       "      <th>12974</th>\n",
       "      <td>21628</td>\n",
       "      <td>8</td>\n",
       "      <td>I never understood the meaning laughter is th...</td>\n",
       "      <td>15.0</td>\n",
       "      <td>17.0</td>\n",
       "      <td>NaN</td>\n",
       "      <td>32.0</td>\n",
       "      <td>NaN</td>\n",
       "      <td>NaN</td>\n",
       "      <td>NaN</td>\n",
       "      <td>3.0</td>\n",
       "      <td>3.0</td>\n",
       "      <td>4.0</td>\n",
       "      <td>3.0</td>\n",
       "      <td>3.0</td>\n",
       "      <td>3.0</td>\n",
       "      <td>4.0</td>\n",
       "      <td>3.0</td>\n",
       "      <td>4.0</td>\n",
       "      <td>4.0</td>\n",
       "      <td>4.0</td>\n",
       "      <td>3.0</td>\n",
       "      <td>NaN</td>\n",
       "      <td>NaN</td>\n",
       "      <td>NaN</td>\n",
       "      <td>NaN</td>\n",
       "      <td>NaN</td>\n",
       "      <td>NaN</td>\n",
       "      <td>0</td>\n",
       "      <td>60</td>\n",
       "      <td>0.533333</td>\n",
       "    </tr>\n",
       "    <tr>\n",
       "      <th>12975</th>\n",
       "      <td>21629</td>\n",
       "      <td>8</td>\n",
       "      <td>When you laugh, is @CAPS5 out of habit, or is ...</td>\n",
       "      <td>20.0</td>\n",
       "      <td>26.0</td>\n",
       "      <td>40.0</td>\n",
       "      <td>40.0</td>\n",
       "      <td>NaN</td>\n",
       "      <td>NaN</td>\n",
       "      <td>NaN</td>\n",
       "      <td>4.0</td>\n",
       "      <td>4.0</td>\n",
       "      <td>4.0</td>\n",
       "      <td>4.0</td>\n",
       "      <td>4.0</td>\n",
       "      <td>4.0</td>\n",
       "      <td>6.0</td>\n",
       "      <td>5.0</td>\n",
       "      <td>5.0</td>\n",
       "      <td>5.0</td>\n",
       "      <td>5.0</td>\n",
       "      <td>5.0</td>\n",
       "      <td>4.0</td>\n",
       "      <td>4.0</td>\n",
       "      <td>4.0</td>\n",
       "      <td>4.0</td>\n",
       "      <td>4.0</td>\n",
       "      <td>4.0</td>\n",
       "      <td>0</td>\n",
       "      <td>60</td>\n",
       "      <td>0.666667</td>\n",
       "    </tr>\n",
       "    <tr>\n",
       "      <th>12976</th>\n",
       "      <td>21630</td>\n",
       "      <td>8</td>\n",
       "      <td>Trippin' on fen...</td>\n",
       "      <td>20.0</td>\n",
       "      <td>20.0</td>\n",
       "      <td>NaN</td>\n",
       "      <td>40.0</td>\n",
       "      <td>NaN</td>\n",
       "      <td>NaN</td>\n",
       "      <td>NaN</td>\n",
       "      <td>4.0</td>\n",
       "      <td>4.0</td>\n",
       "      <td>4.0</td>\n",
       "      <td>4.0</td>\n",
       "      <td>4.0</td>\n",
       "      <td>4.0</td>\n",
       "      <td>4.0</td>\n",
       "      <td>4.0</td>\n",
       "      <td>4.0</td>\n",
       "      <td>4.0</td>\n",
       "      <td>4.0</td>\n",
       "      <td>4.0</td>\n",
       "      <td>NaN</td>\n",
       "      <td>NaN</td>\n",
       "      <td>NaN</td>\n",
       "      <td>NaN</td>\n",
       "      <td>NaN</td>\n",
       "      <td>NaN</td>\n",
       "      <td>0</td>\n",
       "      <td>60</td>\n",
       "      <td>0.666667</td>\n",
       "    </tr>\n",
       "    <tr>\n",
       "      <th>12977</th>\n",
       "      <td>21633</td>\n",
       "      <td>8</td>\n",
       "      <td>Many people believe that laughter can improve...</td>\n",
       "      <td>20.0</td>\n",
       "      <td>20.0</td>\n",
       "      <td>NaN</td>\n",
       "      <td>40.0</td>\n",
       "      <td>NaN</td>\n",
       "      <td>NaN</td>\n",
       "      <td>NaN</td>\n",
       "      <td>4.0</td>\n",
       "      <td>4.0</td>\n",
       "      <td>4.0</td>\n",
       "      <td>4.0</td>\n",
       "      <td>4.0</td>\n",
       "      <td>4.0</td>\n",
       "      <td>4.0</td>\n",
       "      <td>4.0</td>\n",
       "      <td>4.0</td>\n",
       "      <td>4.0</td>\n",
       "      <td>4.0</td>\n",
       "      <td>4.0</td>\n",
       "      <td>NaN</td>\n",
       "      <td>NaN</td>\n",
       "      <td>NaN</td>\n",
       "      <td>NaN</td>\n",
       "      <td>NaN</td>\n",
       "      <td>NaN</td>\n",
       "      <td>0</td>\n",
       "      <td>60</td>\n",
       "      <td>0.666667</td>\n",
       "    </tr>\n",
       "  </tbody>\n",
       "</table>\n",
       "<p>12977 rows × 31 columns</p>\n",
       "</div>"
      ],
      "text/plain": [
       "       essay_id  essay_set  ... high_scale  scaled_score\n",
       "0             1          1  ...         12      0.600000\n",
       "1             2          1  ...         12      0.700000\n",
       "2             3          1  ...         12      0.500000\n",
       "3             4          1  ...         12      0.800000\n",
       "4             5          1  ...         12      0.600000\n",
       "...         ...        ...  ...        ...           ...\n",
       "12973     21626          8  ...         60      0.583333\n",
       "12974     21628          8  ...         60      0.533333\n",
       "12975     21629          8  ...         60      0.666667\n",
       "12976     21630          8  ...         60      0.666667\n",
       "12977     21633          8  ...         60      0.666667\n",
       "\n",
       "[12977 rows x 31 columns]"
      ]
     },
     "execution_count": 8,
     "metadata": {
      "tags": []
     },
     "output_type": "execute_result"
    }
   ],
   "source": [
    "data"
   ]
  },
  {
   "cell_type": "code",
   "execution_count": 9,
   "metadata": {
    "id": "Jt8nD4UALUNb"
   },
   "outputs": [],
   "source": [
    "data_X=data.essay.values\n",
    "data_y=data.scaled_score.values.reshape(-1,1)\n",
    "data_y_origin=data.domain1_score.values.reshape(-1,1)\n",
    "essay_set=data.essay_set.values.reshape(-1,1)\n",
    "\n",
    "train_X, test_X, train_y, test_y, train_y_origin, test_y_origin, train_essay_set, test_essay_set = train_test_split(data_X, data_y, data_y_origin, essay_set, test_size = 0.2, random_state = 295, stratify=data.essay_set)\n",
    "train_data=(train_X,train_y)\n",
    "test_data=(test_X,test_y)"
   ]
  },
  {
   "cell_type": "code",
   "execution_count": 10,
   "metadata": {
    "colab": {
     "base_uri": "https://localhost:8080/"
    },
    "id": "kobSEuD-Xqlb",
    "outputId": "d314d366-aeb9-4542-e1f5-c7b533329074"
   },
   "outputs": [
    {
     "data": {
      "text/plain": [
       "1119"
      ]
     },
     "execution_count": 10,
     "metadata": {
      "tags": []
     },
     "output_type": "execute_result"
    }
   ],
   "source": [
    "def wordcount(seq):\n",
    "  words = seq.split(' ')\n",
    "  return len(words)\n",
    "data.essay.map(wordcount).max()"
   ]
  },
  {
   "cell_type": "code",
   "execution_count": 11,
   "metadata": {
    "colab": {
     "base_uri": "https://localhost:8080/"
    },
    "id": "f9Xe8PEUYcPT",
    "outputId": "b211bd92-34e7-4e38-a9a9-823cc1741c38"
   },
   "outputs": [
    {
     "data": {
      "text/plain": [
       "(array(['The author concludes this story by saying this statement because the author want you to feel like the character in the book is determined. The ator is trying to put across a statement saying  get through then try again. The character is not giving up, and she will get through the test eve though its hard.',\n",
       "        'I think that computers are amazing. Computers are an amazing way to meat new pol online.',\n",
       "        'Well since the cyclist is in a desert and out of mother he is probably not going to be happy. The \"ghost towns\" aren\\'t really a boost of confidence either. The rugged hills made him angry too. The heat affected him the most.',\n",
       "        ...,\n",
       "        \"There are so many resaons why taking a book, movie, or anything else off the shelves is wrong. If it is violent or sexual i can see why it shouldn't be on the shelves but if the reader doesn't like the book or movie, then don't read it or watch it find something else.     If everyone took a book of the shelf that they didn't like then what would we have to read because everyone has a book or two that they don't like or think is offensive. Every book can't be perfect for that person. Everyone has there own veiws on books wether they like it or dislike it. If that book isn't what your looking for then put it back and stop reading it.     There have been many of people say 'If you don't like it then don't listen to it'. They are excaclly right because if there is something that you can't stand to listen to or read and you do it anyway thats going to make you mad. Then your going to complain that it is on the shelfs and say it is bad and it shouldn't be on the shelves anymore. That is what starts all these things of people saying it is offensive. People know what they like and don't like, so if there is something that you don't like then don't listen to it or read it.      It all comes down to common sence. We all have it we just need to start using it. That means if you like country music then don't listen to hard rock or rap because that isn't what you like so don't listen to it. Because if you listen to it then your like why is that stuff on the shevles for people to listen to it's bad for you it is puting bad thought into those teenager's heads. If eveyone sticks to doing what they like and don't worry about the other stuff then eveyone will be fine.\",\n",
       "        'The library has many books, they would have anything that you could possibly imagine.The library is a great resource for any information. They have so much information that if you were to go to the library, you would be there all day. Libraries carry many different kinds of books. They would probably even carry a book perhaps on hats. There are libraries all around us and are very convienent.     If a library carried misleading books, music, movies, or even magazines, I would have to say that they could get in a lot of trouble, especially if a magazine or a movie or any other source of information, would show anything that would affend someone in any way, then someone should tell the librarian or the manager and say this should not be on the shelf. When people go to the library they are exspecting clean reviews about the library.             If a library were ment to carry offensive products it would not be called the library. The library is ment to be a quiet place where someone could go there and browse around maybe, or just go in and get what they need and come right on out . Most libraries are pretty peticular of what they should or should not put out on there shelves. If someone put something way out of the ordinary, and that person knows that they should not put the book on the shelf they should automatically be fired.       In conclusion libraries are very nifty and important to the town or city. The only thing would be is to keep an eye out for any offensive books, music, and etc. You never know when they will be randomly out on the shelf, and if you happen to find one you should imediently tell the librarian or the libraries manager. The library @MONTH1 get in trouble and then again they @MONTH1 not',\n",
       "        \"Dear local news paper, This paper is going to be about the reason computers are bad. Frist, computers are bad cause people wouldn't have time to enjoy the nature when its nice and warm out. Second reason is cause they won't spend time with there familys at all or there friends and the only time they would get off the computer is to pay the bill and buy a game for the computer. The third reason is that how are going to get a job cause they wouldn't want to get up to look for a job cause there having to much fun intill they cut off the light then he would do dum things to pay is bell se he can start to play again and thats going to make hin do it over and over again. That's why it's bad to have a computer. But now where is people going go in life cause some people love to play games on the computer and some don't that's why some computers are bad for some people. And this is just my opinion there's alot more people might think so to. And thank you for having time to read this.\"],\n",
       "       dtype=object), array([[0.33333333],\n",
       "        [0.        ],\n",
       "        [0.33333333],\n",
       "        ...,\n",
       "        [0.6       ],\n",
       "        [0.2       ],\n",
       "        [0.4       ]]))"
      ]
     },
     "execution_count": 11,
     "metadata": {
      "tags": []
     },
     "output_type": "execute_result"
    }
   ],
   "source": [
    "train_data"
   ]
  },
  {
   "cell_type": "markdown",
   "metadata": {
    "id": "-DLLN4mXic5T"
   },
   "source": [
    "# Tokenization"
   ]
  },
  {
   "cell_type": "code",
   "execution_count": 12,
   "metadata": {
    "id": "WsZSkQtaicd9"
   },
   "outputs": [],
   "source": [
    "'''\n",
    "def standardize_text(input_text):\n",
    "  # Convert to lower case\n",
    "  lowercase = tf.strings.lower(input_text)\n",
    "  # Remove HTML tags\n",
    "  stripped_html = tf.strings.regex_replace(lowercase, \"<br />\", \" \")\n",
    "  return tf.strings.regex_replace(\n",
    "      stripped_html, \"[%s]\" % re.escape(string.punctuation), \"\"\n",
    "  )\n",
    "'''\n",
    "max_features = 15000\n",
    "sequence_length = 1200\n",
    "\n",
    "text_data = tf.data.Dataset.from_tensor_slices(data.essay.values)\n",
    "\n",
    "text_vectorizer = TextVectorization(\n",
    "    standardize='lower_and_strip_punctuation',\n",
    "    max_tokens=max_features,\n",
    "    output_mode=\"int\",\n",
    "    output_sequence_length=sequence_length,\n",
    ")\n",
    "\n",
    "text_vectorizer.adapt(text_data.batch(64))\n",
    "\n",
    "def vectorize_text(text, label=None):\n",
    "  text = tf.expand_dims(text, -1)\n",
    "  text = text_vectorizer(text)\n",
    "  if label is None:\n",
    "    return text\n",
    "  else:\n",
    "    return text, label"
   ]
  },
  {
   "cell_type": "code",
   "execution_count": 13,
   "metadata": {
    "id": "fcqT-5oeqW5l"
   },
   "outputs": [],
   "source": [
    "batch_size = 128\n",
    "AUTOTUNE = tf.data.experimental.AUTOTUNE\n",
    "\n",
    "train_data = tf.data.Dataset.from_tensor_slices(train_data)\n",
    "train_data = train_data.batch(batch_size)\n",
    "#train_data = train_data.map(vectorize_text, num_parallel_calls=AUTOTUNE)\n",
    "train_data = train_data.cache().prefetch(buffer_size=100)\n",
    "\n",
    "\n",
    "val_data = tf.data.Dataset.from_tensor_slices(test_data)\n",
    "val_data = val_data.batch(batch_size)\n",
    "#val_data = val_data.map(vectorize_text, num_parallel_calls=AUTOTUNE)\n",
    "val_data = val_data.cache().prefetch(buffer_size=100)\n"
   ]
  },
  {
   "cell_type": "code",
   "execution_count": 14,
   "metadata": {
    "colab": {
     "base_uri": "https://localhost:8080/"
    },
    "id": "Qv9TxCmydEaa",
    "outputId": "9f873f9b-1a3b-469b-cda8-e93fcddc5cee"
   },
   "outputs": [
    {
     "data": {
      "text/plain": [
       "<PrefetchDataset shapes: ((None,), (None, 1)), types: (tf.string, tf.float64)>"
      ]
     },
     "execution_count": 14,
     "metadata": {
      "tags": []
     },
     "output_type": "execute_result"
    }
   ],
   "source": [
    "train_data"
   ]
  },
  {
   "cell_type": "markdown",
   "metadata": {
    "id": "W4ozDPM7iV1Q"
   },
   "source": [
    "# Utils functions"
   ]
  },
  {
   "cell_type": "code",
   "execution_count": 15,
   "metadata": {
    "id": "BzZ4uLediXvF"
   },
   "outputs": [],
   "source": [
    "def evaluate_model(model,test_data, training_results):\n",
    "    \n",
    "  # Get the model train history\n",
    "  model_train_history = training_results.history\n",
    "  # Get the number of epochs the training was run for\n",
    "  num_epochs = len(model_train_history[\"loss\"])\n",
    "\n",
    "  # Plot training results\n",
    "  fig = plt.figure(figsize=(15,5))\n",
    "  axs = fig.add_subplot(1,2,1)\n",
    "  axs.set_title('Loss')\n",
    "  # Plot all metrics\n",
    "  for metric in [\"loss\",\"val_loss\"]:\n",
    "      axs.plot(np.arange(0, num_epochs), model_train_history[metric], label=metric)\n",
    "  axs.legend()\n",
    "  \n",
    "  axs = fig.add_subplot(1,2,2)\n",
    "  axs.set_title('MSE')\n",
    "  # Plot all metrics\n",
    "  for metric in [\"mse\",\"val_mse\"]:\n",
    "      axs.plot(np.arange(0, num_epochs), model_train_history[metric], label=metric)\n",
    "  axs.legend()\n",
    "\n",
    "  plt.show()\n",
    "  \n",
    "  # Evaluate on test data\n",
    "  evaluation_results = model.evaluate(test_data)\n",
    "  print(\"Evaluation Results:\", evaluation_results)"
   ]
  },
  {
   "cell_type": "code",
   "execution_count": 16,
   "metadata": {
    "id": "u4hbkoQ5KUiT"
   },
   "outputs": [],
   "source": [
    "def QWK(model):\n",
    "  #calculate quadratic weighted kappa\n",
    "  df=pd.DataFrame(model.predict(val_data),columns=['pred_scaled'])\n",
    "  df['essay_set']=test_essay_set\n",
    "  df['low_scale']=df.essay_set.map(low_scale)\n",
    "  df['high_scale']=df.essay_set.map(high_scale)\n",
    "  df['pred_origin']=df['pred_scaled']*(df.high_scale-df.low_scale)+df.low_scale\n",
    "  df['pred_origin_rounded']=df['pred_origin'].round(0).astype(int)\n",
    "  df['true_origin']=test_y_origin\n",
    "\n",
    "  QWK=df.groupby('essay_set').apply(lambda x: cohen_kappa_score(x['pred_origin_rounded'], x['true_origin'], weights='quadratic'))\n",
    "  return QWK\n"
   ]
  },
  {
   "cell_type": "code",
   "execution_count": 17,
   "metadata": {
    "id": "Rkdbyjs5KSPP"
   },
   "outputs": [],
   "source": [
    "def QWK_bert(model):\n",
    "  #calculate quadratic weighted kappa\n",
    "  df=pd.DataFrame(model.predict(validation_data),columns=['pred_scaled'])\n",
    "  df['essay_set']=test_essay_set\n",
    "  df['low_scale']=df.essay_set.map(low_scale)\n",
    "  df['high_scale']=df.essay_set.map(high_scale)\n",
    "  df['pred_origin']=df['pred_scaled']*(df.high_scale-df.low_scale)+df.low_scale\n",
    "  df['pred_origin_rounded']=df['pred_origin'].round(0).astype(int)\n",
    "  df['true_origin']=test_y_origin\n",
    "\n",
    "  QWK=df.groupby('essay_set').apply(lambda x: cohen_kappa_score(x['pred_origin_rounded'], x['true_origin'], weights='quadratic'))\n",
    "  return QWK\n"
   ]
  },
  {
   "cell_type": "markdown",
   "metadata": {
    "id": "jPaqE3klhztR"
   },
   "source": [
    "# Building models"
   ]
  },
  {
   "cell_type": "markdown",
   "metadata": {
    "id": "Fs-kfPmLiRk1"
   },
   "source": [
    "## 1. FFNN model"
   ]
  },
  {
   "cell_type": "code",
   "execution_count": 18,
   "metadata": {
    "colab": {
     "base_uri": "https://localhost:8080/",
     "height": 1000
    },
    "id": "GTq0WRoBiOOf",
    "outputId": "a7da2ef8-3b88-4d5a-dc8b-ffb6dc076c54"
   },
   "outputs": [
    {
     "name": "stdout",
     "output_type": "stream",
     "text": [
      "Model: \"sequential\"\n",
      "_________________________________________________________________\n",
      "Layer (type)                 Output Shape              Param #   \n",
      "=================================================================\n",
      "text_vectorization (TextVect (None, 1200)              0         \n",
      "_________________________________________________________________\n",
      "dense (Dense)                (None, 64)                76864     \n",
      "_________________________________________________________________\n",
      "dense_1 (Dense)              (None, 32)                2080      \n",
      "_________________________________________________________________\n",
      "dense_2 (Dense)              (None, 16)                528       \n",
      "_________________________________________________________________\n",
      "dense_3 (Dense)              (None, 1)                 17        \n",
      "=================================================================\n",
      "Total params: 79,489\n",
      "Trainable params: 79,489\n",
      "Non-trainable params: 0\n",
      "_________________________________________________________________\n",
      "Epoch 1/100\n",
      "82/82 [==============================] - 1s 14ms/step - loss: 36.5480 - mse: 0.2578 - val_loss: 10.2211 - val_mse: 0.2371\n",
      "Epoch 2/100\n",
      "82/82 [==============================] - 1s 11ms/step - loss: 5.1539 - mse: 0.2099 - val_loss: 2.2118 - val_mse: 0.1816\n",
      "Epoch 3/100\n",
      "82/82 [==============================] - 1s 12ms/step - loss: 1.3237 - mse: 0.0996 - val_loss: 1.0805 - val_mse: 0.1010\n",
      "Epoch 4/100\n",
      "82/82 [==============================] - 1s 11ms/step - loss: 0.8550 - mse: 0.0672 - val_loss: 0.8500 - val_mse: 0.0599\n",
      "Epoch 5/100\n",
      "82/82 [==============================] - 1s 11ms/step - loss: 0.7585 - mse: 0.0588 - val_loss: 0.7957 - val_mse: 0.0548\n",
      "Epoch 6/100\n",
      "82/82 [==============================] - 1s 11ms/step - loss: 0.7322 - mse: 0.0575 - val_loss: 0.7625 - val_mse: 0.0519\n",
      "Epoch 7/100\n",
      "82/82 [==============================] - 1s 12ms/step - loss: 0.7158 - mse: 0.0542 - val_loss: 0.7567 - val_mse: 0.0563\n",
      "Epoch 8/100\n",
      "82/82 [==============================] - 1s 11ms/step - loss: 0.7077 - mse: 0.0532 - val_loss: 0.7689 - val_mse: 0.0636\n",
      "Epoch 9/100\n",
      "82/82 [==============================] - 1s 11ms/step - loss: 0.7026 - mse: 0.0522 - val_loss: 0.7647 - val_mse: 0.0612\n",
      "Epoch 10/100\n",
      "82/82 [==============================] - 1s 11ms/step - loss: 0.6944 - mse: 0.0519 - val_loss: 0.7573 - val_mse: 0.0606\n",
      "Epoch 11/100\n",
      "82/82 [==============================] - 1s 11ms/step - loss: 0.6904 - mse: 0.0517 - val_loss: 0.7590 - val_mse: 0.0610\n",
      "Epoch 12/100\n",
      "82/82 [==============================] - 1s 11ms/step - loss: 0.6892 - mse: 0.0512 - val_loss: 0.7607 - val_mse: 0.0628\n",
      "Epoch 13/100\n",
      "82/82 [==============================] - 1s 11ms/step - loss: 0.6864 - mse: 0.0513 - val_loss: 0.7767 - val_mse: 0.0713\n",
      "Epoch 14/100\n",
      "82/82 [==============================] - 1s 11ms/step - loss: 0.6878 - mse: 0.0514 - val_loss: 0.7762 - val_mse: 0.0751\n",
      "Epoch 15/100\n",
      "82/82 [==============================] - 1s 11ms/step - loss: 0.6839 - mse: 0.0503 - val_loss: 0.7809 - val_mse: 0.0750\n",
      "Epoch 16/100\n",
      "82/82 [==============================] - 1s 11ms/step - loss: 0.6804 - mse: 0.0493 - val_loss: 0.7738 - val_mse: 0.0735\n",
      "Epoch 17/100\n",
      "82/82 [==============================] - 1s 11ms/step - loss: 0.6761 - mse: 0.0487 - val_loss: 0.7720 - val_mse: 0.0727\n"
     ]
    },
    {
     "data": {
      "image/png": "[encoded data removed]",
      "text/plain": [
       "<Figure size 1080x360 with 2 Axes>"
      ]
     },
     "metadata": {
      "needs_background": "light",
      "tags": []
     },
     "output_type": "display_data"
    },
    {
     "name": "stdout",
     "output_type": "stream",
     "text": [
      "21/21 [==============================] - 0s 8ms/step - loss: 0.7720 - mse: 0.0727\n",
      "Evaluation Results: [0.7720251083374023, 0.07271075993776321]\n"
     ]
    }
   ],
   "source": [
    "model_ffnn = Sequential()\n",
    "model_ffnn.add(layers.Input(shape = (1,),dtype=tf.string))\n",
    "model_ffnn.add(text_vectorizer)\n",
    "model_ffnn.add(layers.Dense(64, activation = 'relu'))\n",
    "model_ffnn.add(layers.Dense(32, activation = 'relu'))\n",
    "model_ffnn.add(layers.Dense(16, activation = 'relu'))\n",
    "model_ffnn.add(layers.Dense(1, activation = 'sigmoid')) # scaled score in [0, 1]\n",
    "\n",
    "loss = tf.keras.losses.binary_crossentropy\n",
    "optimizer = optimizers.Adam(lr = 0.001)\n",
    "metrics=['mse']\n",
    "model_ffnn.compile(loss= loss, optimizer = optimizer, metrics = metrics)\n",
    "model_ffnn.summary()\n",
    "\n",
    "early_stopping = tf.keras.callbacks.EarlyStopping(\n",
    "    monitor='val_loss', min_delta=0, patience=10, verbose=0, mode='auto'\n",
    ")\n",
    "\n",
    "history_ffnn=model_ffnn.fit(train_data, validation_data = val_data, callbacks=early_stopping, epochs = 100, verbose = 1)\n",
    "evaluate_model(model_ffnn,val_data,history_ffnn)"
   ]
  },
  {
   "cell_type": "markdown",
   "metadata": {
    "id": "Jvl-5LLzvA82"
   },
   "source": [
    "## 2. Embedding + LSTM"
   ]
  },
  {
   "cell_type": "code",
   "execution_count": 20,
   "metadata": {
    "colab": {
     "base_uri": "https://localhost:8080/",
     "height": 1000
    },
    "id": "jmwsipBTvAUP",
    "outputId": "d32bcefe-dad8-46f5-9ca3-6a1626da7e75"
   },
   "outputs": [
    {
     "name": "stdout",
     "output_type": "stream",
     "text": [
      "Model: \"sequential\"\n",
      "_________________________________________________________________\n",
      "Layer (type)                 Output Shape              Param #   \n",
      "=================================================================\n",
      "text_vectorization (TextVect (None, 1200)              0         \n",
      "_________________________________________________________________\n",
      "embedding (Embedding)        (None, 1200, 200)         3000000   \n",
      "_________________________________________________________________\n",
      "lstm (LSTM)                  (None, 100)               120400    \n",
      "_________________________________________________________________\n",
      "dense (Dense)                (None, 1)                 101       \n",
      "=================================================================\n",
      "Total params: 3,120,501\n",
      "Trainable params: 3,120,501\n",
      "Non-trainable params: 0\n",
      "_________________________________________________________________\n",
      "Epoch 1/50\n",
      "82/82 [==============================] - 11s 133ms/step - loss: 0.6590 - mse: 0.0452 - val_loss: 0.6384 - val_mse: 0.0338\n",
      "Epoch 2/50\n",
      "82/82 [==============================] - 10s 119ms/step - loss: 0.6199 - mse: 0.0272 - val_loss: 0.6211 - val_mse: 0.0260\n",
      "Epoch 3/50\n",
      "82/82 [==============================] - 10s 120ms/step - loss: 0.5993 - mse: 0.0186 - val_loss: 0.6420 - val_mse: 0.0330\n",
      "Epoch 4/50\n",
      "82/82 [==============================] - 10s 121ms/step - loss: 0.5942 - mse: 0.0167 - val_loss: 0.6229 - val_mse: 0.0268\n",
      "Epoch 5/50\n",
      "82/82 [==============================] - 10s 120ms/step - loss: 0.5827 - mse: 0.0125 - val_loss: 0.6423 - val_mse: 0.0330\n",
      "Epoch 6/50\n",
      "82/82 [==============================] - 10s 120ms/step - loss: 0.5839 - mse: 0.0135 - val_loss: 0.6344 - val_mse: 0.0311\n",
      "Epoch 7/50\n",
      "82/82 [==============================] - 10s 117ms/step - loss: 0.5823 - mse: 0.0131 - val_loss: 0.6375 - val_mse: 0.0311\n",
      "Epoch 8/50\n",
      "82/82 [==============================] - 10s 120ms/step - loss: 0.5757 - mse: 0.0107 - val_loss: 0.6492 - val_mse: 0.0358\n",
      "Epoch 9/50\n",
      "82/82 [==============================] - 10s 120ms/step - loss: 0.5707 - mse: 0.0092 - val_loss: 0.6652 - val_mse: 0.0443\n",
      "Epoch 10/50\n",
      "82/82 [==============================] - 10s 124ms/step - loss: 0.5725 - mse: 0.0101 - val_loss: 0.6531 - val_mse: 0.0374\n",
      "Epoch 11/50\n",
      "82/82 [==============================] - 10s 121ms/step - loss: 0.5697 - mse: 0.0093 - val_loss: 0.6803 - val_mse: 0.0387\n",
      "Epoch 12/50\n",
      "82/82 [==============================] - 10s 121ms/step - loss: 0.5639 - mse: 0.0075 - val_loss: 0.6662 - val_mse: 0.0373\n"
     ]
    },
    {
     "data": {
      "image/png": "[encoded data removed]",
      "text/plain": [
       "<Figure size 1080x360 with 2 Axes>"
      ]
     },
     "metadata": {
      "needs_background": "light",
      "tags": []
     },
     "output_type": "display_data"
    },
    {
     "name": "stdout",
     "output_type": "stream",
     "text": [
      "21/21 [==============================] - 1s 44ms/step - loss: 0.6211 - mse: 0.0260\n",
      "Evaluation Results: [0.6210861206054688, 0.02600172907114029]\n"
     ]
    }
   ],
   "source": [
    "K.clear_session()\n",
    "latent_dim=200\n",
    "\n",
    "model_em_lstm=Sequential()\n",
    "model_em_lstm.add(layers.Input(shape = (1,),dtype=tf.string))\n",
    "model_em_lstm.add(text_vectorizer)\n",
    "model_em_lstm.add(Embedding(max_features, latent_dim, input_length=sequence_length, mask_zero=True))\n",
    "model_em_lstm.add(LSTM(100))\n",
    "#model_em_lstm.add(layers.Dropout(0.3))\n",
    "model_em_lstm.add(layers.Dense(1, activation = 'sigmoid'))\n",
    "\n",
    "model_em_lstm.summary()\n",
    "loss = tf.keras.losses.binary_crossentropy\n",
    "optimizer = optimizers.RMSprop(learning_rate= 0.001)\n",
    "optimizer = optimizers.Adam(lr = 0.001)\n",
    "metrics=['mse']\n",
    "model_em_lstm.compile(loss= loss, optimizer = optimizer, metrics = metrics)\n",
    "\n",
    "early_stopping = tf.keras.callbacks.EarlyStopping(\n",
    "    monitor='val_loss', min_delta=0, patience=10, verbose=0, mode='auto',restore_best_weights=True\n",
    ")\n",
    "\n",
    "history_em_lstm=model_em_lstm.fit(train_data, validation_data = val_data, callbacks=early_stopping, epochs = 50, verbose = 1)\n",
    "evaluate_model(model_em_lstm,val_data,history_em_lstm)"
   ]
  },
  {
   "cell_type": "markdown",
   "metadata": {
    "id": "HYSAwlDGLoFK"
   },
   "source": [
    "## 3. Embedding + GRU"
   ]
  },
  {
   "cell_type": "code",
   "execution_count": null,
   "metadata": {
    "colab": {
     "base_uri": "https://localhost:8080/",
     "height": 1000
    },
    "id": "CtsDoHGsLvrF",
    "outputId": "81180b67-b911-4dba-c8a7-2cb43c19c70a"
   },
   "outputs": [
    {
     "name": "stdout",
     "output_type": "stream",
     "text": [
      "Model: \"sequential\"\n",
      "_________________________________________________________________\n",
      "Layer (type)                 Output Shape              Param #   \n",
      "=================================================================\n",
      "embedding (Embedding)        (None, 1200, 200)         3000000   \n",
      "_________________________________________________________________\n",
      "gru (GRU)                    (None, 100)               90600     \n",
      "_________________________________________________________________\n",
      "dense (Dense)                (None, 1)                 101       \n",
      "=================================================================\n",
      "Total params: 3,090,701\n",
      "Trainable params: 3,090,701\n",
      "Non-trainable params: 0\n",
      "_________________________________________________________________\n",
      "Epoch 1/100\n",
      "82/82 [==============================] - 10s 118ms/step - loss: 0.6676 - mse: 0.0493 - val_loss: 0.6458 - val_mse: 0.0371\n",
      "Epoch 2/100\n",
      "82/82 [==============================] - 9s 106ms/step - loss: 0.6302 - mse: 0.0320 - val_loss: 0.6307 - val_mse: 0.0306\n",
      "Epoch 3/100\n",
      "82/82 [==============================] - 9s 107ms/step - loss: 0.6089 - mse: 0.0226 - val_loss: 0.6315 - val_mse: 0.0310\n",
      "Epoch 4/100\n",
      "82/82 [==============================] - 9s 105ms/step - loss: 0.5931 - mse: 0.0162 - val_loss: 0.6315 - val_mse: 0.0310\n",
      "Epoch 5/100\n",
      "82/82 [==============================] - 9s 105ms/step - loss: 0.5892 - mse: 0.0150 - val_loss: 0.6404 - val_mse: 0.0333\n",
      "Epoch 6/100\n",
      "82/82 [==============================] - 9s 104ms/step - loss: 0.5866 - mse: 0.0142 - val_loss: 0.6423 - val_mse: 0.0330\n",
      "Epoch 7/100\n",
      "82/82 [==============================] - 9s 105ms/step - loss: 0.5817 - mse: 0.0125 - val_loss: 0.6490 - val_mse: 0.0372\n",
      "Epoch 8/100\n",
      "82/82 [==============================] - 9s 104ms/step - loss: 0.5741 - mse: 0.0099 - val_loss: 0.6479 - val_mse: 0.0370\n",
      "Epoch 9/100\n",
      "82/82 [==============================] - 9s 105ms/step - loss: 0.5738 - mse: 0.0103 - val_loss: 0.6560 - val_mse: 0.0397\n",
      "Epoch 10/100\n",
      "82/82 [==============================] - 8s 103ms/step - loss: 0.5708 - mse: 0.0095 - val_loss: 0.6512 - val_mse: 0.0372\n",
      "Epoch 11/100\n",
      "82/82 [==============================] - 9s 104ms/step - loss: 0.5693 - mse: 0.0093 - val_loss: 0.6391 - val_mse: 0.0314\n",
      "Epoch 12/100\n",
      "82/82 [==============================] - 9s 105ms/step - loss: 0.5701 - mse: 0.0093 - val_loss: 0.6567 - val_mse: 0.0351\n"
     ]
    },
    {
     "data": {
      "image/png": "[encoded data removed]",
      "text/plain": [
       "<Figure size 1080x360 with 2 Axes>"
      ]
     },
     "metadata": {
      "needs_background": "light",
      "tags": []
     },
     "output_type": "display_data"
    },
    {
     "name": "stdout",
     "output_type": "stream",
     "text": [
      "21/21 [==============================] - 1s 35ms/step - loss: 0.6307 - mse: 0.0306\n",
      "Evaluation Results: [0.6307286620140076, 0.030568765476346016]\n"
     ]
    }
   ],
   "source": [
    "K.clear_session()\n",
    "latent_dim=200\n",
    "\n",
    "model_em_gru=Sequential()\n",
    "model_em_gru.add(layers.Input(shape = (1,),dtype=tf.string))\n",
    "model_em_gru.add(text_vectorizer)\n",
    "model_em_gru.add(Embedding(max_features, latent_dim, input_length=sequence_length, mask_zero=True))\n",
    "model_em_gru.add(GRU(100))\n",
    "model_em_gru.add(layers.Dense(1, activation = 'sigmoid'))\n",
    "\n",
    "model_em_gru.summary()\n",
    "loss = tf.keras.losses.binary_crossentropy\n",
    "optimizer = optimizers.Adam(lr = 0.001)\n",
    "metrics=['mse']\n",
    "model_em_gru.compile(loss= loss, optimizer = optimizer, metrics = metrics)\n",
    "\n",
    "early_stopping = tf.keras.callbacks.EarlyStopping(\n",
    "    monitor='val_loss', min_delta=0, patience=10, verbose=0, mode='auto',restore_best_weights=True\n",
    ")\n",
    "\n",
    "history_em_gru=model_em_gru.fit(train_data, validation_data = val_data, callbacks=early_stopping, epochs = 100, verbose = 1)\n",
    "evaluate_model(model_em_gru,val_data, history_em_gru)"
   ]
  },
  {
   "cell_type": "markdown",
   "metadata": {
    "id": "0FSDN8SnMKMm"
   },
   "source": [
    "## 4. Using pre-trained embedding "
   ]
  },
  {
   "cell_type": "markdown",
   "metadata": {
    "id": "8mGwfYRnMTWt"
   },
   "source": [
    "### Downloading glove"
   ]
  },
  {
   "cell_type": "code",
   "execution_count": 21,
   "metadata": {
    "colab": {
     "base_uri": "https://localhost:8080/"
    },
    "id": "tP6OoNRiMYvx",
    "outputId": "abf8067c-d5ff-4d2c-eb00-a10bed5921d9"
   },
   "outputs": [
    {
     "name": "stdout",
     "output_type": "stream",
     "text": [
      "Found 400000 word vectors.\n",
      "Vocabulary Size: 15000\n",
      "Converted 11723 words (3277 misses)\n"
     ]
    }
   ],
   "source": [
    "def download_file(packet_url, base_path=\"\", extract=False):\n",
    "  if base_path != \"\":\n",
    "    if not os.path.exists(base_path):\n",
    "      os.mkdir(base_path)\n",
    "  packet_file = os.path.basename(packet_url)\n",
    "  with requests.get(packet_url, stream=True) as r:\n",
    "      r.raise_for_status()\n",
    "      with open(os.path.join(base_path,packet_file), 'wb') as f:\n",
    "          for chunk in r.iter_content(chunk_size=8192):\n",
    "              f.write(chunk)\n",
    "  \n",
    "  if extract:\n",
    "    if packet_file.endswith(\".zip\"):\n",
    "      with zipfile.ZipFile(os.path.join(base_path,packet_file)) as zfile:\n",
    "        zfile.extractall(base_path)\n",
    "    \n",
    "    if packet_file.endswith(\".tar.gz\"):\n",
    "      packet_name = packet_file.split('.')[0]\n",
    "      with tarfile.open(os.path.join(base_path,packet_file)) as tfile:\n",
    "        tfile.extractall(base_path)\n",
    "\n",
    "download_file(\"https://github.com/shivasj/dataset-store/releases/download/v3.0/glove.6B.100d.txt.zip\", base_path=\"embedding\", extract=True)\n",
    "\n",
    "path_to_glove_file = '/content/embedding/glove.6B.100d.txt'\n",
    "embeddings_index = {}\n",
    "with open(path_to_glove_file) as f:\n",
    "    for line in f:\n",
    "        word, coefs = line.split(maxsplit=1)\n",
    "        coefs = np.fromstring(coefs, \"f\", sep=\" \")\n",
    "        embeddings_index[word] = coefs\n",
    "\n",
    "print(\"Found %s word vectors.\" % len(embeddings_index))\n",
    "\n",
    "#num_tokens = len(voc) + 2\n",
    "embedding_dim = 100\n",
    "hits = 0\n",
    "misses = 0\n",
    "\n",
    "# Get Vocabulary\n",
    "vocabulary = text_vectorizer.get_vocabulary()\n",
    "vocabulary_size = len(vocabulary)\n",
    "print(\"Vocabulary Size:\",vocabulary_size)\n",
    "# Generate word index\n",
    "word_index = dict(zip(vocabulary, range(vocabulary_size)))\n",
    "\n",
    "\n",
    "# Prepare embedding matrix\n",
    "embedding_matrix = np.zeros((max_features, embedding_dim))\n",
    "for word, i in word_index.items():\n",
    "    embedding_vector = embeddings_index.get(word)\n",
    "    if embedding_vector is not None:\n",
    "        # Words not found in embedding index will be all-zeros.\n",
    "        # This includes the representation for \"padding\" and \"OOV\"\n",
    "        embedding_matrix[i] = embedding_vector\n",
    "        hits += 1\n",
    "    else:\n",
    "        misses += 1\n",
    "print(\"Converted %d words (%d misses)\" % (hits, misses))"
   ]
  },
  {
   "cell_type": "markdown",
   "metadata": {
    "id": "ljzCrNtGMedw"
   },
   "source": [
    "### Glove + LSTM"
   ]
  },
  {
   "cell_type": "code",
   "execution_count": null,
   "metadata": {
    "colab": {
     "base_uri": "https://localhost:8080/",
     "height": 1000
    },
    "id": "yCbCtj8aMgsX",
    "outputId": "83d50052-198b-43f7-9d4a-c19b2278c83e"
   },
   "outputs": [
    {
     "name": "stdout",
     "output_type": "stream",
     "text": [
      "Model: \"sequential\"\n",
      "_________________________________________________________________\n",
      "Layer (type)                 Output Shape              Param #   \n",
      "=================================================================\n",
      "embedding (Embedding)        (None, 1200, 100)         1500000   \n",
      "_________________________________________________________________\n",
      "lstm (LSTM)                  (None, 100)               80400     \n",
      "_________________________________________________________________\n",
      "dense (Dense)                (None, 1)                 101       \n",
      "=================================================================\n",
      "Total params: 1,580,501\n",
      "Trainable params: 80,501\n",
      "Non-trainable params: 1,500,000\n",
      "_________________________________________________________________\n",
      "Epoch 1/100\n",
      "82/82 [==============================] - 6s 69ms/step - loss: 0.6761 - mse: 0.0532 - val_loss: 0.6791 - val_mse: 0.0531\n",
      "Epoch 2/100\n",
      "82/82 [==============================] - 5s 57ms/step - loss: 0.6631 - mse: 0.0472 - val_loss: 0.6732 - val_mse: 0.0506\n",
      "Epoch 3/100\n",
      "82/82 [==============================] - 5s 56ms/step - loss: 0.6504 - mse: 0.0411 - val_loss: 0.6405 - val_mse: 0.0344\n",
      "Epoch 4/100\n",
      "82/82 [==============================] - 5s 56ms/step - loss: 0.6303 - mse: 0.0319 - val_loss: 0.6300 - val_mse: 0.0304\n",
      "Epoch 5/100\n",
      "82/82 [==============================] - 5s 57ms/step - loss: 0.6230 - mse: 0.0287 - val_loss: 0.6264 - val_mse: 0.0290\n",
      "Epoch 6/100\n",
      "82/82 [==============================] - 5s 58ms/step - loss: 0.6177 - mse: 0.0265 - val_loss: 0.6175 - val_mse: 0.0248\n",
      "Epoch 7/100\n",
      "82/82 [==============================] - 5s 56ms/step - loss: 0.6146 - mse: 0.0252 - val_loss: 0.6168 - val_mse: 0.0245\n",
      "Epoch 8/100\n",
      "82/82 [==============================] - 5s 56ms/step - loss: 0.6115 - mse: 0.0239 - val_loss: 0.6194 - val_mse: 0.0243\n",
      "Epoch 9/100\n",
      "82/82 [==============================] - 5s 56ms/step - loss: 0.6100 - mse: 0.0233 - val_loss: 0.6127 - val_mse: 0.0226\n",
      "Epoch 10/100\n",
      "82/82 [==============================] - 5s 58ms/step - loss: 0.6076 - mse: 0.0223 - val_loss: 0.6175 - val_mse: 0.0250\n",
      "Epoch 11/100\n",
      "82/82 [==============================] - 5s 56ms/step - loss: 0.6048 - mse: 0.0213 - val_loss: 0.6080 - val_mse: 0.0209\n",
      "Epoch 12/100\n",
      "82/82 [==============================] - 5s 56ms/step - loss: 0.6022 - mse: 0.0202 - val_loss: 0.6112 - val_mse: 0.0222\n",
      "Epoch 13/100\n",
      "82/82 [==============================] - 5s 56ms/step - loss: 0.6009 - mse: 0.0197 - val_loss: 0.6117 - val_mse: 0.0224\n",
      "Epoch 14/100\n",
      "82/82 [==============================] - 5s 57ms/step - loss: 0.5988 - mse: 0.0190 - val_loss: 0.6104 - val_mse: 0.0219\n",
      "Epoch 15/100\n",
      "82/82 [==============================] - 5s 56ms/step - loss: 0.5967 - mse: 0.0182 - val_loss: 0.6177 - val_mse: 0.0246\n",
      "Epoch 16/100\n",
      "82/82 [==============================] - 5s 56ms/step - loss: 0.5956 - mse: 0.0178 - val_loss: 0.6170 - val_mse: 0.0226\n",
      "Epoch 17/100\n",
      "82/82 [==============================] - 5s 56ms/step - loss: 0.5947 - mse: 0.0174 - val_loss: 0.6162 - val_mse: 0.0235\n",
      "Epoch 18/100\n",
      "82/82 [==============================] - 5s 57ms/step - loss: 0.5923 - mse: 0.0166 - val_loss: 0.6175 - val_mse: 0.0240\n",
      "Epoch 19/100\n",
      "82/82 [==============================] - 5s 56ms/step - loss: 0.5916 - mse: 0.0163 - val_loss: 0.6100 - val_mse: 0.0214\n",
      "Epoch 20/100\n",
      "82/82 [==============================] - 5s 56ms/step - loss: 0.5901 - mse: 0.0159 - val_loss: 0.6086 - val_mse: 0.0205\n",
      "Epoch 21/100\n",
      "82/82 [==============================] - 5s 57ms/step - loss: 0.5883 - mse: 0.0153 - val_loss: 0.6124 - val_mse: 0.0218\n"
     ]
    },
    {
     "data": {
      "image/png": "[encoded data removed]",
      "text/plain": [
       "<Figure size 1080x360 with 2 Axes>"
      ]
     },
     "metadata": {
      "needs_background": "light",
      "tags": []
     },
     "output_type": "display_data"
    },
    {
     "name": "stdout",
     "output_type": "stream",
     "text": [
      "21/21 [==============================] - 1s 27ms/step - loss: 0.6080 - mse: 0.0209\n",
      "Evaluation Results: [0.6079632043838501, 0.020867984741926193]\n"
     ]
    }
   ],
   "source": [
    "K.clear_session()\n",
    "latent_dim=200\n",
    "\n",
    "model_glo_lstm=Sequential()\n",
    "model_glo_lstm.add(layers.Input(shape = (1,),dtype=tf.string))\n",
    "model_glo_lstm.add(text_vectorizer)\n",
    "model_glo_lstm.add(Embedding(max_features, \n",
    "                            embedding_dim, \n",
    "                            embeddings_initializer=keras.initializers.Constant(embedding_matrix),\n",
    "                            trainable=False,\n",
    "                            name=\"embedding\", mask_zero = True))\n",
    "model_glo_lstm.add(LSTM(100))\n",
    "model_glo_lstm.add(layers.Dense(1, activation = 'sigmoid'))\n",
    "\n",
    "model_glo_lstm.summary()\n",
    "loss = tf.keras.losses.binary_crossentropy\n",
    "optimizer = optimizers.RMSprop(learning_rate= 0.001)\n",
    "metrics=['mse']\n",
    "model_glo_lstm.compile(loss= loss, optimizer = optimizer, metrics = metrics)\n",
    "\n",
    "early_stopping = tf.keras.callbacks.EarlyStopping(\n",
    "    monitor='val_loss', min_delta=0, patience=10, verbose=0, mode='auto', restore_best_weights=True\n",
    ")\n",
    "\n",
    "history_glo_lstm=model_glo_lstm.fit(train_data, validation_data = val_data, callbacks=early_stopping, epochs = 100, verbose = 1)\n",
    "evaluate_model(model_glo_lstm,val_data,history_glo_lstm)"
   ]
  },
  {
   "cell_type": "markdown",
   "metadata": {
    "id": "iZC9ChpvMtme"
   },
   "source": [
    "### Glove + GRU"
   ]
  },
  {
   "cell_type": "code",
   "execution_count": 24,
   "metadata": {
    "colab": {
     "base_uri": "https://localhost:8080/",
     "height": 1000
    },
    "id": "mXqnlQNRMqrF",
    "outputId": "0834c601-88c9-4a6d-95ab-a37efe48da2d"
   },
   "outputs": [
    {
     "name": "stdout",
     "output_type": "stream",
     "text": [
      "Model: \"sequential\"\n",
      "_________________________________________________________________\n",
      "Layer (type)                 Output Shape              Param #   \n",
      "=================================================================\n",
      "text_vectorization (TextVect (None, 1200)              0         \n",
      "_________________________________________________________________\n",
      "embedding (Embedding)        (None, 1200, 100)         1500000   \n",
      "_________________________________________________________________\n",
      "gru (GRU)                    (None, 1200, 64)          31872     \n",
      "_________________________________________________________________\n",
      "gru_1 (GRU)                  (None, 32)                9408      \n",
      "_________________________________________________________________\n",
      "dense (Dense)                (None, 1)                 33        \n",
      "=================================================================\n",
      "Total params: 1,541,313\n",
      "Trainable params: 41,313\n",
      "Non-trainable params: 1,500,000\n",
      "_________________________________________________________________\n",
      "Epoch 1/100\n",
      "82/82 [==============================] - 10s 120ms/step - loss: 0.6741 - mse: 0.0524 - val_loss: 0.6888 - val_mse: 0.0577\n",
      "Epoch 2/100\n",
      "82/82 [==============================] - 8s 97ms/step - loss: 0.6670 - mse: 0.0491 - val_loss: 0.6826 - val_mse: 0.0547\n",
      "Epoch 3/100\n",
      "82/82 [==============================] - 8s 96ms/step - loss: 0.6629 - mse: 0.0471 - val_loss: 0.6764 - val_mse: 0.0518\n",
      "Epoch 4/100\n",
      "82/82 [==============================] - 8s 98ms/step - loss: 0.6562 - mse: 0.0439 - val_loss: 0.6399 - val_mse: 0.0342\n",
      "Epoch 5/100\n",
      "82/82 [==============================] - 8s 98ms/step - loss: 0.6321 - mse: 0.0326 - val_loss: 0.6244 - val_mse: 0.0274\n",
      "Epoch 6/100\n",
      "82/82 [==============================] - 8s 98ms/step - loss: 0.6236 - mse: 0.0288 - val_loss: 0.6162 - val_mse: 0.0237\n",
      "Epoch 7/100\n",
      "82/82 [==============================] - 8s 97ms/step - loss: 0.6189 - mse: 0.0268 - val_loss: 0.6141 - val_mse: 0.0228\n",
      "Epoch 8/100\n",
      "82/82 [==============================] - 8s 95ms/step - loss: 0.6159 - mse: 0.0255 - val_loss: 0.6117 - val_mse: 0.0220\n",
      "Epoch 9/100\n",
      "82/82 [==============================] - 8s 98ms/step - loss: 0.6137 - mse: 0.0246 - val_loss: 0.6100 - val_mse: 0.0214\n",
      "Epoch 10/100\n",
      "82/82 [==============================] - 8s 97ms/step - loss: 0.6118 - mse: 0.0238 - val_loss: 0.6087 - val_mse: 0.0210\n",
      "Epoch 11/100\n",
      "82/82 [==============================] - 8s 100ms/step - loss: 0.6102 - mse: 0.0232 - val_loss: 0.6078 - val_mse: 0.0207\n",
      "Epoch 12/100\n",
      "82/82 [==============================] - 8s 97ms/step - loss: 0.6088 - mse: 0.0226 - val_loss: 0.6073 - val_mse: 0.0204\n",
      "Epoch 13/100\n",
      "82/82 [==============================] - 8s 98ms/step - loss: 0.6076 - mse: 0.0222 - val_loss: 0.6069 - val_mse: 0.0203\n",
      "Epoch 14/100\n",
      "82/82 [==============================] - 8s 97ms/step - loss: 0.6065 - mse: 0.0218 - val_loss: 0.6067 - val_mse: 0.0202\n",
      "Epoch 15/100\n",
      "82/82 [==============================] - 8s 95ms/step - loss: 0.6055 - mse: 0.0214 - val_loss: 0.6064 - val_mse: 0.0201\n",
      "Epoch 16/100\n",
      "82/82 [==============================] - 8s 95ms/step - loss: 0.6046 - mse: 0.0210 - val_loss: 0.6062 - val_mse: 0.0200\n",
      "Epoch 17/100\n",
      "82/82 [==============================] - 8s 94ms/step - loss: 0.6037 - mse: 0.0206 - val_loss: 0.6059 - val_mse: 0.0198\n",
      "Epoch 18/100\n",
      "82/82 [==============================] - 8s 96ms/step - loss: 0.6028 - mse: 0.0203 - val_loss: 0.6055 - val_mse: 0.0197\n",
      "Epoch 19/100\n",
      "82/82 [==============================] - 8s 97ms/step - loss: 0.6019 - mse: 0.0199 - val_loss: 0.6055 - val_mse: 0.0197\n",
      "Epoch 20/100\n",
      "82/82 [==============================] - 8s 100ms/step - loss: 0.6011 - mse: 0.0196 - val_loss: 0.6050 - val_mse: 0.0195\n",
      "Epoch 21/100\n",
      "82/82 [==============================] - 8s 100ms/step - loss: 0.6003 - mse: 0.0193 - val_loss: 0.6042 - val_mse: 0.0192\n",
      "Epoch 22/100\n",
      "82/82 [==============================] - 8s 98ms/step - loss: 0.5995 - mse: 0.0190 - val_loss: 0.6036 - val_mse: 0.0190\n",
      "Epoch 23/100\n",
      "82/82 [==============================] - 8s 97ms/step - loss: 0.5986 - mse: 0.0187 - val_loss: 0.6032 - val_mse: 0.0189\n",
      "Epoch 24/100\n",
      "82/82 [==============================] - 8s 98ms/step - loss: 0.5978 - mse: 0.0184 - val_loss: 0.6029 - val_mse: 0.0188\n",
      "Epoch 25/100\n",
      "82/82 [==============================] - 8s 97ms/step - loss: 0.5971 - mse: 0.0181 - val_loss: 0.6027 - val_mse: 0.0187\n",
      "Epoch 26/100\n",
      "82/82 [==============================] - 8s 97ms/step - loss: 0.5964 - mse: 0.0179 - val_loss: 0.6025 - val_mse: 0.0186\n",
      "Epoch 27/100\n",
      "82/82 [==============================] - 8s 94ms/step - loss: 0.5957 - mse: 0.0176 - val_loss: 0.6023 - val_mse: 0.0186\n",
      "Epoch 28/100\n",
      "82/82 [==============================] - 8s 96ms/step - loss: 0.5950 - mse: 0.0174 - val_loss: 0.6021 - val_mse: 0.0185\n",
      "Epoch 29/100\n",
      "82/82 [==============================] - 8s 97ms/step - loss: 0.5943 - mse: 0.0171 - val_loss: 0.6019 - val_mse: 0.0185\n",
      "Epoch 30/100\n",
      "82/82 [==============================] - 8s 95ms/step - loss: 0.5937 - mse: 0.0169 - val_loss: 0.6018 - val_mse: 0.0184\n",
      "Epoch 31/100\n",
      "82/82 [==============================] - 8s 96ms/step - loss: 0.5930 - mse: 0.0166 - val_loss: 0.6017 - val_mse: 0.0184\n",
      "Epoch 32/100\n",
      "82/82 [==============================] - 8s 97ms/step - loss: 0.5922 - mse: 0.0164 - val_loss: 0.6016 - val_mse: 0.0184\n",
      "Epoch 33/100\n",
      "82/82 [==============================] - 8s 98ms/step - loss: 0.5915 - mse: 0.0161 - val_loss: 0.6015 - val_mse: 0.0184\n",
      "Epoch 34/100\n",
      "82/82 [==============================] - 8s 96ms/step - loss: 0.5911 - mse: 0.0160 - val_loss: 0.6018 - val_mse: 0.0184\n",
      "Epoch 35/100\n",
      "82/82 [==============================] - 8s 97ms/step - loss: 0.5904 - mse: 0.0157 - val_loss: 0.6017 - val_mse: 0.0185\n",
      "Epoch 36/100\n",
      "82/82 [==============================] - 8s 96ms/step - loss: 0.5897 - mse: 0.0155 - val_loss: 0.6019 - val_mse: 0.0185\n",
      "Epoch 37/100\n",
      "82/82 [==============================] - 8s 94ms/step - loss: 0.5891 - mse: 0.0153 - val_loss: 0.6020 - val_mse: 0.0186\n",
      "Epoch 38/100\n",
      "82/82 [==============================] - 8s 97ms/step - loss: 0.5885 - mse: 0.0151 - val_loss: 0.6022 - val_mse: 0.0187\n",
      "Epoch 39/100\n",
      "82/82 [==============================] - 8s 97ms/step - loss: 0.5878 - mse: 0.0149 - val_loss: 0.6024 - val_mse: 0.0187\n",
      "Epoch 40/100\n",
      "82/82 [==============================] - 8s 97ms/step - loss: 0.5872 - mse: 0.0146 - val_loss: 0.6028 - val_mse: 0.0188\n",
      "Epoch 41/100\n",
      "82/82 [==============================] - 8s 97ms/step - loss: 0.5865 - mse: 0.0144 - val_loss: 0.6028 - val_mse: 0.0188\n",
      "Epoch 42/100\n",
      "82/82 [==============================] - 8s 99ms/step - loss: 0.5861 - mse: 0.0143 - val_loss: 0.6290 - val_mse: 0.0284\n",
      "Epoch 43/100\n",
      "82/82 [==============================] - 8s 98ms/step - loss: 0.5858 - mse: 0.0142 - val_loss: 0.6224 - val_mse: 0.0257\n"
     ]
    },
    {
     "data": {
      "image/png": "[encoded data removed]",
      "text/plain": [
       "<Figure size 1080x360 with 2 Axes>"
      ]
     },
     "metadata": {
      "needs_background": "light",
      "tags": []
     },
     "output_type": "display_data"
    },
    {
     "name": "stdout",
     "output_type": "stream",
     "text": [
      "21/21 [==============================] - 1s 48ms/step - loss: 0.6015 - mse: 0.0184\n",
      "Evaluation Results: [0.6015334129333496, 0.01839250512421131]\n"
     ]
    }
   ],
   "source": [
    "K.clear_session()\n",
    "latent_dim=200\n",
    "\n",
    "model_glo_gru=Sequential()\n",
    "model_glo_gru.add(layers.Input(shape = (1,),dtype=tf.string))\n",
    "model_glo_gru.add(text_vectorizer)\n",
    "model_glo_gru.add(Embedding(max_features, \n",
    "                            embedding_dim, \n",
    "                            embeddings_initializer=keras.initializers.Constant(embedding_matrix),\n",
    "                            trainable=False,\n",
    "                            name=\"embedding\", mask_zero = True))\n",
    "model_glo_gru.add(GRU(64, return_sequences=True))\n",
    "model_glo_gru.add(GRU(32))\n",
    "model_glo_gru.add(layers.Dense(1, activation = 'sigmoid'))\n",
    "\n",
    "model_glo_gru.summary()\n",
    "loss = tf.keras.losses.binary_crossentropy\n",
    "optimizer = optimizers.RMSprop(learning_rate= 0.0006)\n",
    "metrics=['mse']\n",
    "model_glo_gru.compile(loss= loss, optimizer = optimizer, metrics = metrics)\n",
    "\n",
    "early_stopping = tf.keras.callbacks.EarlyStopping(\n",
    "    monitor='val_loss', min_delta=0, patience=10, verbose=0, mode='auto', restore_best_weights=True\n",
    ")\n",
    "\n",
    "history_glo_gru=model_glo_gru.fit(train_data, validation_data = val_data, callbacks=early_stopping, epochs = 100, verbose = 1)\n",
    "evaluate_model(model_glo_gru,val_data,history_glo_gru)#"
   ]
  },
  {
   "cell_type": "markdown",
   "metadata": {
    "id": "zbU5P_6FM1bM"
   },
   "source": [
    "## BERT"
   ]
  },
  {
   "cell_type": "code",
   "execution_count": null,
   "metadata": {
    "colab": {
     "base_uri": "https://localhost:8080/",
     "height": 66,
     "referenced_widgets": [
      "0d73af323ef746b8be794abb709967c7",
      "90c8606964214be99f6162cf7eb1c795",
      "af99135dca7f43be83a32b13df28cc13",
      "4ef644064cba4fe7bfbab04c23765c92",
      "17d4286da44d41708b26ee11acc38c2d",
      "7536c19f1b9649cf866a506fb92d841c",
      "ec5ef467dbd54c939f448696f2e42b61",
      "edf103d3aa75468695c8028a52270786"
     ]
    },
    "id": "5Q-zCCW94AgN",
    "outputId": "b75e950b-e086-4ab0-b52b-b7c7b966ec41"
   },
   "outputs": [
    {
     "data": {
      "application/vnd.jupyter.widget-view+json": {
       "model_id": "0d73af323ef746b8be794abb709967c7",
       "version_major": 2,
       "version_minor": 0
      },
      "text/plain": [
       "HBox(children=(FloatProgress(value=0.0, description='Downloading', max=231508.0, style=ProgressStyle(descripti…"
      ]
     },
     "metadata": {
      "tags": []
     },
     "output_type": "display_data"
    },
    {
     "name": "stdout",
     "output_type": "stream",
     "text": [
      "\n"
     ]
    }
   ],
   "source": [
    "tokenizer=BertTokenizer.from_pretrained('bert-base-uncased',do_lower_case=True)\n",
    "train_X = tokenizer.batch_encode_plus(\n",
    "                      train_X,\n",
    "                      return_tensors='tf',\n",
    "                      add_special_tokens = True, # add [CLS], [SEP]\n",
    "                      return_token_type_ids=True,\n",
    "                      padding='max_length',\n",
    "                      max_length=512, # max length of the text that can go to BERT (<=512)\n",
    "                      return_attention_mask = True,\n",
    "                      truncation='longest_first'\n",
    "                  )\n",
    "test_X = tokenizer.batch_encode_plus(\n",
    "                      test_X,\n",
    "                      return_tensors='tf',\n",
    "                      add_special_tokens = True, # add [CLS], [SEP]\n",
    "                      return_token_type_ids=True,\n",
    "                      padding='max_length',\n",
    "                      max_length=512, # max length of the text that can go to BERT (<=512)\n",
    "                      return_attention_mask = True,\n",
    "                      truncation='longest_first'\n",
    "                  )"
   ]
  },
  {
   "cell_type": "code",
   "execution_count": null,
   "metadata": {
    "id": "VOuHnsaR2_7u"
   },
   "outputs": [],
   "source": [
    "batch_size = 64 # You can try higher values but may run into OOM errors depending on which GPU you are using\n",
    "train_shuffle_buffer_size = 800\n",
    "validation_shuffle_buffer_size = 200\n",
    "\n",
    "train_data = tf.data.Dataset.from_tensor_slices((dict(train_X), train_y))\n",
    "validation_data = tf.data.Dataset.from_tensor_slices((dict(test_X), test_y))\n",
    "\n",
    "train_data = train_data.batch(batch_size)\n",
    "train_data = train_data.shuffle(train_shuffle_buffer_size)\n",
    "train_data = train_data.cache().prefetch(buffer_size=train_shuffle_buffer_size)\n",
    "\n",
    "validation_data = validation_data.batch(batch_size)\n",
    "validation_data = validation_data.shuffle(validation_shuffle_buffer_size)\n",
    "validation_data = validation_data.cache().prefetch(buffer_size=validation_shuffle_buffer_size)"
   ]
  },
  {
   "cell_type": "code",
   "execution_count": null,
   "metadata": {
    "colab": {
     "base_uri": "https://localhost:8080/"
    },
    "id": "E1ZE2orq6J6t",
    "outputId": "0b8cfa0e-a0f7-4639-83bf-f013dab3ef39"
   },
   "outputs": [
    {
     "data": {
      "text/plain": [
       "<PrefetchDataset shapes: ({input_ids: (None, 512), token_type_ids: (None, 512), attention_mask: (None, 512)}, (None, 1)), types: ({input_ids: tf.int32, token_type_ids: tf.int32, attention_mask: tf.int32}, tf.float64)>"
      ]
     },
     "execution_count": 33,
     "metadata": {
      "tags": []
     },
     "output_type": "execute_result"
    }
   ],
   "source": [
    "train_data"
   ]
  },
  {
   "cell_type": "code",
   "execution_count": null,
   "metadata": {
    "colab": {
     "base_uri": "https://localhost:8080/",
     "height": 689,
     "referenced_widgets": [
      "918d5bf82b064f81bd8189924fbf692d",
      "dc16e6c2afdf44af882c448cfc9ad452",
      "6eabd4f70e69479d8c02388e59908f84",
      "d7a22254ea054bc8bedf128dfbc373fc",
      "aab5b289686344029ab93af159728d6e",
      "caf177f2ecec4d76aacb46aaa879d8bc",
      "57c0fcfdbba746c4aa337831da5a9607",
      "a80cb8e4dd80406d8a46b9a06510fcdd",
      "45e71cbce3b646a087ae1ac5d4d5afe4",
      "7ca7c2e901d04bd0b2e26228ac754eec",
      "73fe9d16ebe14a05a54944d6583cf5c7",
      "9dae030d89b24620897d4bb884c9872b",
      "d8afe67bc12c49f7b3afdbb897fcae67",
      "238bd4fb79494b3198b0a85cbd83367a",
      "4cacc1ba8c2e407daca4ccac0d74530d",
      "92c1ba83b82e43688172c7bfc4f76ed1"
     ]
    },
    "id": "LbRwBRVa4YS1",
    "outputId": "c78ac1c4-3dc0-4761-f34a-b5b4d09bc2ca"
   },
   "outputs": [
    {
     "data": {
      "application/vnd.jupyter.widget-view+json": {
       "model_id": "918d5bf82b064f81bd8189924fbf692d",
       "version_major": 2,
       "version_minor": 0
      },
      "text/plain": [
       "HBox(children=(FloatProgress(value=0.0, description='Downloading', max=433.0, style=ProgressStyle(description_…"
      ]
     },
     "metadata": {
      "tags": []
     },
     "output_type": "display_data"
    },
    {
     "name": "stdout",
     "output_type": "stream",
     "text": [
      "\n"
     ]
    },
    {
     "data": {
      "application/vnd.jupyter.widget-view+json": {
       "model_id": "45e71cbce3b646a087ae1ac5d4d5afe4",
       "version_major": 2,
       "version_minor": 0
      },
      "text/plain": [
       "HBox(children=(FloatProgress(value=0.0, description='Downloading', max=536063208.0, style=ProgressStyle(descri…"
      ]
     },
     "metadata": {
      "tags": []
     },
     "output_type": "display_data"
    },
    {
     "name": "stdout",
     "output_type": "stream",
     "text": [
      "\n"
     ]
    },
    {
     "name": "stderr",
     "output_type": "stream",
     "text": [
      "Some layers from the model checkpoint at bert-base-uncased were not used when initializing TFBertModel: ['nsp___cls', 'mlm___cls']\n",
      "- This IS expected if you are initializing TFBertModel from the checkpoint of a model trained on another task or with another architecture (e.g. initializing a BertForSequenceClassification model from a BertForPreTraining model).\n",
      "- This IS NOT expected if you are initializing TFBertModel from the checkpoint of a model that you expect to be exactly identical (initializing a BertForSequenceClassification model from a BertForSequenceClassification model).\n",
      "All the layers of TFBertModel were initialized from the model checkpoint at bert-base-uncased.\n",
      "If your task is similar to the task the model of the checkpoint was trained on, you can already use TFBertModel for predictions without further training.\n"
     ]
    },
    {
     "name": "stdout",
     "output_type": "stream",
     "text": [
      "Model: \"BERT_Model\"\n",
      "__________________________________________________________________________________________________\n",
      "Layer (type)                    Output Shape         Param #     Connected to                     \n",
      "==================================================================================================\n",
      "input_ids (InputLayer)          [(None, 512)]        0                                            \n",
      "__________________________________________________________________________________________________\n",
      "attention_mask (InputLayer)     [(None, 512)]        0                                            \n",
      "__________________________________________________________________________________________________\n",
      "token_type_ids (InputLayer)     [(None, 512)]        0                                            \n",
      "__________________________________________________________________________________________________\n",
      "tf_bert_model (TFBertModel)     TFBaseModelOutputWit 109482240   input_ids[0][0]                  \n",
      "                                                                 attention_mask[0][0]             \n",
      "                                                                 token_type_ids[0][0]             \n",
      "__________________________________________________________________________________________________\n",
      "embedding_flatten (Flatten)     (None, 768)          0           tf_bert_model[0][1]              \n",
      "__________________________________________________________________________________________________\n",
      "dropout_37 (Dropout)            (None, 768)          0           embedding_flatten[0][0]          \n",
      "__________________________________________________________________________________________________\n",
      "bert_dense (Dense)              (None, 256)          196864      dropout_37[0][0]                 \n",
      "__________________________________________________________________________________________________\n",
      "intermediate_dense (Dense)      (None, 32)           8224        bert_dense[0][0]                 \n",
      "__________________________________________________________________________________________________\n",
      "dense_1 (Dense)                 (None, 1)            33          intermediate_dense[0][0]         \n",
      "==================================================================================================\n",
      "Total params: 109,687,361\n",
      "Trainable params: 205,121\n",
      "Non-trainable params: 109,482,240\n",
      "__________________________________________________________________________________________________\n"
     ]
    }
   ],
   "source": [
    "# Build BERT model\n",
    "max_len = 512\n",
    "input_ids = layers.Input(shape=(max_len,), dtype=tf.int32, name = 'input_ids')\n",
    "token_type_ids = layers.Input(shape=(max_len,), dtype=tf.int32, name = 'token_type_ids')\n",
    "attention_mask = layers.Input(shape=(max_len,), dtype=tf.int32, name = 'attention_mask')\n",
    "encoder = TFBertModel.from_pretrained(\"bert-base-uncased\")\n",
    "encoder.trainable=False\n",
    "embedding = encoder(\n",
    "    input_ids, token_type_ids=token_type_ids, attention_mask=attention_mask\n",
    ")[1]\n",
    "embedding_flatten = layers.Flatten(name=\"embedding_flatten\")(embedding)\n",
    "text_dropout=layers.Dropout(0.2)(embedding_flatten)\n",
    "bert_dense = layers.Dense(256, name=\"bert_dense\", activation = 'relu')(text_dropout)\n",
    "intermediate_dense = layers.Dense(32, name = \"intermediate_dense\", activation = 'relu')(bert_dense)\n",
    "output = layers.Dense(1, activation = 'sigmoid')(intermediate_dense)\n",
    "\n",
    "inputs = {'input_ids': input_ids, 'token_type_ids': token_type_ids, 'attention_mask': attention_mask}\n",
    "bert_model = keras.Model(inputs= inputs, outputs= output,name='BERT_Model')\n",
    "\n",
    "bert_model.summary()\n"
   ]
  },
  {
   "cell_type": "code",
   "execution_count": null,
   "metadata": {
    "colab": {
     "base_uri": "https://localhost:8080/"
    },
    "id": "GDFAzYp46Beo",
    "outputId": "554f151a-137a-4f1d-8c74-eed07810c79f"
   },
   "outputs": [
    {
     "name": "stdout",
     "output_type": "stream",
     "text": [
      "Epoch 1/100\n",
      "163/163 [==============================] - 299s 2s/step - loss: 0.6600 - mse: 0.0455 - val_loss: 0.6414 - val_mse: 0.0350\n",
      "Epoch 2/100\n",
      "163/163 [==============================] - 297s 2s/step - loss: 0.6481 - mse: 0.0399 - val_loss: 0.6384 - val_mse: 0.0337\n",
      "Epoch 3/100\n",
      "163/163 [==============================] - 297s 2s/step - loss: 0.6443 - mse: 0.0382 - val_loss: 0.6328 - val_mse: 0.0312\n",
      "Epoch 4/100\n",
      "163/163 [==============================] - 297s 2s/step - loss: 0.6408 - mse: 0.0366 - val_loss: 0.6309 - val_mse: 0.0303\n",
      "Epoch 5/100\n",
      "163/163 [==============================] - 297s 2s/step - loss: 0.6388 - mse: 0.0356 - val_loss: 0.6254 - val_mse: 0.0278\n",
      "Epoch 6/100\n",
      "163/163 [==============================] - 297s 2s/step - loss: 0.6385 - mse: 0.0355 - val_loss: 0.6273 - val_mse: 0.0287\n",
      "Epoch 7/100\n",
      "163/163 [==============================] - 297s 2s/step - loss: 0.6368 - mse: 0.0348 - val_loss: 0.6247 - val_mse: 0.0275\n",
      "Epoch 8/100\n",
      "163/163 [==============================] - 297s 2s/step - loss: 0.6360 - mse: 0.0344 - val_loss: 0.6302 - val_mse: 0.0303\n",
      "Epoch 9/100\n",
      "163/163 [==============================] - 297s 2s/step - loss: 0.6357 - mse: 0.0342 - val_loss: 0.6274 - val_mse: 0.0290\n",
      "Epoch 10/100\n",
      "163/163 [==============================] - 297s 2s/step - loss: 0.6348 - mse: 0.0338 - val_loss: 0.6281 - val_mse: 0.0293\n",
      "Epoch 11/100\n",
      "163/163 [==============================] - 297s 2s/step - loss: 0.6356 - mse: 0.0342 - val_loss: 0.6273 - val_mse: 0.0289\n",
      "Epoch 12/100\n",
      "163/163 [==============================] - 297s 2s/step - loss: 0.6336 - mse: 0.0333 - val_loss: 0.6231 - val_mse: 0.0269\n",
      "Epoch 13/100\n",
      "163/163 [==============================] - 297s 2s/step - loss: 0.6340 - mse: 0.0335 - val_loss: 0.6248 - val_mse: 0.0277\n",
      "Epoch 14/100\n",
      "163/163 [==============================] - 297s 2s/step - loss: 0.6329 - mse: 0.0330 - val_loss: 0.6259 - val_mse: 0.0283\n",
      "Epoch 15/100\n",
      "163/163 [==============================] - 297s 2s/step - loss: 0.6338 - mse: 0.0334 - val_loss: 0.6230 - val_mse: 0.0269\n",
      "Epoch 16/100\n",
      "163/163 [==============================] - 297s 2s/step - loss: 0.6321 - mse: 0.0326 - val_loss: 0.6267 - val_mse: 0.0286\n",
      "Epoch 17/100\n",
      "163/163 [==============================] - 297s 2s/step - loss: 0.6319 - mse: 0.0326 - val_loss: 0.6267 - val_mse: 0.0286\n",
      "Epoch 18/100\n",
      "163/163 [==============================] - 297s 2s/step - loss: 0.6325 - mse: 0.0328 - val_loss: 0.6274 - val_mse: 0.0289\n",
      "Epoch 19/100\n",
      "163/163 [==============================] - 297s 2s/step - loss: 0.6323 - mse: 0.0327 - val_loss: 0.6223 - val_mse: 0.0266\n",
      "Epoch 20/100\n",
      "163/163 [==============================] - 297s 2s/step - loss: 0.6308 - mse: 0.0321 - val_loss: 0.6211 - val_mse: 0.0260\n",
      "Epoch 21/100\n",
      "163/163 [==============================] - 297s 2s/step - loss: 0.6312 - mse: 0.0323 - val_loss: 0.6237 - val_mse: 0.0272\n",
      "Epoch 22/100\n",
      "163/163 [==============================] - 297s 2s/step - loss: 0.6306 - mse: 0.0320 - val_loss: 0.6202 - val_mse: 0.0256\n",
      "Epoch 23/100\n",
      "163/163 [==============================] - 297s 2s/step - loss: 0.6308 - mse: 0.0321 - val_loss: 0.6222 - val_mse: 0.0266\n",
      "Epoch 24/100\n",
      "163/163 [==============================] - 297s 2s/step - loss: 0.6311 - mse: 0.0322 - val_loss: 0.6215 - val_mse: 0.0263\n",
      "Epoch 25/100\n",
      "163/163 [==============================] - 297s 2s/step - loss: 0.6298 - mse: 0.0316 - val_loss: 0.6195 - val_mse: 0.0252\n",
      "Epoch 26/100\n",
      "163/163 [==============================] - 297s 2s/step - loss: 0.6297 - mse: 0.0316 - val_loss: 0.6231 - val_mse: 0.0270\n",
      "Epoch 27/100\n",
      "163/163 [==============================] - 297s 2s/step - loss: 0.6300 - mse: 0.0318 - val_loss: 0.6194 - val_mse: 0.0252\n",
      "Epoch 28/100\n",
      "163/163 [==============================] - 297s 2s/step - loss: 0.6303 - mse: 0.0319 - val_loss: 0.6227 - val_mse: 0.0267\n",
      "Epoch 29/100\n",
      "163/163 [==============================] - 297s 2s/step - loss: 0.6289 - mse: 0.0313 - val_loss: 0.6201 - val_mse: 0.0256\n",
      "Epoch 30/100\n",
      "163/163 [==============================] - 297s 2s/step - loss: 0.6290 - mse: 0.0313 - val_loss: 0.6236 - val_mse: 0.0272\n",
      "Epoch 31/100\n",
      "163/163 [==============================] - 297s 2s/step - loss: 0.6295 - mse: 0.0315 - val_loss: 0.6193 - val_mse: 0.0252\n",
      "Epoch 32/100\n",
      "163/163 [==============================] - 297s 2s/step - loss: 0.6290 - mse: 0.0313 - val_loss: 0.6227 - val_mse: 0.0268\n",
      "Epoch 33/100\n",
      "163/163 [==============================] - 297s 2s/step - loss: 0.6298 - mse: 0.0316 - val_loss: 0.6205 - val_mse: 0.0258\n",
      "Epoch 34/100\n",
      "163/163 [==============================] - 297s 2s/step - loss: 0.6295 - mse: 0.0315 - val_loss: 0.6210 - val_mse: 0.0261\n",
      "Epoch 35/100\n",
      "163/163 [==============================] - 297s 2s/step - loss: 0.6286 - mse: 0.0311 - val_loss: 0.6239 - val_mse: 0.0274\n",
      "Epoch 36/100\n",
      "163/163 [==============================] - 297s 2s/step - loss: 0.6291 - mse: 0.0314 - val_loss: 0.6210 - val_mse: 0.0259\n",
      "Epoch 37/100\n",
      "163/163 [==============================] - 297s 2s/step - loss: 0.6294 - mse: 0.0314 - val_loss: 0.6202 - val_mse: 0.0257\n",
      "Epoch 38/100\n",
      "163/163 [==============================] - 297s 2s/step - loss: 0.6296 - mse: 0.0315 - val_loss: 0.6216 - val_mse: 0.0262\n",
      "Epoch 39/100\n",
      "163/163 [==============================] - 297s 2s/step - loss: 0.6282 - mse: 0.0310 - val_loss: 0.6230 - val_mse: 0.0269\n",
      "Epoch 40/100\n",
      "163/163 [==============================] - 297s 2s/step - loss: 0.6285 - mse: 0.0311 - val_loss: 0.6221 - val_mse: 0.0266\n",
      "Epoch 41/100\n",
      "163/163 [==============================] - 297s 2s/step - loss: 0.6286 - mse: 0.0311 - val_loss: 0.6227 - val_mse: 0.0269\n"
     ]
    }
   ],
   "source": [
    "optimizer = optimizers.RMSprop(0.0001)\n",
    "loss = losses.binary_crossentropy\n",
    "metrics=['mse']\n",
    "bert_model.compile(optimizer=optimizer, loss = loss, metrics = metrics)\n",
    "early_stopping = tf.keras.callbacks.EarlyStopping(\n",
    "    monitor='val_loss', min_delta=0, patience=10, verbose=0, mode='auto'\n",
    ")\n",
    "\n",
    "bert_result = bert_model.fit(train_data, validation_data = validation_data, callbacks=early_stopping, epochs = 100, verbose = 1)"
   ]
  },
  {
   "cell_type": "code",
   "execution_count": null,
   "metadata": {
    "id": "gMpJ4eB5KOBN"
   },
   "outputs": [],
   "source": [
    "bert_model.load_weights('/content/drive/MyDrive/AC295 Final Proj/models/BERT_Model.h5')"
   ]
  },
  {
   "cell_type": "markdown",
   "metadata": {
    "id": "TVj_a-maNq4Z"
   },
   "source": [
    "# Comparison of models"
   ]
  },
  {
   "cell_type": "code",
   "execution_count": null,
   "metadata": {
    "id": "D-aFa9dDMqtO"
   },
   "outputs": [],
   "source": [
    "QWK_ffnn=QWK(model_ffnn)\n",
    "QWK_em_lstm=QWK(model_em_lstm)\n",
    "QWK_em_gru=QWK(model_em_gru)\n",
    "QWK_glo_lstm=QWK(model_glo_lstm)\n",
    "QWK_glo_gru=QWK(model_glo_gru)"
   ]
  },
  {
   "cell_type": "code",
   "execution_count": null,
   "metadata": {
    "id": "SGGtG6VUMqxs"
   },
   "outputs": [],
   "source": [
    "QWK_bert=QWK_bert(bert_model)"
   ]
  },
  {
   "cell_type": "code",
   "execution_count": null,
   "metadata": {
    "id": "Ky9-4zX8Po_4"
   },
   "outputs": [],
   "source": [
    "QWK_summary=pd.DataFrame(columns=['Essay set ' + str(i) for i in range(1,9)])\n",
    "QWK_summary.loc['FFNN']=QWK_ffnn.values\n",
    "QWK_summary.loc['Embedding + LSTM']=QWK_em_lstm.values\n",
    "QWK_summary.loc['Embedding + GRU']=QWK_em_gru.values\n",
    "QWK_summary.loc['Glove + LSTM']=QWK_glo_lstm.values\n",
    "QWK_summary.loc['Glove + GRU']=QWK_glo_gru.values\n",
    "QWK_summary.loc['BERT']=QWK_bert.values\n",
    "\n",
    "QWK_summary['Avg QWK']=QWK_summary.mean(axis=1)"
   ]
  },
  {
   "cell_type": "code",
   "execution_count": null,
   "metadata": {
    "colab": {
     "base_uri": "https://localhost:8080/",
     "height": 225
    },
    "id": "dFnrgV2VMq1k",
    "outputId": "3849e11c-a11c-4145-8018-1070b787dcec"
   },
   "outputs": [
    {
     "data": {
      "text/html": [
       "<div>\n",
       "<style scoped>\n",
       "    .dataframe tbody tr th:only-of-type {\n",
       "        vertical-align: middle;\n",
       "    }\n",
       "\n",
       "    .dataframe tbody tr th {\n",
       "        vertical-align: top;\n",
       "    }\n",
       "\n",
       "    .dataframe thead th {\n",
       "        text-align: right;\n",
       "    }\n",
       "</style>\n",
       "<table border=\"1\" class=\"dataframe\">\n",
       "  <thead>\n",
       "    <tr style=\"text-align: right;\">\n",
       "      <th></th>\n",
       "      <th>Essay set 1</th>\n",
       "      <th>Essay set 2</th>\n",
       "      <th>Essay set 3</th>\n",
       "      <th>Essay set 4</th>\n",
       "      <th>Essay set 5</th>\n",
       "      <th>Essay set 6</th>\n",
       "      <th>Essay set 7</th>\n",
       "      <th>Essay set 8</th>\n",
       "      <th>Avg QWK</th>\n",
       "    </tr>\n",
       "  </thead>\n",
       "  <tbody>\n",
       "    <tr>\n",
       "      <th>FFNN</th>\n",
       "      <td>0.247418</td>\n",
       "      <td>0.238242</td>\n",
       "      <td>0.558834</td>\n",
       "      <td>0.556224</td>\n",
       "      <td>0.309055</td>\n",
       "      <td>0.254632</td>\n",
       "      <td>0.473120</td>\n",
       "      <td>0.109394</td>\n",
       "      <td>0.343365</td>\n",
       "    </tr>\n",
       "    <tr>\n",
       "      <th>Embedding + LSTM</th>\n",
       "      <td>0.445507</td>\n",
       "      <td>0.358226</td>\n",
       "      <td>0.580866</td>\n",
       "      <td>0.729050</td>\n",
       "      <td>0.651906</td>\n",
       "      <td>0.717273</td>\n",
       "      <td>0.601665</td>\n",
       "      <td>0.422675</td>\n",
       "      <td>0.563396</td>\n",
       "    </tr>\n",
       "    <tr>\n",
       "      <th>Embedding + GRU</th>\n",
       "      <td>0.477515</td>\n",
       "      <td>0.347377</td>\n",
       "      <td>0.418189</td>\n",
       "      <td>0.564994</td>\n",
       "      <td>0.493677</td>\n",
       "      <td>0.586946</td>\n",
       "      <td>0.429114</td>\n",
       "      <td>0.408762</td>\n",
       "      <td>0.465822</td>\n",
       "    </tr>\n",
       "    <tr>\n",
       "      <th>Glove + LSTM</th>\n",
       "      <td>0.587882</td>\n",
       "      <td>0.432292</td>\n",
       "      <td>0.616096</td>\n",
       "      <td>0.744712</td>\n",
       "      <td>0.742996</td>\n",
       "      <td>0.763829</td>\n",
       "      <td>0.582066</td>\n",
       "      <td>0.269678</td>\n",
       "      <td>0.592444</td>\n",
       "    </tr>\n",
       "    <tr>\n",
       "      <th>Glove + GRU</th>\n",
       "      <td>0.669464</td>\n",
       "      <td>0.568984</td>\n",
       "      <td>0.647257</td>\n",
       "      <td>0.765267</td>\n",
       "      <td>0.775240</td>\n",
       "      <td>0.771718</td>\n",
       "      <td>0.664488</td>\n",
       "      <td>0.391621</td>\n",
       "      <td>0.656755</td>\n",
       "    </tr>\n",
       "    <tr>\n",
       "      <th>BERT</th>\n",
       "      <td>0.020248</td>\n",
       "      <td>0.039223</td>\n",
       "      <td>-0.030836</td>\n",
       "      <td>0.050885</td>\n",
       "      <td>0.076817</td>\n",
       "      <td>-0.000626</td>\n",
       "      <td>0.004948</td>\n",
       "      <td>0.007879</td>\n",
       "      <td>0.021067</td>\n",
       "    </tr>\n",
       "  </tbody>\n",
       "</table>\n",
       "</div>"
      ],
      "text/plain": [
       "                  Essay set 1  Essay set 2  ...  Essay set 8   Avg QWK\n",
       "FFNN                 0.247418     0.238242  ...     0.109394  0.343365\n",
       "Embedding + LSTM     0.445507     0.358226  ...     0.422675  0.563396\n",
       "Embedding + GRU      0.477515     0.347377  ...     0.408762  0.465822\n",
       "Glove + LSTM         0.587882     0.432292  ...     0.269678  0.592444\n",
       "Glove + GRU          0.669464     0.568984  ...     0.391621  0.656755\n",
       "BERT                 0.020248     0.039223  ...     0.007879  0.021067\n",
       "\n",
       "[6 rows x 9 columns]"
      ]
     },
     "execution_count": 68,
     "metadata": {
      "tags": []
     },
     "output_type": "execute_result"
    }
   ],
   "source": [
    "QWK_summary"
   ]
  },
  {
   "cell_type": "code",
   "execution_count": null,
   "metadata": {
    "id": "3kWPFeroQ-5P"
   },
   "outputs": [],
   "source": []
  }
 ],
 "metadata": {
  "accelerator": "GPU",
  "colab": {
   "collapsed_sections": [],
   "machine_shape": "hm",
   "name": "Combined_AES_Reg_model.ipynb",
   "provenance": [],
   "toc_visible": true
  },
  "kernelspec": {
   "display_name": "Python 3",
   "language": "python",
   "name": "python3"
  },
  "language_info": {
   "codemirror_mode": {
    "name": "ipython",
    "version": 3
   },
   "file_extension": ".py",
   "mimetype": "text/x-python",
   "name": "python",
   "nbconvert_exporter": "python",
   "pygments_lexer": "ipython3",
   "version": "3.7.3"
  },
  "widgets": {
   "application/vnd.jupyter.widget-state+json": {
    "0d73af323ef746b8be794abb709967c7": {
     "model_module": "@jupyter-widgets/controls",
     "model_name": "HBoxModel",
     "state": {
      "_dom_classes": [],
      "_model_module": "@jupyter-widgets/controls",
      "_model_module_version": "1.5.0",
      "_model_name": "HBoxModel",
      "_view_count": null,
      "_view_module": "@jupyter-widgets/controls",
      "_view_module_version": "1.5.0",
      "_view_name": "HBoxView",
      "box_style": "",
      "children": [
       "IPY_MODEL_af99135dca7f43be83a32b13df28cc13",
       "IPY_MODEL_4ef644064cba4fe7bfbab04c23765c92"
      ],
      "layout": "IPY_MODEL_90c8606964214be99f6162cf7eb1c795"
     }
    },
    "17d4286da44d41708b26ee11acc38c2d": {
     "model_module": "@jupyter-widgets/controls",
     "model_name": "ProgressStyleModel",
     "state": {
      "_model_module": "@jupyter-widgets/controls",
      "_model_module_version": "1.5.0",
      "_model_name": "ProgressStyleModel",
      "_view_count": null,
      "_view_module": "@jupyter-widgets/base",
      "_view_module_version": "1.2.0",
      "_view_name": "StyleView",
      "bar_color": null,
      "description_width": "initial"
     }
    },
    "238bd4fb79494b3198b0a85cbd83367a": {
     "model_module": "@jupyter-widgets/base",
     "model_name": "LayoutModel",
     "state": {
      "_model_module": "@jupyter-widgets/base",
      "_model_module_version": "1.2.0",
      "_model_name": "LayoutModel",
      "_view_count": null,
      "_view_module": "@jupyter-widgets/base",
      "_view_module_version": "1.2.0",
      "_view_name": "LayoutView",
      "align_content": null,
      "align_items": null,
      "align_self": null,
      "border": null,
      "bottom": null,
      "display": null,
      "flex": null,
      "flex_flow": null,
      "grid_area": null,
      "grid_auto_columns": null,
      "grid_auto_flow": null,
      "grid_auto_rows": null,
      "grid_column": null,
      "grid_gap": null,
      "grid_row": null,
      "grid_template_areas": null,
      "grid_template_columns": null,
      "grid_template_rows": null,
      "height": null,
      "justify_content": null,
      "justify_items": null,
      "left": null,
      "margin": null,
      "max_height": null,
      "max_width": null,
      "min_height": null,
      "min_width": null,
      "object_fit": null,
      "object_position": null,
      "order": null,
      "overflow": null,
      "overflow_x": null,
      "overflow_y": null,
      "padding": null,
      "right": null,
      "top": null,
      "visibility": null,
      "width": null
     }
    },
    "45e71cbce3b646a087ae1ac5d4d5afe4": {
     "model_module": "@jupyter-widgets/controls",
     "model_name": "HBoxModel",
     "state": {
      "_dom_classes": [],
      "_model_module": "@jupyter-widgets/controls",
      "_model_module_version": "1.5.0",
      "_model_name": "HBoxModel",
      "_view_count": null,
      "_view_module": "@jupyter-widgets/controls",
      "_view_module_version": "1.5.0",
      "_view_name": "HBoxView",
      "box_style": "",
      "children": [
       "IPY_MODEL_73fe9d16ebe14a05a54944d6583cf5c7",
       "IPY_MODEL_9dae030d89b24620897d4bb884c9872b"
      ],
      "layout": "IPY_MODEL_7ca7c2e901d04bd0b2e26228ac754eec"
     }
    },
    "4cacc1ba8c2e407daca4ccac0d74530d": {
     "model_module": "@jupyter-widgets/controls",
     "model_name": "DescriptionStyleModel",
     "state": {
      "_model_module": "@jupyter-widgets/controls",
      "_model_module_version": "1.5.0",
      "_model_name": "DescriptionStyleModel",
      "_view_count": null,
      "_view_module": "@jupyter-widgets/base",
      "_view_module_version": "1.2.0",
      "_view_name": "StyleView",
      "description_width": ""
     }
    },
    "4ef644064cba4fe7bfbab04c23765c92": {
     "model_module": "@jupyter-widgets/controls",
     "model_name": "HTMLModel",
     "state": {
      "_dom_classes": [],
      "_model_module": "@jupyter-widgets/controls",
      "_model_module_version": "1.5.0",
      "_model_name": "HTMLModel",
      "_view_count": null,
      "_view_module": "@jupyter-widgets/controls",
      "_view_module_version": "1.5.0",
      "_view_name": "HTMLView",
      "description": "",
      "description_tooltip": null,
      "layout": "IPY_MODEL_edf103d3aa75468695c8028a52270786",
      "placeholder": "​",
      "style": "IPY_MODEL_ec5ef467dbd54c939f448696f2e42b61",
      "value": " 232k/232k [00:00&lt;00:00, 639kB/s]"
     }
    },
    "57c0fcfdbba746c4aa337831da5a9607": {
     "model_module": "@jupyter-widgets/controls",
     "model_name": "DescriptionStyleModel",
     "state": {
      "_model_module": "@jupyter-widgets/controls",
      "_model_module_version": "1.5.0",
      "_model_name": "DescriptionStyleModel",
      "_view_count": null,
      "_view_module": "@jupyter-widgets/base",
      "_view_module_version": "1.2.0",
      "_view_name": "StyleView",
      "description_width": ""
     }
    },
    "6eabd4f70e69479d8c02388e59908f84": {
     "model_module": "@jupyter-widgets/controls",
     "model_name": "FloatProgressModel",
     "state": {
      "_dom_classes": [],
      "_model_module": "@jupyter-widgets/controls",
      "_model_module_version": "1.5.0",
      "_model_name": "FloatProgressModel",
      "_view_count": null,
      "_view_module": "@jupyter-widgets/controls",
      "_view_module_version": "1.5.0",
      "_view_name": "ProgressView",
      "bar_style": "success",
      "description": "Downloading: 100%",
      "description_tooltip": null,
      "layout": "IPY_MODEL_caf177f2ecec4d76aacb46aaa879d8bc",
      "max": 433,
      "min": 0,
      "orientation": "horizontal",
      "style": "IPY_MODEL_aab5b289686344029ab93af159728d6e",
      "value": 433
     }
    },
    "73fe9d16ebe14a05a54944d6583cf5c7": {
     "model_module": "@jupyter-widgets/controls",
     "model_name": "FloatProgressModel",
     "state": {
      "_dom_classes": [],
      "_model_module": "@jupyter-widgets/controls",
      "_model_module_version": "1.5.0",
      "_model_name": "FloatProgressModel",
      "_view_count": null,
      "_view_module": "@jupyter-widgets/controls",
      "_view_module_version": "1.5.0",
      "_view_name": "ProgressView",
      "bar_style": "success",
      "description": "Downloading: 100%",
      "description_tooltip": null,
      "layout": "IPY_MODEL_238bd4fb79494b3198b0a85cbd83367a",
      "max": 536063208,
      "min": 0,
      "orientation": "horizontal",
      "style": "IPY_MODEL_d8afe67bc12c49f7b3afdbb897fcae67",
      "value": 536063208
     }
    },
    "7536c19f1b9649cf866a506fb92d841c": {
     "model_module": "@jupyter-widgets/base",
     "model_name": "LayoutModel",
     "state": {
      "_model_module": "@jupyter-widgets/base",
      "_model_module_version": "1.2.0",
      "_model_name": "LayoutModel",
      "_view_count": null,
      "_view_module": "@jupyter-widgets/base",
      "_view_module_version": "1.2.0",
      "_view_name": "LayoutView",
      "align_content": null,
      "align_items": null,
      "align_self": null,
      "border": null,
      "bottom": null,
      "display": null,
      "flex": null,
      "flex_flow": null,
      "grid_area": null,
      "grid_auto_columns": null,
      "grid_auto_flow": null,
      "grid_auto_rows": null,
      "grid_column": null,
      "grid_gap": null,
      "grid_row": null,
      "grid_template_areas": null,
      "grid_template_columns": null,
      "grid_template_rows": null,
      "height": null,
      "justify_content": null,
      "justify_items": null,
      "left": null,
      "margin": null,
      "max_height": null,
      "max_width": null,
      "min_height": null,
      "min_width": null,
      "object_fit": null,
      "object_position": null,
      "order": null,
      "overflow": null,
      "overflow_x": null,
      "overflow_y": null,
      "padding": null,
      "right": null,
      "top": null,
      "visibility": null,
      "width": null
     }
    },
    "7ca7c2e901d04bd0b2e26228ac754eec": {
     "model_module": "@jupyter-widgets/base",
     "model_name": "LayoutModel",
     "state": {
      "_model_module": "@jupyter-widgets/base",
      "_model_module_version": "1.2.0",
      "_model_name": "LayoutModel",
      "_view_count": null,
      "_view_module": "@jupyter-widgets/base",
      "_view_module_version": "1.2.0",
      "_view_name": "LayoutView",
      "align_content": null,
      "align_items": null,
      "align_self": null,
      "border": null,
      "bottom": null,
      "display": null,
      "flex": null,
      "flex_flow": null,
      "grid_area": null,
      "grid_auto_columns": null,
      "grid_auto_flow": null,
      "grid_auto_rows": null,
      "grid_column": null,
      "grid_gap": null,
      "grid_row": null,
      "grid_template_areas": null,
      "grid_template_columns": null,
      "grid_template_rows": null,
      "height": null,
      "justify_content": null,
      "justify_items": null,
      "left": null,
      "margin": null,
      "max_height": null,
      "max_width": null,
      "min_height": null,
      "min_width": null,
      "object_fit": null,
      "object_position": null,
      "order": null,
      "overflow": null,
      "overflow_x": null,
      "overflow_y": null,
      "padding": null,
      "right": null,
      "top": null,
      "visibility": null,
      "width": null
     }
    },
    "90c8606964214be99f6162cf7eb1c795": {
     "model_module": "@jupyter-widgets/base",
     "model_name": "LayoutModel",
     "state": {
      "_model_module": "@jupyter-widgets/base",
      "_model_module_version": "1.2.0",
      "_model_name": "LayoutModel",
      "_view_count": null,
      "_view_module": "@jupyter-widgets/base",
      "_view_module_version": "1.2.0",
      "_view_name": "LayoutView",
      "align_content": null,
      "align_items": null,
      "align_self": null,
      "border": null,
      "bottom": null,
      "display": null,
      "flex": null,
      "flex_flow": null,
      "grid_area": null,
      "grid_auto_columns": null,
      "grid_auto_flow": null,
      "grid_auto_rows": null,
      "grid_column": null,
      "grid_gap": null,
      "grid_row": null,
      "grid_template_areas": null,
      "grid_template_columns": null,
      "grid_template_rows": null,
      "height": null,
      "justify_content": null,
      "justify_items": null,
      "left": null,
      "margin": null,
      "max_height": null,
      "max_width": null,
      "min_height": null,
      "min_width": null,
      "object_fit": null,
      "object_position": null,
      "order": null,
      "overflow": null,
      "overflow_x": null,
      "overflow_y": null,
      "padding": null,
      "right": null,
      "top": null,
      "visibility": null,
      "width": null
     }
    },
    "918d5bf82b064f81bd8189924fbf692d": {
     "model_module": "@jupyter-widgets/controls",
     "model_name": "HBoxModel",
     "state": {
      "_dom_classes": [],
      "_model_module": "@jupyter-widgets/controls",
      "_model_module_version": "1.5.0",
      "_model_name": "HBoxModel",
      "_view_count": null,
      "_view_module": "@jupyter-widgets/controls",
      "_view_module_version": "1.5.0",
      "_view_name": "HBoxView",
      "box_style": "",
      "children": [
       "IPY_MODEL_6eabd4f70e69479d8c02388e59908f84",
       "IPY_MODEL_d7a22254ea054bc8bedf128dfbc373fc"
      ],
      "layout": "IPY_MODEL_dc16e6c2afdf44af882c448cfc9ad452"
     }
    },
    "92c1ba83b82e43688172c7bfc4f76ed1": {
     "model_module": "@jupyter-widgets/base",
     "model_name": "LayoutModel",
     "state": {
      "_model_module": "@jupyter-widgets/base",
      "_model_module_version": "1.2.0",
      "_model_name": "LayoutModel",
      "_view_count": null,
      "_view_module": "@jupyter-widgets/base",
      "_view_module_version": "1.2.0",
      "_view_name": "LayoutView",
      "align_content": null,
      "align_items": null,
      "align_self": null,
      "border": null,
      "bottom": null,
      "display": null,
      "flex": null,
      "flex_flow": null,
      "grid_area": null,
      "grid_auto_columns": null,
      "grid_auto_flow": null,
      "grid_auto_rows": null,
      "grid_column": null,
      "grid_gap": null,
      "grid_row": null,
      "grid_template_areas": null,
      "grid_template_columns": null,
      "grid_template_rows": null,
      "height": null,
      "justify_content": null,
      "justify_items": null,
      "left": null,
      "margin": null,
      "max_height": null,
      "max_width": null,
      "min_height": null,
      "min_width": null,
      "object_fit": null,
      "object_position": null,
      "order": null,
      "overflow": null,
      "overflow_x": null,
      "overflow_y": null,
      "padding": null,
      "right": null,
      "top": null,
      "visibility": null,
      "width": null
     }
    },
    "9dae030d89b24620897d4bb884c9872b": {
     "model_module": "@jupyter-widgets/controls",
     "model_name": "HTMLModel",
     "state": {
      "_dom_classes": [],
      "_model_module": "@jupyter-widgets/controls",
      "_model_module_version": "1.5.0",
      "_model_name": "HTMLModel",
      "_view_count": null,
      "_view_module": "@jupyter-widgets/controls",
      "_view_module_version": "1.5.0",
      "_view_name": "HTMLView",
      "description": "",
      "description_tooltip": null,
      "layout": "IPY_MODEL_92c1ba83b82e43688172c7bfc4f76ed1",
      "placeholder": "​",
      "style": "IPY_MODEL_4cacc1ba8c2e407daca4ccac0d74530d",
      "value": " 536M/536M [00:07&lt;00:00, 74.4MB/s]"
     }
    },
    "a80cb8e4dd80406d8a46b9a06510fcdd": {
     "model_module": "@jupyter-widgets/base",
     "model_name": "LayoutModel",
     "state": {
      "_model_module": "@jupyter-widgets/base",
      "_model_module_version": "1.2.0",
      "_model_name": "LayoutModel",
      "_view_count": null,
      "_view_module": "@jupyter-widgets/base",
      "_view_module_version": "1.2.0",
      "_view_name": "LayoutView",
      "align_content": null,
      "align_items": null,
      "align_self": null,
      "border": null,
      "bottom": null,
      "display": null,
      "flex": null,
      "flex_flow": null,
      "grid_area": null,
      "grid_auto_columns": null,
      "grid_auto_flow": null,
      "grid_auto_rows": null,
      "grid_column": null,
      "grid_gap": null,
      "grid_row": null,
      "grid_template_areas": null,
      "grid_template_columns": null,
      "grid_template_rows": null,
      "height": null,
      "justify_content": null,
      "justify_items": null,
      "left": null,
      "margin": null,
      "max_height": null,
      "max_width": null,
      "min_height": null,
      "min_width": null,
      "object_fit": null,
      "object_position": null,
      "order": null,
      "overflow": null,
      "overflow_x": null,
      "overflow_y": null,
      "padding": null,
      "right": null,
      "top": null,
      "visibility": null,
      "width": null
     }
    },
    "aab5b289686344029ab93af159728d6e": {
     "model_module": "@jupyter-widgets/controls",
     "model_name": "ProgressStyleModel",
     "state": {
      "_model_module": "@jupyter-widgets/controls",
      "_model_module_version": "1.5.0",
      "_model_name": "ProgressStyleModel",
      "_view_count": null,
      "_view_module": "@jupyter-widgets/base",
      "_view_module_version": "1.2.0",
      "_view_name": "StyleView",
      "bar_color": null,
      "description_width": "initial"
     }
    },
    "af99135dca7f43be83a32b13df28cc13": {
     "model_module": "@jupyter-widgets/controls",
     "model_name": "FloatProgressModel",
     "state": {
      "_dom_classes": [],
      "_model_module": "@jupyter-widgets/controls",
      "_model_module_version": "1.5.0",
      "_model_name": "FloatProgressModel",
      "_view_count": null,
      "_view_module": "@jupyter-widgets/controls",
      "_view_module_version": "1.5.0",
      "_view_name": "ProgressView",
      "bar_style": "success",
      "description": "Downloading: 100%",
      "description_tooltip": null,
      "layout": "IPY_MODEL_7536c19f1b9649cf866a506fb92d841c",
      "max": 231508,
      "min": 0,
      "orientation": "horizontal",
      "style": "IPY_MODEL_17d4286da44d41708b26ee11acc38c2d",
      "value": 231508
     }
    },
    "caf177f2ecec4d76aacb46aaa879d8bc": {
     "model_module": "@jupyter-widgets/base",
     "model_name": "LayoutModel",
     "state": {
      "_model_module": "@jupyter-widgets/base",
      "_model_module_version": "1.2.0",
      "_model_name": "LayoutModel",
      "_view_count": null,
      "_view_module": "@jupyter-widgets/base",
      "_view_module_version": "1.2.0",
      "_view_name": "LayoutView",
      "align_content": null,
      "align_items": null,
      "align_self": null,
      "border": null,
      "bottom": null,
      "display": null,
      "flex": null,
      "flex_flow": null,
      "grid_area": null,
      "grid_auto_columns": null,
      "grid_auto_flow": null,
      "grid_auto_rows": null,
      "grid_column": null,
      "grid_gap": null,
      "grid_row": null,
      "grid_template_areas": null,
      "grid_template_columns": null,
      "grid_template_rows": null,
      "height": null,
      "justify_content": null,
      "justify_items": null,
      "left": null,
      "margin": null,
      "max_height": null,
      "max_width": null,
      "min_height": null,
      "min_width": null,
      "object_fit": null,
      "object_position": null,
      "order": null,
      "overflow": null,
      "overflow_x": null,
      "overflow_y": null,
      "padding": null,
      "right": null,
      "top": null,
      "visibility": null,
      "width": null
     }
    },
    "d7a22254ea054bc8bedf128dfbc373fc": {
     "model_module": "@jupyter-widgets/controls",
     "model_name": "HTMLModel",
     "state": {
      "_dom_classes": [],
      "_model_module": "@jupyter-widgets/controls",
      "_model_module_version": "1.5.0",
      "_model_name": "HTMLModel",
      "_view_count": null,
      "_view_module": "@jupyter-widgets/controls",
      "_view_module_version": "1.5.0",
      "_view_name": "HTMLView",
      "description": "",
      "description_tooltip": null,
      "layout": "IPY_MODEL_a80cb8e4dd80406d8a46b9a06510fcdd",
      "placeholder": "​",
      "style": "IPY_MODEL_57c0fcfdbba746c4aa337831da5a9607",
      "value": " 433/433 [00:00&lt;00:00, 1.48kB/s]"
     }
    },
    "d8afe67bc12c49f7b3afdbb897fcae67": {
     "model_module": "@jupyter-widgets/controls",
     "model_name": "ProgressStyleModel",
     "state": {
      "_model_module": "@jupyter-widgets/controls",
      "_model_module_version": "1.5.0",
      "_model_name": "ProgressStyleModel",
      "_view_count": null,
      "_view_module": "@jupyter-widgets/base",
      "_view_module_version": "1.2.0",
      "_view_name": "StyleView",
      "bar_color": null,
      "description_width": "initial"
     }
    },
    "dc16e6c2afdf44af882c448cfc9ad452": {
     "model_module": "@jupyter-widgets/base",
     "model_name": "LayoutModel",
     "state": {
      "_model_module": "@jupyter-widgets/base",
      "_model_module_version": "1.2.0",
      "_model_name": "LayoutModel",
      "_view_count": null,
      "_view_module": "@jupyter-widgets/base",
      "_view_module_version": "1.2.0",
      "_view_name": "LayoutView",
      "align_content": null,
      "align_items": null,
      "align_self": null,
      "border": null,
      "bottom": null,
      "display": null,
      "flex": null,
      "flex_flow": null,
      "grid_area": null,
      "grid_auto_columns": null,
      "grid_auto_flow": null,
      "grid_auto_rows": null,
      "grid_column": null,
      "grid_gap": null,
      "grid_row": null,
      "grid_template_areas": null,
      "grid_template_columns": null,
      "grid_template_rows": null,
      "height": null,
      "justify_content": null,
      "justify_items": null,
      "left": null,
      "margin": null,
      "max_height": null,
      "max_width": null,
      "min_height": null,
      "min_width": null,
      "object_fit": null,
      "object_position": null,
      "order": null,
      "overflow": null,
      "overflow_x": null,
      "overflow_y": null,
      "padding": null,
      "right": null,
      "top": null,
      "visibility": null,
      "width": null
     }
    },
    "ec5ef467dbd54c939f448696f2e42b61": {
     "model_module": "@jupyter-widgets/controls",
     "model_name": "DescriptionStyleModel",
     "state": {
      "_model_module": "@jupyter-widgets/controls",
      "_model_module_version": "1.5.0",
      "_model_name": "DescriptionStyleModel",
      "_view_count": null,
      "_view_module": "@jupyter-widgets/base",
      "_view_module_version": "1.2.0",
      "_view_name": "StyleView",
      "description_width": ""
     }
    },
    "edf103d3aa75468695c8028a52270786": {
     "model_module": "@jupyter-widgets/base",
     "model_name": "LayoutModel",
     "state": {
      "_model_module": "@jupyter-widgets/base",
      "_model_module_version": "1.2.0",
      "_model_name": "LayoutModel",
      "_view_count": null,
      "_view_module": "@jupyter-widgets/base",
      "_view_module_version": "1.2.0",
      "_view_name": "LayoutView",
      "align_content": null,
      "align_items": null,
      "align_self": null,
      "border": null,
      "bottom": null,
      "display": null,
      "flex": null,
      "flex_flow": null,
      "grid_area": null,
      "grid_auto_columns": null,
      "grid_auto_flow": null,
      "grid_auto_rows": null,
      "grid_column": null,
      "grid_gap": null,
      "grid_row": null,
      "grid_template_areas": null,
      "grid_template_columns": null,
      "grid_template_rows": null,
      "height": null,
      "justify_content": null,
      "justify_items": null,
      "left": null,
      "margin": null,
      "max_height": null,
      "max_width": null,
      "min_height": null,
      "min_width": null,
      "object_fit": null,
      "object_position": null,
      "order": null,
      "overflow": null,
      "overflow_x": null,
      "overflow_y": null,
      "padding": null,
      "right": null,
      "top": null,
      "visibility": null,
      "width": null
     }
    }
   }
  }
 },
 "nbformat": 4,
 "nbformat_minor": 1
}
