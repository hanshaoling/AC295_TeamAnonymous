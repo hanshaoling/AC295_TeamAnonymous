{
  "nbformat": 4,
  "nbformat_minor": 0,
  "metadata": {
    "accelerator": "GPU",
    "colab": {
      "name": "Combined_AES_Reg_model.ipynb",
      "provenance": [],
      "collapsed_sections": [],
      "toc_visible": true,
      "machine_shape": "hm"
    },
    "kernelspec": {
      "display_name": "Python 3",
      "language": "python",
      "name": "python3"
    },
    "language_info": {
      "codemirror_mode": {
        "name": "ipython",
        "version": 3
      },
      "file_extension": ".py",
      "mimetype": "text/x-python",
      "name": "python",
      "nbconvert_exporter": "python",
      "pygments_lexer": "ipython3",
      "version": "3.7.3"
    },
    "widgets": {
      "application/vnd.jupyter.widget-state+json": {
        "ac0c59ec84984a67a9aaa2ef8b955945": {
          "model_module": "@jupyter-widgets/controls",
          "model_name": "HBoxModel",
          "state": {
            "_view_name": "HBoxView",
            "_dom_classes": [],
            "_model_name": "HBoxModel",
            "_view_module": "@jupyter-widgets/controls",
            "_model_module_version": "1.5.0",
            "_view_count": null,
            "_view_module_version": "1.5.0",
            "box_style": "",
            "layout": "IPY_MODEL_284497cae0ba423bb3920528c521b354",
            "_model_module": "@jupyter-widgets/controls",
            "children": [
              "IPY_MODEL_952ec1514f2a454bbe7fa1457040bc68",
              "IPY_MODEL_ab73da95ab6a4aa9a6b44349cd0094c4"
            ]
          }
        },
        "284497cae0ba423bb3920528c521b354": {
          "model_module": "@jupyter-widgets/base",
          "model_name": "LayoutModel",
          "state": {
            "_view_name": "LayoutView",
            "grid_template_rows": null,
            "right": null,
            "justify_content": null,
            "_view_module": "@jupyter-widgets/base",
            "overflow": null,
            "_model_module_version": "1.2.0",
            "_view_count": null,
            "flex_flow": null,
            "width": null,
            "min_width": null,
            "border": null,
            "align_items": null,
            "bottom": null,
            "_model_module": "@jupyter-widgets/base",
            "top": null,
            "grid_column": null,
            "overflow_y": null,
            "overflow_x": null,
            "grid_auto_flow": null,
            "grid_area": null,
            "grid_template_columns": null,
            "flex": null,
            "_model_name": "LayoutModel",
            "justify_items": null,
            "grid_row": null,
            "max_height": null,
            "align_content": null,
            "visibility": null,
            "align_self": null,
            "height": null,
            "min_height": null,
            "padding": null,
            "grid_auto_rows": null,
            "grid_gap": null,
            "max_width": null,
            "order": null,
            "_view_module_version": "1.2.0",
            "grid_template_areas": null,
            "object_position": null,
            "object_fit": null,
            "grid_auto_columns": null,
            "margin": null,
            "display": null,
            "left": null
          }
        },
        "952ec1514f2a454bbe7fa1457040bc68": {
          "model_module": "@jupyter-widgets/controls",
          "model_name": "FloatProgressModel",
          "state": {
            "_view_name": "ProgressView",
            "style": "IPY_MODEL_47e36b85585c4f0eaa7c362a579ee0dc",
            "_dom_classes": [],
            "description": "Downloading: 100%",
            "_model_name": "FloatProgressModel",
            "bar_style": "success",
            "max": 231508,
            "_view_module": "@jupyter-widgets/controls",
            "_model_module_version": "1.5.0",
            "value": 231508,
            "_view_count": null,
            "_view_module_version": "1.5.0",
            "orientation": "horizontal",
            "min": 0,
            "description_tooltip": null,
            "_model_module": "@jupyter-widgets/controls",
            "layout": "IPY_MODEL_e4fb49ad702e49089b4a66374f32822d"
          }
        },
        "ab73da95ab6a4aa9a6b44349cd0094c4": {
          "model_module": "@jupyter-widgets/controls",
          "model_name": "HTMLModel",
          "state": {
            "_view_name": "HTMLView",
            "style": "IPY_MODEL_4f4769e4cff34682aa6e305807f961e5",
            "_dom_classes": [],
            "description": "",
            "_model_name": "HTMLModel",
            "placeholder": "​",
            "_view_module": "@jupyter-widgets/controls",
            "_model_module_version": "1.5.0",
            "value": " 232k/232k [00:00&lt;00:00, 307kB/s]",
            "_view_count": null,
            "_view_module_version": "1.5.0",
            "description_tooltip": null,
            "_model_module": "@jupyter-widgets/controls",
            "layout": "IPY_MODEL_8db2872815f14a96b61d33d2d1beaf99"
          }
        },
        "47e36b85585c4f0eaa7c362a579ee0dc": {
          "model_module": "@jupyter-widgets/controls",
          "model_name": "ProgressStyleModel",
          "state": {
            "_view_name": "StyleView",
            "_model_name": "ProgressStyleModel",
            "description_width": "initial",
            "_view_module": "@jupyter-widgets/base",
            "_model_module_version": "1.5.0",
            "_view_count": null,
            "_view_module_version": "1.2.0",
            "bar_color": null,
            "_model_module": "@jupyter-widgets/controls"
          }
        },
        "e4fb49ad702e49089b4a66374f32822d": {
          "model_module": "@jupyter-widgets/base",
          "model_name": "LayoutModel",
          "state": {
            "_view_name": "LayoutView",
            "grid_template_rows": null,
            "right": null,
            "justify_content": null,
            "_view_module": "@jupyter-widgets/base",
            "overflow": null,
            "_model_module_version": "1.2.0",
            "_view_count": null,
            "flex_flow": null,
            "width": null,
            "min_width": null,
            "border": null,
            "align_items": null,
            "bottom": null,
            "_model_module": "@jupyter-widgets/base",
            "top": null,
            "grid_column": null,
            "overflow_y": null,
            "overflow_x": null,
            "grid_auto_flow": null,
            "grid_area": null,
            "grid_template_columns": null,
            "flex": null,
            "_model_name": "LayoutModel",
            "justify_items": null,
            "grid_row": null,
            "max_height": null,
            "align_content": null,
            "visibility": null,
            "align_self": null,
            "height": null,
            "min_height": null,
            "padding": null,
            "grid_auto_rows": null,
            "grid_gap": null,
            "max_width": null,
            "order": null,
            "_view_module_version": "1.2.0",
            "grid_template_areas": null,
            "object_position": null,
            "object_fit": null,
            "grid_auto_columns": null,
            "margin": null,
            "display": null,
            "left": null
          }
        },
        "4f4769e4cff34682aa6e305807f961e5": {
          "model_module": "@jupyter-widgets/controls",
          "model_name": "DescriptionStyleModel",
          "state": {
            "_view_name": "StyleView",
            "_model_name": "DescriptionStyleModel",
            "description_width": "",
            "_view_module": "@jupyter-widgets/base",
            "_model_module_version": "1.5.0",
            "_view_count": null,
            "_view_module_version": "1.2.0",
            "_model_module": "@jupyter-widgets/controls"
          }
        },
        "8db2872815f14a96b61d33d2d1beaf99": {
          "model_module": "@jupyter-widgets/base",
          "model_name": "LayoutModel",
          "state": {
            "_view_name": "LayoutView",
            "grid_template_rows": null,
            "right": null,
            "justify_content": null,
            "_view_module": "@jupyter-widgets/base",
            "overflow": null,
            "_model_module_version": "1.2.0",
            "_view_count": null,
            "flex_flow": null,
            "width": null,
            "min_width": null,
            "border": null,
            "align_items": null,
            "bottom": null,
            "_model_module": "@jupyter-widgets/base",
            "top": null,
            "grid_column": null,
            "overflow_y": null,
            "overflow_x": null,
            "grid_auto_flow": null,
            "grid_area": null,
            "grid_template_columns": null,
            "flex": null,
            "_model_name": "LayoutModel",
            "justify_items": null,
            "grid_row": null,
            "max_height": null,
            "align_content": null,
            "visibility": null,
            "align_self": null,
            "height": null,
            "min_height": null,
            "padding": null,
            "grid_auto_rows": null,
            "grid_gap": null,
            "max_width": null,
            "order": null,
            "_view_module_version": "1.2.0",
            "grid_template_areas": null,
            "object_position": null,
            "object_fit": null,
            "grid_auto_columns": null,
            "margin": null,
            "display": null,
            "left": null
          }
        },
        "ebb8227f5e524b07b7fa37279bbb3113": {
          "model_module": "@jupyter-widgets/controls",
          "model_name": "HBoxModel",
          "state": {
            "_view_name": "HBoxView",
            "_dom_classes": [],
            "_model_name": "HBoxModel",
            "_view_module": "@jupyter-widgets/controls",
            "_model_module_version": "1.5.0",
            "_view_count": null,
            "_view_module_version": "1.5.0",
            "box_style": "",
            "layout": "IPY_MODEL_d64a3fca8d174aeb8679c5014e5258d9",
            "_model_module": "@jupyter-widgets/controls",
            "children": [
              "IPY_MODEL_4251d4f1405b4a7796704bcf53845935",
              "IPY_MODEL_37752bb4ffa94b5780eee19edce4f969"
            ]
          }
        },
        "d64a3fca8d174aeb8679c5014e5258d9": {
          "model_module": "@jupyter-widgets/base",
          "model_name": "LayoutModel",
          "state": {
            "_view_name": "LayoutView",
            "grid_template_rows": null,
            "right": null,
            "justify_content": null,
            "_view_module": "@jupyter-widgets/base",
            "overflow": null,
            "_model_module_version": "1.2.0",
            "_view_count": null,
            "flex_flow": null,
            "width": null,
            "min_width": null,
            "border": null,
            "align_items": null,
            "bottom": null,
            "_model_module": "@jupyter-widgets/base",
            "top": null,
            "grid_column": null,
            "overflow_y": null,
            "overflow_x": null,
            "grid_auto_flow": null,
            "grid_area": null,
            "grid_template_columns": null,
            "flex": null,
            "_model_name": "LayoutModel",
            "justify_items": null,
            "grid_row": null,
            "max_height": null,
            "align_content": null,
            "visibility": null,
            "align_self": null,
            "height": null,
            "min_height": null,
            "padding": null,
            "grid_auto_rows": null,
            "grid_gap": null,
            "max_width": null,
            "order": null,
            "_view_module_version": "1.2.0",
            "grid_template_areas": null,
            "object_position": null,
            "object_fit": null,
            "grid_auto_columns": null,
            "margin": null,
            "display": null,
            "left": null
          }
        },
        "4251d4f1405b4a7796704bcf53845935": {
          "model_module": "@jupyter-widgets/controls",
          "model_name": "FloatProgressModel",
          "state": {
            "_view_name": "ProgressView",
            "style": "IPY_MODEL_2facbc9e11014406b0a89493bf05da44",
            "_dom_classes": [],
            "description": "Downloading: 100%",
            "_model_name": "FloatProgressModel",
            "bar_style": "success",
            "max": 433,
            "_view_module": "@jupyter-widgets/controls",
            "_model_module_version": "1.5.0",
            "value": 433,
            "_view_count": null,
            "_view_module_version": "1.5.0",
            "orientation": "horizontal",
            "min": 0,
            "description_tooltip": null,
            "_model_module": "@jupyter-widgets/controls",
            "layout": "IPY_MODEL_0f895ca9cfd9491484b11b0b40e4c1ea"
          }
        },
        "37752bb4ffa94b5780eee19edce4f969": {
          "model_module": "@jupyter-widgets/controls",
          "model_name": "HTMLModel",
          "state": {
            "_view_name": "HTMLView",
            "style": "IPY_MODEL_531271d2a3064a6db6f6b806ff4623f8",
            "_dom_classes": [],
            "description": "",
            "_model_name": "HTMLModel",
            "placeholder": "​",
            "_view_module": "@jupyter-widgets/controls",
            "_model_module_version": "1.5.0",
            "value": " 433/433 [00:00&lt;00:00, 436B/s]",
            "_view_count": null,
            "_view_module_version": "1.5.0",
            "description_tooltip": null,
            "_model_module": "@jupyter-widgets/controls",
            "layout": "IPY_MODEL_fab41000494c415792dedcf850f22d30"
          }
        },
        "2facbc9e11014406b0a89493bf05da44": {
          "model_module": "@jupyter-widgets/controls",
          "model_name": "ProgressStyleModel",
          "state": {
            "_view_name": "StyleView",
            "_model_name": "ProgressStyleModel",
            "description_width": "initial",
            "_view_module": "@jupyter-widgets/base",
            "_model_module_version": "1.5.0",
            "_view_count": null,
            "_view_module_version": "1.2.0",
            "bar_color": null,
            "_model_module": "@jupyter-widgets/controls"
          }
        },
        "0f895ca9cfd9491484b11b0b40e4c1ea": {
          "model_module": "@jupyter-widgets/base",
          "model_name": "LayoutModel",
          "state": {
            "_view_name": "LayoutView",
            "grid_template_rows": null,
            "right": null,
            "justify_content": null,
            "_view_module": "@jupyter-widgets/base",
            "overflow": null,
            "_model_module_version": "1.2.0",
            "_view_count": null,
            "flex_flow": null,
            "width": null,
            "min_width": null,
            "border": null,
            "align_items": null,
            "bottom": null,
            "_model_module": "@jupyter-widgets/base",
            "top": null,
            "grid_column": null,
            "overflow_y": null,
            "overflow_x": null,
            "grid_auto_flow": null,
            "grid_area": null,
            "grid_template_columns": null,
            "flex": null,
            "_model_name": "LayoutModel",
            "justify_items": null,
            "grid_row": null,
            "max_height": null,
            "align_content": null,
            "visibility": null,
            "align_self": null,
            "height": null,
            "min_height": null,
            "padding": null,
            "grid_auto_rows": null,
            "grid_gap": null,
            "max_width": null,
            "order": null,
            "_view_module_version": "1.2.0",
            "grid_template_areas": null,
            "object_position": null,
            "object_fit": null,
            "grid_auto_columns": null,
            "margin": null,
            "display": null,
            "left": null
          }
        },
        "531271d2a3064a6db6f6b806ff4623f8": {
          "model_module": "@jupyter-widgets/controls",
          "model_name": "DescriptionStyleModel",
          "state": {
            "_view_name": "StyleView",
            "_model_name": "DescriptionStyleModel",
            "description_width": "",
            "_view_module": "@jupyter-widgets/base",
            "_model_module_version": "1.5.0",
            "_view_count": null,
            "_view_module_version": "1.2.0",
            "_model_module": "@jupyter-widgets/controls"
          }
        },
        "fab41000494c415792dedcf850f22d30": {
          "model_module": "@jupyter-widgets/base",
          "model_name": "LayoutModel",
          "state": {
            "_view_name": "LayoutView",
            "grid_template_rows": null,
            "right": null,
            "justify_content": null,
            "_view_module": "@jupyter-widgets/base",
            "overflow": null,
            "_model_module_version": "1.2.0",
            "_view_count": null,
            "flex_flow": null,
            "width": null,
            "min_width": null,
            "border": null,
            "align_items": null,
            "bottom": null,
            "_model_module": "@jupyter-widgets/base",
            "top": null,
            "grid_column": null,
            "overflow_y": null,
            "overflow_x": null,
            "grid_auto_flow": null,
            "grid_area": null,
            "grid_template_columns": null,
            "flex": null,
            "_model_name": "LayoutModel",
            "justify_items": null,
            "grid_row": null,
            "max_height": null,
            "align_content": null,
            "visibility": null,
            "align_self": null,
            "height": null,
            "min_height": null,
            "padding": null,
            "grid_auto_rows": null,
            "grid_gap": null,
            "max_width": null,
            "order": null,
            "_view_module_version": "1.2.0",
            "grid_template_areas": null,
            "object_position": null,
            "object_fit": null,
            "grid_auto_columns": null,
            "margin": null,
            "display": null,
            "left": null
          }
        },
        "bcb30541ecf14f0ebde03753bc404703": {
          "model_module": "@jupyter-widgets/controls",
          "model_name": "HBoxModel",
          "state": {
            "_view_name": "HBoxView",
            "_dom_classes": [],
            "_model_name": "HBoxModel",
            "_view_module": "@jupyter-widgets/controls",
            "_model_module_version": "1.5.0",
            "_view_count": null,
            "_view_module_version": "1.5.0",
            "box_style": "",
            "layout": "IPY_MODEL_d6623e0ea04a4ad28ce5668f099bef6d",
            "_model_module": "@jupyter-widgets/controls",
            "children": [
              "IPY_MODEL_49202103bf7543bc98ee24e9f10a8595",
              "IPY_MODEL_47dd3ffff2494993834d57b6b63514ae"
            ]
          }
        },
        "d6623e0ea04a4ad28ce5668f099bef6d": {
          "model_module": "@jupyter-widgets/base",
          "model_name": "LayoutModel",
          "state": {
            "_view_name": "LayoutView",
            "grid_template_rows": null,
            "right": null,
            "justify_content": null,
            "_view_module": "@jupyter-widgets/base",
            "overflow": null,
            "_model_module_version": "1.2.0",
            "_view_count": null,
            "flex_flow": null,
            "width": null,
            "min_width": null,
            "border": null,
            "align_items": null,
            "bottom": null,
            "_model_module": "@jupyter-widgets/base",
            "top": null,
            "grid_column": null,
            "overflow_y": null,
            "overflow_x": null,
            "grid_auto_flow": null,
            "grid_area": null,
            "grid_template_columns": null,
            "flex": null,
            "_model_name": "LayoutModel",
            "justify_items": null,
            "grid_row": null,
            "max_height": null,
            "align_content": null,
            "visibility": null,
            "align_self": null,
            "height": null,
            "min_height": null,
            "padding": null,
            "grid_auto_rows": null,
            "grid_gap": null,
            "max_width": null,
            "order": null,
            "_view_module_version": "1.2.0",
            "grid_template_areas": null,
            "object_position": null,
            "object_fit": null,
            "grid_auto_columns": null,
            "margin": null,
            "display": null,
            "left": null
          }
        },
        "49202103bf7543bc98ee24e9f10a8595": {
          "model_module": "@jupyter-widgets/controls",
          "model_name": "FloatProgressModel",
          "state": {
            "_view_name": "ProgressView",
            "style": "IPY_MODEL_3b0efaac494c4a2bbfdf8e38982c8643",
            "_dom_classes": [],
            "description": "Downloading: 100%",
            "_model_name": "FloatProgressModel",
            "bar_style": "success",
            "max": 536063208,
            "_view_module": "@jupyter-widgets/controls",
            "_model_module_version": "1.5.0",
            "value": 536063208,
            "_view_count": null,
            "_view_module_version": "1.5.0",
            "orientation": "horizontal",
            "min": 0,
            "description_tooltip": null,
            "_model_module": "@jupyter-widgets/controls",
            "layout": "IPY_MODEL_cf649f05a1ed41c2bfe4a65e930bdab9"
          }
        },
        "47dd3ffff2494993834d57b6b63514ae": {
          "model_module": "@jupyter-widgets/controls",
          "model_name": "HTMLModel",
          "state": {
            "_view_name": "HTMLView",
            "style": "IPY_MODEL_3b993ca0361f4e53bdebea73bff83f0e",
            "_dom_classes": [],
            "description": "",
            "_model_name": "HTMLModel",
            "placeholder": "​",
            "_view_module": "@jupyter-widgets/controls",
            "_model_module_version": "1.5.0",
            "value": " 536M/536M [00:07&lt;00:00, 75.7MB/s]",
            "_view_count": null,
            "_view_module_version": "1.5.0",
            "description_tooltip": null,
            "_model_module": "@jupyter-widgets/controls",
            "layout": "IPY_MODEL_80141acaaf1145758010e455fb722cd0"
          }
        },
        "3b0efaac494c4a2bbfdf8e38982c8643": {
          "model_module": "@jupyter-widgets/controls",
          "model_name": "ProgressStyleModel",
          "state": {
            "_view_name": "StyleView",
            "_model_name": "ProgressStyleModel",
            "description_width": "initial",
            "_view_module": "@jupyter-widgets/base",
            "_model_module_version": "1.5.0",
            "_view_count": null,
            "_view_module_version": "1.2.0",
            "bar_color": null,
            "_model_module": "@jupyter-widgets/controls"
          }
        },
        "cf649f05a1ed41c2bfe4a65e930bdab9": {
          "model_module": "@jupyter-widgets/base",
          "model_name": "LayoutModel",
          "state": {
            "_view_name": "LayoutView",
            "grid_template_rows": null,
            "right": null,
            "justify_content": null,
            "_view_module": "@jupyter-widgets/base",
            "overflow": null,
            "_model_module_version": "1.2.0",
            "_view_count": null,
            "flex_flow": null,
            "width": null,
            "min_width": null,
            "border": null,
            "align_items": null,
            "bottom": null,
            "_model_module": "@jupyter-widgets/base",
            "top": null,
            "grid_column": null,
            "overflow_y": null,
            "overflow_x": null,
            "grid_auto_flow": null,
            "grid_area": null,
            "grid_template_columns": null,
            "flex": null,
            "_model_name": "LayoutModel",
            "justify_items": null,
            "grid_row": null,
            "max_height": null,
            "align_content": null,
            "visibility": null,
            "align_self": null,
            "height": null,
            "min_height": null,
            "padding": null,
            "grid_auto_rows": null,
            "grid_gap": null,
            "max_width": null,
            "order": null,
            "_view_module_version": "1.2.0",
            "grid_template_areas": null,
            "object_position": null,
            "object_fit": null,
            "grid_auto_columns": null,
            "margin": null,
            "display": null,
            "left": null
          }
        },
        "3b993ca0361f4e53bdebea73bff83f0e": {
          "model_module": "@jupyter-widgets/controls",
          "model_name": "DescriptionStyleModel",
          "state": {
            "_view_name": "StyleView",
            "_model_name": "DescriptionStyleModel",
            "description_width": "",
            "_view_module": "@jupyter-widgets/base",
            "_model_module_version": "1.5.0",
            "_view_count": null,
            "_view_module_version": "1.2.0",
            "_model_module": "@jupyter-widgets/controls"
          }
        },
        "80141acaaf1145758010e455fb722cd0": {
          "model_module": "@jupyter-widgets/base",
          "model_name": "LayoutModel",
          "state": {
            "_view_name": "LayoutView",
            "grid_template_rows": null,
            "right": null,
            "justify_content": null,
            "_view_module": "@jupyter-widgets/base",
            "overflow": null,
            "_model_module_version": "1.2.0",
            "_view_count": null,
            "flex_flow": null,
            "width": null,
            "min_width": null,
            "border": null,
            "align_items": null,
            "bottom": null,
            "_model_module": "@jupyter-widgets/base",
            "top": null,
            "grid_column": null,
            "overflow_y": null,
            "overflow_x": null,
            "grid_auto_flow": null,
            "grid_area": null,
            "grid_template_columns": null,
            "flex": null,
            "_model_name": "LayoutModel",
            "justify_items": null,
            "grid_row": null,
            "max_height": null,
            "align_content": null,
            "visibility": null,
            "align_self": null,
            "height": null,
            "min_height": null,
            "padding": null,
            "grid_auto_rows": null,
            "grid_gap": null,
            "max_width": null,
            "order": null,
            "_view_module_version": "1.2.0",
            "grid_template_areas": null,
            "object_position": null,
            "object_fit": null,
            "grid_auto_columns": null,
            "margin": null,
            "display": null,
            "left": null
          }
        }
      }
    }
  },
  "cells": [
    {
      "cell_type": "code",
      "metadata": {
        "colab": {
          "base_uri": "https://localhost:8080/"
        },
        "id": "vur-a16daJSG",
        "outputId": "22998e5c-28f8-4ea5-af55-304ff28c511e"
      },
      "source": [
        "from google.colab import drive\n",
        "drive.mount('/content/drive')"
      ],
      "execution_count": 1,
      "outputs": [
        {
          "output_type": "stream",
          "text": [
            "Mounted at /content/drive\n"
          ],
          "name": "stdout"
        }
      ]
    },
    {
      "cell_type": "code",
      "metadata": {
        "colab": {
          "base_uri": "https://localhost:8080/"
        },
        "id": "4bvH-Iiz1iSS",
        "outputId": "440a9342-dda4-4acb-a5e6-7514c07dc6da"
      },
      "source": [
        "!pip install transformers #Installing Huggingface transformers "
      ],
      "execution_count": 2,
      "outputs": [
        {
          "output_type": "stream",
          "text": [
            "Collecting transformers\n",
            "\u001b[?25l  Downloading https://files.pythonhosted.org/packages/ed/db/98c3ea1a78190dac41c0127a063abf92bd01b4b0b6970a6db1c2f5b66fa0/transformers-4.0.1-py3-none-any.whl (1.4MB)\n",
            "\u001b[K     |████████████████████████████████| 1.4MB 6.0MB/s \n",
            "\u001b[?25hRequirement already satisfied: filelock in /usr/local/lib/python3.6/dist-packages (from transformers) (3.0.12)\n",
            "Collecting sacremoses\n",
            "\u001b[?25l  Downloading https://files.pythonhosted.org/packages/7d/34/09d19aff26edcc8eb2a01bed8e98f13a1537005d31e95233fd48216eed10/sacremoses-0.0.43.tar.gz (883kB)\n",
            "\u001b[K     |████████████████████████████████| 890kB 37.4MB/s \n",
            "\u001b[?25hRequirement already satisfied: tqdm>=4.27 in /usr/local/lib/python3.6/dist-packages (from transformers) (4.41.1)\n",
            "Requirement already satisfied: requests in /usr/local/lib/python3.6/dist-packages (from transformers) (2.23.0)\n",
            "Requirement already satisfied: regex!=2019.12.17 in /usr/local/lib/python3.6/dist-packages (from transformers) (2019.12.20)\n",
            "Requirement already satisfied: dataclasses; python_version < \"3.7\" in /usr/local/lib/python3.6/dist-packages (from transformers) (0.8)\n",
            "Requirement already satisfied: numpy in /usr/local/lib/python3.6/dist-packages (from transformers) (1.18.5)\n",
            "Requirement already satisfied: packaging in /usr/local/lib/python3.6/dist-packages (from transformers) (20.7)\n",
            "Collecting tokenizers==0.9.4\n",
            "\u001b[?25l  Downloading https://files.pythonhosted.org/packages/0f/1c/e789a8b12e28be5bc1ce2156cf87cb522b379be9cadc7ad8091a4cc107c4/tokenizers-0.9.4-cp36-cp36m-manylinux2010_x86_64.whl (2.9MB)\n",
            "\u001b[K     |████████████████████████████████| 2.9MB 47.3MB/s \n",
            "\u001b[?25hRequirement already satisfied: six in /usr/local/lib/python3.6/dist-packages (from sacremoses->transformers) (1.15.0)\n",
            "Requirement already satisfied: click in /usr/local/lib/python3.6/dist-packages (from sacremoses->transformers) (7.1.2)\n",
            "Requirement already satisfied: joblib in /usr/local/lib/python3.6/dist-packages (from sacremoses->transformers) (0.17.0)\n",
            "Requirement already satisfied: idna<3,>=2.5 in /usr/local/lib/python3.6/dist-packages (from requests->transformers) (2.10)\n",
            "Requirement already satisfied: certifi>=2017.4.17 in /usr/local/lib/python3.6/dist-packages (from requests->transformers) (2020.12.5)\n",
            "Requirement already satisfied: urllib3!=1.25.0,!=1.25.1,<1.26,>=1.21.1 in /usr/local/lib/python3.6/dist-packages (from requests->transformers) (1.24.3)\n",
            "Requirement already satisfied: chardet<4,>=3.0.2 in /usr/local/lib/python3.6/dist-packages (from requests->transformers) (3.0.4)\n",
            "Requirement already satisfied: pyparsing>=2.0.2 in /usr/local/lib/python3.6/dist-packages (from packaging->transformers) (2.4.7)\n",
            "Building wheels for collected packages: sacremoses\n",
            "  Building wheel for sacremoses (setup.py) ... \u001b[?25l\u001b[?25hdone\n",
            "  Created wheel for sacremoses: filename=sacremoses-0.0.43-cp36-none-any.whl size=893261 sha256=ce7b6b8bd49200c6e46e221c58ca5fd09ec8604ab4d88795a2b2f3d812a6605c\n",
            "  Stored in directory: /root/.cache/pip/wheels/29/3c/fd/7ce5c3f0666dab31a50123635e6fb5e19ceb42ce38d4e58f45\n",
            "Successfully built sacremoses\n",
            "Installing collected packages: sacremoses, tokenizers, transformers\n",
            "Successfully installed sacremoses-0.0.43 tokenizers-0.9.4 transformers-4.0.1\n"
          ],
          "name": "stdout"
        }
      ]
    },
    {
      "cell_type": "code",
      "metadata": {
        "id": "jL2TovZraR5G"
      },
      "source": [
        "import os\n",
        "import requests\n",
        "import tempfile\n",
        "import zipfile\n",
        "import shutil\n",
        "import json\n",
        "import time\n",
        "import sys\n",
        "import cv2\n",
        "import numpy as np\n",
        "import pandas as pd\n",
        "from glob import glob\n",
        "import subprocess\n",
        "import matplotlib.pyplot as plt\n",
        "import re\n",
        "import string\n",
        "%matplotlib inline\n",
        "\n",
        "\n",
        "import tensorflow as tf\n",
        "from tensorflow import keras\n",
        "from tensorflow.python.keras import backend as K\n",
        "from tensorflow.keras.models import Model, Sequential\n",
        "from tensorflow.keras import layers\n",
        "from tensorflow.keras.layers import LSTM, Embedding, Dense, GRU\n",
        "from tensorflow.keras import activations\n",
        "from tensorflow.keras import optimizers\n",
        "from tensorflow.keras import losses\n",
        "from tensorflow.keras import metrics\n",
        "from tensorflow.keras import initializers\n",
        "from tensorflow.keras import regularizers\n",
        "from tensorflow.keras.utils import to_categorical\n",
        "from keras.utils.layer_utils import count_params\n",
        "import tensorflow_hub as hub\n",
        "from tensorflow.keras.layers.experimental.preprocessing import TextVectorization\n",
        "from transformers import BertTokenizer, TFBertForSequenceClassification, TFBertModel\n",
        "\n",
        "#import tensorflow_model_optimization as tfmot\n",
        "#from tensorflow_model_optimization.sparsity.keras import prune_low_magnitude\n",
        "from sklearn.model_selection import train_test_split\n",
        "from sklearn.metrics import cohen_kappa_score"
      ],
      "execution_count": 3,
      "outputs": []
    },
    {
      "cell_type": "markdown",
      "metadata": {
        "id": "fBZMtHQnFtEu"
      },
      "source": [
        "# Read data"
      ]
    },
    {
      "cell_type": "code",
      "metadata": {
        "id": "C-WKzoiPaqE9"
      },
      "source": [
        "data = pd.read_excel('/content/drive/MyDrive/AC295 Final Proj/data/training_set_rel3.xls')\n",
        "data = data[~np.isnan(data['domain1_score'].values)]"
      ],
      "execution_count": 7,
      "outputs": []
    },
    {
      "cell_type": "markdown",
      "metadata": {
        "id": "JZGVC8jEbINk"
      },
      "source": [
        "**As mentioned in milestone3, classification is not appropriate when we have large number of score levels. Instead of doing classification, we try regression. In this way, we can combine essays from all prompts. We rescale the scores to [0, 1] to train the model, then rescale back to examine performance of models (quadratic weighted kappa).**"
      ]
    },
    {
      "cell_type": "markdown",
      "metadata": {
        "id": "7nLzdvgXd8hL"
      },
      "source": [
        "# scaling"
      ]
    },
    {
      "cell_type": "code",
      "metadata": {
        "id": "iUQ-GoZXf548"
      },
      "source": [
        "low_scale={1:2,2:1,3:0,4:0,5:0,6:0,7:0,8:0}\n",
        "high_scale={1:12,2:6,3:3,4:3,5:4,6:4,7:30,8:60}"
      ],
      "execution_count": 8,
      "outputs": []
    },
    {
      "cell_type": "code",
      "metadata": {
        "id": "h7Qf6UwCgMbQ"
      },
      "source": [
        "data['low_scale']=data.essay_set.map(low_scale)\n",
        "data['high_scale']=data.essay_set.map(high_scale)\n",
        "data['scaled_score']=(data.domain1_score-data.low_scale)/(data.high_scale-data.low_scale)"
      ],
      "execution_count": 9,
      "outputs": []
    },
    {
      "cell_type": "code",
      "metadata": {
        "colab": {
          "base_uri": "https://localhost:8080/",
          "height": 976
        },
        "id": "iRs9-6_EVIN4",
        "outputId": "b154a981-ef9f-41f0-c6fd-c5921e5711a0"
      },
      "source": [
        "data"
      ],
      "execution_count": 10,
      "outputs": [
        {
          "output_type": "execute_result",
          "data": {
            "text/html": [
              "<div>\n",
              "<style scoped>\n",
              "    .dataframe tbody tr th:only-of-type {\n",
              "        vertical-align: middle;\n",
              "    }\n",
              "\n",
              "    .dataframe tbody tr th {\n",
              "        vertical-align: top;\n",
              "    }\n",
              "\n",
              "    .dataframe thead th {\n",
              "        text-align: right;\n",
              "    }\n",
              "</style>\n",
              "<table border=\"1\" class=\"dataframe\">\n",
              "  <thead>\n",
              "    <tr style=\"text-align: right;\">\n",
              "      <th></th>\n",
              "      <th>essay_id</th>\n",
              "      <th>essay_set</th>\n",
              "      <th>essay</th>\n",
              "      <th>rater1_domain1</th>\n",
              "      <th>rater2_domain1</th>\n",
              "      <th>rater3_domain1</th>\n",
              "      <th>domain1_score</th>\n",
              "      <th>rater1_domain2</th>\n",
              "      <th>rater2_domain2</th>\n",
              "      <th>domain2_score</th>\n",
              "      <th>rater1_trait1</th>\n",
              "      <th>rater1_trait2</th>\n",
              "      <th>rater1_trait3</th>\n",
              "      <th>rater1_trait4</th>\n",
              "      <th>rater1_trait5</th>\n",
              "      <th>rater1_trait6</th>\n",
              "      <th>rater2_trait1</th>\n",
              "      <th>rater2_trait2</th>\n",
              "      <th>rater2_trait3</th>\n",
              "      <th>rater2_trait4</th>\n",
              "      <th>rater2_trait5</th>\n",
              "      <th>rater2_trait6</th>\n",
              "      <th>rater3_trait1</th>\n",
              "      <th>rater3_trait2</th>\n",
              "      <th>rater3_trait3</th>\n",
              "      <th>rater3_trait4</th>\n",
              "      <th>rater3_trait5</th>\n",
              "      <th>rater3_trait6</th>\n",
              "      <th>low_scale</th>\n",
              "      <th>high_scale</th>\n",
              "      <th>scaled_score</th>\n",
              "    </tr>\n",
              "  </thead>\n",
              "  <tbody>\n",
              "    <tr>\n",
              "      <th>0</th>\n",
              "      <td>1</td>\n",
              "      <td>1</td>\n",
              "      <td>Dear local newspaper, I think effects computer...</td>\n",
              "      <td>4.0</td>\n",
              "      <td>4.0</td>\n",
              "      <td>NaN</td>\n",
              "      <td>8.0</td>\n",
              "      <td>NaN</td>\n",
              "      <td>NaN</td>\n",
              "      <td>NaN</td>\n",
              "      <td>NaN</td>\n",
              "      <td>NaN</td>\n",
              "      <td>NaN</td>\n",
              "      <td>NaN</td>\n",
              "      <td>NaN</td>\n",
              "      <td>NaN</td>\n",
              "      <td>NaN</td>\n",
              "      <td>NaN</td>\n",
              "      <td>NaN</td>\n",
              "      <td>NaN</td>\n",
              "      <td>NaN</td>\n",
              "      <td>NaN</td>\n",
              "      <td>NaN</td>\n",
              "      <td>NaN</td>\n",
              "      <td>NaN</td>\n",
              "      <td>NaN</td>\n",
              "      <td>NaN</td>\n",
              "      <td>NaN</td>\n",
              "      <td>2</td>\n",
              "      <td>12</td>\n",
              "      <td>0.600000</td>\n",
              "    </tr>\n",
              "    <tr>\n",
              "      <th>1</th>\n",
              "      <td>2</td>\n",
              "      <td>1</td>\n",
              "      <td>Dear @CAPS1 @CAPS2, I believe that using compu...</td>\n",
              "      <td>5.0</td>\n",
              "      <td>4.0</td>\n",
              "      <td>NaN</td>\n",
              "      <td>9.0</td>\n",
              "      <td>NaN</td>\n",
              "      <td>NaN</td>\n",
              "      <td>NaN</td>\n",
              "      <td>NaN</td>\n",
              "      <td>NaN</td>\n",
              "      <td>NaN</td>\n",
              "      <td>NaN</td>\n",
              "      <td>NaN</td>\n",
              "      <td>NaN</td>\n",
              "      <td>NaN</td>\n",
              "      <td>NaN</td>\n",
              "      <td>NaN</td>\n",
              "      <td>NaN</td>\n",
              "      <td>NaN</td>\n",
              "      <td>NaN</td>\n",
              "      <td>NaN</td>\n",
              "      <td>NaN</td>\n",
              "      <td>NaN</td>\n",
              "      <td>NaN</td>\n",
              "      <td>NaN</td>\n",
              "      <td>NaN</td>\n",
              "      <td>2</td>\n",
              "      <td>12</td>\n",
              "      <td>0.700000</td>\n",
              "    </tr>\n",
              "    <tr>\n",
              "      <th>2</th>\n",
              "      <td>3</td>\n",
              "      <td>1</td>\n",
              "      <td>Dear, @CAPS1 @CAPS2 @CAPS3 More and more peopl...</td>\n",
              "      <td>4.0</td>\n",
              "      <td>3.0</td>\n",
              "      <td>NaN</td>\n",
              "      <td>7.0</td>\n",
              "      <td>NaN</td>\n",
              "      <td>NaN</td>\n",
              "      <td>NaN</td>\n",
              "      <td>NaN</td>\n",
              "      <td>NaN</td>\n",
              "      <td>NaN</td>\n",
              "      <td>NaN</td>\n",
              "      <td>NaN</td>\n",
              "      <td>NaN</td>\n",
              "      <td>NaN</td>\n",
              "      <td>NaN</td>\n",
              "      <td>NaN</td>\n",
              "      <td>NaN</td>\n",
              "      <td>NaN</td>\n",
              "      <td>NaN</td>\n",
              "      <td>NaN</td>\n",
              "      <td>NaN</td>\n",
              "      <td>NaN</td>\n",
              "      <td>NaN</td>\n",
              "      <td>NaN</td>\n",
              "      <td>NaN</td>\n",
              "      <td>2</td>\n",
              "      <td>12</td>\n",
              "      <td>0.500000</td>\n",
              "    </tr>\n",
              "    <tr>\n",
              "      <th>3</th>\n",
              "      <td>4</td>\n",
              "      <td>1</td>\n",
              "      <td>Dear Local Newspaper, @CAPS1 I have found that...</td>\n",
              "      <td>5.0</td>\n",
              "      <td>5.0</td>\n",
              "      <td>NaN</td>\n",
              "      <td>10.0</td>\n",
              "      <td>NaN</td>\n",
              "      <td>NaN</td>\n",
              "      <td>NaN</td>\n",
              "      <td>NaN</td>\n",
              "      <td>NaN</td>\n",
              "      <td>NaN</td>\n",
              "      <td>NaN</td>\n",
              "      <td>NaN</td>\n",
              "      <td>NaN</td>\n",
              "      <td>NaN</td>\n",
              "      <td>NaN</td>\n",
              "      <td>NaN</td>\n",
              "      <td>NaN</td>\n",
              "      <td>NaN</td>\n",
              "      <td>NaN</td>\n",
              "      <td>NaN</td>\n",
              "      <td>NaN</td>\n",
              "      <td>NaN</td>\n",
              "      <td>NaN</td>\n",
              "      <td>NaN</td>\n",
              "      <td>NaN</td>\n",
              "      <td>2</td>\n",
              "      <td>12</td>\n",
              "      <td>0.800000</td>\n",
              "    </tr>\n",
              "    <tr>\n",
              "      <th>4</th>\n",
              "      <td>5</td>\n",
              "      <td>1</td>\n",
              "      <td>Dear @LOCATION1, I know having computers has a...</td>\n",
              "      <td>4.0</td>\n",
              "      <td>4.0</td>\n",
              "      <td>NaN</td>\n",
              "      <td>8.0</td>\n",
              "      <td>NaN</td>\n",
              "      <td>NaN</td>\n",
              "      <td>NaN</td>\n",
              "      <td>NaN</td>\n",
              "      <td>NaN</td>\n",
              "      <td>NaN</td>\n",
              "      <td>NaN</td>\n",
              "      <td>NaN</td>\n",
              "      <td>NaN</td>\n",
              "      <td>NaN</td>\n",
              "      <td>NaN</td>\n",
              "      <td>NaN</td>\n",
              "      <td>NaN</td>\n",
              "      <td>NaN</td>\n",
              "      <td>NaN</td>\n",
              "      <td>NaN</td>\n",
              "      <td>NaN</td>\n",
              "      <td>NaN</td>\n",
              "      <td>NaN</td>\n",
              "      <td>NaN</td>\n",
              "      <td>NaN</td>\n",
              "      <td>2</td>\n",
              "      <td>12</td>\n",
              "      <td>0.600000</td>\n",
              "    </tr>\n",
              "    <tr>\n",
              "      <th>...</th>\n",
              "      <td>...</td>\n",
              "      <td>...</td>\n",
              "      <td>...</td>\n",
              "      <td>...</td>\n",
              "      <td>...</td>\n",
              "      <td>...</td>\n",
              "      <td>...</td>\n",
              "      <td>...</td>\n",
              "      <td>...</td>\n",
              "      <td>...</td>\n",
              "      <td>...</td>\n",
              "      <td>...</td>\n",
              "      <td>...</td>\n",
              "      <td>...</td>\n",
              "      <td>...</td>\n",
              "      <td>...</td>\n",
              "      <td>...</td>\n",
              "      <td>...</td>\n",
              "      <td>...</td>\n",
              "      <td>...</td>\n",
              "      <td>...</td>\n",
              "      <td>...</td>\n",
              "      <td>...</td>\n",
              "      <td>...</td>\n",
              "      <td>...</td>\n",
              "      <td>...</td>\n",
              "      <td>...</td>\n",
              "      <td>...</td>\n",
              "      <td>...</td>\n",
              "      <td>...</td>\n",
              "      <td>...</td>\n",
              "    </tr>\n",
              "    <tr>\n",
              "      <th>12973</th>\n",
              "      <td>21626</td>\n",
              "      <td>8</td>\n",
              "      <td>In most stories mothers and daughters are eit...</td>\n",
              "      <td>17.0</td>\n",
              "      <td>18.0</td>\n",
              "      <td>NaN</td>\n",
              "      <td>35.0</td>\n",
              "      <td>NaN</td>\n",
              "      <td>NaN</td>\n",
              "      <td>NaN</td>\n",
              "      <td>4.0</td>\n",
              "      <td>3.0</td>\n",
              "      <td>4.0</td>\n",
              "      <td>4.0</td>\n",
              "      <td>4.0</td>\n",
              "      <td>3.0</td>\n",
              "      <td>4.0</td>\n",
              "      <td>4.0</td>\n",
              "      <td>4.0</td>\n",
              "      <td>4.0</td>\n",
              "      <td>4.0</td>\n",
              "      <td>3.0</td>\n",
              "      <td>NaN</td>\n",
              "      <td>NaN</td>\n",
              "      <td>NaN</td>\n",
              "      <td>NaN</td>\n",
              "      <td>NaN</td>\n",
              "      <td>NaN</td>\n",
              "      <td>0</td>\n",
              "      <td>60</td>\n",
              "      <td>0.583333</td>\n",
              "    </tr>\n",
              "    <tr>\n",
              "      <th>12974</th>\n",
              "      <td>21628</td>\n",
              "      <td>8</td>\n",
              "      <td>I never understood the meaning laughter is th...</td>\n",
              "      <td>15.0</td>\n",
              "      <td>17.0</td>\n",
              "      <td>NaN</td>\n",
              "      <td>32.0</td>\n",
              "      <td>NaN</td>\n",
              "      <td>NaN</td>\n",
              "      <td>NaN</td>\n",
              "      <td>3.0</td>\n",
              "      <td>3.0</td>\n",
              "      <td>4.0</td>\n",
              "      <td>3.0</td>\n",
              "      <td>3.0</td>\n",
              "      <td>3.0</td>\n",
              "      <td>4.0</td>\n",
              "      <td>3.0</td>\n",
              "      <td>4.0</td>\n",
              "      <td>4.0</td>\n",
              "      <td>4.0</td>\n",
              "      <td>3.0</td>\n",
              "      <td>NaN</td>\n",
              "      <td>NaN</td>\n",
              "      <td>NaN</td>\n",
              "      <td>NaN</td>\n",
              "      <td>NaN</td>\n",
              "      <td>NaN</td>\n",
              "      <td>0</td>\n",
              "      <td>60</td>\n",
              "      <td>0.533333</td>\n",
              "    </tr>\n",
              "    <tr>\n",
              "      <th>12975</th>\n",
              "      <td>21629</td>\n",
              "      <td>8</td>\n",
              "      <td>When you laugh, is @CAPS5 out of habit, or is ...</td>\n",
              "      <td>20.0</td>\n",
              "      <td>26.0</td>\n",
              "      <td>40.0</td>\n",
              "      <td>40.0</td>\n",
              "      <td>NaN</td>\n",
              "      <td>NaN</td>\n",
              "      <td>NaN</td>\n",
              "      <td>4.0</td>\n",
              "      <td>4.0</td>\n",
              "      <td>4.0</td>\n",
              "      <td>4.0</td>\n",
              "      <td>4.0</td>\n",
              "      <td>4.0</td>\n",
              "      <td>6.0</td>\n",
              "      <td>5.0</td>\n",
              "      <td>5.0</td>\n",
              "      <td>5.0</td>\n",
              "      <td>5.0</td>\n",
              "      <td>5.0</td>\n",
              "      <td>4.0</td>\n",
              "      <td>4.0</td>\n",
              "      <td>4.0</td>\n",
              "      <td>4.0</td>\n",
              "      <td>4.0</td>\n",
              "      <td>4.0</td>\n",
              "      <td>0</td>\n",
              "      <td>60</td>\n",
              "      <td>0.666667</td>\n",
              "    </tr>\n",
              "    <tr>\n",
              "      <th>12976</th>\n",
              "      <td>21630</td>\n",
              "      <td>8</td>\n",
              "      <td>Trippin' on fen...</td>\n",
              "      <td>20.0</td>\n",
              "      <td>20.0</td>\n",
              "      <td>NaN</td>\n",
              "      <td>40.0</td>\n",
              "      <td>NaN</td>\n",
              "      <td>NaN</td>\n",
              "      <td>NaN</td>\n",
              "      <td>4.0</td>\n",
              "      <td>4.0</td>\n",
              "      <td>4.0</td>\n",
              "      <td>4.0</td>\n",
              "      <td>4.0</td>\n",
              "      <td>4.0</td>\n",
              "      <td>4.0</td>\n",
              "      <td>4.0</td>\n",
              "      <td>4.0</td>\n",
              "      <td>4.0</td>\n",
              "      <td>4.0</td>\n",
              "      <td>4.0</td>\n",
              "      <td>NaN</td>\n",
              "      <td>NaN</td>\n",
              "      <td>NaN</td>\n",
              "      <td>NaN</td>\n",
              "      <td>NaN</td>\n",
              "      <td>NaN</td>\n",
              "      <td>0</td>\n",
              "      <td>60</td>\n",
              "      <td>0.666667</td>\n",
              "    </tr>\n",
              "    <tr>\n",
              "      <th>12977</th>\n",
              "      <td>21633</td>\n",
              "      <td>8</td>\n",
              "      <td>Many people believe that laughter can improve...</td>\n",
              "      <td>20.0</td>\n",
              "      <td>20.0</td>\n",
              "      <td>NaN</td>\n",
              "      <td>40.0</td>\n",
              "      <td>NaN</td>\n",
              "      <td>NaN</td>\n",
              "      <td>NaN</td>\n",
              "      <td>4.0</td>\n",
              "      <td>4.0</td>\n",
              "      <td>4.0</td>\n",
              "      <td>4.0</td>\n",
              "      <td>4.0</td>\n",
              "      <td>4.0</td>\n",
              "      <td>4.0</td>\n",
              "      <td>4.0</td>\n",
              "      <td>4.0</td>\n",
              "      <td>4.0</td>\n",
              "      <td>4.0</td>\n",
              "      <td>4.0</td>\n",
              "      <td>NaN</td>\n",
              "      <td>NaN</td>\n",
              "      <td>NaN</td>\n",
              "      <td>NaN</td>\n",
              "      <td>NaN</td>\n",
              "      <td>NaN</td>\n",
              "      <td>0</td>\n",
              "      <td>60</td>\n",
              "      <td>0.666667</td>\n",
              "    </tr>\n",
              "  </tbody>\n",
              "</table>\n",
              "<p>12977 rows × 31 columns</p>\n",
              "</div>"
            ],
            "text/plain": [
              "       essay_id  essay_set  ... high_scale  scaled_score\n",
              "0             1          1  ...         12      0.600000\n",
              "1             2          1  ...         12      0.700000\n",
              "2             3          1  ...         12      0.500000\n",
              "3             4          1  ...         12      0.800000\n",
              "4             5          1  ...         12      0.600000\n",
              "...         ...        ...  ...        ...           ...\n",
              "12973     21626          8  ...         60      0.583333\n",
              "12974     21628          8  ...         60      0.533333\n",
              "12975     21629          8  ...         60      0.666667\n",
              "12976     21630          8  ...         60      0.666667\n",
              "12977     21633          8  ...         60      0.666667\n",
              "\n",
              "[12977 rows x 31 columns]"
            ]
          },
          "metadata": {
            "tags": []
          },
          "execution_count": 10
        }
      ]
    },
    {
      "cell_type": "code",
      "metadata": {
        "id": "Jt8nD4UALUNb"
      },
      "source": [
        "data_X=data.essay.values\n",
        "data_y=data.scaled_score.values.reshape(-1,1)\n",
        "data_y_origin=data.domain1_score.values.reshape(-1,1)\n",
        "essay_set=data.essay_set.values.reshape(-1,1)\n",
        "\n",
        "train_X, test_X, train_y, test_y, train_y_origin, test_y_origin, train_essay_set, test_essay_set = train_test_split(data_X, data_y, data_y_origin, essay_set, test_size = 0.2, random_state = 295, stratify=data.essay_set)\n",
        "train_data=(train_X,train_y)\n",
        "test_data=(test_X,test_y)"
      ],
      "execution_count": 48,
      "outputs": []
    },
    {
      "cell_type": "code",
      "metadata": {
        "colab": {
          "base_uri": "https://localhost:8080/"
        },
        "id": "kobSEuD-Xqlb",
        "outputId": "fe1fe4aa-b26c-4fb6-af6b-e85fe552424b"
      },
      "source": [
        "def wordcount(seq):\n",
        "  words = seq.split(' ')\n",
        "  return len(words)\n",
        "data.essay.map(wordcount).max()"
      ],
      "execution_count": 28,
      "outputs": [
        {
          "output_type": "execute_result",
          "data": {
            "text/plain": [
              "1119"
            ]
          },
          "metadata": {
            "tags": []
          },
          "execution_count": 28
        }
      ]
    },
    {
      "cell_type": "code",
      "metadata": {
        "colab": {
          "base_uri": "https://localhost:8080/"
        },
        "id": "f9Xe8PEUYcPT",
        "outputId": "2005252f-7437-49ea-8394-bf54b4f20e01"
      },
      "source": [
        "train_data"
      ],
      "execution_count": 29,
      "outputs": [
        {
          "output_type": "execute_result",
          "data": {
            "text/plain": [
              "(array(['The author concludes this story by saying this statement because the author want you to feel like the character in the book is determined. The ator is trying to put across a statement saying  get through then try again. The character is not giving up, and she will get through the test eve though its hard.',\n",
              "        'I think that computers are amazing. Computers are an amazing way to meat new pol online.',\n",
              "        'Well since the cyclist is in a desert and out of mother he is probably not going to be happy. The \"ghost towns\" aren\\'t really a boost of confidence either. The rugged hills made him angry too. The heat affected him the most.',\n",
              "        ...,\n",
              "        \"There are so many resaons why taking a book, movie, or anything else off the shelves is wrong. If it is violent or sexual i can see why it shouldn't be on the shelves but if the reader doesn't like the book or movie, then don't read it or watch it find something else.     If everyone took a book of the shelf that they didn't like then what would we have to read because everyone has a book or two that they don't like or think is offensive. Every book can't be perfect for that person. Everyone has there own veiws on books wether they like it or dislike it. If that book isn't what your looking for then put it back and stop reading it.     There have been many of people say 'If you don't like it then don't listen to it'. They are excaclly right because if there is something that you can't stand to listen to or read and you do it anyway thats going to make you mad. Then your going to complain that it is on the shelfs and say it is bad and it shouldn't be on the shelves anymore. That is what starts all these things of people saying it is offensive. People know what they like and don't like, so if there is something that you don't like then don't listen to it or read it.      It all comes down to common sence. We all have it we just need to start using it. That means if you like country music then don't listen to hard rock or rap because that isn't what you like so don't listen to it. Because if you listen to it then your like why is that stuff on the shevles for people to listen to it's bad for you it is puting bad thought into those teenager's heads. If eveyone sticks to doing what they like and don't worry about the other stuff then eveyone will be fine.\",\n",
              "        'The library has many books, they would have anything that you could possibly imagine.The library is a great resource for any information. They have so much information that if you were to go to the library, you would be there all day. Libraries carry many different kinds of books. They would probably even carry a book perhaps on hats. There are libraries all around us and are very convienent.     If a library carried misleading books, music, movies, or even magazines, I would have to say that they could get in a lot of trouble, especially if a magazine or a movie or any other source of information, would show anything that would affend someone in any way, then someone should tell the librarian or the manager and say this should not be on the shelf. When people go to the library they are exspecting clean reviews about the library.             If a library were ment to carry offensive products it would not be called the library. The library is ment to be a quiet place where someone could go there and browse around maybe, or just go in and get what they need and come right on out . Most libraries are pretty peticular of what they should or should not put out on there shelves. If someone put something way out of the ordinary, and that person knows that they should not put the book on the shelf they should automatically be fired.       In conclusion libraries are very nifty and important to the town or city. The only thing would be is to keep an eye out for any offensive books, music, and etc. You never know when they will be randomly out on the shelf, and if you happen to find one you should imediently tell the librarian or the libraries manager. The library @MONTH1 get in trouble and then again they @MONTH1 not',\n",
              "        \"Dear local news paper, This paper is going to be about the reason computers are bad. Frist, computers are bad cause people wouldn't have time to enjoy the nature when its nice and warm out. Second reason is cause they won't spend time with there familys at all or there friends and the only time they would get off the computer is to pay the bill and buy a game for the computer. The third reason is that how are going to get a job cause they wouldn't want to get up to look for a job cause there having to much fun intill they cut off the light then he would do dum things to pay is bell se he can start to play again and thats going to make hin do it over and over again. That's why it's bad to have a computer. But now where is people going go in life cause some people love to play games on the computer and some don't that's why some computers are bad for some people. And this is just my opinion there's alot more people might think so to. And thank you for having time to read this.\"],\n",
              "       dtype=object), array([[0.33333333],\n",
              "        [0.        ],\n",
              "        [0.33333333],\n",
              "        ...,\n",
              "        [0.6       ],\n",
              "        [0.2       ],\n",
              "        [0.4       ]]))"
            ]
          },
          "metadata": {
            "tags": []
          },
          "execution_count": 29
        }
      ]
    },
    {
      "cell_type": "markdown",
      "metadata": {
        "id": "-DLLN4mXic5T"
      },
      "source": [
        "# Tokenization"
      ]
    },
    {
      "cell_type": "code",
      "metadata": {
        "id": "WsZSkQtaicd9"
      },
      "source": [
        "'''\n",
        "def standardize_text(input_text):\n",
        "  # Convert to lower case\n",
        "  lowercase = tf.strings.lower(input_text)\n",
        "  # Remove HTML tags\n",
        "  stripped_html = tf.strings.regex_replace(lowercase, \"<br />\", \" \")\n",
        "  return tf.strings.regex_replace(\n",
        "      stripped_html, \"[%s]\" % re.escape(string.punctuation), \"\"\n",
        "  )\n",
        "'''\n",
        "max_features = 15000\n",
        "sequence_length = 1200\n",
        "\n",
        "text_data = tf.data.Dataset.from_tensor_slices(data.essay.values)\n",
        "\n",
        "text_vectorizer = TextVectorization(\n",
        "    standardize='lower_and_strip_punctuation',\n",
        "    max_tokens=max_features,\n",
        "    output_mode=\"int\",\n",
        "    output_sequence_length=sequence_length,\n",
        ")\n",
        "\n",
        "text_vectorizer.adapt(text_data.batch(64))\n",
        "\n",
        "def vectorize_text(text, label=None):\n",
        "  text = tf.expand_dims(text, -1)\n",
        "  text = text_vectorizer(text)\n",
        "  if label is None:\n",
        "    return text\n",
        "  else:\n",
        "    return text, label"
      ],
      "execution_count": 30,
      "outputs": []
    },
    {
      "cell_type": "code",
      "metadata": {
        "id": "fcqT-5oeqW5l"
      },
      "source": [
        "batch_size = 128\n",
        "AUTOTUNE = tf.data.experimental.AUTOTUNE\n",
        "\n",
        "train_data = tf.data.Dataset.from_tensor_slices(train_data)\n",
        "train_data = train_data.batch(batch_size)\n",
        "#train_data = train_data.map(vectorize_text, num_parallel_calls=AUTOTUNE)\n",
        "train_data = train_data.cache().prefetch(buffer_size=100)\n",
        "\n",
        "\n",
        "val_data = tf.data.Dataset.from_tensor_slices(test_data)\n",
        "val_data = val_data.batch(batch_size)\n",
        "#val_data = val_data.map(vectorize_text, num_parallel_calls=AUTOTUNE)\n",
        "val_data = val_data.cache().prefetch(buffer_size=100)\n"
      ],
      "execution_count": 49,
      "outputs": []
    },
    {
      "cell_type": "code",
      "metadata": {
        "colab": {
          "base_uri": "https://localhost:8080/"
        },
        "id": "Qv9TxCmydEaa",
        "outputId": "2722d6d2-ed6f-4883-ebd4-7ad61f90d3f3"
      },
      "source": [
        "train_data"
      ],
      "execution_count": 32,
      "outputs": [
        {
          "output_type": "execute_result",
          "data": {
            "text/plain": [
              "<PrefetchDataset shapes: ((None,), (None, 1)), types: (tf.string, tf.float64)>"
            ]
          },
          "metadata": {
            "tags": []
          },
          "execution_count": 32
        }
      ]
    },
    {
      "cell_type": "markdown",
      "metadata": {
        "id": "W4ozDPM7iV1Q"
      },
      "source": [
        "# Utils functions"
      ]
    },
    {
      "cell_type": "code",
      "metadata": {
        "id": "BzZ4uLediXvF"
      },
      "source": [
        "def evaluate_model(model,test_data, training_results):\n",
        "    \n",
        "  # Get the model train history\n",
        "  model_train_history = training_results.history\n",
        "  # Get the number of epochs the training was run for\n",
        "  num_epochs = len(model_train_history[\"loss\"])\n",
        "\n",
        "  # Plot training results\n",
        "  fig = plt.figure(figsize=(15,5))\n",
        "  axs = fig.add_subplot(1,2,1)\n",
        "  axs.set_title('Loss')\n",
        "  # Plot all metrics\n",
        "  for metric in [\"loss\",\"val_loss\"]:\n",
        "      axs.plot(np.arange(0, num_epochs), model_train_history[metric], label=metric)\n",
        "  axs.legend()\n",
        "  \n",
        "  axs = fig.add_subplot(1,2,2)\n",
        "  axs.set_title('MSE')\n",
        "  # Plot all metrics\n",
        "  for metric in [\"mse\",\"val_mse\"]:\n",
        "      axs.plot(np.arange(0, num_epochs), model_train_history[metric], label=metric)\n",
        "  axs.legend()\n",
        "\n",
        "  plt.show()\n",
        "  \n",
        "  # Evaluate on test data\n",
        "  evaluation_results = model.evaluate(test_data)\n",
        "  print(\"Evaluation Results:\", evaluation_results)"
      ],
      "execution_count": 33,
      "outputs": []
    },
    {
      "cell_type": "code",
      "metadata": {
        "id": "u4hbkoQ5KUiT"
      },
      "source": [
        "def QWK(model):\n",
        "  #calculate quadratic weighted kappa\n",
        "  df=pd.DataFrame(model.predict(val_data),columns=['pred_scaled'])\n",
        "  df['essay_set']=test_essay_set\n",
        "  df['low_scale']=df.essay_set.map(low_scale)\n",
        "  df['high_scale']=df.essay_set.map(high_scale)\n",
        "  df['pred_origin']=df['pred_scaled']*(df.high_scale-df.low_scale)+df.low_scale\n",
        "  df['pred_origin_rounded']=df['pred_origin'].round(0).astype(int)\n",
        "  df['true_origin']=test_y_origin\n",
        "\n",
        "  QWK=df.groupby('essay_set').apply(lambda x: cohen_kappa_score(x['pred_origin_rounded'], x['true_origin'], weights='quadratic'))\n",
        "  return QWK\n"
      ],
      "execution_count": 34,
      "outputs": []
    },
    {
      "cell_type": "code",
      "metadata": {
        "id": "Rkdbyjs5KSPP"
      },
      "source": [
        "def QWK_bert(model):\n",
        "  #calculate quadratic weighted kappa\n",
        "  df=pd.DataFrame(model.predict(validation_data),columns=['pred_scaled'])\n",
        "  df['essay_set']=test_essay_set\n",
        "  df['low_scale']=df.essay_set.map(low_scale)\n",
        "  df['high_scale']=df.essay_set.map(high_scale)\n",
        "  df['pred_origin']=df['pred_scaled']*(df.high_scale-df.low_scale)+df.low_scale\n",
        "  df['pred_origin_rounded']=df['pred_origin'].round(0).astype(int)\n",
        "  df['true_origin']=test_y_origin\n",
        "\n",
        "  QWK=df.groupby('essay_set').apply(lambda x: cohen_kappa_score(x['pred_origin_rounded'], x['true_origin'], weights='quadratic'))\n",
        "  return QWK\n"
      ],
      "execution_count": 35,
      "outputs": []
    },
    {
      "cell_type": "markdown",
      "metadata": {
        "id": "jPaqE3klhztR"
      },
      "source": [
        "# Building models"
      ]
    },
    {
      "cell_type": "markdown",
      "metadata": {
        "id": "Fs-kfPmLiRk1"
      },
      "source": [
        "## 1. FFNN model"
      ]
    },
    {
      "cell_type": "code",
      "metadata": {
        "colab": {
          "base_uri": "https://localhost:8080/",
          "height": 1000
        },
        "id": "GTq0WRoBiOOf",
        "outputId": "aca04157-8172-47ce-b656-e334e9ce426e"
      },
      "source": [
        "K.clear_session()\n",
        "model_ffnn = Sequential()\n",
        "model_ffnn.add(layers.Input(shape = (1,),dtype=tf.string))\n",
        "model_ffnn.add(text_vectorizer)\n",
        "model_ffnn.add(layers.Dense(64, activation = 'relu'))\n",
        "model_ffnn.add(layers.Dense(32, activation = 'relu'))\n",
        "model_ffnn.add(layers.Dense(16, activation = 'relu'))\n",
        "model_ffnn.add(layers.Dense(1, activation = 'sigmoid')) # scaled score in [0, 1]\n",
        "\n",
        "loss = tf.keras.losses.binary_crossentropy\n",
        "optimizer = optimizers.Adam(lr = 0.001)\n",
        "metrics=['mse']\n",
        "model_ffnn.compile(loss= loss, optimizer = optimizer, metrics = metrics)\n",
        "model_ffnn.summary()\n",
        "\n",
        "early_stopping = tf.keras.callbacks.EarlyStopping(\n",
        "    monitor='val_loss', min_delta=0, patience=10, verbose=0, mode='auto'\n",
        ")\n",
        "\n",
        "history_ffnn=model_ffnn.fit(train_data, validation_data = val_data, callbacks=early_stopping, epochs = 100, verbose = 1)\n",
        "evaluate_model(model_ffnn,val_data,history_ffnn)"
      ],
      "execution_count": 50,
      "outputs": [
        {
          "output_type": "stream",
          "text": [
            "Model: \"sequential\"\n",
            "_________________________________________________________________\n",
            "Layer (type)                 Output Shape              Param #   \n",
            "=================================================================\n",
            "text_vectorization_1 (TextVe (None, 1200)              0         \n",
            "_________________________________________________________________\n",
            "dense (Dense)                (None, 64)                76864     \n",
            "_________________________________________________________________\n",
            "dense_1 (Dense)              (None, 32)                2080      \n",
            "_________________________________________________________________\n",
            "dense_2 (Dense)              (None, 16)                528       \n",
            "_________________________________________________________________\n",
            "dense_3 (Dense)              (None, 1)                 17        \n",
            "=================================================================\n",
            "Total params: 79,489\n",
            "Trainable params: 79,489\n",
            "Non-trainable params: 0\n",
            "_________________________________________________________________\n",
            "Epoch 1/100\n",
            "82/82 [==============================] - 1s 13ms/step - loss: 28.7966 - mse: 0.2571 - val_loss: 9.0411 - val_mse: 0.2280\n",
            "Epoch 2/100\n",
            "82/82 [==============================] - 1s 12ms/step - loss: 5.5627 - mse: 0.2233 - val_loss: 3.9352 - val_mse: 0.2161\n",
            "Epoch 3/100\n",
            "82/82 [==============================] - 1s 12ms/step - loss: 2.5524 - mse: 0.1800 - val_loss: 2.1290 - val_mse: 0.1562\n",
            "Epoch 4/100\n",
            "82/82 [==============================] - 1s 11ms/step - loss: 1.4757 - mse: 0.1375 - val_loss: 1.3959 - val_mse: 0.1269\n",
            "Epoch 5/100\n",
            "82/82 [==============================] - 1s 12ms/step - loss: 1.0478 - mse: 0.1021 - val_loss: 1.1292 - val_mse: 0.1079\n",
            "Epoch 6/100\n",
            "82/82 [==============================] - 1s 11ms/step - loss: 0.8987 - mse: 0.0857 - val_loss: 1.0076 - val_mse: 0.0840\n",
            "Epoch 7/100\n",
            "82/82 [==============================] - 1s 12ms/step - loss: 0.8016 - mse: 0.0732 - val_loss: 0.9585 - val_mse: 0.1004\n",
            "Epoch 8/100\n",
            "82/82 [==============================] - 1s 12ms/step - loss: 0.7965 - mse: 0.0759 - val_loss: 0.9744 - val_mse: 0.1126\n",
            "Epoch 9/100\n",
            "82/82 [==============================] - 1s 11ms/step - loss: 0.7360 - mse: 0.0589 - val_loss: 0.9121 - val_mse: 0.0983\n",
            "Epoch 10/100\n",
            "82/82 [==============================] - 1s 12ms/step - loss: 0.7041 - mse: 0.0548 - val_loss: 0.8762 - val_mse: 0.0864\n",
            "Epoch 11/100\n",
            "82/82 [==============================] - 1s 11ms/step - loss: 0.7182 - mse: 0.0591 - val_loss: 0.8715 - val_mse: 0.0827\n",
            "Epoch 12/100\n",
            "82/82 [==============================] - 1s 12ms/step - loss: 0.6901 - mse: 0.0496 - val_loss: 0.8606 - val_mse: 0.0793\n",
            "Epoch 13/100\n",
            "82/82 [==============================] - 1s 12ms/step - loss: 0.6976 - mse: 0.0518 - val_loss: 0.8492 - val_mse: 0.0729\n",
            "Epoch 14/100\n",
            "82/82 [==============================] - 1s 12ms/step - loss: 0.6826 - mse: 0.0482 - val_loss: 0.8246 - val_mse: 0.0676\n",
            "Epoch 15/100\n",
            "82/82 [==============================] - 1s 12ms/step - loss: 0.6878 - mse: 0.0489 - val_loss: 0.8362 - val_mse: 0.0728\n",
            "Epoch 16/100\n",
            "82/82 [==============================] - 1s 12ms/step - loss: 0.7218 - mse: 0.0610 - val_loss: 0.9343 - val_mse: 0.1119\n",
            "Epoch 17/100\n",
            "82/82 [==============================] - 1s 12ms/step - loss: 0.7024 - mse: 0.0546 - val_loss: 0.9288 - val_mse: 0.1087\n",
            "Epoch 18/100\n",
            "82/82 [==============================] - 1s 12ms/step - loss: 0.7155 - mse: 0.0594 - val_loss: 0.8508 - val_mse: 0.0603\n",
            "Epoch 19/100\n",
            "82/82 [==============================] - 1s 11ms/step - loss: 0.7033 - mse: 0.0553 - val_loss: 0.8181 - val_mse: 0.0569\n",
            "Epoch 20/100\n",
            "82/82 [==============================] - 1s 12ms/step - loss: 0.6866 - mse: 0.0506 - val_loss: 0.8192 - val_mse: 0.0549\n",
            "Epoch 21/100\n",
            "82/82 [==============================] - 1s 12ms/step - loss: 0.6814 - mse: 0.0484 - val_loss: 0.8154 - val_mse: 0.0543\n",
            "Epoch 22/100\n",
            "82/82 [==============================] - 1s 11ms/step - loss: 0.6820 - mse: 0.0472 - val_loss: 0.8048 - val_mse: 0.0536\n",
            "Epoch 23/100\n",
            "82/82 [==============================] - 1s 12ms/step - loss: 0.6755 - mse: 0.0472 - val_loss: 0.8106 - val_mse: 0.0537\n",
            "Epoch 24/100\n",
            "82/82 [==============================] - 1s 12ms/step - loss: 0.6727 - mse: 0.0448 - val_loss: 0.7970 - val_mse: 0.0534\n",
            "Epoch 25/100\n",
            "82/82 [==============================] - 1s 12ms/step - loss: 0.6682 - mse: 0.0450 - val_loss: 0.8036 - val_mse: 0.0536\n",
            "Epoch 26/100\n",
            "82/82 [==============================] - 1s 12ms/step - loss: 0.6709 - mse: 0.0443 - val_loss: 0.8083 - val_mse: 0.0539\n",
            "Epoch 27/100\n",
            "82/82 [==============================] - 1s 12ms/step - loss: 0.6685 - mse: 0.0439 - val_loss: 0.7975 - val_mse: 0.0535\n",
            "Epoch 28/100\n",
            "82/82 [==============================] - 1s 12ms/step - loss: 0.6638 - mse: 0.0429 - val_loss: 0.8055 - val_mse: 0.0584\n",
            "Epoch 29/100\n",
            "82/82 [==============================] - 1s 12ms/step - loss: 0.6703 - mse: 0.0441 - val_loss: 0.7954 - val_mse: 0.0544\n",
            "Epoch 30/100\n",
            "82/82 [==============================] - 1s 12ms/step - loss: 0.6672 - mse: 0.0439 - val_loss: 0.7960 - val_mse: 0.0544\n",
            "Epoch 31/100\n",
            "82/82 [==============================] - 1s 11ms/step - loss: 0.6696 - mse: 0.0432 - val_loss: 0.8158 - val_mse: 0.0588\n",
            "Epoch 32/100\n",
            "82/82 [==============================] - 1s 11ms/step - loss: 0.7239 - mse: 0.0600 - val_loss: 0.8952 - val_mse: 0.0875\n",
            "Epoch 33/100\n",
            "82/82 [==============================] - 1s 12ms/step - loss: 0.6901 - mse: 0.0504 - val_loss: 0.8221 - val_mse: 0.0692\n",
            "Epoch 34/100\n",
            "82/82 [==============================] - 1s 11ms/step - loss: 0.6730 - mse: 0.0450 - val_loss: 0.8338 - val_mse: 0.0761\n",
            "Epoch 35/100\n",
            "82/82 [==============================] - 1s 12ms/step - loss: 0.6634 - mse: 0.0425 - val_loss: 0.7998 - val_mse: 0.0672\n",
            "Epoch 36/100\n",
            "82/82 [==============================] - 1s 12ms/step - loss: 0.6609 - mse: 0.0426 - val_loss: 0.8160 - val_mse: 0.0685\n",
            "Epoch 37/100\n",
            "82/82 [==============================] - 1s 12ms/step - loss: 0.6673 - mse: 0.0413 - val_loss: 0.7701 - val_mse: 0.0597\n",
            "Epoch 38/100\n",
            "82/82 [==============================] - 1s 12ms/step - loss: 0.6539 - mse: 0.0405 - val_loss: 0.8121 - val_mse: 0.0765\n",
            "Epoch 39/100\n",
            "82/82 [==============================] - 1s 12ms/step - loss: 0.6658 - mse: 0.0446 - val_loss: 0.7941 - val_mse: 0.0570\n",
            "Epoch 40/100\n",
            "82/82 [==============================] - 1s 12ms/step - loss: 0.6565 - mse: 0.0408 - val_loss: 0.7851 - val_mse: 0.0550\n",
            "Epoch 41/100\n",
            "82/82 [==============================] - 1s 12ms/step - loss: 0.6543 - mse: 0.0406 - val_loss: 0.7909 - val_mse: 0.0531\n",
            "Epoch 42/100\n",
            "82/82 [==============================] - 1s 11ms/step - loss: 0.6801 - mse: 0.0491 - val_loss: 0.8835 - val_mse: 0.0686\n",
            "Epoch 43/100\n",
            "82/82 [==============================] - 1s 12ms/step - loss: 0.6940 - mse: 0.0520 - val_loss: 0.8556 - val_mse: 0.0696\n",
            "Epoch 44/100\n",
            "82/82 [==============================] - 1s 12ms/step - loss: 0.6777 - mse: 0.0469 - val_loss: 0.8539 - val_mse: 0.0771\n",
            "Epoch 45/100\n",
            "82/82 [==============================] - 1s 12ms/step - loss: 0.6696 - mse: 0.0436 - val_loss: 0.7867 - val_mse: 0.0547\n",
            "Epoch 46/100\n",
            "82/82 [==============================] - 1s 12ms/step - loss: 0.6881 - mse: 0.0463 - val_loss: 0.9585 - val_mse: 0.1226\n",
            "Epoch 47/100\n",
            "82/82 [==============================] - 1s 11ms/step - loss: 0.6870 - mse: 0.0498 - val_loss: 0.7595 - val_mse: 0.0519\n",
            "Epoch 48/100\n",
            "82/82 [==============================] - 1s 12ms/step - loss: 0.6754 - mse: 0.0458 - val_loss: 0.7598 - val_mse: 0.0503\n",
            "Epoch 49/100\n",
            "82/82 [==============================] - 1s 12ms/step - loss: 0.6588 - mse: 0.0419 - val_loss: 0.7796 - val_mse: 0.0525\n",
            "Epoch 50/100\n",
            "82/82 [==============================] - 1s 12ms/step - loss: 0.6599 - mse: 0.0419 - val_loss: 0.7506 - val_mse: 0.0493\n",
            "Epoch 51/100\n",
            "82/82 [==============================] - 1s 12ms/step - loss: 0.6523 - mse: 0.0390 - val_loss: 0.7584 - val_mse: 0.0505\n",
            "Epoch 52/100\n",
            "82/82 [==============================] - 1s 11ms/step - loss: 0.6488 - mse: 0.0386 - val_loss: 0.7730 - val_mse: 0.0520\n",
            "Epoch 53/100\n",
            "82/82 [==============================] - 1s 12ms/step - loss: 0.6563 - mse: 0.0409 - val_loss: 0.7600 - val_mse: 0.0510\n",
            "Epoch 54/100\n",
            "82/82 [==============================] - 1s 12ms/step - loss: 0.6637 - mse: 0.0402 - val_loss: 0.7652 - val_mse: 0.0512\n",
            "Epoch 55/100\n",
            "82/82 [==============================] - 1s 11ms/step - loss: 0.6671 - mse: 0.0438 - val_loss: 0.7805 - val_mse: 0.0536\n",
            "Epoch 56/100\n",
            "82/82 [==============================] - 1s 12ms/step - loss: 0.6681 - mse: 0.0442 - val_loss: 0.8011 - val_mse: 0.0602\n",
            "Epoch 57/100\n",
            "82/82 [==============================] - 1s 12ms/step - loss: 0.6538 - mse: 0.0395 - val_loss: 0.7757 - val_mse: 0.0578\n",
            "Epoch 58/100\n",
            "82/82 [==============================] - 1s 12ms/step - loss: 0.6448 - mse: 0.0371 - val_loss: 0.7761 - val_mse: 0.0552\n",
            "Epoch 59/100\n",
            "82/82 [==============================] - 1s 12ms/step - loss: 0.6416 - mse: 0.0355 - val_loss: 0.7678 - val_mse: 0.0546\n",
            "Epoch 60/100\n",
            "82/82 [==============================] - 1s 12ms/step - loss: 0.6337 - mse: 0.0328 - val_loss: 0.7665 - val_mse: 0.0540\n"
          ],
          "name": "stdout"
        },
        {
          "output_type": "display_data",
          "data": {
            "image/png": "[encoded data removed]",
            "text/plain": [
              "<Figure size 1080x360 with 2 Axes>"
            ]
          },
          "metadata": {
            "tags": [],
            "needs_background": "light"
          }
        },
        {
          "output_type": "stream",
          "text": [
            "21/21 [==============================] - 0s 8ms/step - loss: 0.7665 - mse: 0.0540\n",
            "Evaluation Results: [0.7665430903434753, 0.053962696343660355]\n"
          ],
          "name": "stdout"
        }
      ]
    },
    {
      "cell_type": "markdown",
      "metadata": {
        "id": "Jvl-5LLzvA82"
      },
      "source": [
        "## 2. Embedding + LSTM"
      ]
    },
    {
      "cell_type": "code",
      "metadata": {
        "colab": {
          "base_uri": "https://localhost:8080/",
          "height": 1000
        },
        "id": "jmwsipBTvAUP",
        "outputId": "5ec618f1-ff1c-4a50-c043-894911dd03ba"
      },
      "source": [
        "K.clear_session()\n",
        "latent_dim=200\n",
        "\n",
        "model_em_lstm=Sequential()\n",
        "model_em_lstm.add(layers.Input(shape = (1,),dtype=tf.string))\n",
        "model_em_lstm.add(text_vectorizer)\n",
        "model_em_lstm.add(Embedding(max_features, latent_dim, input_length=sequence_length, mask_zero=True))\n",
        "model_em_lstm.add(LSTM(100))\n",
        "#model_em_lstm.add(layers.Dropout(0.3))\n",
        "model_em_lstm.add(layers.Dense(1, activation = 'sigmoid'))\n",
        "\n",
        "model_em_lstm.summary()\n",
        "loss = tf.keras.losses.binary_crossentropy\n",
        "optimizer = optimizers.RMSprop(learning_rate= 0.001)\n",
        "optimizer = optimizers.Adam(lr = 0.001)\n",
        "metrics=['mse']\n",
        "model_em_lstm.compile(loss= loss, optimizer = optimizer, metrics = metrics)\n",
        "\n",
        "early_stopping = tf.keras.callbacks.EarlyStopping(\n",
        "    monitor='val_loss', min_delta=0, patience=10, verbose=0, mode='auto',restore_best_weights=True\n",
        ")\n",
        "\n",
        "history_em_lstm=model_em_lstm.fit(train_data, validation_data = val_data, callbacks=early_stopping, epochs = 50, verbose = 1)\n",
        "evaluate_model(model_em_lstm,val_data,history_em_lstm)"
      ],
      "execution_count": 37,
      "outputs": [
        {
          "output_type": "stream",
          "text": [
            "Model: \"sequential\"\n",
            "_________________________________________________________________\n",
            "Layer (type)                 Output Shape              Param #   \n",
            "=================================================================\n",
            "text_vectorization_1 (TextVe (None, 1200)              0         \n",
            "_________________________________________________________________\n",
            "embedding (Embedding)        (None, 1200, 200)         3000000   \n",
            "_________________________________________________________________\n",
            "lstm (LSTM)                  (None, 100)               120400    \n",
            "_________________________________________________________________\n",
            "dense (Dense)                (None, 1)                 101       \n",
            "=================================================================\n",
            "Total params: 3,120,501\n",
            "Trainable params: 3,120,501\n",
            "Non-trainable params: 0\n",
            "_________________________________________________________________\n",
            "Epoch 1/50\n",
            "82/82 [==============================] - 11s 130ms/step - loss: 0.6597 - mse: 0.0456 - val_loss: 0.6353 - val_mse: 0.0326\n",
            "Epoch 2/50\n",
            "82/82 [==============================] - 9s 114ms/step - loss: 0.6234 - mse: 0.0288 - val_loss: 0.6504 - val_mse: 0.0371\n",
            "Epoch 3/50\n",
            "82/82 [==============================] - 9s 116ms/step - loss: 0.6096 - mse: 0.0228 - val_loss: 0.6501 - val_mse: 0.0348\n",
            "Epoch 4/50\n",
            "82/82 [==============================] - 9s 115ms/step - loss: 0.5974 - mse: 0.0178 - val_loss: 0.6371 - val_mse: 0.0329\n",
            "Epoch 5/50\n",
            "82/82 [==============================] - 9s 116ms/step - loss: 0.5850 - mse: 0.0133 - val_loss: 0.6374 - val_mse: 0.0315\n",
            "Epoch 6/50\n",
            "82/82 [==============================] - 9s 115ms/step - loss: 0.5768 - mse: 0.0105 - val_loss: 0.6404 - val_mse: 0.0335\n",
            "Epoch 7/50\n",
            "82/82 [==============================] - 10s 118ms/step - loss: 0.5791 - mse: 0.0120 - val_loss: 0.6520 - val_mse: 0.0381\n",
            "Epoch 8/50\n",
            "82/82 [==============================] - 10s 116ms/step - loss: 0.5793 - mse: 0.0120 - val_loss: 0.6570 - val_mse: 0.0382\n",
            "Epoch 9/50\n",
            "82/82 [==============================] - 9s 116ms/step - loss: 0.5707 - mse: 0.0093 - val_loss: 0.6916 - val_mse: 0.0425\n",
            "Epoch 10/50\n",
            "82/82 [==============================] - 9s 116ms/step - loss: 0.5676 - mse: 0.0084 - val_loss: 0.6593 - val_mse: 0.0397\n",
            "Epoch 11/50\n",
            "82/82 [==============================] - 10s 116ms/step - loss: 0.5694 - mse: 0.0092 - val_loss: 0.6834 - val_mse: 0.0459\n"
          ],
          "name": "stdout"
        },
        {
          "output_type": "display_data",
          "data": {
            "image/png": "[encoded data removed]",
            "text/plain": [
              "<Figure size 1080x360 with 2 Axes>"
            ]
          },
          "metadata": {
            "tags": [],
            "needs_background": "light"
          }
        },
        {
          "output_type": "stream",
          "text": [
            "21/21 [==============================] - 1s 40ms/step - loss: 0.6353 - mse: 0.0326\n",
            "Evaluation Results: [0.6352663636207581, 0.03259623050689697]\n"
          ],
          "name": "stdout"
        }
      ]
    },
    {
      "cell_type": "markdown",
      "metadata": {
        "id": "HYSAwlDGLoFK"
      },
      "source": [
        "## 3. Embedding + GRU"
      ]
    },
    {
      "cell_type": "code",
      "metadata": {
        "colab": {
          "base_uri": "https://localhost:8080/",
          "height": 1000
        },
        "id": "CtsDoHGsLvrF",
        "outputId": "c134373d-b04b-4c77-9bcf-504679dc4a79"
      },
      "source": [
        "K.clear_session()\n",
        "latent_dim=200\n",
        "\n",
        "model_em_gru=Sequential()\n",
        "model_em_gru.add(layers.Input(shape = (1,),dtype=tf.string))\n",
        "model_em_gru.add(text_vectorizer)\n",
        "model_em_gru.add(Embedding(max_features, latent_dim, input_length=sequence_length, mask_zero=True))\n",
        "model_em_gru.add(GRU(100))\n",
        "model_em_gru.add(layers.Dense(1, activation = 'sigmoid'))\n",
        "\n",
        "model_em_gru.summary()\n",
        "loss = tf.keras.losses.binary_crossentropy\n",
        "optimizer = optimizers.Adam(lr = 0.001)\n",
        "metrics=['mse']\n",
        "model_em_gru.compile(loss= loss, optimizer = optimizer, metrics = metrics)\n",
        "\n",
        "early_stopping = tf.keras.callbacks.EarlyStopping(\n",
        "    monitor='val_loss', min_delta=0, patience=10, verbose=0, mode='auto',restore_best_weights=True\n",
        ")\n",
        "\n",
        "history_em_gru=model_em_gru.fit(train_data, validation_data = val_data, callbacks=early_stopping, epochs = 100, verbose = 1)\n",
        "evaluate_model(model_em_gru,val_data, history_em_gru)"
      ],
      "execution_count": 38,
      "outputs": [
        {
          "output_type": "stream",
          "text": [
            "Model: \"sequential\"\n",
            "_________________________________________________________________\n",
            "Layer (type)                 Output Shape              Param #   \n",
            "=================================================================\n",
            "text_vectorization_1 (TextVe (None, 1200)              0         \n",
            "_________________________________________________________________\n",
            "embedding (Embedding)        (None, 1200, 200)         3000000   \n",
            "_________________________________________________________________\n",
            "gru (GRU)                    (None, 100)               90600     \n",
            "_________________________________________________________________\n",
            "dense (Dense)                (None, 1)                 101       \n",
            "=================================================================\n",
            "Total params: 3,090,701\n",
            "Trainable params: 3,090,701\n",
            "Non-trainable params: 0\n",
            "_________________________________________________________________\n",
            "Epoch 1/100\n",
            "82/82 [==============================] - 10s 125ms/step - loss: 0.6679 - mse: 0.0495 - val_loss: 0.6461 - val_mse: 0.0374\n",
            "Epoch 2/100\n",
            "82/82 [==============================] - 9s 113ms/step - loss: 0.6311 - mse: 0.0323 - val_loss: 0.6388 - val_mse: 0.0337\n",
            "Epoch 3/100\n",
            "82/82 [==============================] - 9s 113ms/step - loss: 0.6088 - mse: 0.0226 - val_loss: 0.6320 - val_mse: 0.0312\n",
            "Epoch 4/100\n",
            "82/82 [==============================] - 9s 113ms/step - loss: 0.5931 - mse: 0.0163 - val_loss: 0.6362 - val_mse: 0.0310\n",
            "Epoch 5/100\n",
            "82/82 [==============================] - 9s 113ms/step - loss: 0.5932 - mse: 0.0165 - val_loss: 0.6404 - val_mse: 0.0328\n",
            "Epoch 6/100\n",
            "82/82 [==============================] - 9s 112ms/step - loss: 0.5897 - mse: 0.0152 - val_loss: 0.6406 - val_mse: 0.0323\n",
            "Epoch 7/100\n",
            "82/82 [==============================] - 9s 112ms/step - loss: 0.5774 - mse: 0.0108 - val_loss: 0.6490 - val_mse: 0.0359\n",
            "Epoch 8/100\n",
            "82/82 [==============================] - 9s 113ms/step - loss: 0.5743 - mse: 0.0098 - val_loss: 0.6449 - val_mse: 0.0366\n",
            "Epoch 9/100\n",
            "82/82 [==============================] - 9s 113ms/step - loss: 0.5780 - mse: 0.0116 - val_loss: 0.6383 - val_mse: 0.0337\n",
            "Epoch 10/100\n",
            "82/82 [==============================] - 9s 114ms/step - loss: 0.5764 - mse: 0.0113 - val_loss: 0.6410 - val_mse: 0.0322\n",
            "Epoch 11/100\n",
            "82/82 [==============================] - 9s 113ms/step - loss: 0.5679 - mse: 0.0085 - val_loss: 0.6545 - val_mse: 0.0350\n",
            "Epoch 12/100\n",
            "82/82 [==============================] - 9s 113ms/step - loss: 0.5617 - mse: 0.0066 - val_loss: 0.6805 - val_mse: 0.0414\n",
            "Epoch 13/100\n",
            "82/82 [==============================] - 9s 112ms/step - loss: 0.5614 - mse: 0.0069 - val_loss: 0.7042 - val_mse: 0.0468\n"
          ],
          "name": "stdout"
        },
        {
          "output_type": "display_data",
          "data": {
            "image/png": "[encoded data removed]",
            "text/plain": [
              "<Figure size 1080x360 with 2 Axes>"
            ]
          },
          "metadata": {
            "tags": [],
            "needs_background": "light"
          }
        },
        {
          "output_type": "stream",
          "text": [
            "21/21 [==============================] - 1s 39ms/step - loss: 0.6320 - mse: 0.0312\n",
            "Evaluation Results: [0.632003128528595, 0.031248876824975014]\n"
          ],
          "name": "stdout"
        }
      ]
    },
    {
      "cell_type": "markdown",
      "metadata": {
        "id": "0FSDN8SnMKMm"
      },
      "source": [
        "## 4. Using pre-trained embedding "
      ]
    },
    {
      "cell_type": "markdown",
      "metadata": {
        "id": "8mGwfYRnMTWt"
      },
      "source": [
        "### Downloading glove"
      ]
    },
    {
      "cell_type": "code",
      "metadata": {
        "colab": {
          "base_uri": "https://localhost:8080/"
        },
        "id": "tP6OoNRiMYvx",
        "outputId": "e9a5a8f4-2af1-4ce8-d01e-12346a068568"
      },
      "source": [
        "def download_file(packet_url, base_path=\"\", extract=False):\n",
        "  if base_path != \"\":\n",
        "    if not os.path.exists(base_path):\n",
        "      os.mkdir(base_path)\n",
        "  packet_file = os.path.basename(packet_url)\n",
        "  with requests.get(packet_url, stream=True) as r:\n",
        "      r.raise_for_status()\n",
        "      with open(os.path.join(base_path,packet_file), 'wb') as f:\n",
        "          for chunk in r.iter_content(chunk_size=8192):\n",
        "              f.write(chunk)\n",
        "  \n",
        "  if extract:\n",
        "    if packet_file.endswith(\".zip\"):\n",
        "      with zipfile.ZipFile(os.path.join(base_path,packet_file)) as zfile:\n",
        "        zfile.extractall(base_path)\n",
        "    \n",
        "    if packet_file.endswith(\".tar.gz\"):\n",
        "      packet_name = packet_file.split('.')[0]\n",
        "      with tarfile.open(os.path.join(base_path,packet_file)) as tfile:\n",
        "        tfile.extractall(base_path)\n",
        "\n",
        "download_file(\"https://github.com/shivasj/dataset-store/releases/download/v3.0/glove.6B.100d.txt.zip\", base_path=\"embedding\", extract=True)\n",
        "\n",
        "path_to_glove_file = '/content/embedding/glove.6B.100d.txt'\n",
        "embeddings_index = {}\n",
        "with open(path_to_glove_file) as f:\n",
        "    for line in f:\n",
        "        word, coefs = line.split(maxsplit=1)\n",
        "        coefs = np.fromstring(coefs, \"f\", sep=\" \")\n",
        "        embeddings_index[word] = coefs\n",
        "\n",
        "print(\"Found %s word vectors.\" % len(embeddings_index))\n",
        "\n",
        "#num_tokens = len(voc) + 2\n",
        "embedding_dim = 100\n",
        "hits = 0\n",
        "misses = 0\n",
        "\n",
        "# Get Vocabulary\n",
        "vocabulary = text_vectorizer.get_vocabulary()\n",
        "vocabulary_size = len(vocabulary)\n",
        "print(\"Vocabulary Size:\",vocabulary_size)\n",
        "# Generate word index\n",
        "word_index = dict(zip(vocabulary, range(vocabulary_size)))\n",
        "\n",
        "\n",
        "# Prepare embedding matrix\n",
        "embedding_matrix = np.zeros((max_features, embedding_dim))\n",
        "for word, i in word_index.items():\n",
        "    embedding_vector = embeddings_index.get(word)\n",
        "    if embedding_vector is not None:\n",
        "        # Words not found in embedding index will be all-zeros.\n",
        "        # This includes the representation for \"padding\" and \"OOV\"\n",
        "        embedding_matrix[i] = embedding_vector\n",
        "        hits += 1\n",
        "    else:\n",
        "        misses += 1\n",
        "print(\"Converted %d words (%d misses)\" % (hits, misses))"
      ],
      "execution_count": 39,
      "outputs": [
        {
          "output_type": "stream",
          "text": [
            "Found 400000 word vectors.\n",
            "Vocabulary Size: 15000\n",
            "Converted 11723 words (3277 misses)\n"
          ],
          "name": "stdout"
        }
      ]
    },
    {
      "cell_type": "markdown",
      "metadata": {
        "id": "ljzCrNtGMedw"
      },
      "source": [
        "### Glove + LSTM"
      ]
    },
    {
      "cell_type": "code",
      "metadata": {
        "colab": {
          "base_uri": "https://localhost:8080/",
          "height": 1000
        },
        "id": "yCbCtj8aMgsX",
        "outputId": "5fba9f7c-68d3-4bec-c1ba-3f295060443e"
      },
      "source": [
        "K.clear_session()\n",
        "latent_dim=200\n",
        "\n",
        "model_glo_lstm=Sequential()\n",
        "model_glo_lstm.add(layers.Input(shape = (1,),dtype=tf.string))\n",
        "model_glo_lstm.add(text_vectorizer)\n",
        "model_glo_lstm.add(Embedding(max_features, \n",
        "                            embedding_dim, \n",
        "                            embeddings_initializer=keras.initializers.Constant(embedding_matrix),\n",
        "                            trainable=False,\n",
        "                            name=\"embedding\", mask_zero = True))\n",
        "model_glo_lstm.add(LSTM(100))\n",
        "model_glo_lstm.add(layers.Dense(1, activation = 'sigmoid'))\n",
        "\n",
        "model_glo_lstm.summary()\n",
        "loss = tf.keras.losses.binary_crossentropy\n",
        "optimizer = optimizers.RMSprop(learning_rate= 0.001)\n",
        "metrics=['mse']\n",
        "model_glo_lstm.compile(loss= loss, optimizer = optimizer, metrics = metrics)\n",
        "\n",
        "early_stopping = tf.keras.callbacks.EarlyStopping(\n",
        "    monitor='val_loss', min_delta=0, patience=10, verbose=0, mode='auto', restore_best_weights=True\n",
        ")\n",
        "\n",
        "history_glo_lstm=model_glo_lstm.fit(train_data, validation_data = val_data, callbacks=early_stopping, epochs = 100, verbose = 1)\n",
        "evaluate_model(model_glo_lstm,val_data,history_glo_lstm)"
      ],
      "execution_count": 40,
      "outputs": [
        {
          "output_type": "stream",
          "text": [
            "Model: \"sequential\"\n",
            "_________________________________________________________________\n",
            "Layer (type)                 Output Shape              Param #   \n",
            "=================================================================\n",
            "text_vectorization_1 (TextVe (None, 1200)              0         \n",
            "_________________________________________________________________\n",
            "embedding (Embedding)        (None, 1200, 100)         1500000   \n",
            "_________________________________________________________________\n",
            "lstm (LSTM)                  (None, 100)               80400     \n",
            "_________________________________________________________________\n",
            "dense (Dense)                (None, 1)                 101       \n",
            "=================================================================\n",
            "Total params: 1,580,501\n",
            "Trainable params: 80,501\n",
            "Non-trainable params: 1,500,000\n",
            "_________________________________________________________________\n",
            "Epoch 1/100\n",
            "82/82 [==============================] - 7s 79ms/step - loss: 0.6763 - mse: 0.0534 - val_loss: 0.6989 - val_mse: 0.0627\n",
            "Epoch 2/100\n",
            "82/82 [==============================] - 6s 67ms/step - loss: 0.6612 - mse: 0.0462 - val_loss: 0.6488 - val_mse: 0.0384\n",
            "Epoch 3/100\n",
            "82/82 [==============================] - 5s 66ms/step - loss: 0.6358 - mse: 0.0344 - val_loss: 0.6387 - val_mse: 0.0336\n",
            "Epoch 4/100\n",
            "82/82 [==============================] - 6s 67ms/step - loss: 0.6297 - mse: 0.0316 - val_loss: 0.6281 - val_mse: 0.0292\n",
            "Epoch 5/100\n",
            "82/82 [==============================] - 5s 66ms/step - loss: 0.6220 - mse: 0.0282 - val_loss: 0.6299 - val_mse: 0.0304\n",
            "Epoch 6/100\n",
            "82/82 [==============================] - 5s 67ms/step - loss: 0.6191 - mse: 0.0270 - val_loss: 0.6186 - val_mse: 0.0254\n",
            "Epoch 7/100\n",
            "82/82 [==============================] - 5s 67ms/step - loss: 0.6148 - mse: 0.0253 - val_loss: 0.6161 - val_mse: 0.0240\n",
            "Epoch 8/100\n",
            "82/82 [==============================] - 5s 67ms/step - loss: 0.6107 - mse: 0.0235 - val_loss: 0.6126 - val_mse: 0.0222\n",
            "Epoch 9/100\n",
            "82/82 [==============================] - 5s 66ms/step - loss: 0.6074 - mse: 0.0222 - val_loss: 0.6078 - val_mse: 0.0208\n",
            "Epoch 10/100\n",
            "82/82 [==============================] - 5s 67ms/step - loss: 0.6076 - mse: 0.0223 - val_loss: 0.6122 - val_mse: 0.0222\n",
            "Epoch 11/100\n",
            "82/82 [==============================] - 5s 66ms/step - loss: 0.6096 - mse: 0.0229 - val_loss: 0.6085 - val_mse: 0.0207\n",
            "Epoch 12/100\n",
            "82/82 [==============================] - 5s 66ms/step - loss: 0.6016 - mse: 0.0199 - val_loss: 0.6066 - val_mse: 0.0200\n",
            "Epoch 13/100\n",
            "82/82 [==============================] - 5s 66ms/step - loss: 0.6145 - mse: 0.0252 - val_loss: 0.6110 - val_mse: 0.0220\n",
            "Epoch 14/100\n",
            "82/82 [==============================] - 5s 66ms/step - loss: 0.6041 - mse: 0.0209 - val_loss: 0.6074 - val_mse: 0.0206\n",
            "Epoch 15/100\n",
            "82/82 [==============================] - 5s 67ms/step - loss: 0.6024 - mse: 0.0201 - val_loss: 0.6073 - val_mse: 0.0207\n",
            "Epoch 16/100\n",
            "82/82 [==============================] - 5s 66ms/step - loss: 0.5998 - mse: 0.0193 - val_loss: 0.6089 - val_mse: 0.0211\n",
            "Epoch 17/100\n",
            "82/82 [==============================] - 5s 67ms/step - loss: 0.5981 - mse: 0.0186 - val_loss: 0.6036 - val_mse: 0.0193\n",
            "Epoch 18/100\n",
            "82/82 [==============================] - 5s 66ms/step - loss: 0.5965 - mse: 0.0180 - val_loss: 0.6225 - val_mse: 0.0268\n",
            "Epoch 19/100\n",
            "82/82 [==============================] - 5s 67ms/step - loss: 0.5953 - mse: 0.0175 - val_loss: 0.6073 - val_mse: 0.0205\n",
            "Epoch 20/100\n",
            "82/82 [==============================] - 5s 66ms/step - loss: 0.5944 - mse: 0.0173 - val_loss: 0.6104 - val_mse: 0.0216\n",
            "Epoch 21/100\n",
            "82/82 [==============================] - 6s 69ms/step - loss: 0.5951 - mse: 0.0174 - val_loss: 0.6103 - val_mse: 0.0214\n",
            "Epoch 22/100\n",
            "82/82 [==============================] - 6s 69ms/step - loss: 0.5938 - mse: 0.0170 - val_loss: 0.6086 - val_mse: 0.0208\n",
            "Epoch 23/100\n",
            "82/82 [==============================] - 5s 67ms/step - loss: 0.5918 - mse: 0.0163 - val_loss: 0.6092 - val_mse: 0.0212\n",
            "Epoch 24/100\n",
            "82/82 [==============================] - 5s 67ms/step - loss: 0.5927 - mse: 0.0165 - val_loss: 0.6126 - val_mse: 0.0221\n",
            "Epoch 25/100\n",
            "82/82 [==============================] - 5s 67ms/step - loss: 0.5894 - mse: 0.0154 - val_loss: 0.6138 - val_mse: 0.0227\n",
            "Epoch 26/100\n",
            "82/82 [==============================] - 5s 66ms/step - loss: 0.5889 - mse: 0.0152 - val_loss: 0.6070 - val_mse: 0.0201\n",
            "Epoch 27/100\n",
            "82/82 [==============================] - 5s 67ms/step - loss: 0.5866 - mse: 0.0145 - val_loss: 0.6053 - val_mse: 0.0196\n"
          ],
          "name": "stdout"
        },
        {
          "output_type": "display_data",
          "data": {
            "image/png": "[encoded data removed]",
            "text/plain": [
              "<Figure size 1080x360 with 2 Axes>"
            ]
          },
          "metadata": {
            "tags": [],
            "needs_background": "light"
          }
        },
        {
          "output_type": "stream",
          "text": [
            "21/21 [==============================] - 1s 33ms/step - loss: 0.6036 - mse: 0.0193\n",
            "Evaluation Results: [0.6035875678062439, 0.019296372309327126]\n"
          ],
          "name": "stdout"
        }
      ]
    },
    {
      "cell_type": "markdown",
      "metadata": {
        "id": "iZC9ChpvMtme"
      },
      "source": [
        "### Glove + GRU"
      ]
    },
    {
      "cell_type": "code",
      "metadata": {
        "colab": {
          "base_uri": "https://localhost:8080/",
          "height": 1000
        },
        "id": "mXqnlQNRMqrF",
        "outputId": "0d709860-f4ce-439d-be84-f27c2b8cddfa"
      },
      "source": [
        "K.clear_session()\n",
        "latent_dim=200\n",
        "\n",
        "model_glo_gru=Sequential()\n",
        "model_glo_gru.add(layers.Input(shape = (1,),dtype=tf.string))\n",
        "model_glo_gru.add(text_vectorizer)\n",
        "model_glo_gru.add(Embedding(max_features, \n",
        "                            embedding_dim, \n",
        "                            embeddings_initializer=keras.initializers.Constant(embedding_matrix),\n",
        "                            trainable=False,\n",
        "                            name=\"embedding\", mask_zero = True))\n",
        "model_glo_gru.add(GRU(64, return_sequences=True))\n",
        "model_glo_gru.add(GRU(32))\n",
        "model_glo_gru.add(layers.Dense(1, activation = 'sigmoid'))\n",
        "\n",
        "model_glo_gru.summary()\n",
        "loss = tf.keras.losses.binary_crossentropy\n",
        "optimizer = optimizers.RMSprop(learning_rate= 0.0006)\n",
        "metrics=['mse']\n",
        "model_glo_gru.compile(loss= loss, optimizer = optimizer, metrics = metrics)\n",
        "\n",
        "early_stopping = tf.keras.callbacks.EarlyStopping(\n",
        "    monitor='val_loss', min_delta=0, patience=10, verbose=0, mode='auto', restore_best_weights=True\n",
        ")\n",
        "\n",
        "history_glo_gru=model_glo_gru.fit(train_data, validation_data = val_data, callbacks=early_stopping, epochs = 100, verbose = 1)\n",
        "evaluate_model(model_glo_gru,val_data,history_glo_gru)#"
      ],
      "execution_count": 41,
      "outputs": [
        {
          "output_type": "stream",
          "text": [
            "Model: \"sequential\"\n",
            "_________________________________________________________________\n",
            "Layer (type)                 Output Shape              Param #   \n",
            "=================================================================\n",
            "text_vectorization_1 (TextVe (None, 1200)              0         \n",
            "_________________________________________________________________\n",
            "embedding (Embedding)        (None, 1200, 100)         1500000   \n",
            "_________________________________________________________________\n",
            "gru (GRU)                    (None, 1200, 64)          31872     \n",
            "_________________________________________________________________\n",
            "gru_1 (GRU)                  (None, 32)                9408      \n",
            "_________________________________________________________________\n",
            "dense (Dense)                (None, 1)                 33        \n",
            "=================================================================\n",
            "Total params: 1,541,313\n",
            "Trainable params: 41,313\n",
            "Non-trainable params: 1,500,000\n",
            "_________________________________________________________________\n",
            "Epoch 1/100\n",
            "82/82 [==============================] - 10s 120ms/step - loss: 0.6756 - mse: 0.0532 - val_loss: 0.6887 - val_mse: 0.0577\n",
            "Epoch 2/100\n",
            "82/82 [==============================] - 8s 99ms/step - loss: 0.6671 - mse: 0.0491 - val_loss: 0.6819 - val_mse: 0.0544\n",
            "Epoch 3/100\n",
            "82/82 [==============================] - 8s 98ms/step - loss: 0.6615 - mse: 0.0464 - val_loss: 0.6720 - val_mse: 0.0496\n",
            "Epoch 4/100\n",
            "82/82 [==============================] - 8s 98ms/step - loss: 0.6468 - mse: 0.0395 - val_loss: 0.6283 - val_mse: 0.0290\n",
            "Epoch 5/100\n",
            "82/82 [==============================] - 8s 97ms/step - loss: 0.6277 - mse: 0.0307 - val_loss: 0.6193 - val_mse: 0.0251\n",
            "Epoch 6/100\n",
            "82/82 [==============================] - 8s 97ms/step - loss: 0.6208 - mse: 0.0276 - val_loss: 0.6157 - val_mse: 0.0236\n",
            "Epoch 7/100\n",
            "82/82 [==============================] - 8s 99ms/step - loss: 0.6166 - mse: 0.0258 - val_loss: 0.6125 - val_mse: 0.0224\n",
            "Epoch 8/100\n",
            "82/82 [==============================] - 8s 98ms/step - loss: 0.6133 - mse: 0.0245 - val_loss: 0.6111 - val_mse: 0.0219\n",
            "Epoch 9/100\n",
            "82/82 [==============================] - 8s 96ms/step - loss: 0.6109 - mse: 0.0235 - val_loss: 0.6104 - val_mse: 0.0217\n",
            "Epoch 10/100\n",
            "82/82 [==============================] - 8s 98ms/step - loss: 0.6088 - mse: 0.0227 - val_loss: 0.6099 - val_mse: 0.0215\n",
            "Epoch 11/100\n",
            "82/82 [==============================] - 8s 98ms/step - loss: 0.6070 - mse: 0.0220 - val_loss: 0.6098 - val_mse: 0.0215\n",
            "Epoch 12/100\n",
            "82/82 [==============================] - 8s 97ms/step - loss: 0.6054 - mse: 0.0214 - val_loss: 0.6097 - val_mse: 0.0214\n",
            "Epoch 13/100\n",
            "82/82 [==============================] - 8s 98ms/step - loss: 0.6041 - mse: 0.0208 - val_loss: 0.6090 - val_mse: 0.0211\n",
            "Epoch 14/100\n",
            "82/82 [==============================] - 8s 98ms/step - loss: 0.6029 - mse: 0.0203 - val_loss: 0.6084 - val_mse: 0.0209\n",
            "Epoch 15/100\n",
            "82/82 [==============================] - 8s 99ms/step - loss: 0.6018 - mse: 0.0199 - val_loss: 0.6077 - val_mse: 0.0206\n",
            "Epoch 16/100\n",
            "82/82 [==============================] - 8s 97ms/step - loss: 0.6009 - mse: 0.0196 - val_loss: 0.6069 - val_mse: 0.0203\n",
            "Epoch 17/100\n",
            "82/82 [==============================] - 8s 97ms/step - loss: 0.6000 - mse: 0.0192 - val_loss: 0.6060 - val_mse: 0.0200\n",
            "Epoch 18/100\n",
            "82/82 [==============================] - 8s 99ms/step - loss: 0.5992 - mse: 0.0189 - val_loss: 0.6051 - val_mse: 0.0196\n",
            "Epoch 19/100\n",
            "82/82 [==============================] - 8s 96ms/step - loss: 0.5984 - mse: 0.0186 - val_loss: 0.6043 - val_mse: 0.0193\n",
            "Epoch 20/100\n",
            "82/82 [==============================] - 8s 98ms/step - loss: 0.5976 - mse: 0.0183 - val_loss: 0.6036 - val_mse: 0.0191\n",
            "Epoch 21/100\n",
            "82/82 [==============================] - 8s 97ms/step - loss: 0.5968 - mse: 0.0180 - val_loss: 0.6030 - val_mse: 0.0188\n",
            "Epoch 22/100\n",
            "82/82 [==============================] - 8s 98ms/step - loss: 0.5961 - mse: 0.0177 - val_loss: 0.6025 - val_mse: 0.0187\n",
            "Epoch 23/100\n",
            "82/82 [==============================] - 8s 97ms/step - loss: 0.5953 - mse: 0.0175 - val_loss: 0.6023 - val_mse: 0.0186\n",
            "Epoch 24/100\n",
            "82/82 [==============================] - 8s 97ms/step - loss: 0.5945 - mse: 0.0172 - val_loss: 0.6022 - val_mse: 0.0186\n",
            "Epoch 25/100\n",
            "82/82 [==============================] - 8s 97ms/step - loss: 0.5939 - mse: 0.0170 - val_loss: 0.6022 - val_mse: 0.0186\n",
            "Epoch 26/100\n",
            "82/82 [==============================] - 8s 96ms/step - loss: 0.5933 - mse: 0.0168 - val_loss: 0.6024 - val_mse: 0.0187\n",
            "Epoch 27/100\n",
            "82/82 [==============================] - 8s 96ms/step - loss: 0.5927 - mse: 0.0166 - val_loss: 0.6026 - val_mse: 0.0188\n",
            "Epoch 28/100\n",
            "82/82 [==============================] - 8s 96ms/step - loss: 0.5920 - mse: 0.0163 - val_loss: 0.6029 - val_mse: 0.0189\n",
            "Epoch 29/100\n",
            "82/82 [==============================] - 8s 97ms/step - loss: 0.5913 - mse: 0.0161 - val_loss: 0.6032 - val_mse: 0.0190\n",
            "Epoch 30/100\n",
            "82/82 [==============================] - 8s 97ms/step - loss: 0.5906 - mse: 0.0158 - val_loss: 0.6037 - val_mse: 0.0192\n",
            "Epoch 31/100\n",
            "82/82 [==============================] - 8s 98ms/step - loss: 0.5902 - mse: 0.0157 - val_loss: 0.6036 - val_mse: 0.0192\n",
            "Epoch 32/100\n",
            "82/82 [==============================] - 8s 98ms/step - loss: 0.5895 - mse: 0.0154 - val_loss: 0.6050 - val_mse: 0.0195\n",
            "Epoch 33/100\n",
            "82/82 [==============================] - 8s 102ms/step - loss: 0.5889 - mse: 0.0152 - val_loss: 0.6058 - val_mse: 0.0198\n",
            "Epoch 34/100\n",
            "82/82 [==============================] - 8s 100ms/step - loss: 0.5882 - mse: 0.0150 - val_loss: 0.6047 - val_mse: 0.0196\n"
          ],
          "name": "stdout"
        },
        {
          "output_type": "display_data",
          "data": {
            "image/png": "[encoded data removed]",
            "text/plain": [
              "<Figure size 1080x360 with 2 Axes>"
            ]
          },
          "metadata": {
            "tags": [],
            "needs_background": "light"
          }
        },
        {
          "output_type": "stream",
          "text": [
            "21/21 [==============================] - 1s 49ms/step - loss: 0.6022 - mse: 0.0186\n",
            "Evaluation Results: [0.6021736264228821, 0.01858583465218544]\n"
          ],
          "name": "stdout"
        }
      ]
    },
    {
      "cell_type": "markdown",
      "metadata": {
        "id": "zbU5P_6FM1bM"
      },
      "source": [
        "## BERT"
      ]
    },
    {
      "cell_type": "code",
      "metadata": {
        "colab": {
          "base_uri": "https://localhost:8080/",
          "height": 66,
          "referenced_widgets": [
            "ac0c59ec84984a67a9aaa2ef8b955945",
            "284497cae0ba423bb3920528c521b354",
            "952ec1514f2a454bbe7fa1457040bc68",
            "ab73da95ab6a4aa9a6b44349cd0094c4",
            "47e36b85585c4f0eaa7c362a579ee0dc",
            "e4fb49ad702e49089b4a66374f32822d",
            "4f4769e4cff34682aa6e305807f961e5",
            "8db2872815f14a96b61d33d2d1beaf99"
          ]
        },
        "id": "5Q-zCCW94AgN",
        "outputId": "ecde2a87-e711-41fc-fee7-3db7b340b7db"
      },
      "source": [
        "tokenizer=BertTokenizer.from_pretrained('bert-base-uncased',do_lower_case=True)\n",
        "train_X = tokenizer.batch_encode_plus(\n",
        "                      train_X,\n",
        "                      return_tensors='tf',\n",
        "                      add_special_tokens = True, # add [CLS], [SEP]\n",
        "                      return_token_type_ids=True,\n",
        "                      padding='max_length',\n",
        "                      max_length=512, # max length of the text that can go to BERT (<=512)\n",
        "                      return_attention_mask = True,\n",
        "                      truncation='longest_first'\n",
        "                  )\n",
        "test_X = tokenizer.batch_encode_plus(\n",
        "                      test_X,\n",
        "                      return_tensors='tf',\n",
        "                      add_special_tokens = True, # add [CLS], [SEP]\n",
        "                      return_token_type_ids=True,\n",
        "                      padding='max_length',\n",
        "                      max_length=512, # max length of the text that can go to BERT (<=512)\n",
        "                      return_attention_mask = True,\n",
        "                      truncation='longest_first'\n",
        "                  )"
      ],
      "execution_count": 20,
      "outputs": [
        {
          "output_type": "display_data",
          "data": {
            "application/vnd.jupyter.widget-view+json": {
              "model_id": "ac0c59ec84984a67a9aaa2ef8b955945",
              "version_minor": 0,
              "version_major": 2
            },
            "text/plain": [
              "HBox(children=(FloatProgress(value=0.0, description='Downloading', max=231508.0, style=ProgressStyle(descripti…"
            ]
          },
          "metadata": {
            "tags": []
          }
        },
        {
          "output_type": "stream",
          "text": [
            "\n"
          ],
          "name": "stdout"
        }
      ]
    },
    {
      "cell_type": "code",
      "metadata": {
        "id": "VOuHnsaR2_7u"
      },
      "source": [
        "batch_size = 64 # You can try higher values but may run into OOM errors depending on which GPU you are using\n",
        "train_shuffle_buffer_size = 800\n",
        "validation_shuffle_buffer_size = 200\n",
        "\n",
        "train_data = tf.data.Dataset.from_tensor_slices((dict(train_X), train_y))\n",
        "validation_data = tf.data.Dataset.from_tensor_slices((dict(test_X), test_y))\n",
        "\n",
        "train_data = train_data.batch(batch_size)\n",
        "#train_data = train_data.shuffle(train_shuffle_buffer_size)\n",
        "train_data = train_data.cache().prefetch(buffer_size=train_shuffle_buffer_size)\n",
        "\n",
        "validation_data = validation_data.batch(batch_size)\n",
        "#validation_data = validation_data.shuffle(validation_shuffle_buffer_size)\n",
        "validation_data = validation_data.cache().prefetch(buffer_size=validation_shuffle_buffer_size)"
      ],
      "execution_count": 21,
      "outputs": []
    },
    {
      "cell_type": "code",
      "metadata": {
        "colab": {
          "base_uri": "https://localhost:8080/"
        },
        "id": "E1ZE2orq6J6t",
        "outputId": "0b8cfa0e-a0f7-4639-83bf-f013dab3ef39"
      },
      "source": [
        "train_data"
      ],
      "execution_count": null,
      "outputs": [
        {
          "output_type": "execute_result",
          "data": {
            "text/plain": [
              "<PrefetchDataset shapes: ({input_ids: (None, 512), token_type_ids: (None, 512), attention_mask: (None, 512)}, (None, 1)), types: ({input_ids: tf.int32, token_type_ids: tf.int32, attention_mask: tf.int32}, tf.float64)>"
            ]
          },
          "metadata": {
            "tags": []
          },
          "execution_count": 33
        }
      ]
    },
    {
      "cell_type": "code",
      "metadata": {
        "colab": {
          "base_uri": "https://localhost:8080/",
          "height": 689,
          "referenced_widgets": [
            "ebb8227f5e524b07b7fa37279bbb3113",
            "d64a3fca8d174aeb8679c5014e5258d9",
            "4251d4f1405b4a7796704bcf53845935",
            "37752bb4ffa94b5780eee19edce4f969",
            "2facbc9e11014406b0a89493bf05da44",
            "0f895ca9cfd9491484b11b0b40e4c1ea",
            "531271d2a3064a6db6f6b806ff4623f8",
            "fab41000494c415792dedcf850f22d30",
            "bcb30541ecf14f0ebde03753bc404703",
            "d6623e0ea04a4ad28ce5668f099bef6d",
            "49202103bf7543bc98ee24e9f10a8595",
            "47dd3ffff2494993834d57b6b63514ae",
            "3b0efaac494c4a2bbfdf8e38982c8643",
            "cf649f05a1ed41c2bfe4a65e930bdab9",
            "3b993ca0361f4e53bdebea73bff83f0e",
            "80141acaaf1145758010e455fb722cd0"
          ]
        },
        "id": "LbRwBRVa4YS1",
        "outputId": "f9c7272d-f82c-4d27-de56-407fde284012"
      },
      "source": [
        "# Build BERT model\n",
        "max_len = 512\n",
        "input_ids = layers.Input(shape=(max_len,), dtype=tf.int32, name = 'input_ids')\n",
        "token_type_ids = layers.Input(shape=(max_len,), dtype=tf.int32, name = 'token_type_ids')\n",
        "attention_mask = layers.Input(shape=(max_len,), dtype=tf.int32, name = 'attention_mask')\n",
        "encoder = TFBertModel.from_pretrained(\"bert-base-uncased\")\n",
        "encoder.trainable=False\n",
        "embedding = encoder(\n",
        "    input_ids, token_type_ids=token_type_ids, attention_mask=attention_mask\n",
        ")[1]\n",
        "embedding_flatten = layers.Flatten(name=\"embedding_flatten\")(embedding)\n",
        "text_dropout=layers.Dropout(0.2)(embedding_flatten)\n",
        "bert_dense = layers.Dense(256, name=\"bert_dense\", activation = 'relu')(text_dropout)\n",
        "intermediate_dense = layers.Dense(32, name = \"intermediate_dense\", activation = 'relu')(bert_dense)\n",
        "output = layers.Dense(1, activation = 'sigmoid')(intermediate_dense)\n",
        "\n",
        "inputs = {'input_ids': input_ids, 'token_type_ids': token_type_ids, 'attention_mask': attention_mask}\n",
        "bert_model = keras.Model(inputs= inputs, outputs= output,name='BERT_Model')\n",
        "\n",
        "bert_model.summary()\n"
      ],
      "execution_count": 23,
      "outputs": [
        {
          "output_type": "display_data",
          "data": {
            "application/vnd.jupyter.widget-view+json": {
              "model_id": "ebb8227f5e524b07b7fa37279bbb3113",
              "version_minor": 0,
              "version_major": 2
            },
            "text/plain": [
              "HBox(children=(FloatProgress(value=0.0, description='Downloading', max=433.0, style=ProgressStyle(description_…"
            ]
          },
          "metadata": {
            "tags": []
          }
        },
        {
          "output_type": "stream",
          "text": [
            "\n"
          ],
          "name": "stdout"
        },
        {
          "output_type": "display_data",
          "data": {
            "application/vnd.jupyter.widget-view+json": {
              "model_id": "bcb30541ecf14f0ebde03753bc404703",
              "version_minor": 0,
              "version_major": 2
            },
            "text/plain": [
              "HBox(children=(FloatProgress(value=0.0, description='Downloading', max=536063208.0, style=ProgressStyle(descri…"
            ]
          },
          "metadata": {
            "tags": []
          }
        },
        {
          "output_type": "stream",
          "text": [
            "\n"
          ],
          "name": "stdout"
        },
        {
          "output_type": "stream",
          "text": [
            "Some layers from the model checkpoint at bert-base-uncased were not used when initializing TFBertModel: ['mlm___cls', 'nsp___cls']\n",
            "- This IS expected if you are initializing TFBertModel from the checkpoint of a model trained on another task or with another architecture (e.g. initializing a BertForSequenceClassification model from a BertForPreTraining model).\n",
            "- This IS NOT expected if you are initializing TFBertModel from the checkpoint of a model that you expect to be exactly identical (initializing a BertForSequenceClassification model from a BertForSequenceClassification model).\n",
            "All the layers of TFBertModel were initialized from the model checkpoint at bert-base-uncased.\n",
            "If your task is similar to the task the model of the checkpoint was trained on, you can already use TFBertModel for predictions without further training.\n"
          ],
          "name": "stderr"
        },
        {
          "output_type": "stream",
          "text": [
            "Model: \"BERT_Model\"\n",
            "__________________________________________________________________________________________________\n",
            "Layer (type)                    Output Shape         Param #     Connected to                     \n",
            "==================================================================================================\n",
            "input_ids (InputLayer)          [(None, 512)]        0                                            \n",
            "__________________________________________________________________________________________________\n",
            "attention_mask (InputLayer)     [(None, 512)]        0                                            \n",
            "__________________________________________________________________________________________________\n",
            "token_type_ids (InputLayer)     [(None, 512)]        0                                            \n",
            "__________________________________________________________________________________________________\n",
            "tf_bert_model (TFBertModel)     TFBaseModelOutputWit 109482240   input_ids[0][0]                  \n",
            "                                                                 attention_mask[0][0]             \n",
            "                                                                 token_type_ids[0][0]             \n",
            "__________________________________________________________________________________________________\n",
            "embedding_flatten (Flatten)     (None, 768)          0           tf_bert_model[0][1]              \n",
            "__________________________________________________________________________________________________\n",
            "dropout_37 (Dropout)            (None, 768)          0           embedding_flatten[0][0]          \n",
            "__________________________________________________________________________________________________\n",
            "bert_dense (Dense)              (None, 256)          196864      dropout_37[0][0]                 \n",
            "__________________________________________________________________________________________________\n",
            "intermediate_dense (Dense)      (None, 32)           8224        bert_dense[0][0]                 \n",
            "__________________________________________________________________________________________________\n",
            "dense (Dense)                   (None, 1)            33          intermediate_dense[0][0]         \n",
            "==================================================================================================\n",
            "Total params: 109,687,361\n",
            "Trainable params: 205,121\n",
            "Non-trainable params: 109,482,240\n",
            "__________________________________________________________________________________________________\n"
          ],
          "name": "stdout"
        }
      ]
    },
    {
      "cell_type": "code",
      "metadata": {
        "colab": {
          "base_uri": "https://localhost:8080/"
        },
        "id": "GDFAzYp46Beo",
        "outputId": "554f151a-137a-4f1d-8c74-eed07810c79f"
      },
      "source": [
        "optimizer = optimizers.RMSprop(0.0001)\n",
        "loss = losses.binary_crossentropy\n",
        "metrics=['mse']\n",
        "bert_model.compile(optimizer=optimizer, loss = loss, metrics = metrics)\n",
        "early_stopping = tf.keras.callbacks.EarlyStopping(\n",
        "    monitor='val_loss', min_delta=0, patience=10, verbose=0, mode='auto'\n",
        ")\n",
        "\n",
        "bert_result = bert_model.fit(train_data, validation_data = validation_data, callbacks=early_stopping, epochs = 100, verbose = 1)"
      ],
      "execution_count": null,
      "outputs": [
        {
          "output_type": "stream",
          "text": [
            "Epoch 1/100\n",
            "163/163 [==============================] - 299s 2s/step - loss: 0.6600 - mse: 0.0455 - val_loss: 0.6414 - val_mse: 0.0350\n",
            "Epoch 2/100\n",
            "163/163 [==============================] - 297s 2s/step - loss: 0.6481 - mse: 0.0399 - val_loss: 0.6384 - val_mse: 0.0337\n",
            "Epoch 3/100\n",
            "163/163 [==============================] - 297s 2s/step - loss: 0.6443 - mse: 0.0382 - val_loss: 0.6328 - val_mse: 0.0312\n",
            "Epoch 4/100\n",
            "163/163 [==============================] - 297s 2s/step - loss: 0.6408 - mse: 0.0366 - val_loss: 0.6309 - val_mse: 0.0303\n",
            "Epoch 5/100\n",
            "163/163 [==============================] - 297s 2s/step - loss: 0.6388 - mse: 0.0356 - val_loss: 0.6254 - val_mse: 0.0278\n",
            "Epoch 6/100\n",
            "163/163 [==============================] - 297s 2s/step - loss: 0.6385 - mse: 0.0355 - val_loss: 0.6273 - val_mse: 0.0287\n",
            "Epoch 7/100\n",
            "163/163 [==============================] - 297s 2s/step - loss: 0.6368 - mse: 0.0348 - val_loss: 0.6247 - val_mse: 0.0275\n",
            "Epoch 8/100\n",
            "163/163 [==============================] - 297s 2s/step - loss: 0.6360 - mse: 0.0344 - val_loss: 0.6302 - val_mse: 0.0303\n",
            "Epoch 9/100\n",
            "163/163 [==============================] - 297s 2s/step - loss: 0.6357 - mse: 0.0342 - val_loss: 0.6274 - val_mse: 0.0290\n",
            "Epoch 10/100\n",
            "163/163 [==============================] - 297s 2s/step - loss: 0.6348 - mse: 0.0338 - val_loss: 0.6281 - val_mse: 0.0293\n",
            "Epoch 11/100\n",
            "163/163 [==============================] - 297s 2s/step - loss: 0.6356 - mse: 0.0342 - val_loss: 0.6273 - val_mse: 0.0289\n",
            "Epoch 12/100\n",
            "163/163 [==============================] - 297s 2s/step - loss: 0.6336 - mse: 0.0333 - val_loss: 0.6231 - val_mse: 0.0269\n",
            "Epoch 13/100\n",
            "163/163 [==============================] - 297s 2s/step - loss: 0.6340 - mse: 0.0335 - val_loss: 0.6248 - val_mse: 0.0277\n",
            "Epoch 14/100\n",
            "163/163 [==============================] - 297s 2s/step - loss: 0.6329 - mse: 0.0330 - val_loss: 0.6259 - val_mse: 0.0283\n",
            "Epoch 15/100\n",
            "163/163 [==============================] - 297s 2s/step - loss: 0.6338 - mse: 0.0334 - val_loss: 0.6230 - val_mse: 0.0269\n",
            "Epoch 16/100\n",
            "163/163 [==============================] - 297s 2s/step - loss: 0.6321 - mse: 0.0326 - val_loss: 0.6267 - val_mse: 0.0286\n",
            "Epoch 17/100\n",
            "163/163 [==============================] - 297s 2s/step - loss: 0.6319 - mse: 0.0326 - val_loss: 0.6267 - val_mse: 0.0286\n",
            "Epoch 18/100\n",
            "163/163 [==============================] - 297s 2s/step - loss: 0.6325 - mse: 0.0328 - val_loss: 0.6274 - val_mse: 0.0289\n",
            "Epoch 19/100\n",
            "163/163 [==============================] - 297s 2s/step - loss: 0.6323 - mse: 0.0327 - val_loss: 0.6223 - val_mse: 0.0266\n",
            "Epoch 20/100\n",
            "163/163 [==============================] - 297s 2s/step - loss: 0.6308 - mse: 0.0321 - val_loss: 0.6211 - val_mse: 0.0260\n",
            "Epoch 21/100\n",
            "163/163 [==============================] - 297s 2s/step - loss: 0.6312 - mse: 0.0323 - val_loss: 0.6237 - val_mse: 0.0272\n",
            "Epoch 22/100\n",
            "163/163 [==============================] - 297s 2s/step - loss: 0.6306 - mse: 0.0320 - val_loss: 0.6202 - val_mse: 0.0256\n",
            "Epoch 23/100\n",
            "163/163 [==============================] - 297s 2s/step - loss: 0.6308 - mse: 0.0321 - val_loss: 0.6222 - val_mse: 0.0266\n",
            "Epoch 24/100\n",
            "163/163 [==============================] - 297s 2s/step - loss: 0.6311 - mse: 0.0322 - val_loss: 0.6215 - val_mse: 0.0263\n",
            "Epoch 25/100\n",
            "163/163 [==============================] - 297s 2s/step - loss: 0.6298 - mse: 0.0316 - val_loss: 0.6195 - val_mse: 0.0252\n",
            "Epoch 26/100\n",
            "163/163 [==============================] - 297s 2s/step - loss: 0.6297 - mse: 0.0316 - val_loss: 0.6231 - val_mse: 0.0270\n",
            "Epoch 27/100\n",
            "163/163 [==============================] - 297s 2s/step - loss: 0.6300 - mse: 0.0318 - val_loss: 0.6194 - val_mse: 0.0252\n",
            "Epoch 28/100\n",
            "163/163 [==============================] - 297s 2s/step - loss: 0.6303 - mse: 0.0319 - val_loss: 0.6227 - val_mse: 0.0267\n",
            "Epoch 29/100\n",
            "163/163 [==============================] - 297s 2s/step - loss: 0.6289 - mse: 0.0313 - val_loss: 0.6201 - val_mse: 0.0256\n",
            "Epoch 30/100\n",
            "163/163 [==============================] - 297s 2s/step - loss: 0.6290 - mse: 0.0313 - val_loss: 0.6236 - val_mse: 0.0272\n",
            "Epoch 31/100\n",
            "163/163 [==============================] - 297s 2s/step - loss: 0.6295 - mse: 0.0315 - val_loss: 0.6193 - val_mse: 0.0252\n",
            "Epoch 32/100\n",
            "163/163 [==============================] - 297s 2s/step - loss: 0.6290 - mse: 0.0313 - val_loss: 0.6227 - val_mse: 0.0268\n",
            "Epoch 33/100\n",
            "163/163 [==============================] - 297s 2s/step - loss: 0.6298 - mse: 0.0316 - val_loss: 0.6205 - val_mse: 0.0258\n",
            "Epoch 34/100\n",
            "163/163 [==============================] - 297s 2s/step - loss: 0.6295 - mse: 0.0315 - val_loss: 0.6210 - val_mse: 0.0261\n",
            "Epoch 35/100\n",
            "163/163 [==============================] - 297s 2s/step - loss: 0.6286 - mse: 0.0311 - val_loss: 0.6239 - val_mse: 0.0274\n",
            "Epoch 36/100\n",
            "163/163 [==============================] - 297s 2s/step - loss: 0.6291 - mse: 0.0314 - val_loss: 0.6210 - val_mse: 0.0259\n",
            "Epoch 37/100\n",
            "163/163 [==============================] - 297s 2s/step - loss: 0.6294 - mse: 0.0314 - val_loss: 0.6202 - val_mse: 0.0257\n",
            "Epoch 38/100\n",
            "163/163 [==============================] - 297s 2s/step - loss: 0.6296 - mse: 0.0315 - val_loss: 0.6216 - val_mse: 0.0262\n",
            "Epoch 39/100\n",
            "163/163 [==============================] - 297s 2s/step - loss: 0.6282 - mse: 0.0310 - val_loss: 0.6230 - val_mse: 0.0269\n",
            "Epoch 40/100\n",
            "163/163 [==============================] - 297s 2s/step - loss: 0.6285 - mse: 0.0311 - val_loss: 0.6221 - val_mse: 0.0266\n",
            "Epoch 41/100\n",
            "163/163 [==============================] - 297s 2s/step - loss: 0.6286 - mse: 0.0311 - val_loss: 0.6227 - val_mse: 0.0269\n"
          ],
          "name": "stdout"
        }
      ]
    },
    {
      "cell_type": "code",
      "metadata": {
        "id": "gMpJ4eB5KOBN"
      },
      "source": [
        "bert_model.load_weights('/content/drive/MyDrive/AC295 Final Proj/models/BERT_Model.h5')"
      ],
      "execution_count": 24,
      "outputs": []
    },
    {
      "cell_type": "markdown",
      "metadata": {
        "id": "TVj_a-maNq4Z"
      },
      "source": [
        "# Comparison of models"
      ]
    },
    {
      "cell_type": "code",
      "metadata": {
        "id": "D-aFa9dDMqtO"
      },
      "source": [
        "QWK_ffnn=QWK(model_ffnn)\n",
        "QWK_em_lstm=QWK(model_em_lstm)\n",
        "QWK_em_gru=QWK(model_em_gru)\n",
        "QWK_glo_lstm=QWK(model_glo_lstm)\n",
        "QWK_glo_gru=QWK(model_glo_gru)"
      ],
      "execution_count": 42,
      "outputs": []
    },
    {
      "cell_type": "code",
      "metadata": {
        "id": "SGGtG6VUMqxs"
      },
      "source": [
        "QWK_bert_result=QWK_bert(bert_model)"
      ],
      "execution_count": 45,
      "outputs": []
    },
    {
      "cell_type": "code",
      "metadata": {
        "id": "Ky9-4zX8Po_4"
      },
      "source": [
        "QWK_summary=pd.DataFrame(columns=['Essay set ' + str(i) for i in range(1,9)])\n",
        "QWK_summary.loc['FFNN']=QWK_ffnn.values\n",
        "QWK_summary.loc['Embedding + LSTM']=QWK_em_lstm.values\n",
        "QWK_summary.loc['Embedding + GRU']=QWK_em_gru.values\n",
        "QWK_summary.loc['Glove + LSTM']=QWK_glo_lstm.values\n",
        "QWK_summary.loc['Glove + GRU']=QWK_glo_gru.values\n",
        "QWK_summary.loc['BERT']=QWK_bert_result.values\n",
        "\n",
        "QWK_summary['Avg QWK']=QWK_summary.mean(axis=1)"
      ],
      "execution_count": 52,
      "outputs": []
    },
    {
      "cell_type": "code",
      "metadata": {
        "colab": {
          "base_uri": "https://localhost:8080/",
          "height": 225
        },
        "id": "dFnrgV2VMq1k",
        "outputId": "5ec5e728-b983-49a5-abd1-421d5c0c81ef"
      },
      "source": [
        "QWK_summary"
      ],
      "execution_count": 53,
      "outputs": [
        {
          "output_type": "execute_result",
          "data": {
            "text/html": [
              "<div>\n",
              "<style scoped>\n",
              "    .dataframe tbody tr th:only-of-type {\n",
              "        vertical-align: middle;\n",
              "    }\n",
              "\n",
              "    .dataframe tbody tr th {\n",
              "        vertical-align: top;\n",
              "    }\n",
              "\n",
              "    .dataframe thead th {\n",
              "        text-align: right;\n",
              "    }\n",
              "</style>\n",
              "<table border=\"1\" class=\"dataframe\">\n",
              "  <thead>\n",
              "    <tr style=\"text-align: right;\">\n",
              "      <th></th>\n",
              "      <th>Essay set 1</th>\n",
              "      <th>Essay set 2</th>\n",
              "      <th>Essay set 3</th>\n",
              "      <th>Essay set 4</th>\n",
              "      <th>Essay set 5</th>\n",
              "      <th>Essay set 6</th>\n",
              "      <th>Essay set 7</th>\n",
              "      <th>Essay set 8</th>\n",
              "      <th>Avg QWK</th>\n",
              "    </tr>\n",
              "  </thead>\n",
              "  <tbody>\n",
              "    <tr>\n",
              "      <th>FFNN</th>\n",
              "      <td>0.294252</td>\n",
              "      <td>0.122350</td>\n",
              "      <td>0.567171</td>\n",
              "      <td>0.530039</td>\n",
              "      <td>0.532715</td>\n",
              "      <td>0.342619</td>\n",
              "      <td>0.333485</td>\n",
              "      <td>0.162455</td>\n",
              "      <td>0.360636</td>\n",
              "    </tr>\n",
              "    <tr>\n",
              "      <th>Embedding + LSTM</th>\n",
              "      <td>0.479017</td>\n",
              "      <td>0.299045</td>\n",
              "      <td>0.296402</td>\n",
              "      <td>0.556103</td>\n",
              "      <td>0.475475</td>\n",
              "      <td>0.516581</td>\n",
              "      <td>0.383937</td>\n",
              "      <td>0.438777</td>\n",
              "      <td>0.430667</td>\n",
              "    </tr>\n",
              "    <tr>\n",
              "      <th>Embedding + GRU</th>\n",
              "      <td>0.414639</td>\n",
              "      <td>0.248768</td>\n",
              "      <td>0.520060</td>\n",
              "      <td>0.684207</td>\n",
              "      <td>0.577488</td>\n",
              "      <td>0.686443</td>\n",
              "      <td>0.435944</td>\n",
              "      <td>0.304459</td>\n",
              "      <td>0.484001</td>\n",
              "    </tr>\n",
              "    <tr>\n",
              "      <th>Glove + LSTM</th>\n",
              "      <td>0.658382</td>\n",
              "      <td>0.562710</td>\n",
              "      <td>0.669441</td>\n",
              "      <td>0.781211</td>\n",
              "      <td>0.771155</td>\n",
              "      <td>0.777059</td>\n",
              "      <td>0.661381</td>\n",
              "      <td>0.348823</td>\n",
              "      <td>0.653770</td>\n",
              "    </tr>\n",
              "    <tr>\n",
              "      <th>Glove + GRU</th>\n",
              "      <td>0.699782</td>\n",
              "      <td>0.597902</td>\n",
              "      <td>0.660300</td>\n",
              "      <td>0.800982</td>\n",
              "      <td>0.799006</td>\n",
              "      <td>0.806195</td>\n",
              "      <td>0.681931</td>\n",
              "      <td>0.414676</td>\n",
              "      <td>0.682597</td>\n",
              "    </tr>\n",
              "    <tr>\n",
              "      <th>BERT</th>\n",
              "      <td>0.507637</td>\n",
              "      <td>0.294903</td>\n",
              "      <td>0.390665</td>\n",
              "      <td>0.546719</td>\n",
              "      <td>0.605543</td>\n",
              "      <td>0.440768</td>\n",
              "      <td>0.684060</td>\n",
              "      <td>0.594885</td>\n",
              "      <td>0.508147</td>\n",
              "    </tr>\n",
              "  </tbody>\n",
              "</table>\n",
              "</div>"
            ],
            "text/plain": [
              "                  Essay set 1  Essay set 2  ...  Essay set 8   Avg QWK\n",
              "FFNN                 0.294252     0.122350  ...     0.162455  0.360636\n",
              "Embedding + LSTM     0.479017     0.299045  ...     0.438777  0.430667\n",
              "Embedding + GRU      0.414639     0.248768  ...     0.304459  0.484001\n",
              "Glove + LSTM         0.658382     0.562710  ...     0.348823  0.653770\n",
              "Glove + GRU          0.699782     0.597902  ...     0.414676  0.682597\n",
              "BERT                 0.507637     0.294903  ...     0.594885  0.508147\n",
              "\n",
              "[6 rows x 9 columns]"
            ]
          },
          "metadata": {
            "tags": []
          },
          "execution_count": 53
        }
      ]
    },
    {
      "cell_type": "code",
      "metadata": {
        "id": "3kWPFeroQ-5P"
      },
      "source": [
        ""
      ],
      "execution_count": null,
      "outputs": []
    }
  ]
}