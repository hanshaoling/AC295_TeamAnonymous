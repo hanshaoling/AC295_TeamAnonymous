{
  "nbformat": 4,
  "nbformat_minor": 0,
  "metadata": {
    "accelerator": "GPU",
    "colab": {
      "name": "Combined_AES_Reg_model.ipynb",
      "provenance": [],
      "toc_visible": true,
      "machine_shape": "hm"
    },
    "kernelspec": {
      "display_name": "Python 3",
      "name": "python3"
    },
    "widgets": {
      "application/vnd.jupyter.widget-state+json": {
        "0d73af323ef746b8be794abb709967c7": {
          "model_module": "@jupyter-widgets/controls",
          "model_name": "HBoxModel",
          "state": {
            "_view_name": "HBoxView",
            "_dom_classes": [],
            "_model_name": "HBoxModel",
            "_view_module": "@jupyter-widgets/controls",
            "_model_module_version": "1.5.0",
            "_view_count": null,
            "_view_module_version": "1.5.0",
            "box_style": "",
            "layout": "IPY_MODEL_90c8606964214be99f6162cf7eb1c795",
            "_model_module": "@jupyter-widgets/controls",
            "children": [
              "IPY_MODEL_af99135dca7f43be83a32b13df28cc13",
              "IPY_MODEL_4ef644064cba4fe7bfbab04c23765c92"
            ]
          }
        },
        "90c8606964214be99f6162cf7eb1c795": {
          "model_module": "@jupyter-widgets/base",
          "model_name": "LayoutModel",
          "state": {
            "_view_name": "LayoutView",
            "grid_template_rows": null,
            "right": null,
            "justify_content": null,
            "_view_module": "@jupyter-widgets/base",
            "overflow": null,
            "_model_module_version": "1.2.0",
            "_view_count": null,
            "flex_flow": null,
            "width": null,
            "min_width": null,
            "border": null,
            "align_items": null,
            "bottom": null,
            "_model_module": "@jupyter-widgets/base",
            "top": null,
            "grid_column": null,
            "overflow_y": null,
            "overflow_x": null,
            "grid_auto_flow": null,
            "grid_area": null,
            "grid_template_columns": null,
            "flex": null,
            "_model_name": "LayoutModel",
            "justify_items": null,
            "grid_row": null,
            "max_height": null,
            "align_content": null,
            "visibility": null,
            "align_self": null,
            "height": null,
            "min_height": null,
            "padding": null,
            "grid_auto_rows": null,
            "grid_gap": null,
            "max_width": null,
            "order": null,
            "_view_module_version": "1.2.0",
            "grid_template_areas": null,
            "object_position": null,
            "object_fit": null,
            "grid_auto_columns": null,
            "margin": null,
            "display": null,
            "left": null
          }
        },
        "af99135dca7f43be83a32b13df28cc13": {
          "model_module": "@jupyter-widgets/controls",
          "model_name": "FloatProgressModel",
          "state": {
            "_view_name": "ProgressView",
            "style": "IPY_MODEL_17d4286da44d41708b26ee11acc38c2d",
            "_dom_classes": [],
            "description": "Downloading: 100%",
            "_model_name": "FloatProgressModel",
            "bar_style": "success",
            "max": 231508,
            "_view_module": "@jupyter-widgets/controls",
            "_model_module_version": "1.5.0",
            "value": 231508,
            "_view_count": null,
            "_view_module_version": "1.5.0",
            "orientation": "horizontal",
            "min": 0,
            "description_tooltip": null,
            "_model_module": "@jupyter-widgets/controls",
            "layout": "IPY_MODEL_7536c19f1b9649cf866a506fb92d841c"
          }
        },
        "4ef644064cba4fe7bfbab04c23765c92": {
          "model_module": "@jupyter-widgets/controls",
          "model_name": "HTMLModel",
          "state": {
            "_view_name": "HTMLView",
            "style": "IPY_MODEL_ec5ef467dbd54c939f448696f2e42b61",
            "_dom_classes": [],
            "description": "",
            "_model_name": "HTMLModel",
            "placeholder": "​",
            "_view_module": "@jupyter-widgets/controls",
            "_model_module_version": "1.5.0",
            "value": " 232k/232k [00:00&lt;00:00, 639kB/s]",
            "_view_count": null,
            "_view_module_version": "1.5.0",
            "description_tooltip": null,
            "_model_module": "@jupyter-widgets/controls",
            "layout": "IPY_MODEL_edf103d3aa75468695c8028a52270786"
          }
        },
        "17d4286da44d41708b26ee11acc38c2d": {
          "model_module": "@jupyter-widgets/controls",
          "model_name": "ProgressStyleModel",
          "state": {
            "_view_name": "StyleView",
            "_model_name": "ProgressStyleModel",
            "description_width": "initial",
            "_view_module": "@jupyter-widgets/base",
            "_model_module_version": "1.5.0",
            "_view_count": null,
            "_view_module_version": "1.2.0",
            "bar_color": null,
            "_model_module": "@jupyter-widgets/controls"
          }
        },
        "7536c19f1b9649cf866a506fb92d841c": {
          "model_module": "@jupyter-widgets/base",
          "model_name": "LayoutModel",
          "state": {
            "_view_name": "LayoutView",
            "grid_template_rows": null,
            "right": null,
            "justify_content": null,
            "_view_module": "@jupyter-widgets/base",
            "overflow": null,
            "_model_module_version": "1.2.0",
            "_view_count": null,
            "flex_flow": null,
            "width": null,
            "min_width": null,
            "border": null,
            "align_items": null,
            "bottom": null,
            "_model_module": "@jupyter-widgets/base",
            "top": null,
            "grid_column": null,
            "overflow_y": null,
            "overflow_x": null,
            "grid_auto_flow": null,
            "grid_area": null,
            "grid_template_columns": null,
            "flex": null,
            "_model_name": "LayoutModel",
            "justify_items": null,
            "grid_row": null,
            "max_height": null,
            "align_content": null,
            "visibility": null,
            "align_self": null,
            "height": null,
            "min_height": null,
            "padding": null,
            "grid_auto_rows": null,
            "grid_gap": null,
            "max_width": null,
            "order": null,
            "_view_module_version": "1.2.0",
            "grid_template_areas": null,
            "object_position": null,
            "object_fit": null,
            "grid_auto_columns": null,
            "margin": null,
            "display": null,
            "left": null
          }
        },
        "ec5ef467dbd54c939f448696f2e42b61": {
          "model_module": "@jupyter-widgets/controls",
          "model_name": "DescriptionStyleModel",
          "state": {
            "_view_name": "StyleView",
            "_model_name": "DescriptionStyleModel",
            "description_width": "",
            "_view_module": "@jupyter-widgets/base",
            "_model_module_version": "1.5.0",
            "_view_count": null,
            "_view_module_version": "1.2.0",
            "_model_module": "@jupyter-widgets/controls"
          }
        },
        "edf103d3aa75468695c8028a52270786": {
          "model_module": "@jupyter-widgets/base",
          "model_name": "LayoutModel",
          "state": {
            "_view_name": "LayoutView",
            "grid_template_rows": null,
            "right": null,
            "justify_content": null,
            "_view_module": "@jupyter-widgets/base",
            "overflow": null,
            "_model_module_version": "1.2.0",
            "_view_count": null,
            "flex_flow": null,
            "width": null,
            "min_width": null,
            "border": null,
            "align_items": null,
            "bottom": null,
            "_model_module": "@jupyter-widgets/base",
            "top": null,
            "grid_column": null,
            "overflow_y": null,
            "overflow_x": null,
            "grid_auto_flow": null,
            "grid_area": null,
            "grid_template_columns": null,
            "flex": null,
            "_model_name": "LayoutModel",
            "justify_items": null,
            "grid_row": null,
            "max_height": null,
            "align_content": null,
            "visibility": null,
            "align_self": null,
            "height": null,
            "min_height": null,
            "padding": null,
            "grid_auto_rows": null,
            "grid_gap": null,
            "max_width": null,
            "order": null,
            "_view_module_version": "1.2.0",
            "grid_template_areas": null,
            "object_position": null,
            "object_fit": null,
            "grid_auto_columns": null,
            "margin": null,
            "display": null,
            "left": null
          }
        },
        "918d5bf82b064f81bd8189924fbf692d": {
          "model_module": "@jupyter-widgets/controls",
          "model_name": "HBoxModel",
          "state": {
            "_view_name": "HBoxView",
            "_dom_classes": [],
            "_model_name": "HBoxModel",
            "_view_module": "@jupyter-widgets/controls",
            "_model_module_version": "1.5.0",
            "_view_count": null,
            "_view_module_version": "1.5.0",
            "box_style": "",
            "layout": "IPY_MODEL_dc16e6c2afdf44af882c448cfc9ad452",
            "_model_module": "@jupyter-widgets/controls",
            "children": [
              "IPY_MODEL_6eabd4f70e69479d8c02388e59908f84",
              "IPY_MODEL_d7a22254ea054bc8bedf128dfbc373fc"
            ]
          }
        },
        "dc16e6c2afdf44af882c448cfc9ad452": {
          "model_module": "@jupyter-widgets/base",
          "model_name": "LayoutModel",
          "state": {
            "_view_name": "LayoutView",
            "grid_template_rows": null,
            "right": null,
            "justify_content": null,
            "_view_module": "@jupyter-widgets/base",
            "overflow": null,
            "_model_module_version": "1.2.0",
            "_view_count": null,
            "flex_flow": null,
            "width": null,
            "min_width": null,
            "border": null,
            "align_items": null,
            "bottom": null,
            "_model_module": "@jupyter-widgets/base",
            "top": null,
            "grid_column": null,
            "overflow_y": null,
            "overflow_x": null,
            "grid_auto_flow": null,
            "grid_area": null,
            "grid_template_columns": null,
            "flex": null,
            "_model_name": "LayoutModel",
            "justify_items": null,
            "grid_row": null,
            "max_height": null,
            "align_content": null,
            "visibility": null,
            "align_self": null,
            "height": null,
            "min_height": null,
            "padding": null,
            "grid_auto_rows": null,
            "grid_gap": null,
            "max_width": null,
            "order": null,
            "_view_module_version": "1.2.0",
            "grid_template_areas": null,
            "object_position": null,
            "object_fit": null,
            "grid_auto_columns": null,
            "margin": null,
            "display": null,
            "left": null
          }
        },
        "6eabd4f70e69479d8c02388e59908f84": {
          "model_module": "@jupyter-widgets/controls",
          "model_name": "FloatProgressModel",
          "state": {
            "_view_name": "ProgressView",
            "style": "IPY_MODEL_aab5b289686344029ab93af159728d6e",
            "_dom_classes": [],
            "description": "Downloading: 100%",
            "_model_name": "FloatProgressModel",
            "bar_style": "success",
            "max": 433,
            "_view_module": "@jupyter-widgets/controls",
            "_model_module_version": "1.5.0",
            "value": 433,
            "_view_count": null,
            "_view_module_version": "1.5.0",
            "orientation": "horizontal",
            "min": 0,
            "description_tooltip": null,
            "_model_module": "@jupyter-widgets/controls",
            "layout": "IPY_MODEL_caf177f2ecec4d76aacb46aaa879d8bc"
          }
        },
        "d7a22254ea054bc8bedf128dfbc373fc": {
          "model_module": "@jupyter-widgets/controls",
          "model_name": "HTMLModel",
          "state": {
            "_view_name": "HTMLView",
            "style": "IPY_MODEL_57c0fcfdbba746c4aa337831da5a9607",
            "_dom_classes": [],
            "description": "",
            "_model_name": "HTMLModel",
            "placeholder": "​",
            "_view_module": "@jupyter-widgets/controls",
            "_model_module_version": "1.5.0",
            "value": " 433/433 [00:00&lt;00:00, 1.48kB/s]",
            "_view_count": null,
            "_view_module_version": "1.5.0",
            "description_tooltip": null,
            "_model_module": "@jupyter-widgets/controls",
            "layout": "IPY_MODEL_a80cb8e4dd80406d8a46b9a06510fcdd"
          }
        },
        "aab5b289686344029ab93af159728d6e": {
          "model_module": "@jupyter-widgets/controls",
          "model_name": "ProgressStyleModel",
          "state": {
            "_view_name": "StyleView",
            "_model_name": "ProgressStyleModel",
            "description_width": "initial",
            "_view_module": "@jupyter-widgets/base",
            "_model_module_version": "1.5.0",
            "_view_count": null,
            "_view_module_version": "1.2.0",
            "bar_color": null,
            "_model_module": "@jupyter-widgets/controls"
          }
        },
        "caf177f2ecec4d76aacb46aaa879d8bc": {
          "model_module": "@jupyter-widgets/base",
          "model_name": "LayoutModel",
          "state": {
            "_view_name": "LayoutView",
            "grid_template_rows": null,
            "right": null,
            "justify_content": null,
            "_view_module": "@jupyter-widgets/base",
            "overflow": null,
            "_model_module_version": "1.2.0",
            "_view_count": null,
            "flex_flow": null,
            "width": null,
            "min_width": null,
            "border": null,
            "align_items": null,
            "bottom": null,
            "_model_module": "@jupyter-widgets/base",
            "top": null,
            "grid_column": null,
            "overflow_y": null,
            "overflow_x": null,
            "grid_auto_flow": null,
            "grid_area": null,
            "grid_template_columns": null,
            "flex": null,
            "_model_name": "LayoutModel",
            "justify_items": null,
            "grid_row": null,
            "max_height": null,
            "align_content": null,
            "visibility": null,
            "align_self": null,
            "height": null,
            "min_height": null,
            "padding": null,
            "grid_auto_rows": null,
            "grid_gap": null,
            "max_width": null,
            "order": null,
            "_view_module_version": "1.2.0",
            "grid_template_areas": null,
            "object_position": null,
            "object_fit": null,
            "grid_auto_columns": null,
            "margin": null,
            "display": null,
            "left": null
          }
        },
        "57c0fcfdbba746c4aa337831da5a9607": {
          "model_module": "@jupyter-widgets/controls",
          "model_name": "DescriptionStyleModel",
          "state": {
            "_view_name": "StyleView",
            "_model_name": "DescriptionStyleModel",
            "description_width": "",
            "_view_module": "@jupyter-widgets/base",
            "_model_module_version": "1.5.0",
            "_view_count": null,
            "_view_module_version": "1.2.0",
            "_model_module": "@jupyter-widgets/controls"
          }
        },
        "a80cb8e4dd80406d8a46b9a06510fcdd": {
          "model_module": "@jupyter-widgets/base",
          "model_name": "LayoutModel",
          "state": {
            "_view_name": "LayoutView",
            "grid_template_rows": null,
            "right": null,
            "justify_content": null,
            "_view_module": "@jupyter-widgets/base",
            "overflow": null,
            "_model_module_version": "1.2.0",
            "_view_count": null,
            "flex_flow": null,
            "width": null,
            "min_width": null,
            "border": null,
            "align_items": null,
            "bottom": null,
            "_model_module": "@jupyter-widgets/base",
            "top": null,
            "grid_column": null,
            "overflow_y": null,
            "overflow_x": null,
            "grid_auto_flow": null,
            "grid_area": null,
            "grid_template_columns": null,
            "flex": null,
            "_model_name": "LayoutModel",
            "justify_items": null,
            "grid_row": null,
            "max_height": null,
            "align_content": null,
            "visibility": null,
            "align_self": null,
            "height": null,
            "min_height": null,
            "padding": null,
            "grid_auto_rows": null,
            "grid_gap": null,
            "max_width": null,
            "order": null,
            "_view_module_version": "1.2.0",
            "grid_template_areas": null,
            "object_position": null,
            "object_fit": null,
            "grid_auto_columns": null,
            "margin": null,
            "display": null,
            "left": null
          }
        },
        "45e71cbce3b646a087ae1ac5d4d5afe4": {
          "model_module": "@jupyter-widgets/controls",
          "model_name": "HBoxModel",
          "state": {
            "_view_name": "HBoxView",
            "_dom_classes": [],
            "_model_name": "HBoxModel",
            "_view_module": "@jupyter-widgets/controls",
            "_model_module_version": "1.5.0",
            "_view_count": null,
            "_view_module_version": "1.5.0",
            "box_style": "",
            "layout": "IPY_MODEL_7ca7c2e901d04bd0b2e26228ac754eec",
            "_model_module": "@jupyter-widgets/controls",
            "children": [
              "IPY_MODEL_73fe9d16ebe14a05a54944d6583cf5c7",
              "IPY_MODEL_9dae030d89b24620897d4bb884c9872b"
            ]
          }
        },
        "7ca7c2e901d04bd0b2e26228ac754eec": {
          "model_module": "@jupyter-widgets/base",
          "model_name": "LayoutModel",
          "state": {
            "_view_name": "LayoutView",
            "grid_template_rows": null,
            "right": null,
            "justify_content": null,
            "_view_module": "@jupyter-widgets/base",
            "overflow": null,
            "_model_module_version": "1.2.0",
            "_view_count": null,
            "flex_flow": null,
            "width": null,
            "min_width": null,
            "border": null,
            "align_items": null,
            "bottom": null,
            "_model_module": "@jupyter-widgets/base",
            "top": null,
            "grid_column": null,
            "overflow_y": null,
            "overflow_x": null,
            "grid_auto_flow": null,
            "grid_area": null,
            "grid_template_columns": null,
            "flex": null,
            "_model_name": "LayoutModel",
            "justify_items": null,
            "grid_row": null,
            "max_height": null,
            "align_content": null,
            "visibility": null,
            "align_self": null,
            "height": null,
            "min_height": null,
            "padding": null,
            "grid_auto_rows": null,
            "grid_gap": null,
            "max_width": null,
            "order": null,
            "_view_module_version": "1.2.0",
            "grid_template_areas": null,
            "object_position": null,
            "object_fit": null,
            "grid_auto_columns": null,
            "margin": null,
            "display": null,
            "left": null
          }
        },
        "73fe9d16ebe14a05a54944d6583cf5c7": {
          "model_module": "@jupyter-widgets/controls",
          "model_name": "FloatProgressModel",
          "state": {
            "_view_name": "ProgressView",
            "style": "IPY_MODEL_d8afe67bc12c49f7b3afdbb897fcae67",
            "_dom_classes": [],
            "description": "Downloading: 100%",
            "_model_name": "FloatProgressModel",
            "bar_style": "success",
            "max": 536063208,
            "_view_module": "@jupyter-widgets/controls",
            "_model_module_version": "1.5.0",
            "value": 536063208,
            "_view_count": null,
            "_view_module_version": "1.5.0",
            "orientation": "horizontal",
            "min": 0,
            "description_tooltip": null,
            "_model_module": "@jupyter-widgets/controls",
            "layout": "IPY_MODEL_238bd4fb79494b3198b0a85cbd83367a"
          }
        },
        "9dae030d89b24620897d4bb884c9872b": {
          "model_module": "@jupyter-widgets/controls",
          "model_name": "HTMLModel",
          "state": {
            "_view_name": "HTMLView",
            "style": "IPY_MODEL_4cacc1ba8c2e407daca4ccac0d74530d",
            "_dom_classes": [],
            "description": "",
            "_model_name": "HTMLModel",
            "placeholder": "​",
            "_view_module": "@jupyter-widgets/controls",
            "_model_module_version": "1.5.0",
            "value": " 536M/536M [00:07&lt;00:00, 74.4MB/s]",
            "_view_count": null,
            "_view_module_version": "1.5.0",
            "description_tooltip": null,
            "_model_module": "@jupyter-widgets/controls",
            "layout": "IPY_MODEL_92c1ba83b82e43688172c7bfc4f76ed1"
          }
        },
        "d8afe67bc12c49f7b3afdbb897fcae67": {
          "model_module": "@jupyter-widgets/controls",
          "model_name": "ProgressStyleModel",
          "state": {
            "_view_name": "StyleView",
            "_model_name": "ProgressStyleModel",
            "description_width": "initial",
            "_view_module": "@jupyter-widgets/base",
            "_model_module_version": "1.5.0",
            "_view_count": null,
            "_view_module_version": "1.2.0",
            "bar_color": null,
            "_model_module": "@jupyter-widgets/controls"
          }
        },
        "238bd4fb79494b3198b0a85cbd83367a": {
          "model_module": "@jupyter-widgets/base",
          "model_name": "LayoutModel",
          "state": {
            "_view_name": "LayoutView",
            "grid_template_rows": null,
            "right": null,
            "justify_content": null,
            "_view_module": "@jupyter-widgets/base",
            "overflow": null,
            "_model_module_version": "1.2.0",
            "_view_count": null,
            "flex_flow": null,
            "width": null,
            "min_width": null,
            "border": null,
            "align_items": null,
            "bottom": null,
            "_model_module": "@jupyter-widgets/base",
            "top": null,
            "grid_column": null,
            "overflow_y": null,
            "overflow_x": null,
            "grid_auto_flow": null,
            "grid_area": null,
            "grid_template_columns": null,
            "flex": null,
            "_model_name": "LayoutModel",
            "justify_items": null,
            "grid_row": null,
            "max_height": null,
            "align_content": null,
            "visibility": null,
            "align_self": null,
            "height": null,
            "min_height": null,
            "padding": null,
            "grid_auto_rows": null,
            "grid_gap": null,
            "max_width": null,
            "order": null,
            "_view_module_version": "1.2.0",
            "grid_template_areas": null,
            "object_position": null,
            "object_fit": null,
            "grid_auto_columns": null,
            "margin": null,
            "display": null,
            "left": null
          }
        },
        "4cacc1ba8c2e407daca4ccac0d74530d": {
          "model_module": "@jupyter-widgets/controls",
          "model_name": "DescriptionStyleModel",
          "state": {
            "_view_name": "StyleView",
            "_model_name": "DescriptionStyleModel",
            "description_width": "",
            "_view_module": "@jupyter-widgets/base",
            "_model_module_version": "1.5.0",
            "_view_count": null,
            "_view_module_version": "1.2.0",
            "_model_module": "@jupyter-widgets/controls"
          }
        },
        "92c1ba83b82e43688172c7bfc4f76ed1": {
          "model_module": "@jupyter-widgets/base",
          "model_name": "LayoutModel",
          "state": {
            "_view_name": "LayoutView",
            "grid_template_rows": null,
            "right": null,
            "justify_content": null,
            "_view_module": "@jupyter-widgets/base",
            "overflow": null,
            "_model_module_version": "1.2.0",
            "_view_count": null,
            "flex_flow": null,
            "width": null,
            "min_width": null,
            "border": null,
            "align_items": null,
            "bottom": null,
            "_model_module": "@jupyter-widgets/base",
            "top": null,
            "grid_column": null,
            "overflow_y": null,
            "overflow_x": null,
            "grid_auto_flow": null,
            "grid_area": null,
            "grid_template_columns": null,
            "flex": null,
            "_model_name": "LayoutModel",
            "justify_items": null,
            "grid_row": null,
            "max_height": null,
            "align_content": null,
            "visibility": null,
            "align_self": null,
            "height": null,
            "min_height": null,
            "padding": null,
            "grid_auto_rows": null,
            "grid_gap": null,
            "max_width": null,
            "order": null,
            "_view_module_version": "1.2.0",
            "grid_template_areas": null,
            "object_position": null,
            "object_fit": null,
            "grid_auto_columns": null,
            "margin": null,
            "display": null,
            "left": null
          }
        }
      }
    }
  },
  "cells": [
    {
      "cell_type": "code",
      "metadata": {
        "colab": {
          "base_uri": "https://localhost:8080/"
        },
        "id": "vur-a16daJSG",
        "outputId": "ac706310-7fb9-479b-978d-0085dc68acaf"
      },
      "source": [
        "from google.colab import drive\r\n",
        "drive.mount('/content/drive')"
      ],
      "execution_count": 1,
      "outputs": [
        {
          "output_type": "stream",
          "text": [
            "Mounted at /content/drive\n"
          ],
          "name": "stdout"
        }
      ]
    },
    {
      "cell_type": "code",
      "metadata": {
        "colab": {
          "base_uri": "https://localhost:8080/"
        },
        "id": "4bvH-Iiz1iSS",
        "outputId": "dc042336-c997-4b65-82a6-1f00e2dc5fea"
      },
      "source": [
        "!pip install transformers #Installing Huggingface transformers "
      ],
      "execution_count": 2,
      "outputs": [
        {
          "output_type": "stream",
          "text": [
            "Collecting transformers\n",
            "\u001b[?25l  Downloading https://files.pythonhosted.org/packages/ed/db/98c3ea1a78190dac41c0127a063abf92bd01b4b0b6970a6db1c2f5b66fa0/transformers-4.0.1-py3-none-any.whl (1.4MB)\n",
            "\u001b[K     |████████████████████████████████| 1.4MB 14.6MB/s \n",
            "\u001b[?25hRequirement already satisfied: packaging in /usr/local/lib/python3.6/dist-packages (from transformers) (20.7)\n",
            "Requirement already satisfied: numpy in /usr/local/lib/python3.6/dist-packages (from transformers) (1.18.5)\n",
            "Requirement already satisfied: dataclasses; python_version < \"3.7\" in /usr/local/lib/python3.6/dist-packages (from transformers) (0.8)\n",
            "Collecting sacremoses\n",
            "\u001b[?25l  Downloading https://files.pythonhosted.org/packages/7d/34/09d19aff26edcc8eb2a01bed8e98f13a1537005d31e95233fd48216eed10/sacremoses-0.0.43.tar.gz (883kB)\n",
            "\u001b[K     |████████████████████████████████| 890kB 51.8MB/s \n",
            "\u001b[?25hRequirement already satisfied: requests in /usr/local/lib/python3.6/dist-packages (from transformers) (2.23.0)\n",
            "Requirement already satisfied: regex!=2019.12.17 in /usr/local/lib/python3.6/dist-packages (from transformers) (2019.12.20)\n",
            "Collecting tokenizers==0.9.4\n",
            "\u001b[?25l  Downloading https://files.pythonhosted.org/packages/0f/1c/e789a8b12e28be5bc1ce2156cf87cb522b379be9cadc7ad8091a4cc107c4/tokenizers-0.9.4-cp36-cp36m-manylinux2010_x86_64.whl (2.9MB)\n",
            "\u001b[K     |████████████████████████████████| 2.9MB 57.0MB/s \n",
            "\u001b[?25hRequirement already satisfied: filelock in /usr/local/lib/python3.6/dist-packages (from transformers) (3.0.12)\n",
            "Requirement already satisfied: tqdm>=4.27 in /usr/local/lib/python3.6/dist-packages (from transformers) (4.41.1)\n",
            "Requirement already satisfied: pyparsing>=2.0.2 in /usr/local/lib/python3.6/dist-packages (from packaging->transformers) (2.4.7)\n",
            "Requirement already satisfied: six in /usr/local/lib/python3.6/dist-packages (from sacremoses->transformers) (1.15.0)\n",
            "Requirement already satisfied: click in /usr/local/lib/python3.6/dist-packages (from sacremoses->transformers) (7.1.2)\n",
            "Requirement already satisfied: joblib in /usr/local/lib/python3.6/dist-packages (from sacremoses->transformers) (0.17.0)\n",
            "Requirement already satisfied: urllib3!=1.25.0,!=1.25.1,<1.26,>=1.21.1 in /usr/local/lib/python3.6/dist-packages (from requests->transformers) (1.24.3)\n",
            "Requirement already satisfied: idna<3,>=2.5 in /usr/local/lib/python3.6/dist-packages (from requests->transformers) (2.10)\n",
            "Requirement already satisfied: certifi>=2017.4.17 in /usr/local/lib/python3.6/dist-packages (from requests->transformers) (2020.12.5)\n",
            "Requirement already satisfied: chardet<4,>=3.0.2 in /usr/local/lib/python3.6/dist-packages (from requests->transformers) (3.0.4)\n",
            "Building wheels for collected packages: sacremoses\n",
            "  Building wheel for sacremoses (setup.py) ... \u001b[?25l\u001b[?25hdone\n",
            "  Created wheel for sacremoses: filename=sacremoses-0.0.43-cp36-none-any.whl size=893261 sha256=900f1b34a7529b305fbfc60f764611b355e3e4a0dbfa617cdfa93ca2d3defc04\n",
            "  Stored in directory: /root/.cache/pip/wheels/29/3c/fd/7ce5c3f0666dab31a50123635e6fb5e19ceb42ce38d4e58f45\n",
            "Successfully built sacremoses\n",
            "Installing collected packages: sacremoses, tokenizers, transformers\n",
            "Successfully installed sacremoses-0.0.43 tokenizers-0.9.4 transformers-4.0.1\n"
          ],
          "name": "stdout"
        }
      ]
    },
    {
      "cell_type": "code",
      "metadata": {
        "id": "jL2TovZraR5G"
      },
      "source": [
        "import os\r\n",
        "import requests\r\n",
        "import tempfile\r\n",
        "import zipfile\r\n",
        "import shutil\r\n",
        "import json\r\n",
        "import time\r\n",
        "import sys\r\n",
        "import cv2\r\n",
        "import numpy as np\r\n",
        "import pandas as pd\r\n",
        "from glob import glob\r\n",
        "import subprocess\r\n",
        "import matplotlib.pyplot as plt\r\n",
        "import re\r\n",
        "import string\r\n",
        "%matplotlib inline\r\n",
        "\r\n",
        "\r\n",
        "import tensorflow as tf\r\n",
        "from tensorflow import keras\r\n",
        "from tensorflow.python.keras import backend as K\r\n",
        "from tensorflow.keras.models import Model, Sequential\r\n",
        "from tensorflow.keras import layers\r\n",
        "from tensorflow.keras.layers import LSTM, Embedding, Dense, GRU\r\n",
        "from tensorflow.keras import activations\r\n",
        "from tensorflow.keras import optimizers\r\n",
        "from tensorflow.keras import losses\r\n",
        "from tensorflow.keras import metrics\r\n",
        "from tensorflow.keras import initializers\r\n",
        "from tensorflow.keras import regularizers\r\n",
        "from tensorflow.keras.utils import to_categorical\r\n",
        "from keras.utils.layer_utils import count_params\r\n",
        "import tensorflow_hub as hub\r\n",
        "from tensorflow.keras.layers.experimental.preprocessing import TextVectorization\r\n",
        "from transformers import BertTokenizer, TFBertForSequenceClassification, TFBertModel\r\n",
        "\r\n",
        "#import tensorflow_model_optimization as tfmot\r\n",
        "#from tensorflow_model_optimization.sparsity.keras import prune_low_magnitude\r\n",
        "from sklearn.model_selection import train_test_split\r\n",
        "from sklearn.metrics import cohen_kappa_score"
      ],
      "execution_count": 3,
      "outputs": []
    },
    {
      "cell_type": "markdown",
      "metadata": {
        "id": "fBZMtHQnFtEu"
      },
      "source": [
        "# Read data"
      ]
    },
    {
      "cell_type": "code",
      "metadata": {
        "id": "C-WKzoiPaqE9"
      },
      "source": [
        "data = pd.read_excel('/content/drive/MyDrive/AC295 Final Proj/data/training_set_rel3.xls')\r\n",
        "data = data[~np.isnan(data['domain1_score'].values)]"
      ],
      "execution_count": 39,
      "outputs": []
    },
    {
      "cell_type": "markdown",
      "metadata": {
        "id": "JZGVC8jEbINk"
      },
      "source": [
        "**As mentioned in milestone3, classification is not appropriate when we have large number of score levels. Instead of doing classification, we try regression. In this way, we can combine essays from all prompts. We rescale the scores to [0, 1] to train the model, then rescale back to examine performance of models (quadratic weighted kappa).**"
      ]
    },
    {
      "cell_type": "markdown",
      "metadata": {
        "id": "7nLzdvgXd8hL"
      },
      "source": [
        "# scaling"
      ]
    },
    {
      "cell_type": "code",
      "metadata": {
        "id": "iUQ-GoZXf548"
      },
      "source": [
        "low_scale={1:2,2:1,3:0,4:0,5:0,6:0,7:0,8:0}\r\n",
        "high_scale={1:12,2:6,3:3,4:3,5:4,6:4,7:30,8:60}"
      ],
      "execution_count": 40,
      "outputs": []
    },
    {
      "cell_type": "code",
      "metadata": {
        "id": "h7Qf6UwCgMbQ"
      },
      "source": [
        "data['low_scale']=data.essay_set.map(low_scale)\r\n",
        "data['high_scale']=data.essay_set.map(high_scale)\r\n",
        "data['scaled_score']=(data.domain1_score-data.low_scale)/(data.high_scale-data.low_scale)"
      ],
      "execution_count": 41,
      "outputs": []
    },
    {
      "cell_type": "code",
      "metadata": {
        "colab": {
          "base_uri": "https://localhost:8080/",
          "height": 976
        },
        "id": "iRs9-6_EVIN4",
        "outputId": "3e8ea873-c2b7-4e67-e83a-fce586dbeac9"
      },
      "source": [
        "data"
      ],
      "execution_count": 42,
      "outputs": [
        {
          "output_type": "execute_result",
          "data": {
            "text/html": [
              "<div>\n",
              "<style scoped>\n",
              "    .dataframe tbody tr th:only-of-type {\n",
              "        vertical-align: middle;\n",
              "    }\n",
              "\n",
              "    .dataframe tbody tr th {\n",
              "        vertical-align: top;\n",
              "    }\n",
              "\n",
              "    .dataframe thead th {\n",
              "        text-align: right;\n",
              "    }\n",
              "</style>\n",
              "<table border=\"1\" class=\"dataframe\">\n",
              "  <thead>\n",
              "    <tr style=\"text-align: right;\">\n",
              "      <th></th>\n",
              "      <th>essay_id</th>\n",
              "      <th>essay_set</th>\n",
              "      <th>essay</th>\n",
              "      <th>rater1_domain1</th>\n",
              "      <th>rater2_domain1</th>\n",
              "      <th>rater3_domain1</th>\n",
              "      <th>domain1_score</th>\n",
              "      <th>rater1_domain2</th>\n",
              "      <th>rater2_domain2</th>\n",
              "      <th>domain2_score</th>\n",
              "      <th>rater1_trait1</th>\n",
              "      <th>rater1_trait2</th>\n",
              "      <th>rater1_trait3</th>\n",
              "      <th>rater1_trait4</th>\n",
              "      <th>rater1_trait5</th>\n",
              "      <th>rater1_trait6</th>\n",
              "      <th>rater2_trait1</th>\n",
              "      <th>rater2_trait2</th>\n",
              "      <th>rater2_trait3</th>\n",
              "      <th>rater2_trait4</th>\n",
              "      <th>rater2_trait5</th>\n",
              "      <th>rater2_trait6</th>\n",
              "      <th>rater3_trait1</th>\n",
              "      <th>rater3_trait2</th>\n",
              "      <th>rater3_trait3</th>\n",
              "      <th>rater3_trait4</th>\n",
              "      <th>rater3_trait5</th>\n",
              "      <th>rater3_trait6</th>\n",
              "      <th>low_scale</th>\n",
              "      <th>high_scale</th>\n",
              "      <th>scaled_score</th>\n",
              "    </tr>\n",
              "  </thead>\n",
              "  <tbody>\n",
              "    <tr>\n",
              "      <th>0</th>\n",
              "      <td>1</td>\n",
              "      <td>1</td>\n",
              "      <td>Dear local newspaper, I think effects computer...</td>\n",
              "      <td>4.0</td>\n",
              "      <td>4.0</td>\n",
              "      <td>NaN</td>\n",
              "      <td>8.0</td>\n",
              "      <td>NaN</td>\n",
              "      <td>NaN</td>\n",
              "      <td>NaN</td>\n",
              "      <td>NaN</td>\n",
              "      <td>NaN</td>\n",
              "      <td>NaN</td>\n",
              "      <td>NaN</td>\n",
              "      <td>NaN</td>\n",
              "      <td>NaN</td>\n",
              "      <td>NaN</td>\n",
              "      <td>NaN</td>\n",
              "      <td>NaN</td>\n",
              "      <td>NaN</td>\n",
              "      <td>NaN</td>\n",
              "      <td>NaN</td>\n",
              "      <td>NaN</td>\n",
              "      <td>NaN</td>\n",
              "      <td>NaN</td>\n",
              "      <td>NaN</td>\n",
              "      <td>NaN</td>\n",
              "      <td>NaN</td>\n",
              "      <td>2</td>\n",
              "      <td>12</td>\n",
              "      <td>0.600000</td>\n",
              "    </tr>\n",
              "    <tr>\n",
              "      <th>1</th>\n",
              "      <td>2</td>\n",
              "      <td>1</td>\n",
              "      <td>Dear @CAPS1 @CAPS2, I believe that using compu...</td>\n",
              "      <td>5.0</td>\n",
              "      <td>4.0</td>\n",
              "      <td>NaN</td>\n",
              "      <td>9.0</td>\n",
              "      <td>NaN</td>\n",
              "      <td>NaN</td>\n",
              "      <td>NaN</td>\n",
              "      <td>NaN</td>\n",
              "      <td>NaN</td>\n",
              "      <td>NaN</td>\n",
              "      <td>NaN</td>\n",
              "      <td>NaN</td>\n",
              "      <td>NaN</td>\n",
              "      <td>NaN</td>\n",
              "      <td>NaN</td>\n",
              "      <td>NaN</td>\n",
              "      <td>NaN</td>\n",
              "      <td>NaN</td>\n",
              "      <td>NaN</td>\n",
              "      <td>NaN</td>\n",
              "      <td>NaN</td>\n",
              "      <td>NaN</td>\n",
              "      <td>NaN</td>\n",
              "      <td>NaN</td>\n",
              "      <td>NaN</td>\n",
              "      <td>2</td>\n",
              "      <td>12</td>\n",
              "      <td>0.700000</td>\n",
              "    </tr>\n",
              "    <tr>\n",
              "      <th>2</th>\n",
              "      <td>3</td>\n",
              "      <td>1</td>\n",
              "      <td>Dear, @CAPS1 @CAPS2 @CAPS3 More and more peopl...</td>\n",
              "      <td>4.0</td>\n",
              "      <td>3.0</td>\n",
              "      <td>NaN</td>\n",
              "      <td>7.0</td>\n",
              "      <td>NaN</td>\n",
              "      <td>NaN</td>\n",
              "      <td>NaN</td>\n",
              "      <td>NaN</td>\n",
              "      <td>NaN</td>\n",
              "      <td>NaN</td>\n",
              "      <td>NaN</td>\n",
              "      <td>NaN</td>\n",
              "      <td>NaN</td>\n",
              "      <td>NaN</td>\n",
              "      <td>NaN</td>\n",
              "      <td>NaN</td>\n",
              "      <td>NaN</td>\n",
              "      <td>NaN</td>\n",
              "      <td>NaN</td>\n",
              "      <td>NaN</td>\n",
              "      <td>NaN</td>\n",
              "      <td>NaN</td>\n",
              "      <td>NaN</td>\n",
              "      <td>NaN</td>\n",
              "      <td>NaN</td>\n",
              "      <td>2</td>\n",
              "      <td>12</td>\n",
              "      <td>0.500000</td>\n",
              "    </tr>\n",
              "    <tr>\n",
              "      <th>3</th>\n",
              "      <td>4</td>\n",
              "      <td>1</td>\n",
              "      <td>Dear Local Newspaper, @CAPS1 I have found that...</td>\n",
              "      <td>5.0</td>\n",
              "      <td>5.0</td>\n",
              "      <td>NaN</td>\n",
              "      <td>10.0</td>\n",
              "      <td>NaN</td>\n",
              "      <td>NaN</td>\n",
              "      <td>NaN</td>\n",
              "      <td>NaN</td>\n",
              "      <td>NaN</td>\n",
              "      <td>NaN</td>\n",
              "      <td>NaN</td>\n",
              "      <td>NaN</td>\n",
              "      <td>NaN</td>\n",
              "      <td>NaN</td>\n",
              "      <td>NaN</td>\n",
              "      <td>NaN</td>\n",
              "      <td>NaN</td>\n",
              "      <td>NaN</td>\n",
              "      <td>NaN</td>\n",
              "      <td>NaN</td>\n",
              "      <td>NaN</td>\n",
              "      <td>NaN</td>\n",
              "      <td>NaN</td>\n",
              "      <td>NaN</td>\n",
              "      <td>NaN</td>\n",
              "      <td>2</td>\n",
              "      <td>12</td>\n",
              "      <td>0.800000</td>\n",
              "    </tr>\n",
              "    <tr>\n",
              "      <th>4</th>\n",
              "      <td>5</td>\n",
              "      <td>1</td>\n",
              "      <td>Dear @LOCATION1, I know having computers has a...</td>\n",
              "      <td>4.0</td>\n",
              "      <td>4.0</td>\n",
              "      <td>NaN</td>\n",
              "      <td>8.0</td>\n",
              "      <td>NaN</td>\n",
              "      <td>NaN</td>\n",
              "      <td>NaN</td>\n",
              "      <td>NaN</td>\n",
              "      <td>NaN</td>\n",
              "      <td>NaN</td>\n",
              "      <td>NaN</td>\n",
              "      <td>NaN</td>\n",
              "      <td>NaN</td>\n",
              "      <td>NaN</td>\n",
              "      <td>NaN</td>\n",
              "      <td>NaN</td>\n",
              "      <td>NaN</td>\n",
              "      <td>NaN</td>\n",
              "      <td>NaN</td>\n",
              "      <td>NaN</td>\n",
              "      <td>NaN</td>\n",
              "      <td>NaN</td>\n",
              "      <td>NaN</td>\n",
              "      <td>NaN</td>\n",
              "      <td>NaN</td>\n",
              "      <td>2</td>\n",
              "      <td>12</td>\n",
              "      <td>0.600000</td>\n",
              "    </tr>\n",
              "    <tr>\n",
              "      <th>...</th>\n",
              "      <td>...</td>\n",
              "      <td>...</td>\n",
              "      <td>...</td>\n",
              "      <td>...</td>\n",
              "      <td>...</td>\n",
              "      <td>...</td>\n",
              "      <td>...</td>\n",
              "      <td>...</td>\n",
              "      <td>...</td>\n",
              "      <td>...</td>\n",
              "      <td>...</td>\n",
              "      <td>...</td>\n",
              "      <td>...</td>\n",
              "      <td>...</td>\n",
              "      <td>...</td>\n",
              "      <td>...</td>\n",
              "      <td>...</td>\n",
              "      <td>...</td>\n",
              "      <td>...</td>\n",
              "      <td>...</td>\n",
              "      <td>...</td>\n",
              "      <td>...</td>\n",
              "      <td>...</td>\n",
              "      <td>...</td>\n",
              "      <td>...</td>\n",
              "      <td>...</td>\n",
              "      <td>...</td>\n",
              "      <td>...</td>\n",
              "      <td>...</td>\n",
              "      <td>...</td>\n",
              "      <td>...</td>\n",
              "    </tr>\n",
              "    <tr>\n",
              "      <th>12973</th>\n",
              "      <td>21626</td>\n",
              "      <td>8</td>\n",
              "      <td>In most stories mothers and daughters are eit...</td>\n",
              "      <td>17.0</td>\n",
              "      <td>18.0</td>\n",
              "      <td>NaN</td>\n",
              "      <td>35.0</td>\n",
              "      <td>NaN</td>\n",
              "      <td>NaN</td>\n",
              "      <td>NaN</td>\n",
              "      <td>4.0</td>\n",
              "      <td>3.0</td>\n",
              "      <td>4.0</td>\n",
              "      <td>4.0</td>\n",
              "      <td>4.0</td>\n",
              "      <td>3.0</td>\n",
              "      <td>4.0</td>\n",
              "      <td>4.0</td>\n",
              "      <td>4.0</td>\n",
              "      <td>4.0</td>\n",
              "      <td>4.0</td>\n",
              "      <td>3.0</td>\n",
              "      <td>NaN</td>\n",
              "      <td>NaN</td>\n",
              "      <td>NaN</td>\n",
              "      <td>NaN</td>\n",
              "      <td>NaN</td>\n",
              "      <td>NaN</td>\n",
              "      <td>0</td>\n",
              "      <td>60</td>\n",
              "      <td>0.583333</td>\n",
              "    </tr>\n",
              "    <tr>\n",
              "      <th>12974</th>\n",
              "      <td>21628</td>\n",
              "      <td>8</td>\n",
              "      <td>I never understood the meaning laughter is th...</td>\n",
              "      <td>15.0</td>\n",
              "      <td>17.0</td>\n",
              "      <td>NaN</td>\n",
              "      <td>32.0</td>\n",
              "      <td>NaN</td>\n",
              "      <td>NaN</td>\n",
              "      <td>NaN</td>\n",
              "      <td>3.0</td>\n",
              "      <td>3.0</td>\n",
              "      <td>4.0</td>\n",
              "      <td>3.0</td>\n",
              "      <td>3.0</td>\n",
              "      <td>3.0</td>\n",
              "      <td>4.0</td>\n",
              "      <td>3.0</td>\n",
              "      <td>4.0</td>\n",
              "      <td>4.0</td>\n",
              "      <td>4.0</td>\n",
              "      <td>3.0</td>\n",
              "      <td>NaN</td>\n",
              "      <td>NaN</td>\n",
              "      <td>NaN</td>\n",
              "      <td>NaN</td>\n",
              "      <td>NaN</td>\n",
              "      <td>NaN</td>\n",
              "      <td>0</td>\n",
              "      <td>60</td>\n",
              "      <td>0.533333</td>\n",
              "    </tr>\n",
              "    <tr>\n",
              "      <th>12975</th>\n",
              "      <td>21629</td>\n",
              "      <td>8</td>\n",
              "      <td>When you laugh, is @CAPS5 out of habit, or is ...</td>\n",
              "      <td>20.0</td>\n",
              "      <td>26.0</td>\n",
              "      <td>40.0</td>\n",
              "      <td>40.0</td>\n",
              "      <td>NaN</td>\n",
              "      <td>NaN</td>\n",
              "      <td>NaN</td>\n",
              "      <td>4.0</td>\n",
              "      <td>4.0</td>\n",
              "      <td>4.0</td>\n",
              "      <td>4.0</td>\n",
              "      <td>4.0</td>\n",
              "      <td>4.0</td>\n",
              "      <td>6.0</td>\n",
              "      <td>5.0</td>\n",
              "      <td>5.0</td>\n",
              "      <td>5.0</td>\n",
              "      <td>5.0</td>\n",
              "      <td>5.0</td>\n",
              "      <td>4.0</td>\n",
              "      <td>4.0</td>\n",
              "      <td>4.0</td>\n",
              "      <td>4.0</td>\n",
              "      <td>4.0</td>\n",
              "      <td>4.0</td>\n",
              "      <td>0</td>\n",
              "      <td>60</td>\n",
              "      <td>0.666667</td>\n",
              "    </tr>\n",
              "    <tr>\n",
              "      <th>12976</th>\n",
              "      <td>21630</td>\n",
              "      <td>8</td>\n",
              "      <td>Trippin' on fen...</td>\n",
              "      <td>20.0</td>\n",
              "      <td>20.0</td>\n",
              "      <td>NaN</td>\n",
              "      <td>40.0</td>\n",
              "      <td>NaN</td>\n",
              "      <td>NaN</td>\n",
              "      <td>NaN</td>\n",
              "      <td>4.0</td>\n",
              "      <td>4.0</td>\n",
              "      <td>4.0</td>\n",
              "      <td>4.0</td>\n",
              "      <td>4.0</td>\n",
              "      <td>4.0</td>\n",
              "      <td>4.0</td>\n",
              "      <td>4.0</td>\n",
              "      <td>4.0</td>\n",
              "      <td>4.0</td>\n",
              "      <td>4.0</td>\n",
              "      <td>4.0</td>\n",
              "      <td>NaN</td>\n",
              "      <td>NaN</td>\n",
              "      <td>NaN</td>\n",
              "      <td>NaN</td>\n",
              "      <td>NaN</td>\n",
              "      <td>NaN</td>\n",
              "      <td>0</td>\n",
              "      <td>60</td>\n",
              "      <td>0.666667</td>\n",
              "    </tr>\n",
              "    <tr>\n",
              "      <th>12977</th>\n",
              "      <td>21633</td>\n",
              "      <td>8</td>\n",
              "      <td>Many people believe that laughter can improve...</td>\n",
              "      <td>20.0</td>\n",
              "      <td>20.0</td>\n",
              "      <td>NaN</td>\n",
              "      <td>40.0</td>\n",
              "      <td>NaN</td>\n",
              "      <td>NaN</td>\n",
              "      <td>NaN</td>\n",
              "      <td>4.0</td>\n",
              "      <td>4.0</td>\n",
              "      <td>4.0</td>\n",
              "      <td>4.0</td>\n",
              "      <td>4.0</td>\n",
              "      <td>4.0</td>\n",
              "      <td>4.0</td>\n",
              "      <td>4.0</td>\n",
              "      <td>4.0</td>\n",
              "      <td>4.0</td>\n",
              "      <td>4.0</td>\n",
              "      <td>4.0</td>\n",
              "      <td>NaN</td>\n",
              "      <td>NaN</td>\n",
              "      <td>NaN</td>\n",
              "      <td>NaN</td>\n",
              "      <td>NaN</td>\n",
              "      <td>NaN</td>\n",
              "      <td>0</td>\n",
              "      <td>60</td>\n",
              "      <td>0.666667</td>\n",
              "    </tr>\n",
              "  </tbody>\n",
              "</table>\n",
              "<p>12977 rows × 31 columns</p>\n",
              "</div>"
            ],
            "text/plain": [
              "       essay_id  essay_set  ... high_scale  scaled_score\n",
              "0             1          1  ...         12      0.600000\n",
              "1             2          1  ...         12      0.700000\n",
              "2             3          1  ...         12      0.500000\n",
              "3             4          1  ...         12      0.800000\n",
              "4             5          1  ...         12      0.600000\n",
              "...         ...        ...  ...        ...           ...\n",
              "12973     21626          8  ...         60      0.583333\n",
              "12974     21628          8  ...         60      0.533333\n",
              "12975     21629          8  ...         60      0.666667\n",
              "12976     21630          8  ...         60      0.666667\n",
              "12977     21633          8  ...         60      0.666667\n",
              "\n",
              "[12977 rows x 31 columns]"
            ]
          },
          "metadata": {
            "tags": []
          },
          "execution_count": 42
        }
      ]
    },
    {
      "cell_type": "code",
      "metadata": {
        "id": "Jt8nD4UALUNb"
      },
      "source": [
        "data_X=data.essay.values\r\n",
        "data_y=data.scaled_score.values.reshape(-1,1)\r\n",
        "data_y_origin=data.domain1_score.values.reshape(-1,1)\r\n",
        "essay_set=data.essay_set.values.reshape(-1,1)\r\n",
        "\r\n",
        "train_X, test_X, train_y, test_y, train_y_origin, test_y_origin, train_essay_set, test_essay_set = train_test_split(data_X, data_y, data_y_origin, essay_set, test_size = 0.2, random_state = 295, stratify=data.essay_set)\r\n",
        "train_data=(train_X,train_y)\r\n",
        "test_data=(test_X,test_y)"
      ],
      "execution_count": 43,
      "outputs": []
    },
    {
      "cell_type": "code",
      "metadata": {
        "colab": {
          "base_uri": "https://localhost:8080/"
        },
        "id": "kobSEuD-Xqlb",
        "outputId": "95bac54b-558e-4d71-d045-ffca89807530"
      },
      "source": [
        "def wordcount(seq):\n",
        "  words = seq.split(' ')\n",
        "  return len(words)\n",
        "data.essay.map(wordcount).max()"
      ],
      "execution_count": 44,
      "outputs": [
        {
          "output_type": "execute_result",
          "data": {
            "text/plain": [
              "1119"
            ]
          },
          "metadata": {
            "tags": []
          },
          "execution_count": 44
        }
      ]
    },
    {
      "cell_type": "code",
      "metadata": {
        "colab": {
          "base_uri": "https://localhost:8080/"
        },
        "id": "f9Xe8PEUYcPT",
        "outputId": "319df272-3d20-4a3c-ce53-d9b1bf51fbd0"
      },
      "source": [
        "train_data"
      ],
      "execution_count": 45,
      "outputs": [
        {
          "output_type": "execute_result",
          "data": {
            "text/plain": [
              "(array(['The author concludes this story by saying this statement because the author want you to feel like the character in the book is determined. The ator is trying to put across a statement saying  get through then try again. The character is not giving up, and she will get through the test eve though its hard.',\n",
              "        'I think that computers are amazing. Computers are an amazing way to meat new pol online.',\n",
              "        'Well since the cyclist is in a desert and out of mother he is probably not going to be happy. The \"ghost towns\" aren\\'t really a boost of confidence either. The rugged hills made him angry too. The heat affected him the most.',\n",
              "        ...,\n",
              "        \"There are so many resaons why taking a book, movie, or anything else off the shelves is wrong. If it is violent or sexual i can see why it shouldn't be on the shelves but if the reader doesn't like the book or movie, then don't read it or watch it find something else.     If everyone took a book of the shelf that they didn't like then what would we have to read because everyone has a book or two that they don't like or think is offensive. Every book can't be perfect for that person. Everyone has there own veiws on books wether they like it or dislike it. If that book isn't what your looking for then put it back and stop reading it.     There have been many of people say 'If you don't like it then don't listen to it'. They are excaclly right because if there is something that you can't stand to listen to or read and you do it anyway thats going to make you mad. Then your going to complain that it is on the shelfs and say it is bad and it shouldn't be on the shelves anymore. That is what starts all these things of people saying it is offensive. People know what they like and don't like, so if there is something that you don't like then don't listen to it or read it.      It all comes down to common sence. We all have it we just need to start using it. That means if you like country music then don't listen to hard rock or rap because that isn't what you like so don't listen to it. Because if you listen to it then your like why is that stuff on the shevles for people to listen to it's bad for you it is puting bad thought into those teenager's heads. If eveyone sticks to doing what they like and don't worry about the other stuff then eveyone will be fine.\",\n",
              "        'The library has many books, they would have anything that you could possibly imagine.The library is a great resource for any information. They have so much information that if you were to go to the library, you would be there all day. Libraries carry many different kinds of books. They would probably even carry a book perhaps on hats. There are libraries all around us and are very convienent.     If a library carried misleading books, music, movies, or even magazines, I would have to say that they could get in a lot of trouble, especially if a magazine or a movie or any other source of information, would show anything that would affend someone in any way, then someone should tell the librarian or the manager and say this should not be on the shelf. When people go to the library they are exspecting clean reviews about the library.             If a library were ment to carry offensive products it would not be called the library. The library is ment to be a quiet place where someone could go there and browse around maybe, or just go in and get what they need and come right on out . Most libraries are pretty peticular of what they should or should not put out on there shelves. If someone put something way out of the ordinary, and that person knows that they should not put the book on the shelf they should automatically be fired.       In conclusion libraries are very nifty and important to the town or city. The only thing would be is to keep an eye out for any offensive books, music, and etc. You never know when they will be randomly out on the shelf, and if you happen to find one you should imediently tell the librarian or the libraries manager. The library @MONTH1 get in trouble and then again they @MONTH1 not',\n",
              "        \"Dear local news paper, This paper is going to be about the reason computers are bad. Frist, computers are bad cause people wouldn't have time to enjoy the nature when its nice and warm out. Second reason is cause they won't spend time with there familys at all or there friends and the only time they would get off the computer is to pay the bill and buy a game for the computer. The third reason is that how are going to get a job cause they wouldn't want to get up to look for a job cause there having to much fun intill they cut off the light then he would do dum things to pay is bell se he can start to play again and thats going to make hin do it over and over again. That's why it's bad to have a computer. But now where is people going go in life cause some people love to play games on the computer and some don't that's why some computers are bad for some people. And this is just my opinion there's alot more people might think so to. And thank you for having time to read this.\"],\n",
              "       dtype=object), array([[0.33333333],\n",
              "        [0.        ],\n",
              "        [0.33333333],\n",
              "        ...,\n",
              "        [0.6       ],\n",
              "        [0.2       ],\n",
              "        [0.4       ]]))"
            ]
          },
          "metadata": {
            "tags": []
          },
          "execution_count": 45
        }
      ]
    },
    {
      "cell_type": "markdown",
      "metadata": {
        "id": "-DLLN4mXic5T"
      },
      "source": [
        "# Tokenization"
      ]
    },
    {
      "cell_type": "code",
      "metadata": {
        "id": "WsZSkQtaicd9"
      },
      "source": [
        "def standardize_text(input_text):\r\n",
        "  # Convert to lower case\r\n",
        "  lowercase = tf.strings.lower(input_text)\r\n",
        "  # Remove HTML tags\r\n",
        "  stripped_html = tf.strings.regex_replace(lowercase, \"<br />\", \" \")\r\n",
        "  return tf.strings.regex_replace(\r\n",
        "      stripped_html, \"[%s]\" % re.escape(string.punctuation), \"\"\r\n",
        "  )\r\n",
        "\r\n",
        "max_features = 15000\r\n",
        "sequence_length = 1200\r\n",
        "\r\n",
        "text_data = tf.data.Dataset.from_tensor_slices(data.essay.values)\r\n",
        "\r\n",
        "text_vectorizer = TextVectorization(\r\n",
        "    standardize=standardize_text,\r\n",
        "    max_tokens=max_features,\r\n",
        "    output_mode=\"int\",\r\n",
        "    output_sequence_length=sequence_length,\r\n",
        ")\r\n",
        "\r\n",
        "text_vectorizer.adapt(text_data.batch(64))\r\n",
        "\r\n",
        "def vectorize_text(text, label=None):\r\n",
        "  text = tf.expand_dims(text, -1)\r\n",
        "  text = text_vectorizer(text)\r\n",
        "  if label is None:\r\n",
        "    return text\r\n",
        "  else:\r\n",
        "    return text, label"
      ],
      "execution_count": 46,
      "outputs": []
    },
    {
      "cell_type": "code",
      "metadata": {
        "id": "fcqT-5oeqW5l"
      },
      "source": [
        "batch_size = 128\r\n",
        "AUTOTUNE = tf.data.experimental.AUTOTUNE\r\n",
        "\r\n",
        "train_data = tf.data.Dataset.from_tensor_slices(train_data)\r\n",
        "train_data = train_data.batch(batch_size)\r\n",
        "train_data = train_data.map(vectorize_text, num_parallel_calls=AUTOTUNE)\r\n",
        "train_data = train_data.cache().prefetch(buffer_size=100)\r\n",
        "\r\n",
        "\r\n",
        "val_data = tf.data.Dataset.from_tensor_slices(test_data)\r\n",
        "val_data = val_data.batch(batch_size)\r\n",
        "val_data = val_data.map(vectorize_text, num_parallel_calls=AUTOTUNE)\r\n",
        "val_data = val_data.cache().prefetch(buffer_size=100)\r\n"
      ],
      "execution_count": 47,
      "outputs": []
    },
    {
      "cell_type": "code",
      "metadata": {
        "colab": {
          "base_uri": "https://localhost:8080/"
        },
        "id": "Qv9TxCmydEaa",
        "outputId": "14efc844-868d-4b43-de48-01cde77d05f3"
      },
      "source": [
        "train_data"
      ],
      "execution_count": 48,
      "outputs": [
        {
          "output_type": "execute_result",
          "data": {
            "text/plain": [
              "<PrefetchDataset shapes: ((None, 1200), (None, 1)), types: (tf.int64, tf.float64)>"
            ]
          },
          "metadata": {
            "tags": []
          },
          "execution_count": 48
        }
      ]
    },
    {
      "cell_type": "markdown",
      "metadata": {
        "id": "W4ozDPM7iV1Q"
      },
      "source": [
        "# Utils functions"
      ]
    },
    {
      "cell_type": "code",
      "metadata": {
        "id": "BzZ4uLediXvF"
      },
      "source": [
        "def evaluate_model(model,test_data, training_results):\r\n",
        "    \r\n",
        "  # Get the model train history\r\n",
        "  model_train_history = training_results.history\r\n",
        "  # Get the number of epochs the training was run for\r\n",
        "  num_epochs = len(model_train_history[\"loss\"])\r\n",
        "\r\n",
        "  # Plot training results\r\n",
        "  fig = plt.figure(figsize=(15,5))\r\n",
        "  axs = fig.add_subplot(1,2,1)\r\n",
        "  axs.set_title('Loss')\r\n",
        "  # Plot all metrics\r\n",
        "  for metric in [\"loss\",\"val_loss\"]:\r\n",
        "      axs.plot(np.arange(0, num_epochs), model_train_history[metric], label=metric)\r\n",
        "  axs.legend()\r\n",
        "  \r\n",
        "  axs = fig.add_subplot(1,2,2)\r\n",
        "  axs.set_title('MSE')\r\n",
        "  # Plot all metrics\r\n",
        "  for metric in [\"mse\",\"val_mse\"]:\r\n",
        "      axs.plot(np.arange(0, num_epochs), model_train_history[metric], label=metric)\r\n",
        "  axs.legend()\r\n",
        "\r\n",
        "  plt.show()\r\n",
        "  \r\n",
        "  # Evaluate on test data\r\n",
        "  evaluation_results = model.evaluate(test_data)\r\n",
        "  print(\"Evaluation Results:\", evaluation_results)"
      ],
      "execution_count": 24,
      "outputs": []
    },
    {
      "cell_type": "code",
      "metadata": {
        "id": "u4hbkoQ5KUiT"
      },
      "source": [
        "def QWK(model):\r\n",
        "  #calculate quadratic weighted kappa\r\n",
        "  df=pd.DataFrame(model.predict(val_data),columns=['pred_scaled'])\r\n",
        "  df['essay_set']=test_essay_set\r\n",
        "  df['low_scale']=df.essay_set.map(low_scale)\r\n",
        "  df['high_scale']=df.essay_set.map(high_scale)\r\n",
        "  df['pred_origin']=df['pred_scaled']*(df.high_scale-df.low_scale)+df.low_scale\r\n",
        "  df['pred_origin_rounded']=df['pred_origin'].round(0).astype(int)\r\n",
        "  df['true_origin']=test_y_origin\r\n",
        "\r\n",
        "  QWK=df.groupby('essay_set').apply(lambda x: cohen_kappa_score(x['pred_origin_rounded'], x['true_origin'], weights='quadratic'))\r\n",
        "  return QWK\r\n"
      ],
      "execution_count": 21,
      "outputs": []
    },
    {
      "cell_type": "code",
      "metadata": {
        "id": "Rkdbyjs5KSPP"
      },
      "source": [
        "def QWK_bert(model):\r\n",
        "  #calculate quadratic weighted kappa\r\n",
        "  df=pd.DataFrame(model.predict(validation_data),columns=['pred_scaled'])\r\n",
        "  df['essay_set']=test_essay_set\r\n",
        "  df['low_scale']=df.essay_set.map(low_scale)\r\n",
        "  df['high_scale']=df.essay_set.map(high_scale)\r\n",
        "  df['pred_origin']=df['pred_scaled']*(df.high_scale-df.low_scale)+df.low_scale\r\n",
        "  df['pred_origin_rounded']=df['pred_origin'].round(0).astype(int)\r\n",
        "  df['true_origin']=test_y_origin\r\n",
        "\r\n",
        "  QWK=df.groupby('essay_set').apply(lambda x: cohen_kappa_score(x['pred_origin_rounded'], x['true_origin'], weights='quadratic'))\r\n",
        "  return QWK\r\n"
      ],
      "execution_count": 22,
      "outputs": []
    },
    {
      "cell_type": "markdown",
      "metadata": {
        "id": "jPaqE3klhztR"
      },
      "source": [
        "# Building models"
      ]
    },
    {
      "cell_type": "markdown",
      "metadata": {
        "id": "Fs-kfPmLiRk1"
      },
      "source": [
        "## 1. FFNN model"
      ]
    },
    {
      "cell_type": "code",
      "metadata": {
        "colab": {
          "base_uri": "https://localhost:8080/",
          "height": 1000
        },
        "id": "GTq0WRoBiOOf",
        "outputId": "628ad153-ccd0-4b6e-9e28-cff6948d07d7"
      },
      "source": [
        "model_ffnn = Sequential()\r\n",
        "model_ffnn.add(layers.Input(shape = (1200,)))\r\n",
        "model_ffnn.add(layers.Dense(64, activation = 'relu'))\r\n",
        "model_ffnn.add(layers.Dense(32, activation = 'relu'))\r\n",
        "model_ffnn.add(layers.Dense(16, activation = 'relu'))\r\n",
        "model_ffnn.add(layers.Dense(1, activation = 'sigmoid')) # scaled score in [0, 1]\r\n",
        "\r\n",
        "loss = tf.keras.losses.binary_crossentropy\r\n",
        "optimizer = optimizers.Adam(lr = 0.001)\r\n",
        "metrics=['mse']\r\n",
        "model_ffnn.compile(loss= loss, optimizer = optimizer, metrics = metrics)\r\n",
        "model_ffnn.summary()\r\n",
        "\r\n",
        "early_stopping = tf.keras.callbacks.EarlyStopping(\r\n",
        "    monitor='val_loss', min_delta=0, patience=10, verbose=0, mode='auto'\r\n",
        ")\r\n",
        "\r\n",
        "history_ffnn=model_ffnn.fit(train_data, validation_data = val_data, callbacks=early_stopping, epochs = 100, verbose = 1)\r\n",
        "evaluate_model(model_ffnn,val_data,history_ffnn)"
      ],
      "execution_count": 25,
      "outputs": [
        {
          "output_type": "stream",
          "text": [
            "Model: \"sequential_3\"\n",
            "_________________________________________________________________\n",
            "Layer (type)                 Output Shape              Param #   \n",
            "=================================================================\n",
            "dense_12 (Dense)             (None, 64)                76864     \n",
            "_________________________________________________________________\n",
            "dense_13 (Dense)             (None, 32)                2080      \n",
            "_________________________________________________________________\n",
            "dense_14 (Dense)             (None, 16)                528       \n",
            "_________________________________________________________________\n",
            "dense_15 (Dense)             (None, 1)                 17        \n",
            "=================================================================\n",
            "Total params: 79,489\n",
            "Trainable params: 79,489\n",
            "Non-trainable params: 0\n",
            "_________________________________________________________________\n",
            "Epoch 1/100\n",
            "82/82 [==============================] - 0s 4ms/step - loss: 20.1365 - mse: 0.2250 - val_loss: 1.1198 - val_mse: 0.0804\n",
            "Epoch 2/100\n",
            "82/82 [==============================] - 0s 3ms/step - loss: 0.8398 - mse: 0.0634 - val_loss: 0.7505 - val_mse: 0.0551\n",
            "Epoch 3/100\n",
            "82/82 [==============================] - 0s 3ms/step - loss: 0.6984 - mse: 0.0542 - val_loss: 0.7072 - val_mse: 0.0520\n",
            "Epoch 4/100\n",
            "82/82 [==============================] - 0s 3ms/step - loss: 0.6819 - mse: 0.0528 - val_loss: 0.7034 - val_mse: 0.0517\n",
            "Epoch 5/100\n",
            "82/82 [==============================] - 0s 3ms/step - loss: 0.6779 - mse: 0.0526 - val_loss: 0.7019 - val_mse: 0.0518\n",
            "Epoch 6/100\n",
            "82/82 [==============================] - 0s 3ms/step - loss: 0.6764 - mse: 0.0524 - val_loss: 0.7009 - val_mse: 0.0515\n",
            "Epoch 7/100\n",
            "82/82 [==============================] - 0s 3ms/step - loss: 0.6772 - mse: 0.0521 - val_loss: 0.7008 - val_mse: 0.0515\n",
            "Epoch 8/100\n",
            "82/82 [==============================] - 0s 3ms/step - loss: 0.6760 - mse: 0.0518 - val_loss: 0.6991 - val_mse: 0.0511\n",
            "Epoch 9/100\n",
            "82/82 [==============================] - 0s 3ms/step - loss: 0.6735 - mse: 0.0517 - val_loss: 0.6993 - val_mse: 0.0509\n",
            "Epoch 10/100\n",
            "82/82 [==============================] - 0s 3ms/step - loss: 0.6744 - mse: 0.0514 - val_loss: 0.6972 - val_mse: 0.0506\n",
            "Epoch 11/100\n",
            "82/82 [==============================] - 0s 3ms/step - loss: 0.6736 - mse: 0.0512 - val_loss: 0.6963 - val_mse: 0.0501\n",
            "Epoch 12/100\n",
            "82/82 [==============================] - 0s 3ms/step - loss: 0.6725 - mse: 0.0510 - val_loss: 0.6936 - val_mse: 0.0497\n",
            "Epoch 13/100\n",
            "82/82 [==============================] - 0s 3ms/step - loss: 0.6716 - mse: 0.0508 - val_loss: 0.6935 - val_mse: 0.0494\n",
            "Epoch 14/100\n",
            "82/82 [==============================] - 0s 3ms/step - loss: 0.6721 - mse: 0.0506 - val_loss: 0.6902 - val_mse: 0.0489\n",
            "Epoch 15/100\n",
            "82/82 [==============================] - 0s 3ms/step - loss: 0.6708 - mse: 0.0504 - val_loss: 0.6848 - val_mse: 0.0486\n",
            "Epoch 16/100\n",
            "82/82 [==============================] - 0s 3ms/step - loss: 0.6713 - mse: 0.0501 - val_loss: 0.6839 - val_mse: 0.0482\n",
            "Epoch 17/100\n",
            "82/82 [==============================] - 0s 3ms/step - loss: 0.6707 - mse: 0.0498 - val_loss: 0.6833 - val_mse: 0.0477\n",
            "Epoch 18/100\n",
            "82/82 [==============================] - 0s 3ms/step - loss: 0.6690 - mse: 0.0495 - val_loss: 0.6822 - val_mse: 0.0474\n",
            "Epoch 19/100\n",
            "82/82 [==============================] - 0s 3ms/step - loss: 0.6694 - mse: 0.0493 - val_loss: 0.6808 - val_mse: 0.0470\n",
            "Epoch 20/100\n",
            "82/82 [==============================] - 0s 3ms/step - loss: 0.6677 - mse: 0.0489 - val_loss: 0.6794 - val_mse: 0.0465\n",
            "Epoch 21/100\n",
            "82/82 [==============================] - 0s 3ms/step - loss: 0.6670 - mse: 0.0486 - val_loss: 0.6784 - val_mse: 0.0462\n",
            "Epoch 22/100\n",
            "82/82 [==============================] - 0s 3ms/step - loss: 0.6664 - mse: 0.0482 - val_loss: 0.6774 - val_mse: 0.0459\n",
            "Epoch 23/100\n",
            "82/82 [==============================] - 0s 3ms/step - loss: 0.6660 - mse: 0.0479 - val_loss: 0.6764 - val_mse: 0.0456\n",
            "Epoch 24/100\n",
            "82/82 [==============================] - 0s 3ms/step - loss: 0.6649 - mse: 0.0475 - val_loss: 0.6752 - val_mse: 0.0451\n",
            "Epoch 25/100\n",
            "82/82 [==============================] - 0s 3ms/step - loss: 0.6640 - mse: 0.0471 - val_loss: 0.6746 - val_mse: 0.0448\n",
            "Epoch 26/100\n",
            "82/82 [==============================] - 0s 3ms/step - loss: 0.6631 - mse: 0.0466 - val_loss: 0.6735 - val_mse: 0.0444\n",
            "Epoch 27/100\n",
            "82/82 [==============================] - 0s 3ms/step - loss: 0.6626 - mse: 0.0463 - val_loss: 0.6732 - val_mse: 0.0441\n",
            "Epoch 28/100\n",
            "82/82 [==============================] - 0s 3ms/step - loss: 0.6616 - mse: 0.0458 - val_loss: 0.6715 - val_mse: 0.0438\n",
            "Epoch 29/100\n",
            "82/82 [==============================] - 0s 3ms/step - loss: 0.6607 - mse: 0.0454 - val_loss: 0.6694 - val_mse: 0.0434\n",
            "Epoch 30/100\n",
            "82/82 [==============================] - 0s 3ms/step - loss: 0.6598 - mse: 0.0450 - val_loss: 0.6687 - val_mse: 0.0432\n",
            "Epoch 31/100\n",
            "82/82 [==============================] - 0s 3ms/step - loss: 0.6589 - mse: 0.0446 - val_loss: 0.6681 - val_mse: 0.0429\n",
            "Epoch 32/100\n",
            "82/82 [==============================] - 0s 3ms/step - loss: 0.6580 - mse: 0.0441 - val_loss: 0.6675 - val_mse: 0.0427\n",
            "Epoch 33/100\n",
            "82/82 [==============================] - 0s 3ms/step - loss: 0.6571 - mse: 0.0437 - val_loss: 0.6660 - val_mse: 0.0425\n",
            "Epoch 34/100\n",
            "82/82 [==============================] - 0s 3ms/step - loss: 0.6613 - mse: 0.0433 - val_loss: 0.6656 - val_mse: 0.0423\n",
            "Epoch 35/100\n",
            "82/82 [==============================] - 0s 3ms/step - loss: 0.6580 - mse: 0.0430 - val_loss: 0.6609 - val_mse: 0.0417\n",
            "Epoch 36/100\n",
            "82/82 [==============================] - 0s 3ms/step - loss: 0.6560 - mse: 0.0428 - val_loss: 0.6602 - val_mse: 0.0416\n",
            "Epoch 37/100\n",
            "82/82 [==============================] - 0s 3ms/step - loss: 0.6540 - mse: 0.0421 - val_loss: 0.6593 - val_mse: 0.0413\n",
            "Epoch 38/100\n",
            "82/82 [==============================] - 0s 3ms/step - loss: 0.6531 - mse: 0.0417 - val_loss: 0.6589 - val_mse: 0.0412\n",
            "Epoch 39/100\n",
            "82/82 [==============================] - 0s 3ms/step - loss: 0.6521 - mse: 0.0412 - val_loss: 0.6589 - val_mse: 0.0411\n",
            "Epoch 40/100\n",
            "82/82 [==============================] - 0s 3ms/step - loss: 0.6512 - mse: 0.0408 - val_loss: 0.6587 - val_mse: 0.0410\n",
            "Epoch 41/100\n",
            "82/82 [==============================] - 0s 3ms/step - loss: 0.6505 - mse: 0.0404 - val_loss: 0.6587 - val_mse: 0.0410\n",
            "Epoch 42/100\n",
            "82/82 [==============================] - 0s 3ms/step - loss: 0.6495 - mse: 0.0400 - val_loss: 0.6586 - val_mse: 0.0410\n",
            "Epoch 43/100\n",
            "82/82 [==============================] - 0s 3ms/step - loss: 0.6487 - mse: 0.0396 - val_loss: 0.6592 - val_mse: 0.0411\n",
            "Epoch 44/100\n",
            "82/82 [==============================] - 0s 3ms/step - loss: 0.6479 - mse: 0.0392 - val_loss: 0.6599 - val_mse: 0.0412\n",
            "Epoch 45/100\n",
            "82/82 [==============================] - 0s 3ms/step - loss: 0.6471 - mse: 0.0389 - val_loss: 0.6596 - val_mse: 0.0411\n",
            "Epoch 46/100\n",
            "82/82 [==============================] - 0s 3ms/step - loss: 0.6463 - mse: 0.0385 - val_loss: 0.6614 - val_mse: 0.0413\n",
            "Epoch 47/100\n",
            "82/82 [==============================] - 0s 3ms/step - loss: 0.6459 - mse: 0.0383 - val_loss: 0.6575 - val_mse: 0.0408\n",
            "Epoch 48/100\n",
            "82/82 [==============================] - 0s 3ms/step - loss: 0.6458 - mse: 0.0381 - val_loss: 0.6635 - val_mse: 0.0418\n",
            "Epoch 49/100\n",
            "82/82 [==============================] - 0s 3ms/step - loss: 0.6483 - mse: 0.0392 - val_loss: 0.6564 - val_mse: 0.0402\n",
            "Epoch 50/100\n",
            "82/82 [==============================] - 0s 3ms/step - loss: 0.6462 - mse: 0.0384 - val_loss: 0.6568 - val_mse: 0.0403\n",
            "Epoch 51/100\n",
            "82/82 [==============================] - 0s 3ms/step - loss: 0.6453 - mse: 0.0380 - val_loss: 0.6574 - val_mse: 0.0405\n",
            "Epoch 52/100\n",
            "82/82 [==============================] - 0s 3ms/step - loss: 0.6444 - mse: 0.0375 - val_loss: 0.6584 - val_mse: 0.0408\n",
            "Epoch 53/100\n",
            "82/82 [==============================] - 0s 3ms/step - loss: 0.6437 - mse: 0.0372 - val_loss: 0.6549 - val_mse: 0.0406\n",
            "Epoch 54/100\n",
            "82/82 [==============================] - 0s 3ms/step - loss: 0.6423 - mse: 0.0366 - val_loss: 0.6551 - val_mse: 0.0406\n",
            "Epoch 55/100\n",
            "82/82 [==============================] - 0s 3ms/step - loss: 0.6437 - mse: 0.0360 - val_loss: 0.6560 - val_mse: 0.0406\n",
            "Epoch 56/100\n",
            "82/82 [==============================] - 0s 3ms/step - loss: 0.6394 - mse: 0.0354 - val_loss: 0.6566 - val_mse: 0.0407\n",
            "Epoch 57/100\n",
            "82/82 [==============================] - 0s 3ms/step - loss: 0.6385 - mse: 0.0348 - val_loss: 0.6574 - val_mse: 0.0408\n",
            "Epoch 58/100\n",
            "82/82 [==============================] - 0s 3ms/step - loss: 0.6365 - mse: 0.0341 - val_loss: 0.6590 - val_mse: 0.0411\n",
            "Epoch 59/100\n",
            "82/82 [==============================] - 0s 3ms/step - loss: 0.6350 - mse: 0.0335 - val_loss: 0.6603 - val_mse: 0.0413\n",
            "Epoch 60/100\n",
            "82/82 [==============================] - 0s 3ms/step - loss: 0.6334 - mse: 0.0329 - val_loss: 0.6617 - val_mse: 0.0416\n",
            "Epoch 61/100\n",
            "82/82 [==============================] - 0s 3ms/step - loss: 0.6319 - mse: 0.0322 - val_loss: 0.6638 - val_mse: 0.0419\n",
            "Epoch 62/100\n",
            "82/82 [==============================] - 0s 3ms/step - loss: 0.6303 - mse: 0.0316 - val_loss: 0.6654 - val_mse: 0.0423\n",
            "Epoch 63/100\n",
            "82/82 [==============================] - 0s 3ms/step - loss: 0.6287 - mse: 0.0309 - val_loss: 0.6677 - val_mse: 0.0427\n"
          ],
          "name": "stdout"
        },
        {
          "output_type": "display_data",
          "data": {
            "image/png": "[encoded data removed]",
            "text/plain": [
              "<Figure size 1080x360 with 2 Axes>"
            ]
          },
          "metadata": {
            "tags": [],
            "needs_background": "light"
          }
        },
        {
          "output_type": "stream",
          "text": [
            "21/21 [==============================] - 0s 2ms/step - loss: 0.6677 - mse: 0.0427\n",
            "Evaluation Results: [0.6676680445671082, 0.04274601489305496]\n"
          ],
          "name": "stdout"
        }
      ]
    },
    {
      "cell_type": "markdown",
      "metadata": {
        "id": "Jvl-5LLzvA82"
      },
      "source": [
        "## 2. Embedding + LSTM"
      ]
    },
    {
      "cell_type": "code",
      "metadata": {
        "colab": {
          "base_uri": "https://localhost:8080/",
          "height": 1000
        },
        "id": "jmwsipBTvAUP",
        "outputId": "9ae5e5b8-278c-4bed-e409-7f4ff840a527"
      },
      "source": [
        "K.clear_session()\r\n",
        "latent_dim=200\r\n",
        "\r\n",
        "model_em_lstm=Sequential()\r\n",
        "model_em_lstm.add(Embedding(max_features, latent_dim, input_length=sequence_length, mask_zero=True))\r\n",
        "model_em_lstm.add(LSTM(100))\r\n",
        "#model_em_lstm.add(layers.Dropout(0.3))\r\n",
        "model_em_lstm.add(layers.Dense(1, activation = 'sigmoid'))\r\n",
        "\r\n",
        "model_em_lstm.summary()\r\n",
        "loss = tf.keras.losses.binary_crossentropy\r\n",
        "optimizer = optimizers.RMSprop(learning_rate= 0.001)\r\n",
        "optimizer = optimizers.Adam(lr = 0.001)\r\n",
        "metrics=['mse']\r\n",
        "model_em_lstm.compile(loss= loss, optimizer = optimizer, metrics = metrics)\r\n",
        "\r\n",
        "early_stopping = tf.keras.callbacks.EarlyStopping(\r\n",
        "    monitor='val_loss', min_delta=0, patience=10, verbose=0, mode='auto',restore_best_weights=True\r\n",
        ")\r\n",
        "\r\n",
        "history_em_lstm=model_em_lstm.fit(train_data, validation_data = val_data, callbacks=early_stopping, epochs = 50, verbose = 1)\r\n",
        "evaluate_model(model_em_lstm,val_data,history_em_lstm)"
      ],
      "execution_count": 27,
      "outputs": [
        {
          "output_type": "stream",
          "text": [
            "Model: \"sequential\"\n",
            "_________________________________________________________________\n",
            "Layer (type)                 Output Shape              Param #   \n",
            "=================================================================\n",
            "embedding (Embedding)        (None, 1200, 200)         3000000   \n",
            "_________________________________________________________________\n",
            "lstm (LSTM)                  (None, 100)               120400    \n",
            "_________________________________________________________________\n",
            "dense (Dense)                (None, 1)                 101       \n",
            "=================================================================\n",
            "Total params: 3,120,501\n",
            "Trainable params: 3,120,501\n",
            "Non-trainable params: 0\n",
            "_________________________________________________________________\n",
            "Epoch 1/50\n",
            "82/82 [==============================] - 10s 122ms/step - loss: 0.6590 - mse: 0.0453 - val_loss: 0.6387 - val_mse: 0.0337\n",
            "Epoch 2/50\n",
            "82/82 [==============================] - 9s 108ms/step - loss: 0.6157 - mse: 0.0255 - val_loss: 0.6191 - val_mse: 0.0253\n",
            "Epoch 3/50\n",
            "82/82 [==============================] - 9s 107ms/step - loss: 0.5985 - mse: 0.0183 - val_loss: 0.6305 - val_mse: 0.0293\n",
            "Epoch 4/50\n",
            "82/82 [==============================] - 9s 109ms/step - loss: 0.5889 - mse: 0.0147 - val_loss: 0.6282 - val_mse: 0.0287\n",
            "Epoch 5/50\n",
            "82/82 [==============================] - 9s 108ms/step - loss: 0.5862 - mse: 0.0141 - val_loss: 0.6414 - val_mse: 0.0334\n",
            "Epoch 6/50\n",
            "82/82 [==============================] - 9s 107ms/step - loss: 0.5829 - mse: 0.0131 - val_loss: 0.6401 - val_mse: 0.0326\n",
            "Epoch 7/50\n",
            "82/82 [==============================] - 9s 108ms/step - loss: 0.5811 - mse: 0.0126 - val_loss: 0.6454 - val_mse: 0.0354\n",
            "Epoch 8/50\n",
            "82/82 [==============================] - 9s 108ms/step - loss: 0.5723 - mse: 0.0100 - val_loss: 0.6499 - val_mse: 0.0367\n",
            "Epoch 9/50\n",
            "82/82 [==============================] - 9s 108ms/step - loss: 0.5687 - mse: 0.0089 - val_loss: 0.6658 - val_mse: 0.0440\n",
            "Epoch 10/50\n",
            "82/82 [==============================] - 9s 108ms/step - loss: 0.5777 - mse: 0.0116 - val_loss: 0.6627 - val_mse: 0.0386\n",
            "Epoch 11/50\n",
            "82/82 [==============================] - 9s 108ms/step - loss: 0.5693 - mse: 0.0091 - val_loss: 0.6726 - val_mse: 0.0404\n",
            "Epoch 12/50\n",
            "82/82 [==============================] - 9s 107ms/step - loss: 0.5633 - mse: 0.0074 - val_loss: 0.6603 - val_mse: 0.0384\n"
          ],
          "name": "stdout"
        },
        {
          "output_type": "display_data",
          "data": {
            "image/png": "[encoded data removed]",
            "text/plain": [
              "<Figure size 1080x360 with 2 Axes>"
            ]
          },
          "metadata": {
            "tags": [],
            "needs_background": "light"
          }
        },
        {
          "output_type": "stream",
          "text": [
            "21/21 [==============================] - 1s 34ms/step - loss: 0.6191 - mse: 0.0253\n",
            "Evaluation Results: [0.6190962195396423, 0.025335902348160744]\n"
          ],
          "name": "stdout"
        }
      ]
    },
    {
      "cell_type": "markdown",
      "metadata": {
        "id": "HYSAwlDGLoFK"
      },
      "source": [
        "## 3. Embedding + GRU"
      ]
    },
    {
      "cell_type": "code",
      "metadata": {
        "colab": {
          "base_uri": "https://localhost:8080/",
          "height": 1000
        },
        "id": "CtsDoHGsLvrF",
        "outputId": "81180b67-b911-4dba-c8a7-2cb43c19c70a"
      },
      "source": [
        "K.clear_session()\r\n",
        "latent_dim=200\r\n",
        "\r\n",
        "model_em_gru=Sequential()\r\n",
        "model_em_gru.add(Embedding(max_features, latent_dim, input_length=sequence_length, mask_zero=True))\r\n",
        "model_em_gru.add(GRU(100))\r\n",
        "model_em_gru.add(layers.Dense(1, activation = 'sigmoid'))\r\n",
        "\r\n",
        "model_em_gru.summary()\r\n",
        "loss = tf.keras.losses.binary_crossentropy\r\n",
        "optimizer = optimizers.Adam(lr = 0.001)\r\n",
        "metrics=['mse']\r\n",
        "model_em_gru.compile(loss= loss, optimizer = optimizer, metrics = metrics)\r\n",
        "\r\n",
        "early_stopping = tf.keras.callbacks.EarlyStopping(\r\n",
        "    monitor='val_loss', min_delta=0, patience=10, verbose=0, mode='auto',restore_best_weights=True\r\n",
        ")\r\n",
        "\r\n",
        "history_em_gru=model_em_gru.fit(train_data, validation_data = val_data, callbacks=early_stopping, epochs = 100, verbose = 1)\r\n",
        "evaluate_model(model_em_gru,val_data, history_em_gru)"
      ],
      "execution_count": 28,
      "outputs": [
        {
          "output_type": "stream",
          "text": [
            "Model: \"sequential\"\n",
            "_________________________________________________________________\n",
            "Layer (type)                 Output Shape              Param #   \n",
            "=================================================================\n",
            "embedding (Embedding)        (None, 1200, 200)         3000000   \n",
            "_________________________________________________________________\n",
            "gru (GRU)                    (None, 100)               90600     \n",
            "_________________________________________________________________\n",
            "dense (Dense)                (None, 1)                 101       \n",
            "=================================================================\n",
            "Total params: 3,090,701\n",
            "Trainable params: 3,090,701\n",
            "Non-trainable params: 0\n",
            "_________________________________________________________________\n",
            "Epoch 1/100\n",
            "82/82 [==============================] - 10s 118ms/step - loss: 0.6676 - mse: 0.0493 - val_loss: 0.6458 - val_mse: 0.0371\n",
            "Epoch 2/100\n",
            "82/82 [==============================] - 9s 106ms/step - loss: 0.6302 - mse: 0.0320 - val_loss: 0.6307 - val_mse: 0.0306\n",
            "Epoch 3/100\n",
            "82/82 [==============================] - 9s 107ms/step - loss: 0.6089 - mse: 0.0226 - val_loss: 0.6315 - val_mse: 0.0310\n",
            "Epoch 4/100\n",
            "82/82 [==============================] - 9s 105ms/step - loss: 0.5931 - mse: 0.0162 - val_loss: 0.6315 - val_mse: 0.0310\n",
            "Epoch 5/100\n",
            "82/82 [==============================] - 9s 105ms/step - loss: 0.5892 - mse: 0.0150 - val_loss: 0.6404 - val_mse: 0.0333\n",
            "Epoch 6/100\n",
            "82/82 [==============================] - 9s 104ms/step - loss: 0.5866 - mse: 0.0142 - val_loss: 0.6423 - val_mse: 0.0330\n",
            "Epoch 7/100\n",
            "82/82 [==============================] - 9s 105ms/step - loss: 0.5817 - mse: 0.0125 - val_loss: 0.6490 - val_mse: 0.0372\n",
            "Epoch 8/100\n",
            "82/82 [==============================] - 9s 104ms/step - loss: 0.5741 - mse: 0.0099 - val_loss: 0.6479 - val_mse: 0.0370\n",
            "Epoch 9/100\n",
            "82/82 [==============================] - 9s 105ms/step - loss: 0.5738 - mse: 0.0103 - val_loss: 0.6560 - val_mse: 0.0397\n",
            "Epoch 10/100\n",
            "82/82 [==============================] - 8s 103ms/step - loss: 0.5708 - mse: 0.0095 - val_loss: 0.6512 - val_mse: 0.0372\n",
            "Epoch 11/100\n",
            "82/82 [==============================] - 9s 104ms/step - loss: 0.5693 - mse: 0.0093 - val_loss: 0.6391 - val_mse: 0.0314\n",
            "Epoch 12/100\n",
            "82/82 [==============================] - 9s 105ms/step - loss: 0.5701 - mse: 0.0093 - val_loss: 0.6567 - val_mse: 0.0351\n"
          ],
          "name": "stdout"
        },
        {
          "output_type": "display_data",
          "data": {
            "image/png": "[encoded data removed]",
            "text/plain": [
              "<Figure size 1080x360 with 2 Axes>"
            ]
          },
          "metadata": {
            "tags": [],
            "needs_background": "light"
          }
        },
        {
          "output_type": "stream",
          "text": [
            "21/21 [==============================] - 1s 35ms/step - loss: 0.6307 - mse: 0.0306\n",
            "Evaluation Results: [0.6307286620140076, 0.030568765476346016]\n"
          ],
          "name": "stdout"
        }
      ]
    },
    {
      "cell_type": "markdown",
      "metadata": {
        "id": "0FSDN8SnMKMm"
      },
      "source": [
        "## 4. Using pre-trained embedding "
      ]
    },
    {
      "cell_type": "markdown",
      "metadata": {
        "id": "8mGwfYRnMTWt"
      },
      "source": [
        "### Downloading glove"
      ]
    },
    {
      "cell_type": "code",
      "metadata": {
        "colab": {
          "base_uri": "https://localhost:8080/"
        },
        "id": "tP6OoNRiMYvx",
        "outputId": "ecd563ea-4b78-4acd-fca5-9546f24d4948"
      },
      "source": [
        "def download_file(packet_url, base_path=\"\", extract=False):\r\n",
        "  if base_path != \"\":\r\n",
        "    if not os.path.exists(base_path):\r\n",
        "      os.mkdir(base_path)\r\n",
        "  packet_file = os.path.basename(packet_url)\r\n",
        "  with requests.get(packet_url, stream=True) as r:\r\n",
        "      r.raise_for_status()\r\n",
        "      with open(os.path.join(base_path,packet_file), 'wb') as f:\r\n",
        "          for chunk in r.iter_content(chunk_size=8192):\r\n",
        "              f.write(chunk)\r\n",
        "  \r\n",
        "  if extract:\r\n",
        "    if packet_file.endswith(\".zip\"):\r\n",
        "      with zipfile.ZipFile(os.path.join(base_path,packet_file)) as zfile:\r\n",
        "        zfile.extractall(base_path)\r\n",
        "    \r\n",
        "    if packet_file.endswith(\".tar.gz\"):\r\n",
        "      packet_name = packet_file.split('.')[0]\r\n",
        "      with tarfile.open(os.path.join(base_path,packet_file)) as tfile:\r\n",
        "        tfile.extractall(base_path)\r\n",
        "\r\n",
        "download_file(\"https://github.com/shivasj/dataset-store/releases/download/v3.0/glove.6B.100d.txt.zip\", base_path=\"embedding\", extract=True)\r\n",
        "\r\n",
        "path_to_glove_file = '/content/embedding/glove.6B.100d.txt'\r\n",
        "embeddings_index = {}\r\n",
        "with open(path_to_glove_file) as f:\r\n",
        "    for line in f:\r\n",
        "        word, coefs = line.split(maxsplit=1)\r\n",
        "        coefs = np.fromstring(coefs, \"f\", sep=\" \")\r\n",
        "        embeddings_index[word] = coefs\r\n",
        "\r\n",
        "print(\"Found %s word vectors.\" % len(embeddings_index))\r\n",
        "\r\n",
        "#num_tokens = len(voc) + 2\r\n",
        "embedding_dim = 100\r\n",
        "hits = 0\r\n",
        "misses = 0\r\n",
        "\r\n",
        "# Get Vocabulary\r\n",
        "vocabulary = text_vectorizer.get_vocabulary()\r\n",
        "vocabulary_size = len(vocabulary)\r\n",
        "print(\"Vocabulary Size:\",vocabulary_size)\r\n",
        "# Generate word index\r\n",
        "word_index = dict(zip(vocabulary, range(vocabulary_size)))\r\n",
        "\r\n",
        "\r\n",
        "# Prepare embedding matrix\r\n",
        "embedding_matrix = np.zeros((max_features, embedding_dim))\r\n",
        "for word, i in word_index.items():\r\n",
        "    embedding_vector = embeddings_index.get(word)\r\n",
        "    if embedding_vector is not None:\r\n",
        "        # Words not found in embedding index will be all-zeros.\r\n",
        "        # This includes the representation for \"padding\" and \"OOV\"\r\n",
        "        embedding_matrix[i] = embedding_vector\r\n",
        "        hits += 1\r\n",
        "    else:\r\n",
        "        misses += 1\r\n",
        "print(\"Converted %d words (%d misses)\" % (hits, misses))"
      ],
      "execution_count": 29,
      "outputs": [
        {
          "output_type": "stream",
          "text": [
            "Found 400000 word vectors.\n",
            "Vocabulary Size: 15000\n",
            "Converted 11723 words (3277 misses)\n"
          ],
          "name": "stdout"
        }
      ]
    },
    {
      "cell_type": "markdown",
      "metadata": {
        "id": "ljzCrNtGMedw"
      },
      "source": [
        "### Glove + LSTM"
      ]
    },
    {
      "cell_type": "code",
      "metadata": {
        "colab": {
          "base_uri": "https://localhost:8080/",
          "height": 1000
        },
        "id": "yCbCtj8aMgsX",
        "outputId": "83d50052-198b-43f7-9d4a-c19b2278c83e"
      },
      "source": [
        "K.clear_session()\r\n",
        "latent_dim=200\r\n",
        "\r\n",
        "model_glo_lstm=Sequential()\r\n",
        "model_glo_lstm.add(layers.Input(shape = (1200,)))\r\n",
        "model_glo_lstm.add(Embedding(max_features, \r\n",
        "                            embedding_dim, \r\n",
        "                            embeddings_initializer=keras.initializers.Constant(embedding_matrix),\r\n",
        "                            trainable=False,\r\n",
        "                            name=\"embedding\", mask_zero = True))\r\n",
        "model_glo_lstm.add(LSTM(100))\r\n",
        "model_glo_lstm.add(layers.Dense(1, activation = 'sigmoid'))\r\n",
        "\r\n",
        "model_glo_lstm.summary()\r\n",
        "loss = tf.keras.losses.binary_crossentropy\r\n",
        "optimizer = optimizers.RMSprop(learning_rate= 0.001)\r\n",
        "metrics=['mse']\r\n",
        "model_glo_lstm.compile(loss= loss, optimizer = optimizer, metrics = metrics)\r\n",
        "\r\n",
        "early_stopping = tf.keras.callbacks.EarlyStopping(\r\n",
        "    monitor='val_loss', min_delta=0, patience=10, verbose=0, mode='auto', restore_best_weights=True\r\n",
        ")\r\n",
        "\r\n",
        "history_glo_lstm=model_glo_lstm.fit(train_data, validation_data = val_data, callbacks=early_stopping, epochs = 100, verbose = 1)\r\n",
        "evaluate_model(model_glo_lstm,val_data,history_glo_lstm)"
      ],
      "execution_count": 49,
      "outputs": [
        {
          "output_type": "stream",
          "text": [
            "Model: \"sequential\"\n",
            "_________________________________________________________________\n",
            "Layer (type)                 Output Shape              Param #   \n",
            "=================================================================\n",
            "embedding (Embedding)        (None, 1200, 100)         1500000   \n",
            "_________________________________________________________________\n",
            "lstm (LSTM)                  (None, 100)               80400     \n",
            "_________________________________________________________________\n",
            "dense (Dense)                (None, 1)                 101       \n",
            "=================================================================\n",
            "Total params: 1,580,501\n",
            "Trainable params: 80,501\n",
            "Non-trainable params: 1,500,000\n",
            "_________________________________________________________________\n",
            "Epoch 1/100\n",
            "82/82 [==============================] - 6s 69ms/step - loss: 0.6761 - mse: 0.0532 - val_loss: 0.6791 - val_mse: 0.0531\n",
            "Epoch 2/100\n",
            "82/82 [==============================] - 5s 57ms/step - loss: 0.6631 - mse: 0.0472 - val_loss: 0.6732 - val_mse: 0.0506\n",
            "Epoch 3/100\n",
            "82/82 [==============================] - 5s 56ms/step - loss: 0.6504 - mse: 0.0411 - val_loss: 0.6405 - val_mse: 0.0344\n",
            "Epoch 4/100\n",
            "82/82 [==============================] - 5s 56ms/step - loss: 0.6303 - mse: 0.0319 - val_loss: 0.6300 - val_mse: 0.0304\n",
            "Epoch 5/100\n",
            "82/82 [==============================] - 5s 57ms/step - loss: 0.6230 - mse: 0.0287 - val_loss: 0.6264 - val_mse: 0.0290\n",
            "Epoch 6/100\n",
            "82/82 [==============================] - 5s 58ms/step - loss: 0.6177 - mse: 0.0265 - val_loss: 0.6175 - val_mse: 0.0248\n",
            "Epoch 7/100\n",
            "82/82 [==============================] - 5s 56ms/step - loss: 0.6146 - mse: 0.0252 - val_loss: 0.6168 - val_mse: 0.0245\n",
            "Epoch 8/100\n",
            "82/82 [==============================] - 5s 56ms/step - loss: 0.6115 - mse: 0.0239 - val_loss: 0.6194 - val_mse: 0.0243\n",
            "Epoch 9/100\n",
            "82/82 [==============================] - 5s 56ms/step - loss: 0.6100 - mse: 0.0233 - val_loss: 0.6127 - val_mse: 0.0226\n",
            "Epoch 10/100\n",
            "82/82 [==============================] - 5s 58ms/step - loss: 0.6076 - mse: 0.0223 - val_loss: 0.6175 - val_mse: 0.0250\n",
            "Epoch 11/100\n",
            "82/82 [==============================] - 5s 56ms/step - loss: 0.6048 - mse: 0.0213 - val_loss: 0.6080 - val_mse: 0.0209\n",
            "Epoch 12/100\n",
            "82/82 [==============================] - 5s 56ms/step - loss: 0.6022 - mse: 0.0202 - val_loss: 0.6112 - val_mse: 0.0222\n",
            "Epoch 13/100\n",
            "82/82 [==============================] - 5s 56ms/step - loss: 0.6009 - mse: 0.0197 - val_loss: 0.6117 - val_mse: 0.0224\n",
            "Epoch 14/100\n",
            "82/82 [==============================] - 5s 57ms/step - loss: 0.5988 - mse: 0.0190 - val_loss: 0.6104 - val_mse: 0.0219\n",
            "Epoch 15/100\n",
            "82/82 [==============================] - 5s 56ms/step - loss: 0.5967 - mse: 0.0182 - val_loss: 0.6177 - val_mse: 0.0246\n",
            "Epoch 16/100\n",
            "82/82 [==============================] - 5s 56ms/step - loss: 0.5956 - mse: 0.0178 - val_loss: 0.6170 - val_mse: 0.0226\n",
            "Epoch 17/100\n",
            "82/82 [==============================] - 5s 56ms/step - loss: 0.5947 - mse: 0.0174 - val_loss: 0.6162 - val_mse: 0.0235\n",
            "Epoch 18/100\n",
            "82/82 [==============================] - 5s 57ms/step - loss: 0.5923 - mse: 0.0166 - val_loss: 0.6175 - val_mse: 0.0240\n",
            "Epoch 19/100\n",
            "82/82 [==============================] - 5s 56ms/step - loss: 0.5916 - mse: 0.0163 - val_loss: 0.6100 - val_mse: 0.0214\n",
            "Epoch 20/100\n",
            "82/82 [==============================] - 5s 56ms/step - loss: 0.5901 - mse: 0.0159 - val_loss: 0.6086 - val_mse: 0.0205\n",
            "Epoch 21/100\n",
            "82/82 [==============================] - 5s 57ms/step - loss: 0.5883 - mse: 0.0153 - val_loss: 0.6124 - val_mse: 0.0218\n"
          ],
          "name": "stdout"
        },
        {
          "output_type": "display_data",
          "data": {
            "image/png": "[encoded data removed]",
            "text/plain": [
              "<Figure size 1080x360 with 2 Axes>"
            ]
          },
          "metadata": {
            "tags": [],
            "needs_background": "light"
          }
        },
        {
          "output_type": "stream",
          "text": [
            "21/21 [==============================] - 1s 27ms/step - loss: 0.6080 - mse: 0.0209\n",
            "Evaluation Results: [0.6079632043838501, 0.020867984741926193]\n"
          ],
          "name": "stdout"
        }
      ]
    },
    {
      "cell_type": "markdown",
      "metadata": {
        "id": "iZC9ChpvMtme"
      },
      "source": [
        "### Glove + GRU"
      ]
    },
    {
      "cell_type": "code",
      "metadata": {
        "colab": {
          "base_uri": "https://localhost:8080/",
          "height": 1000
        },
        "id": "mXqnlQNRMqrF",
        "outputId": "1c4a9b48-b386-4b94-f3aa-4d727abf5a05"
      },
      "source": [
        "K.clear_session()\r\n",
        "latent_dim=200\r\n",
        "\r\n",
        "model_glo_gru=Sequential()\r\n",
        "model_glo_gru.add(layers.Input(shape = (1200,)))\r\n",
        "model_glo_gru.add(Embedding(max_features, \r\n",
        "                            embedding_dim, \r\n",
        "                            embeddings_initializer=keras.initializers.Constant(embedding_matrix),\r\n",
        "                            trainable=False,\r\n",
        "                            name=\"embedding\", mask_zero = True))\r\n",
        "model_glo_gru.add(GRU(100))\r\n",
        "model_glo_gru.add(layers.Dense(1, activation = 'sigmoid'))\r\n",
        "\r\n",
        "model_glo_gru.summary()\r\n",
        "loss = tf.keras.losses.binary_crossentropy\r\n",
        "optimizer = optimizers.RMSprop(learning_rate= 0.001)\r\n",
        "metrics=['mse']\r\n",
        "model_glo_gru.compile(loss= loss, optimizer = optimizer, metrics = metrics)\r\n",
        "\r\n",
        "early_stopping = tf.keras.callbacks.EarlyStopping(\r\n",
        "    monitor='val_loss', min_delta=0, patience=10, verbose=0, mode='auto', restore_best_weights=True\r\n",
        ")\r\n",
        "\r\n",
        "history_glo_gru=model_glo_gru.fit(train_data, validation_data = val_data, callbacks=early_stopping, epochs = 100, verbose = 1)\r\n",
        "evaluate_model(model_glo_gru,val_data,history_glo_gru)#"
      ],
      "execution_count": 30,
      "outputs": [
        {
          "output_type": "stream",
          "text": [
            "Model: \"sequential\"\n",
            "_________________________________________________________________\n",
            "Layer (type)                 Output Shape              Param #   \n",
            "=================================================================\n",
            "embedding (Embedding)        (None, 1200, 100)         1500000   \n",
            "_________________________________________________________________\n",
            "gru (GRU)                    (None, 100)               60600     \n",
            "_________________________________________________________________\n",
            "dense (Dense)                (None, 1)                 101       \n",
            "=================================================================\n",
            "Total params: 1,560,701\n",
            "Trainable params: 60,701\n",
            "Non-trainable params: 1,500,000\n",
            "_________________________________________________________________\n",
            "Epoch 1/100\n",
            "82/82 [==============================] - 5s 64ms/step - loss: 0.6787 - mse: 0.0546 - val_loss: 0.7005 - val_mse: 0.0633\n",
            "Epoch 2/100\n",
            "82/82 [==============================] - 4s 53ms/step - loss: 0.6683 - mse: 0.0496 - val_loss: 0.6887 - val_mse: 0.0576\n",
            "Epoch 3/100\n",
            "82/82 [==============================] - 4s 55ms/step - loss: 0.6508 - mse: 0.0413 - val_loss: 0.6736 - val_mse: 0.0497\n",
            "Epoch 4/100\n",
            "82/82 [==============================] - 4s 53ms/step - loss: 0.6309 - mse: 0.0320 - val_loss: 0.6219 - val_mse: 0.0263\n",
            "Epoch 5/100\n",
            "82/82 [==============================] - 4s 53ms/step - loss: 0.6234 - mse: 0.0288 - val_loss: 0.6186 - val_mse: 0.0250\n",
            "Epoch 6/100\n",
            "82/82 [==============================] - 4s 53ms/step - loss: 0.6183 - mse: 0.0266 - val_loss: 0.6163 - val_mse: 0.0241\n",
            "Epoch 7/100\n",
            "82/82 [==============================] - 4s 53ms/step - loss: 0.6142 - mse: 0.0249 - val_loss: 0.6155 - val_mse: 0.0238\n",
            "Epoch 8/100\n",
            "82/82 [==============================] - 4s 54ms/step - loss: 0.6111 - mse: 0.0237 - val_loss: 0.6130 - val_mse: 0.0227\n",
            "Epoch 9/100\n",
            "82/82 [==============================] - 4s 53ms/step - loss: 0.6087 - mse: 0.0227 - val_loss: 0.6128 - val_mse: 0.0225\n",
            "Epoch 10/100\n",
            "82/82 [==============================] - 4s 53ms/step - loss: 0.6064 - mse: 0.0218 - val_loss: 0.6124 - val_mse: 0.0224\n",
            "Epoch 11/100\n",
            "82/82 [==============================] - 4s 53ms/step - loss: 0.6040 - mse: 0.0208 - val_loss: 0.6114 - val_mse: 0.0220\n",
            "Epoch 12/100\n",
            "82/82 [==============================] - 4s 54ms/step - loss: 0.6021 - mse: 0.0200 - val_loss: 0.6092 - val_mse: 0.0212\n",
            "Epoch 13/100\n",
            "82/82 [==============================] - 4s 53ms/step - loss: 0.6004 - mse: 0.0194 - val_loss: 0.6067 - val_mse: 0.0203\n",
            "Epoch 14/100\n",
            "82/82 [==============================] - 4s 53ms/step - loss: 0.5988 - mse: 0.0188 - val_loss: 0.6059 - val_mse: 0.0200\n",
            "Epoch 15/100\n",
            "82/82 [==============================] - 4s 53ms/step - loss: 0.5976 - mse: 0.0183 - val_loss: 0.6072 - val_mse: 0.0206\n",
            "Epoch 16/100\n",
            "82/82 [==============================] - 4s 53ms/step - loss: 0.5965 - mse: 0.0179 - val_loss: 0.6083 - val_mse: 0.0210\n",
            "Epoch 17/100\n",
            "82/82 [==============================] - 4s 54ms/step - loss: 0.5952 - mse: 0.0174 - val_loss: 0.6110 - val_mse: 0.0221\n",
            "Epoch 18/100\n",
            "82/82 [==============================] - 4s 53ms/step - loss: 0.5939 - mse: 0.0170 - val_loss: 0.6109 - val_mse: 0.0220\n",
            "Epoch 19/100\n",
            "82/82 [==============================] - 4s 53ms/step - loss: 0.5927 - mse: 0.0165 - val_loss: 0.6125 - val_mse: 0.0226\n",
            "Epoch 20/100\n",
            "82/82 [==============================] - 4s 53ms/step - loss: 0.5913 - mse: 0.0160 - val_loss: 0.6115 - val_mse: 0.0222\n",
            "Epoch 21/100\n",
            "82/82 [==============================] - 4s 53ms/step - loss: 0.5900 - mse: 0.0156 - val_loss: 0.6109 - val_mse: 0.0219\n",
            "Epoch 22/100\n",
            "82/82 [==============================] - 4s 53ms/step - loss: 0.5889 - mse: 0.0151 - val_loss: 0.6106 - val_mse: 0.0218\n",
            "Epoch 23/100\n",
            "82/82 [==============================] - 4s 53ms/step - loss: 0.5875 - mse: 0.0147 - val_loss: 0.6099 - val_mse: 0.0215\n",
            "Epoch 24/100\n",
            "82/82 [==============================] - 4s 53ms/step - loss: 0.5861 - mse: 0.0142 - val_loss: 0.6104 - val_mse: 0.0217\n"
          ],
          "name": "stdout"
        },
        {
          "output_type": "display_data",
          "data": {
            "image/png": "[encoded data removed]",
            "text/plain": [
              "<Figure size 1080x360 with 2 Axes>"
            ]
          },
          "metadata": {
            "tags": [],
            "needs_background": "light"
          }
        },
        {
          "output_type": "stream",
          "text": [
            "21/21 [==============================] - 1s 27ms/step - loss: 0.6059 - mse: 0.0200\n",
            "Evaluation Results: [0.6059070825576782, 0.02004125714302063]\n"
          ],
          "name": "stdout"
        }
      ]
    },
    {
      "cell_type": "markdown",
      "metadata": {
        "id": "zbU5P_6FM1bM"
      },
      "source": [
        "## BERT"
      ]
    },
    {
      "cell_type": "code",
      "metadata": {
        "id": "5Q-zCCW94AgN",
        "colab": {
          "base_uri": "https://localhost:8080/",
          "height": 66,
          "referenced_widgets": [
            "0d73af323ef746b8be794abb709967c7",
            "90c8606964214be99f6162cf7eb1c795",
            "af99135dca7f43be83a32b13df28cc13",
            "4ef644064cba4fe7bfbab04c23765c92",
            "17d4286da44d41708b26ee11acc38c2d",
            "7536c19f1b9649cf866a506fb92d841c",
            "ec5ef467dbd54c939f448696f2e42b61",
            "edf103d3aa75468695c8028a52270786"
          ]
        },
        "outputId": "b75e950b-e086-4ab0-b52b-b7c7b966ec41"
      },
      "source": [
        "tokenizer=BertTokenizer.from_pretrained('bert-base-uncased',do_lower_case=True)\n",
        "train_X = tokenizer.batch_encode_plus(\n",
        "                      train_X,\n",
        "                      return_tensors='tf',\n",
        "                      add_special_tokens = True, # add [CLS], [SEP]\n",
        "                      return_token_type_ids=True,\n",
        "                      padding='max_length',\n",
        "                      max_length=512, # max length of the text that can go to BERT (<=512)\n",
        "                      return_attention_mask = True,\n",
        "                      truncation='longest_first'\n",
        "                  )\n",
        "test_X = tokenizer.batch_encode_plus(\n",
        "                      test_X,\n",
        "                      return_tensors='tf',\n",
        "                      add_special_tokens = True, # add [CLS], [SEP]\n",
        "                      return_token_type_ids=True,\n",
        "                      padding='max_length',\n",
        "                      max_length=512, # max length of the text that can go to BERT (<=512)\n",
        "                      return_attention_mask = True,\n",
        "                      truncation='longest_first'\n",
        "                  )"
      ],
      "execution_count": 31,
      "outputs": [
        {
          "output_type": "display_data",
          "data": {
            "application/vnd.jupyter.widget-view+json": {
              "model_id": "0d73af323ef746b8be794abb709967c7",
              "version_minor": 0,
              "version_major": 2
            },
            "text/plain": [
              "HBox(children=(FloatProgress(value=0.0, description='Downloading', max=231508.0, style=ProgressStyle(descripti…"
            ]
          },
          "metadata": {
            "tags": []
          }
        },
        {
          "output_type": "stream",
          "text": [
            "\n"
          ],
          "name": "stdout"
        }
      ]
    },
    {
      "cell_type": "code",
      "metadata": {
        "id": "VOuHnsaR2_7u"
      },
      "source": [
        "batch_size = 64 # You can try higher values but may run into OOM errors depending on which GPU you are using\n",
        "train_shuffle_buffer_size = 800\n",
        "validation_shuffle_buffer_size = 200\n",
        "\n",
        "train_data = tf.data.Dataset.from_tensor_slices((dict(train_X), train_y))\n",
        "validation_data = tf.data.Dataset.from_tensor_slices((dict(test_X), test_y))\n",
        "\n",
        "train_data = train_data.batch(batch_size)\n",
        "train_data = train_data.shuffle(train_shuffle_buffer_size)\n",
        "train_data = train_data.cache().prefetch(buffer_size=train_shuffle_buffer_size)\n",
        "\n",
        "validation_data = validation_data.batch(batch_size)\n",
        "validation_data = validation_data.shuffle(validation_shuffle_buffer_size)\n",
        "validation_data = validation_data.cache().prefetch(buffer_size=validation_shuffle_buffer_size)"
      ],
      "execution_count": 32,
      "outputs": []
    },
    {
      "cell_type": "code",
      "metadata": {
        "colab": {
          "base_uri": "https://localhost:8080/"
        },
        "id": "E1ZE2orq6J6t",
        "outputId": "0b8cfa0e-a0f7-4639-83bf-f013dab3ef39"
      },
      "source": [
        "train_data"
      ],
      "execution_count": 33,
      "outputs": [
        {
          "output_type": "execute_result",
          "data": {
            "text/plain": [
              "<PrefetchDataset shapes: ({input_ids: (None, 512), token_type_ids: (None, 512), attention_mask: (None, 512)}, (None, 1)), types: ({input_ids: tf.int32, token_type_ids: tf.int32, attention_mask: tf.int32}, tf.float64)>"
            ]
          },
          "metadata": {
            "tags": []
          },
          "execution_count": 33
        }
      ]
    },
    {
      "cell_type": "code",
      "metadata": {
        "colab": {
          "base_uri": "https://localhost:8080/",
          "height": 689,
          "referenced_widgets": [
            "918d5bf82b064f81bd8189924fbf692d",
            "dc16e6c2afdf44af882c448cfc9ad452",
            "6eabd4f70e69479d8c02388e59908f84",
            "d7a22254ea054bc8bedf128dfbc373fc",
            "aab5b289686344029ab93af159728d6e",
            "caf177f2ecec4d76aacb46aaa879d8bc",
            "57c0fcfdbba746c4aa337831da5a9607",
            "a80cb8e4dd80406d8a46b9a06510fcdd",
            "45e71cbce3b646a087ae1ac5d4d5afe4",
            "7ca7c2e901d04bd0b2e26228ac754eec",
            "73fe9d16ebe14a05a54944d6583cf5c7",
            "9dae030d89b24620897d4bb884c9872b",
            "d8afe67bc12c49f7b3afdbb897fcae67",
            "238bd4fb79494b3198b0a85cbd83367a",
            "4cacc1ba8c2e407daca4ccac0d74530d",
            "92c1ba83b82e43688172c7bfc4f76ed1"
          ]
        },
        "id": "LbRwBRVa4YS1",
        "outputId": "c78ac1c4-3dc0-4761-f34a-b5b4d09bc2ca"
      },
      "source": [
        "# Build BERT model\n",
        "max_len = 512\n",
        "input_ids = layers.Input(shape=(max_len,), dtype=tf.int32, name = 'input_ids')\n",
        "token_type_ids = layers.Input(shape=(max_len,), dtype=tf.int32, name = 'token_type_ids')\n",
        "attention_mask = layers.Input(shape=(max_len,), dtype=tf.int32, name = 'attention_mask')\n",
        "encoder = TFBertModel.from_pretrained(\"bert-base-uncased\")\n",
        "encoder.trainable=False\n",
        "embedding = encoder(\n",
        "    input_ids, token_type_ids=token_type_ids, attention_mask=attention_mask\n",
        ")[1]\n",
        "embedding_flatten = layers.Flatten(name=\"embedding_flatten\")(embedding)\n",
        "text_dropout=layers.Dropout(0.2)(embedding_flatten)\n",
        "bert_dense = layers.Dense(256, name=\"bert_dense\", activation = 'relu')(text_dropout)\n",
        "intermediate_dense = layers.Dense(32, name = \"intermediate_dense\", activation = 'relu')(bert_dense)\n",
        "output = layers.Dense(1, activation = 'sigmoid')(intermediate_dense)\n",
        "\n",
        "inputs = {'input_ids': input_ids, 'token_type_ids': token_type_ids, 'attention_mask': attention_mask}\n",
        "bert_model = keras.Model(inputs= inputs, outputs= output,name='BERT_Model')\n",
        "\n",
        "bert_model.summary()\n"
      ],
      "execution_count": 34,
      "outputs": [
        {
          "output_type": "display_data",
          "data": {
            "application/vnd.jupyter.widget-view+json": {
              "model_id": "918d5bf82b064f81bd8189924fbf692d",
              "version_minor": 0,
              "version_major": 2
            },
            "text/plain": [
              "HBox(children=(FloatProgress(value=0.0, description='Downloading', max=433.0, style=ProgressStyle(description_…"
            ]
          },
          "metadata": {
            "tags": []
          }
        },
        {
          "output_type": "stream",
          "text": [
            "\n"
          ],
          "name": "stdout"
        },
        {
          "output_type": "display_data",
          "data": {
            "application/vnd.jupyter.widget-view+json": {
              "model_id": "45e71cbce3b646a087ae1ac5d4d5afe4",
              "version_minor": 0,
              "version_major": 2
            },
            "text/plain": [
              "HBox(children=(FloatProgress(value=0.0, description='Downloading', max=536063208.0, style=ProgressStyle(descri…"
            ]
          },
          "metadata": {
            "tags": []
          }
        },
        {
          "output_type": "stream",
          "text": [
            "\n"
          ],
          "name": "stdout"
        },
        {
          "output_type": "stream",
          "text": [
            "Some layers from the model checkpoint at bert-base-uncased were not used when initializing TFBertModel: ['nsp___cls', 'mlm___cls']\n",
            "- This IS expected if you are initializing TFBertModel from the checkpoint of a model trained on another task or with another architecture (e.g. initializing a BertForSequenceClassification model from a BertForPreTraining model).\n",
            "- This IS NOT expected if you are initializing TFBertModel from the checkpoint of a model that you expect to be exactly identical (initializing a BertForSequenceClassification model from a BertForSequenceClassification model).\n",
            "All the layers of TFBertModel were initialized from the model checkpoint at bert-base-uncased.\n",
            "If your task is similar to the task the model of the checkpoint was trained on, you can already use TFBertModel for predictions without further training.\n"
          ],
          "name": "stderr"
        },
        {
          "output_type": "stream",
          "text": [
            "Model: \"BERT_Model\"\n",
            "__________________________________________________________________________________________________\n",
            "Layer (type)                    Output Shape         Param #     Connected to                     \n",
            "==================================================================================================\n",
            "input_ids (InputLayer)          [(None, 512)]        0                                            \n",
            "__________________________________________________________________________________________________\n",
            "attention_mask (InputLayer)     [(None, 512)]        0                                            \n",
            "__________________________________________________________________________________________________\n",
            "token_type_ids (InputLayer)     [(None, 512)]        0                                            \n",
            "__________________________________________________________________________________________________\n",
            "tf_bert_model (TFBertModel)     TFBaseModelOutputWit 109482240   input_ids[0][0]                  \n",
            "                                                                 attention_mask[0][0]             \n",
            "                                                                 token_type_ids[0][0]             \n",
            "__________________________________________________________________________________________________\n",
            "embedding_flatten (Flatten)     (None, 768)          0           tf_bert_model[0][1]              \n",
            "__________________________________________________________________________________________________\n",
            "dropout_37 (Dropout)            (None, 768)          0           embedding_flatten[0][0]          \n",
            "__________________________________________________________________________________________________\n",
            "bert_dense (Dense)              (None, 256)          196864      dropout_37[0][0]                 \n",
            "__________________________________________________________________________________________________\n",
            "intermediate_dense (Dense)      (None, 32)           8224        bert_dense[0][0]                 \n",
            "__________________________________________________________________________________________________\n",
            "dense_1 (Dense)                 (None, 1)            33          intermediate_dense[0][0]         \n",
            "==================================================================================================\n",
            "Total params: 109,687,361\n",
            "Trainable params: 205,121\n",
            "Non-trainable params: 109,482,240\n",
            "__________________________________________________________________________________________________\n"
          ],
          "name": "stdout"
        }
      ]
    },
    {
      "cell_type": "code",
      "metadata": {
        "colab": {
          "base_uri": "https://localhost:8080/"
        },
        "id": "GDFAzYp46Beo",
        "outputId": "554f151a-137a-4f1d-8c74-eed07810c79f"
      },
      "source": [
        "optimizer = optimizers.RMSprop(0.0001)\n",
        "loss = losses.binary_crossentropy\n",
        "metrics=['mse']\n",
        "bert_model.compile(optimizer=optimizer, loss = loss, metrics = metrics)\n",
        "early_stopping = tf.keras.callbacks.EarlyStopping(\n",
        "    monitor='val_loss', min_delta=0, patience=10, verbose=0, mode='auto'\n",
        ")\n",
        "\n",
        "bert_result = bert_model.fit(train_data, validation_data = validation_data, callbacks=early_stopping, epochs = 100, verbose = 1)"
      ],
      "execution_count": null,
      "outputs": [
        {
          "output_type": "stream",
          "text": [
            "Epoch 1/100\n",
            "163/163 [==============================] - 299s 2s/step - loss: 0.6600 - mse: 0.0455 - val_loss: 0.6414 - val_mse: 0.0350\n",
            "Epoch 2/100\n",
            "163/163 [==============================] - 297s 2s/step - loss: 0.6481 - mse: 0.0399 - val_loss: 0.6384 - val_mse: 0.0337\n",
            "Epoch 3/100\n",
            "163/163 [==============================] - 297s 2s/step - loss: 0.6443 - mse: 0.0382 - val_loss: 0.6328 - val_mse: 0.0312\n",
            "Epoch 4/100\n",
            "163/163 [==============================] - 297s 2s/step - loss: 0.6408 - mse: 0.0366 - val_loss: 0.6309 - val_mse: 0.0303\n",
            "Epoch 5/100\n",
            "163/163 [==============================] - 297s 2s/step - loss: 0.6388 - mse: 0.0356 - val_loss: 0.6254 - val_mse: 0.0278\n",
            "Epoch 6/100\n",
            "163/163 [==============================] - 297s 2s/step - loss: 0.6385 - mse: 0.0355 - val_loss: 0.6273 - val_mse: 0.0287\n",
            "Epoch 7/100\n",
            "163/163 [==============================] - 297s 2s/step - loss: 0.6368 - mse: 0.0348 - val_loss: 0.6247 - val_mse: 0.0275\n",
            "Epoch 8/100\n",
            "163/163 [==============================] - 297s 2s/step - loss: 0.6360 - mse: 0.0344 - val_loss: 0.6302 - val_mse: 0.0303\n",
            "Epoch 9/100\n",
            "163/163 [==============================] - 297s 2s/step - loss: 0.6357 - mse: 0.0342 - val_loss: 0.6274 - val_mse: 0.0290\n",
            "Epoch 10/100\n",
            "163/163 [==============================] - 297s 2s/step - loss: 0.6348 - mse: 0.0338 - val_loss: 0.6281 - val_mse: 0.0293\n",
            "Epoch 11/100\n",
            "163/163 [==============================] - 297s 2s/step - loss: 0.6356 - mse: 0.0342 - val_loss: 0.6273 - val_mse: 0.0289\n",
            "Epoch 12/100\n",
            "163/163 [==============================] - 297s 2s/step - loss: 0.6336 - mse: 0.0333 - val_loss: 0.6231 - val_mse: 0.0269\n",
            "Epoch 13/100\n",
            "163/163 [==============================] - 297s 2s/step - loss: 0.6340 - mse: 0.0335 - val_loss: 0.6248 - val_mse: 0.0277\n",
            "Epoch 14/100\n",
            "163/163 [==============================] - 297s 2s/step - loss: 0.6329 - mse: 0.0330 - val_loss: 0.6259 - val_mse: 0.0283\n",
            "Epoch 15/100\n",
            "163/163 [==============================] - 297s 2s/step - loss: 0.6338 - mse: 0.0334 - val_loss: 0.6230 - val_mse: 0.0269\n",
            "Epoch 16/100\n",
            "163/163 [==============================] - 297s 2s/step - loss: 0.6321 - mse: 0.0326 - val_loss: 0.6267 - val_mse: 0.0286\n",
            "Epoch 17/100\n",
            "163/163 [==============================] - 297s 2s/step - loss: 0.6319 - mse: 0.0326 - val_loss: 0.6267 - val_mse: 0.0286\n",
            "Epoch 18/100\n",
            "163/163 [==============================] - 297s 2s/step - loss: 0.6325 - mse: 0.0328 - val_loss: 0.6274 - val_mse: 0.0289\n",
            "Epoch 19/100\n",
            "163/163 [==============================] - 297s 2s/step - loss: 0.6323 - mse: 0.0327 - val_loss: 0.6223 - val_mse: 0.0266\n",
            "Epoch 20/100\n",
            "163/163 [==============================] - 297s 2s/step - loss: 0.6308 - mse: 0.0321 - val_loss: 0.6211 - val_mse: 0.0260\n",
            "Epoch 21/100\n",
            "163/163 [==============================] - 297s 2s/step - loss: 0.6312 - mse: 0.0323 - val_loss: 0.6237 - val_mse: 0.0272\n",
            "Epoch 22/100\n",
            "163/163 [==============================] - 297s 2s/step - loss: 0.6306 - mse: 0.0320 - val_loss: 0.6202 - val_mse: 0.0256\n",
            "Epoch 23/100\n",
            "163/163 [==============================] - 297s 2s/step - loss: 0.6308 - mse: 0.0321 - val_loss: 0.6222 - val_mse: 0.0266\n",
            "Epoch 24/100\n",
            "163/163 [==============================] - 297s 2s/step - loss: 0.6311 - mse: 0.0322 - val_loss: 0.6215 - val_mse: 0.0263\n",
            "Epoch 25/100\n",
            "163/163 [==============================] - 297s 2s/step - loss: 0.6298 - mse: 0.0316 - val_loss: 0.6195 - val_mse: 0.0252\n",
            "Epoch 26/100\n",
            "163/163 [==============================] - 297s 2s/step - loss: 0.6297 - mse: 0.0316 - val_loss: 0.6231 - val_mse: 0.0270\n",
            "Epoch 27/100\n",
            "163/163 [==============================] - 297s 2s/step - loss: 0.6300 - mse: 0.0318 - val_loss: 0.6194 - val_mse: 0.0252\n",
            "Epoch 28/100\n",
            "163/163 [==============================] - 297s 2s/step - loss: 0.6303 - mse: 0.0319 - val_loss: 0.6227 - val_mse: 0.0267\n",
            "Epoch 29/100\n",
            "163/163 [==============================] - 297s 2s/step - loss: 0.6289 - mse: 0.0313 - val_loss: 0.6201 - val_mse: 0.0256\n",
            "Epoch 30/100\n",
            "163/163 [==============================] - 297s 2s/step - loss: 0.6290 - mse: 0.0313 - val_loss: 0.6236 - val_mse: 0.0272\n",
            "Epoch 31/100\n",
            "163/163 [==============================] - 297s 2s/step - loss: 0.6295 - mse: 0.0315 - val_loss: 0.6193 - val_mse: 0.0252\n",
            "Epoch 32/100\n",
            "163/163 [==============================] - 297s 2s/step - loss: 0.6290 - mse: 0.0313 - val_loss: 0.6227 - val_mse: 0.0268\n",
            "Epoch 33/100\n",
            "163/163 [==============================] - 297s 2s/step - loss: 0.6298 - mse: 0.0316 - val_loss: 0.6205 - val_mse: 0.0258\n",
            "Epoch 34/100\n",
            "163/163 [==============================] - 297s 2s/step - loss: 0.6295 - mse: 0.0315 - val_loss: 0.6210 - val_mse: 0.0261\n",
            "Epoch 35/100\n",
            "163/163 [==============================] - 297s 2s/step - loss: 0.6286 - mse: 0.0311 - val_loss: 0.6239 - val_mse: 0.0274\n",
            "Epoch 36/100\n",
            "163/163 [==============================] - 297s 2s/step - loss: 0.6291 - mse: 0.0314 - val_loss: 0.6210 - val_mse: 0.0259\n",
            "Epoch 37/100\n",
            "163/163 [==============================] - 297s 2s/step - loss: 0.6294 - mse: 0.0314 - val_loss: 0.6202 - val_mse: 0.0257\n",
            "Epoch 38/100\n",
            "163/163 [==============================] - 297s 2s/step - loss: 0.6296 - mse: 0.0315 - val_loss: 0.6216 - val_mse: 0.0262\n",
            "Epoch 39/100\n",
            "163/163 [==============================] - 297s 2s/step - loss: 0.6282 - mse: 0.0310 - val_loss: 0.6230 - val_mse: 0.0269\n",
            "Epoch 40/100\n",
            "163/163 [==============================] - 297s 2s/step - loss: 0.6285 - mse: 0.0311 - val_loss: 0.6221 - val_mse: 0.0266\n",
            "Epoch 41/100\n",
            "163/163 [==============================] - 297s 2s/step - loss: 0.6286 - mse: 0.0311 - val_loss: 0.6227 - val_mse: 0.0269\n"
          ],
          "name": "stdout"
        }
      ]
    },
    {
      "cell_type": "code",
      "metadata": {
        "id": "gMpJ4eB5KOBN"
      },
      "source": [
        "bert_model.load_weights('/content/drive/MyDrive/AC295 Final Proj/models/BERT_Model.h5')"
      ],
      "execution_count": 35,
      "outputs": []
    },
    {
      "cell_type": "markdown",
      "metadata": {
        "id": "TVj_a-maNq4Z"
      },
      "source": [
        "# Comparison of models"
      ]
    },
    {
      "cell_type": "code",
      "metadata": {
        "id": "D-aFa9dDMqtO"
      },
      "source": [
        "QWK_ffnn=QWK(model_ffnn)\r\n",
        "QWK_em_lstm=QWK(model_em_lstm)\r\n",
        "QWK_em_gru=QWK(model_em_gru)\r\n",
        "QWK_glo_lstm=QWK(model_glo_lstm)\r\n",
        "QWK_glo_gru=QWK(model_glo_gru)"
      ],
      "execution_count": 50,
      "outputs": []
    },
    {
      "cell_type": "code",
      "metadata": {
        "id": "SGGtG6VUMqxs"
      },
      "source": [
        "QWK_bert=QWK_bert(bert_model)"
      ],
      "execution_count": 55,
      "outputs": []
    },
    {
      "cell_type": "code",
      "metadata": {
        "id": "Ky9-4zX8Po_4"
      },
      "source": [
        "QWK_summary=pd.DataFrame(columns=['Essay set ' + str(i) for i in range(1,9)])\r\n",
        "QWK_summary.loc['FFNN']=QWK_ffnn.values\r\n",
        "QWK_summary.loc['Embedding + LSTM']=QWK_em_lstm.values\r\n",
        "QWK_summary.loc['Embedding + GRU']=QWK_em_gru.values\r\n",
        "QWK_summary.loc['Glove + LSTM']=QWK_glo_lstm.values\r\n",
        "QWK_summary.loc['Glove + GRU']=QWK_glo_gru.values\r\n",
        "QWK_summary.loc['BERT']=QWK_bert.values\r\n",
        "\r\n",
        "QWK_summary['Avg QWK']=QWK_summary.mean(axis=1)"
      ],
      "execution_count": 67,
      "outputs": []
    },
    {
      "cell_type": "code",
      "metadata": {
        "colab": {
          "base_uri": "https://localhost:8080/",
          "height": 225
        },
        "id": "dFnrgV2VMq1k",
        "outputId": "3849e11c-a11c-4145-8018-1070b787dcec"
      },
      "source": [
        "QWK_summary"
      ],
      "execution_count": 68,
      "outputs": [
        {
          "output_type": "execute_result",
          "data": {
            "text/html": [
              "<div>\n",
              "<style scoped>\n",
              "    .dataframe tbody tr th:only-of-type {\n",
              "        vertical-align: middle;\n",
              "    }\n",
              "\n",
              "    .dataframe tbody tr th {\n",
              "        vertical-align: top;\n",
              "    }\n",
              "\n",
              "    .dataframe thead th {\n",
              "        text-align: right;\n",
              "    }\n",
              "</style>\n",
              "<table border=\"1\" class=\"dataframe\">\n",
              "  <thead>\n",
              "    <tr style=\"text-align: right;\">\n",
              "      <th></th>\n",
              "      <th>Essay set 1</th>\n",
              "      <th>Essay set 2</th>\n",
              "      <th>Essay set 3</th>\n",
              "      <th>Essay set 4</th>\n",
              "      <th>Essay set 5</th>\n",
              "      <th>Essay set 6</th>\n",
              "      <th>Essay set 7</th>\n",
              "      <th>Essay set 8</th>\n",
              "      <th>Avg QWK</th>\n",
              "    </tr>\n",
              "  </thead>\n",
              "  <tbody>\n",
              "    <tr>\n",
              "      <th>FFNN</th>\n",
              "      <td>0.247418</td>\n",
              "      <td>0.238242</td>\n",
              "      <td>0.558834</td>\n",
              "      <td>0.556224</td>\n",
              "      <td>0.309055</td>\n",
              "      <td>0.254632</td>\n",
              "      <td>0.473120</td>\n",
              "      <td>0.109394</td>\n",
              "      <td>0.343365</td>\n",
              "    </tr>\n",
              "    <tr>\n",
              "      <th>Embedding + LSTM</th>\n",
              "      <td>0.445507</td>\n",
              "      <td>0.358226</td>\n",
              "      <td>0.580866</td>\n",
              "      <td>0.729050</td>\n",
              "      <td>0.651906</td>\n",
              "      <td>0.717273</td>\n",
              "      <td>0.601665</td>\n",
              "      <td>0.422675</td>\n",
              "      <td>0.563396</td>\n",
              "    </tr>\n",
              "    <tr>\n",
              "      <th>Embedding + GRU</th>\n",
              "      <td>0.477515</td>\n",
              "      <td>0.347377</td>\n",
              "      <td>0.418189</td>\n",
              "      <td>0.564994</td>\n",
              "      <td>0.493677</td>\n",
              "      <td>0.586946</td>\n",
              "      <td>0.429114</td>\n",
              "      <td>0.408762</td>\n",
              "      <td>0.465822</td>\n",
              "    </tr>\n",
              "    <tr>\n",
              "      <th>Glove + LSTM</th>\n",
              "      <td>0.587882</td>\n",
              "      <td>0.432292</td>\n",
              "      <td>0.616096</td>\n",
              "      <td>0.744712</td>\n",
              "      <td>0.742996</td>\n",
              "      <td>0.763829</td>\n",
              "      <td>0.582066</td>\n",
              "      <td>0.269678</td>\n",
              "      <td>0.592444</td>\n",
              "    </tr>\n",
              "    <tr>\n",
              "      <th>Glove + GRU</th>\n",
              "      <td>0.669464</td>\n",
              "      <td>0.568984</td>\n",
              "      <td>0.647257</td>\n",
              "      <td>0.765267</td>\n",
              "      <td>0.775240</td>\n",
              "      <td>0.771718</td>\n",
              "      <td>0.664488</td>\n",
              "      <td>0.391621</td>\n",
              "      <td>0.656755</td>\n",
              "    </tr>\n",
              "    <tr>\n",
              "      <th>BERT</th>\n",
              "      <td>0.020248</td>\n",
              "      <td>0.039223</td>\n",
              "      <td>-0.030836</td>\n",
              "      <td>0.050885</td>\n",
              "      <td>0.076817</td>\n",
              "      <td>-0.000626</td>\n",
              "      <td>0.004948</td>\n",
              "      <td>0.007879</td>\n",
              "      <td>0.021067</td>\n",
              "    </tr>\n",
              "  </tbody>\n",
              "</table>\n",
              "</div>"
            ],
            "text/plain": [
              "                  Essay set 1  Essay set 2  ...  Essay set 8   Avg QWK\n",
              "FFNN                 0.247418     0.238242  ...     0.109394  0.343365\n",
              "Embedding + LSTM     0.445507     0.358226  ...     0.422675  0.563396\n",
              "Embedding + GRU      0.477515     0.347377  ...     0.408762  0.465822\n",
              "Glove + LSTM         0.587882     0.432292  ...     0.269678  0.592444\n",
              "Glove + GRU          0.669464     0.568984  ...     0.391621  0.656755\n",
              "BERT                 0.020248     0.039223  ...     0.007879  0.021067\n",
              "\n",
              "[6 rows x 9 columns]"
            ]
          },
          "metadata": {
            "tags": []
          },
          "execution_count": 68
        }
      ]
    },
    {
      "cell_type": "code",
      "metadata": {
        "id": "3kWPFeroQ-5P"
      },
      "source": [
        ""
      ],
      "execution_count": null,
      "outputs": []
    }
  ]
}