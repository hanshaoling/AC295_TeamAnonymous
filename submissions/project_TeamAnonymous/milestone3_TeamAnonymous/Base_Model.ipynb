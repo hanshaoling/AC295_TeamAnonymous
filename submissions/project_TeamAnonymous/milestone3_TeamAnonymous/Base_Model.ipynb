{
  "nbformat": 4,
  "nbformat_minor": 0,
  "metadata": {
    "colab": {
      "name": "Base Model.ipynb",
      "provenance": [],
      "collapsed_sections": [],
      "toc_visible": true,
      "machine_shape": "hm"
    },
    "kernelspec": {
      "name": "python3",
      "display_name": "Python 3"
    },
    "accelerator": "GPU"
  },
  "cells": [
    {
      "cell_type": "code",
      "metadata": {
        "colab": {
          "base_uri": "https://localhost:8080/"
        },
        "id": "_KFHr6yhoXa1",
        "outputId": "516fa341-b068-4958-99c7-7b62a91f577d"
      },
      "source": [
        "from google.colab import drive\n",
        "drive.mount('/content/drive')"
      ],
      "execution_count": 1,
      "outputs": [
        {
          "output_type": "stream",
          "text": [
            "Mounted at /content/drive\n"
          ],
          "name": "stdout"
        }
      ]
    },
    {
      "cell_type": "code",
      "metadata": {
        "id": "F91exge_p9aT",
        "colab": {
          "base_uri": "https://localhost:8080/"
        },
        "outputId": "c9cbae9e-667f-4cbd-9927-eaf90021c12e"
      },
      "source": [
        "!pip install -q tensorflow_model_optimization"
      ],
      "execution_count": 2,
      "outputs": [
        {
          "output_type": "stream",
          "text": [
            "\u001b[?25l\r\u001b[K     |██                              | 10kB 29.8MB/s eta 0:00:01\r\u001b[K     |███▉                            | 20kB 34.7MB/s eta 0:00:01\r\u001b[K     |█████▊                          | 30kB 32.6MB/s eta 0:00:01\r\u001b[K     |███████▋                        | 40kB 21.5MB/s eta 0:00:01\r\u001b[K     |█████████▌                      | 51kB 17.6MB/s eta 0:00:01\r\u001b[K     |███████████▍                    | 61kB 15.7MB/s eta 0:00:01\r\u001b[K     |█████████████▎                  | 71kB 15.1MB/s eta 0:00:01\r\u001b[K     |███████████████▏                | 81kB 14.4MB/s eta 0:00:01\r\u001b[K     |█████████████████               | 92kB 14.6MB/s eta 0:00:01\r\u001b[K     |███████████████████             | 102kB 13.4MB/s eta 0:00:01\r\u001b[K     |████████████████████▉           | 112kB 13.4MB/s eta 0:00:01\r\u001b[K     |██████████████████████▊         | 122kB 13.4MB/s eta 0:00:01\r\u001b[K     |████████████████████████▊       | 133kB 13.4MB/s eta 0:00:01\r\u001b[K     |██████████████████████████▋     | 143kB 13.4MB/s eta 0:00:01\r\u001b[K     |████████████████████████████▌   | 153kB 13.4MB/s eta 0:00:01\r\u001b[K     |██████████████████████████████▍ | 163kB 13.4MB/s eta 0:00:01\r\u001b[K     |████████████████████████████████| 174kB 13.4MB/s \n",
            "\u001b[?25h"
          ],
          "name": "stdout"
        }
      ]
    },
    {
      "cell_type": "code",
      "metadata": {
        "id": "tFCJfDCAokAl"
      },
      "source": [
        "import os\n",
        "import requests\n",
        "import tempfile\n",
        "import zipfile\n",
        "import shutil\n",
        "import json\n",
        "import time\n",
        "import sys\n",
        "import cv2\n",
        "import numpy as np\n",
        "import pandas as pd\n",
        "from glob import glob\n",
        "import subprocess\n",
        "import matplotlib.pyplot as plt\n",
        "import re\n",
        "import string\n",
        "%matplotlib inline\n",
        "\n",
        "\n",
        "import tensorflow as tf\n",
        "from tensorflow import keras\n",
        "from tensorflow.python.keras import backend as K\n",
        "from tensorflow.keras.models import Model, Sequential\n",
        "from tensorflow.keras import layers\n",
        "from tensorflow.keras import activations\n",
        "from tensorflow.keras import optimizers\n",
        "from tensorflow.keras import losses\n",
        "from tensorflow.keras import metrics\n",
        "from tensorflow.keras import initializers\n",
        "from tensorflow.keras import regularizers\n",
        "from tensorflow.keras.utils import to_categorical\n",
        "from keras.utils.layer_utils import count_params\n",
        "import tensorflow_hub as hub\n",
        "from tensorflow.keras.layers.experimental.preprocessing import TextVectorization\n",
        "\n",
        "import tensorflow_model_optimization as tfmot\n",
        "from tensorflow_model_optimization.sparsity.keras import prune_low_magnitude\n",
        "from sklearn.model_selection import train_test_split"
      ],
      "execution_count": 3,
      "outputs": []
    },
    {
      "cell_type": "code",
      "metadata": {
        "id": "1raTq82rp7Qc"
      },
      "source": [
        "data = pd.read_excel('/content/drive/MyDrive/AC295 Final Proj/data/training_set_rel3.xls')\n",
        "data = data[~np.isnan(data['domain1_score'].values)]"
      ],
      "execution_count": 4,
      "outputs": []
    },
    {
      "cell_type": "code",
      "metadata": {
        "id": "wPWmyXGrXVVa"
      },
      "source": [
        "data_dict = {}\n",
        "data_x = {}\n",
        "data_y = {}\n",
        "num_classes = {}\n",
        "for i in range(1,9):\n",
        "  data_dict[i] = data[data.essay_set == i]\n",
        "  data_x[i] = data_dict[i].essay.values\n",
        "  data_y[i] = data_dict[i].domain1_score-min(data_dict[i].domain1_score)\n",
        "  data_y[i] = to_categorical(data_y[i])\n",
        "  num_classes[i] = data_y[i].shape[1]"
      ],
      "execution_count": 5,
      "outputs": []
    },
    {
      "cell_type": "code",
      "metadata": {
        "id": "-l2NYgSFYP-E"
      },
      "source": [
        "train = {}\n",
        "val = {}\n",
        "for i in range(1,9):\n",
        "  train_x, test_x, train_y, test_y = train_test_split(data_x[i], data_y[i], test_size = 0.2, random_state = 295)\n",
        "  train[i] = (train_x, train_y)\n",
        "  val[i] = (test_x, test_y)"
      ],
      "execution_count": 6,
      "outputs": []
    },
    {
      "cell_type": "markdown",
      "metadata": {
        "id": "blr_t53OWQL3"
      },
      "source": [
        "#### Baseline Model:\n",
        "Standard vectorization, followed by simple embedding and LSTM."
      ]
    },
    {
      "cell_type": "markdown",
      "metadata": {
        "id": "OCF_wob7Ytio"
      },
      "source": [
        "1. FFNN"
      ]
    },
    {
      "cell_type": "code",
      "metadata": {
        "id": "svKsGFuIwl21"
      },
      "source": [
        "def standardize_text(input_text):\n",
        "  # Convert to lower case\n",
        "  lowercase = tf.strings.lower(input_text)\n",
        "  # Remove HTML tags\n",
        "  stripped_html = tf.strings.regex_replace(lowercase, \"<br />\", \" \")\n",
        "  return tf.strings.regex_replace(\n",
        "      stripped_html, \"[%s]\" % re.escape(string.punctuation), \"\"\n",
        "  )\n",
        "\n",
        "def evaluate_model(model,test_data, training_results):\n",
        "    \n",
        "  # Get the model train history\n",
        "  model_train_history = training_results.history\n",
        "  # Get the number of epochs the training was run for\n",
        "  num_epochs = len(model_train_history[\"loss\"])\n",
        "\n",
        "  # Plot training results\n",
        "  fig = plt.figure(figsize=(15,5))\n",
        "  axs = fig.add_subplot(1,2,1)\n",
        "  axs.set_title('Loss')\n",
        "  # Plot all metrics\n",
        "  for metric in [\"loss\",\"val_loss\"]:\n",
        "      axs.plot(np.arange(0, num_epochs), model_train_history[metric], label=metric)\n",
        "  axs.legend()\n",
        "  \n",
        "  axs = fig.add_subplot(1,2,2)\n",
        "  axs.set_title('Accuracy')\n",
        "  # Plot all metrics\n",
        "  for metric in [\"accuracy\",\"val_accuracy\"]:\n",
        "      axs.plot(np.arange(0, num_epochs), model_train_history[metric], label=metric)\n",
        "  axs.legend()\n",
        "\n",
        "  plt.show()\n",
        "  \n",
        "  # Evaluate on test data\n",
        "  evaluation_results = model.evaluate(test_data)\n",
        "  print(\"Evaluation Results:\", evaluation_results)"
      ],
      "execution_count": 7,
      "outputs": []
    },
    {
      "cell_type": "code",
      "metadata": {
        "id": "HHpxt0e7vDOK"
      },
      "source": [
        "max_features = 15000\n",
        "sequence_length = 1000\n",
        "\n",
        "text_vectorizer = TextVectorization(\n",
        "    standardize=standardize_text,\n",
        "    max_tokens=max_features,\n",
        "    output_mode=\"int\",\n",
        "    output_sequence_length=sequence_length,\n",
        ")\n",
        "\n",
        "text_data = tf.data.Dataset.from_tensor_slices(data.essay.values)\n",
        "\n",
        "text_vectorizer.adapt(text_data.batch(64))\n",
        "\n",
        "def vectorize_text(text, label=None):\n",
        "  text = tf.expand_dims(text, -1)\n",
        "  text = text_vectorizer(text)\n",
        "  if label is None:\n",
        "    return text\n",
        "  else:\n",
        "    return text, label"
      ],
      "execution_count": 8,
      "outputs": []
    },
    {
      "cell_type": "code",
      "metadata": {
        "id": "4b_1Lpv_sOEw"
      },
      "source": [
        "batch_size = 64\n",
        "AUTOTUNE = tf.data.experimental.AUTOTUNE\n",
        "\n",
        "train_data = {}\n",
        "val_data = {}\n",
        "for i in range(1,9):\n",
        "  train_data[i] = tf.data.Dataset.from_tensor_slices(train[i])\n",
        "  val_data[i] = tf.data.Dataset.from_tensor_slices(val[i])\n",
        "\n",
        "  train_data[i] = train_data[i].batch(batch_size)\n",
        "  train_data[i] = train_data[i].map(vectorize_text, num_parallel_calls=AUTOTUNE)\n",
        "  train_data[i] = train_data[i].cache().prefetch(buffer_size=100)\n",
        "\n",
        "  val_data[i] = val_data[i].batch(batch_size)\n",
        "  val_data[i] = val_data[i].map(vectorize_text, num_parallel_calls=AUTOTUNE)\n",
        "  val_data[i] = val_data[i].cache().prefetch(buffer_size=100)"
      ],
      "execution_count": 9,
      "outputs": []
    },
    {
      "cell_type": "code",
      "metadata": {
        "colab": {
          "base_uri": "https://localhost:8080/",
          "height": 1000
        },
        "id": "glOEfLDdt9-B",
        "outputId": "22f2e5b3-3ce6-486b-fa80-53d9bde117fb"
      },
      "source": [
        "# FFNN\n",
        "i = 3\n",
        "model = Sequential()\n",
        "model.add(layers.Input(shape = (1000,)))\n",
        "model.add(layers.Dense(512, activation = 'relu'))\n",
        "model.add(layers.Dense(256, activation = 'relu'))\n",
        "model.add(layers.Dense(128, activation = 'relu'))\n",
        "model.add(layers.Dense(64, activation = 'relu'))\n",
        "model.add(layers.Dense(32, activation = 'relu'))\n",
        "model.add(layers.Dense(16, activation = 'relu'))\n",
        "model.add(layers.Dense(num_classes[i], activation = 'softmax'))\n",
        "\n",
        "model.summary()\n",
        "loss = losses.categorical_crossentropy\n",
        "model.compile(loss = loss, optimizer = 'Adam', metrics = 'accuracy')\n",
        "\n",
        "early_stopping = tf.keras.callbacks.EarlyStopping(\n",
        "    monitor='val_loss', min_delta=0, patience=15, verbose=0, mode='auto'\n",
        ")\n",
        "\n",
        "training_result=model.fit(train_data[i], validation_data = val_data[i], callbacks=early_stopping, epochs = 100, verbose = 1)\n",
        "evaluate_model(model,val_data[i], training_result)"
      ],
      "execution_count": 10,
      "outputs": [
        {
          "output_type": "stream",
          "text": [
            "Model: \"sequential\"\n",
            "_________________________________________________________________\n",
            "Layer (type)                 Output Shape              Param #   \n",
            "=================================================================\n",
            "dense (Dense)                (None, 512)               512512    \n",
            "_________________________________________________________________\n",
            "dense_1 (Dense)              (None, 256)               131328    \n",
            "_________________________________________________________________\n",
            "dense_2 (Dense)              (None, 128)               32896     \n",
            "_________________________________________________________________\n",
            "dense_3 (Dense)              (None, 64)                8256      \n",
            "_________________________________________________________________\n",
            "dense_4 (Dense)              (None, 32)                2080      \n",
            "_________________________________________________________________\n",
            "dense_5 (Dense)              (None, 16)                528       \n",
            "_________________________________________________________________\n",
            "dense_6 (Dense)              (None, 4)                 68        \n",
            "=================================================================\n",
            "Total params: 687,668\n",
            "Trainable params: 687,668\n",
            "Non-trainable params: 0\n",
            "_________________________________________________________________\n",
            "Epoch 1/100\n",
            "22/22 [==============================] - 0s 12ms/step - loss: 20.8020 - accuracy: 0.4152 - val_loss: 11.5885 - val_accuracy: 0.5087\n",
            "Epoch 2/100\n",
            "22/22 [==============================] - 0s 4ms/step - loss: 3.8370 - accuracy: 0.5964 - val_loss: 5.8546 - val_accuracy: 0.5347\n",
            "Epoch 3/100\n",
            "22/22 [==============================] - 0s 4ms/step - loss: 1.5801 - accuracy: 0.6884 - val_loss: 5.0301 - val_accuracy: 0.5376\n",
            "Epoch 4/100\n",
            "22/22 [==============================] - 0s 4ms/step - loss: 1.1281 - accuracy: 0.7623 - val_loss: 4.2714 - val_accuracy: 0.5549\n",
            "Epoch 5/100\n",
            "22/22 [==============================] - 0s 4ms/step - loss: 0.9393 - accuracy: 0.7355 - val_loss: 6.5934 - val_accuracy: 0.5260\n",
            "Epoch 6/100\n",
            "22/22 [==============================] - 0s 4ms/step - loss: 1.4203 - accuracy: 0.7022 - val_loss: 5.6671 - val_accuracy: 0.5116\n",
            "Epoch 7/100\n",
            "22/22 [==============================] - 0s 4ms/step - loss: 0.3743 - accuracy: 0.8674 - val_loss: 4.4291 - val_accuracy: 0.5058\n",
            "Epoch 8/100\n",
            "22/22 [==============================] - 0s 4ms/step - loss: 0.1999 - accuracy: 0.9326 - val_loss: 4.6185 - val_accuracy: 0.5231\n",
            "Epoch 9/100\n",
            "22/22 [==============================] - 0s 4ms/step - loss: 0.1421 - accuracy: 0.9565 - val_loss: 4.8227 - val_accuracy: 0.5405\n",
            "Epoch 10/100\n",
            "22/22 [==============================] - 0s 4ms/step - loss: 0.1523 - accuracy: 0.9464 - val_loss: 5.1115 - val_accuracy: 0.5405\n",
            "Epoch 11/100\n",
            "22/22 [==============================] - 0s 4ms/step - loss: 0.1914 - accuracy: 0.9319 - val_loss: 5.6447 - val_accuracy: 0.5260\n",
            "Epoch 12/100\n",
            "22/22 [==============================] - 0s 4ms/step - loss: 0.2017 - accuracy: 0.9333 - val_loss: 5.6218 - val_accuracy: 0.5434\n",
            "Epoch 13/100\n",
            "22/22 [==============================] - 0s 4ms/step - loss: 0.2123 - accuracy: 0.9290 - val_loss: 5.8668 - val_accuracy: 0.5347\n",
            "Epoch 14/100\n",
            "22/22 [==============================] - 0s 4ms/step - loss: 0.2392 - accuracy: 0.9297 - val_loss: 5.2000 - val_accuracy: 0.5636\n",
            "Epoch 15/100\n",
            "22/22 [==============================] - 0s 4ms/step - loss: 0.2660 - accuracy: 0.9210 - val_loss: 5.3086 - val_accuracy: 0.5434\n",
            "Epoch 16/100\n",
            "22/22 [==============================] - 0s 4ms/step - loss: 0.3014 - accuracy: 0.9326 - val_loss: 5.9434 - val_accuracy: 0.5145\n",
            "Epoch 17/100\n",
            "22/22 [==============================] - 0s 4ms/step - loss: 0.2104 - accuracy: 0.9319 - val_loss: 6.7988 - val_accuracy: 0.5260\n",
            "Epoch 18/100\n",
            "22/22 [==============================] - 0s 4ms/step - loss: 0.2170 - accuracy: 0.9391 - val_loss: 7.6973 - val_accuracy: 0.4827\n",
            "Epoch 19/100\n",
            "22/22 [==============================] - 0s 4ms/step - loss: 0.3003 - accuracy: 0.9362 - val_loss: 7.2999 - val_accuracy: 0.5202\n"
          ],
          "name": "stdout"
        },
        {
          "output_type": "display_data",
          "data": {
            "image/png": "[encoded data removed]",
            "text/plain": [
              "<Figure size 1080x360 with 2 Axes>"
            ]
          },
          "metadata": {
            "tags": [],
            "needs_background": "light"
          }
        },
        {
          "output_type": "stream",
          "text": [
            "6/6 [==============================] - 0s 2ms/step - loss: 7.2999 - accuracy: 0.5202\n",
            "Evaluation Results: [7.299911022186279, 0.5202311873435974]\n"
          ],
          "name": "stdout"
        }
      ]
    },
    {
      "cell_type": "markdown",
      "metadata": {
        "id": "wrVY5SuTZFNG"
      },
      "source": [
        "Performance in FFNN model is bad: almost no improvement in validation data.   \n",
        "Potential reasons:  \n",
        "1. These integer representation does not carry information of word meaning\n",
        "2. The sample size is not large enough"
      ]
    },
    {
      "cell_type": "markdown",
      "metadata": {
        "id": "ePXAOS8lcvwA"
      },
      "source": [
        "2. Using Embedding + CNN"
      ]
    },
    {
      "cell_type": "code",
      "metadata": {
        "colab": {
          "base_uri": "https://localhost:8080/",
          "height": 1000
        },
        "id": "VdRiEYuNY4SP",
        "outputId": "1150355d-b899-4caa-ffa1-ed64a6b9492a"
      },
      "source": [
        "latent_dim=200 # latent space dimension of embedding\n",
        "learning_rate = 0.0002\n",
        "epochs = 100\n",
        "loss = losses.categorical_crossentropy\n",
        "optimizer = optimizers.Adam(learning_rate=learning_rate)\n",
        "def embedding_cnn_model(i):\n",
        "  K.clear_session()\n",
        "  input=layers.Input(shape=(1000,))\n",
        "  embedding=layers.Embedding(max_features,latent_dim)(input)\n",
        "  conv1=layers.Conv1D(64,3,activation='relu',padding='same')(embedding)\n",
        "  maxpool=layers.MaxPooling1D(pool_size=2)(conv1)\n",
        "  flatten=layers.Flatten()(maxpool)\n",
        "  dense=layers.Dense(256,activation='relu')(flatten)\n",
        "  output=layers.Dense(num_classes[i],activation='softmax')(dense)\n",
        "  model=Model(input,output)\n",
        "  return model\n",
        "\n",
        "i=3\n",
        "model_em_cnn=embedding_cnn_model(i)\n",
        "model_em_cnn.summary()\n",
        "\n",
        "model_em_cnn.compile(loss = loss, optimizer = optimizer, metrics = 'accuracy')\n",
        "\n",
        "training_result_em_cnn=model_em_cnn.fit(train_data[i], validation_data = val_data[i], callbacks=early_stopping, epochs = 100, verbose = 1)\n",
        "evaluate_model(model_em_cnn,val_data[i], training_result_em_cnn)"
      ],
      "execution_count": 43,
      "outputs": [
        {
          "output_type": "stream",
          "text": [
            "Model: \"functional_1\"\n",
            "_________________________________________________________________\n",
            "Layer (type)                 Output Shape              Param #   \n",
            "=================================================================\n",
            "input_1 (InputLayer)         [(None, 1000)]            0         \n",
            "_________________________________________________________________\n",
            "embedding (Embedding)        (None, 1000, 200)         3000000   \n",
            "_________________________________________________________________\n",
            "conv1d (Conv1D)              (None, 1000, 64)          38464     \n",
            "_________________________________________________________________\n",
            "max_pooling1d (MaxPooling1D) (None, 500, 64)           0         \n",
            "_________________________________________________________________\n",
            "flatten (Flatten)            (None, 32000)             0         \n",
            "_________________________________________________________________\n",
            "dense (Dense)                (None, 256)               8192256   \n",
            "_________________________________________________________________\n",
            "dense_1 (Dense)              (None, 4)                 1028      \n",
            "=================================================================\n",
            "Total params: 11,231,748\n",
            "Trainable params: 11,231,748\n",
            "Non-trainable params: 0\n",
            "_________________________________________________________________\n",
            "Epoch 1/100\n",
            "22/22 [==============================] - 1s 44ms/step - loss: 1.0587 - accuracy: 0.5217 - val_loss: 0.9599 - val_accuracy: 0.6098\n",
            "Epoch 2/100\n",
            "22/22 [==============================] - 1s 40ms/step - loss: 0.8298 - accuracy: 0.6580 - val_loss: 0.9021 - val_accuracy: 0.6329\n",
            "Epoch 3/100\n",
            "22/22 [==============================] - 1s 39ms/step - loss: 0.7794 - accuracy: 0.6899 - val_loss: 0.8887 - val_accuracy: 0.6387\n",
            "Epoch 4/100\n",
            "22/22 [==============================] - 1s 39ms/step - loss: 0.7436 - accuracy: 0.7029 - val_loss: 0.8778 - val_accuracy: 0.6445\n",
            "Epoch 5/100\n",
            "22/22 [==============================] - 1s 39ms/step - loss: 0.7039 - accuracy: 0.7181 - val_loss: 0.8665 - val_accuracy: 0.6416\n",
            "Epoch 6/100\n",
            "22/22 [==============================] - 1s 39ms/step - loss: 0.6579 - accuracy: 0.7370 - val_loss: 0.8615 - val_accuracy: 0.6532\n",
            "Epoch 7/100\n",
            "22/22 [==============================] - 1s 40ms/step - loss: 0.6025 - accuracy: 0.7725 - val_loss: 0.8567 - val_accuracy: 0.6561\n",
            "Epoch 8/100\n",
            "22/22 [==============================] - 1s 40ms/step - loss: 0.5413 - accuracy: 0.8101 - val_loss: 0.8570 - val_accuracy: 0.6445\n",
            "Epoch 9/100\n",
            "22/22 [==============================] - 1s 40ms/step - loss: 0.4761 - accuracy: 0.8500 - val_loss: 0.8631 - val_accuracy: 0.6474\n",
            "Epoch 10/100\n",
            "22/22 [==============================] - 1s 40ms/step - loss: 0.4134 - accuracy: 0.8862 - val_loss: 0.8775 - val_accuracy: 0.6503\n",
            "Epoch 11/100\n",
            "22/22 [==============================] - 1s 40ms/step - loss: 0.3537 - accuracy: 0.9051 - val_loss: 0.9059 - val_accuracy: 0.6705\n",
            "Epoch 12/100\n",
            "22/22 [==============================] - 1s 40ms/step - loss: 0.2989 - accuracy: 0.9254 - val_loss: 0.9529 - val_accuracy: 0.6561\n",
            "Epoch 13/100\n",
            "22/22 [==============================] - 1s 40ms/step - loss: 0.2532 - accuracy: 0.9377 - val_loss: 1.0037 - val_accuracy: 0.6503\n",
            "Epoch 14/100\n",
            "22/22 [==============================] - 1s 40ms/step - loss: 0.2156 - accuracy: 0.9435 - val_loss: 1.0200 - val_accuracy: 0.6503\n",
            "Epoch 15/100\n",
            "22/22 [==============================] - 1s 39ms/step - loss: 0.1832 - accuracy: 0.9486 - val_loss: 0.9863 - val_accuracy: 0.6561\n",
            "Epoch 16/100\n",
            "22/22 [==============================] - 1s 40ms/step - loss: 0.1513 - accuracy: 0.9565 - val_loss: 0.9802 - val_accuracy: 0.6618\n",
            "Epoch 17/100\n",
            "22/22 [==============================] - 1s 39ms/step - loss: 0.1251 - accuracy: 0.9623 - val_loss: 1.0034 - val_accuracy: 0.6561\n"
          ],
          "name": "stdout"
        },
        {
          "output_type": "display_data",
          "data": {
            "image/png": "[encoded data removed]",
            "text/plain": [
              "<Figure size 1080x360 with 2 Axes>"
            ]
          },
          "metadata": {
            "tags": [],
            "needs_background": "light"
          }
        },
        {
          "output_type": "stream",
          "text": [
            "6/6 [==============================] - 0s 9ms/step - loss: 1.0034 - accuracy: 0.6561\n",
            "Evaluation Results: [1.0034300088882446, 0.6560693383216858]\n"
          ],
          "name": "stdout"
        }
      ]
    },
    {
      "cell_type": "markdown",
      "metadata": {
        "id": "QMb6o6vumx3H"
      },
      "source": [
        "3. Embedding + LSTM"
      ]
    },
    {
      "cell_type": "code",
      "metadata": {
        "colab": {
          "base_uri": "https://localhost:8080/",
          "height": 1000
        },
        "id": "zyp6hlddm2TP",
        "outputId": "44827b44-4db1-4c8a-8bd1-e0c6f2b9542b"
      },
      "source": [
        "latent_dim=16 # latent space dimension of embedding\n",
        "def embedding_lstm_model(i):\n",
        "  K.clear_session()\n",
        "  input=layers.Input(shape=(1000,))\n",
        "  embedding=layers.Embedding(max_features,latent_dim)(input)\n",
        "  lstm=layers.LSTM(10)(embedding)\n",
        "  #dense=layers.Dense(16,activation='relu')(lstm)\n",
        "  output=layers.Dense(num_classes[i],activation='softmax')(lstm)\n",
        "  model=Model(input,output)\n",
        "  return model\n",
        "\n",
        "i=4\n",
        "model_em_lstm=embedding_lstm_model(i)\n",
        "model_em_lstm.summary()\n",
        "\n",
        "learning_rate = 0.0001\n",
        "epochs = 100\n",
        "loss = losses.categorical_crossentropy\n",
        "optimizer = optimizers.Adam(learning_rate=learning_rate)\n",
        "#optimizer = optimizers.SGD(lr=0.1, decay=1e-2, momentum=0.9)\n",
        "model_em_lstm.compile(loss = loss, optimizer = optimizer, metrics = 'accuracy')\n",
        "\n",
        "early_stopping = tf.keras.callbacks.EarlyStopping(\n",
        "    monitor='val_loss', min_delta=0, patience=15, verbose=0, mode='auto'\n",
        ")\n",
        "training_result_em_lstm=model_em_lstm.fit(train_data[i], validation_data = val_data[i], callbacks=early_stopping, epochs = 100, verbose = 1)\n",
        "evaluate_model(model_em_lstm,val_data[i], training_result_em_lstm)"
      ],
      "execution_count": 20,
      "outputs": [
        {
          "output_type": "stream",
          "text": [
            "Model: \"functional_1\"\n",
            "_________________________________________________________________\n",
            "Layer (type)                 Output Shape              Param #   \n",
            "=================================================================\n",
            "input_1 (InputLayer)         [(None, 1000)]            0         \n",
            "_________________________________________________________________\n",
            "embedding (Embedding)        (None, 1000, 16)          240000    \n",
            "_________________________________________________________________\n",
            "lstm (LSTM)                  (None, 10)                1080      \n",
            "_________________________________________________________________\n",
            "dense (Dense)                (None, 4)                 44        \n",
            "=================================================================\n",
            "Total params: 241,124\n",
            "Trainable params: 241,124\n",
            "Non-trainable params: 0\n",
            "_________________________________________________________________\n",
            "Epoch 1/100\n",
            "23/23 [==============================] - 1s 58ms/step - loss: 1.3828 - accuracy: 0.3573 - val_loss: 1.3812 - val_accuracy: 0.3662\n",
            "Epoch 2/100\n",
            "23/23 [==============================] - 1s 40ms/step - loss: 1.3804 - accuracy: 0.3573 - val_loss: 1.3790 - val_accuracy: 0.3662\n",
            "Epoch 3/100\n",
            "23/23 [==============================] - 1s 40ms/step - loss: 1.3781 - accuracy: 0.3573 - val_loss: 1.3768 - val_accuracy: 0.3662\n",
            "Epoch 4/100\n",
            "23/23 [==============================] - 1s 41ms/step - loss: 1.3757 - accuracy: 0.3573 - val_loss: 1.3746 - val_accuracy: 0.3662\n",
            "Epoch 5/100\n",
            "23/23 [==============================] - 1s 40ms/step - loss: 1.3732 - accuracy: 0.3573 - val_loss: 1.3722 - val_accuracy: 0.3662\n",
            "Epoch 6/100\n",
            "23/23 [==============================] - 1s 40ms/step - loss: 1.3706 - accuracy: 0.3573 - val_loss: 1.3697 - val_accuracy: 0.3662\n",
            "Epoch 7/100\n",
            "23/23 [==============================] - 1s 41ms/step - loss: 1.3678 - accuracy: 0.3573 - val_loss: 1.3671 - val_accuracy: 0.3662\n",
            "Epoch 8/100\n",
            "23/23 [==============================] - 1s 39ms/step - loss: 1.3649 - accuracy: 0.3573 - val_loss: 1.3643 - val_accuracy: 0.3662\n",
            "Epoch 9/100\n",
            "23/23 [==============================] - 1s 40ms/step - loss: 1.3619 - accuracy: 0.3573 - val_loss: 1.3614 - val_accuracy: 0.3662\n",
            "Epoch 10/100\n",
            "23/23 [==============================] - 1s 41ms/step - loss: 1.3586 - accuracy: 0.3573 - val_loss: 1.3583 - val_accuracy: 0.3662\n",
            "Epoch 11/100\n",
            "23/23 [==============================] - 1s 40ms/step - loss: 1.3551 - accuracy: 0.3573 - val_loss: 1.3549 - val_accuracy: 0.3662\n",
            "Epoch 12/100\n",
            "23/23 [==============================] - 1s 41ms/step - loss: 1.3513 - accuracy: 0.3573 - val_loss: 1.3513 - val_accuracy: 0.3662\n",
            "Epoch 13/100\n",
            "23/23 [==============================] - 1s 40ms/step - loss: 1.3473 - accuracy: 0.3573 - val_loss: 1.3476 - val_accuracy: 0.3662\n",
            "Epoch 14/100\n",
            "23/23 [==============================] - 1s 39ms/step - loss: 1.3430 - accuracy: 0.3573 - val_loss: 1.3436 - val_accuracy: 0.3662\n",
            "Epoch 15/100\n",
            "23/23 [==============================] - 1s 39ms/step - loss: 1.3384 - accuracy: 0.3573 - val_loss: 1.3395 - val_accuracy: 0.3662\n",
            "Epoch 16/100\n",
            "23/23 [==============================] - 1s 40ms/step - loss: 1.3337 - accuracy: 0.3573 - val_loss: 1.3354 - val_accuracy: 0.3662\n",
            "Epoch 17/100\n",
            "23/23 [==============================] - 1s 39ms/step - loss: 1.3290 - accuracy: 0.3573 - val_loss: 1.3314 - val_accuracy: 0.3662\n",
            "Epoch 18/100\n",
            "23/23 [==============================] - 1s 40ms/step - loss: 1.3245 - accuracy: 0.3573 - val_loss: 1.3280 - val_accuracy: 0.3662\n",
            "Epoch 19/100\n",
            "23/23 [==============================] - 1s 40ms/step - loss: 1.3207 - accuracy: 0.3573 - val_loss: 1.3256 - val_accuracy: 0.3662\n",
            "Epoch 20/100\n",
            "23/23 [==============================] - 1s 41ms/step - loss: 1.3179 - accuracy: 0.3573 - val_loss: 1.3243 - val_accuracy: 0.3662\n",
            "Epoch 21/100\n",
            "23/23 [==============================] - 1s 39ms/step - loss: 1.3163 - accuracy: 0.3573 - val_loss: 1.3239 - val_accuracy: 0.3662\n",
            "Epoch 22/100\n",
            "23/23 [==============================] - 1s 40ms/step - loss: 1.3156 - accuracy: 0.3573 - val_loss: 1.3238 - val_accuracy: 0.3662\n",
            "Epoch 23/100\n",
            "23/23 [==============================] - 1s 39ms/step - loss: 1.3153 - accuracy: 0.3573 - val_loss: 1.3239 - val_accuracy: 0.3662\n",
            "Epoch 24/100\n",
            "23/23 [==============================] - 1s 39ms/step - loss: 1.3151 - accuracy: 0.3573 - val_loss: 1.3239 - val_accuracy: 0.3662\n",
            "Epoch 25/100\n",
            "23/23 [==============================] - 1s 40ms/step - loss: 1.3151 - accuracy: 0.3573 - val_loss: 1.3240 - val_accuracy: 0.3662\n",
            "Epoch 26/100\n",
            "23/23 [==============================] - 1s 39ms/step - loss: 1.3150 - accuracy: 0.3573 - val_loss: 1.3240 - val_accuracy: 0.3662\n",
            "Epoch 27/100\n",
            "23/23 [==============================] - 1s 40ms/step - loss: 1.3150 - accuracy: 0.3573 - val_loss: 1.3240 - val_accuracy: 0.3662\n",
            "Epoch 28/100\n",
            "23/23 [==============================] - 1s 42ms/step - loss: 1.3150 - accuracy: 0.3573 - val_loss: 1.3240 - val_accuracy: 0.3662\n",
            "Epoch 29/100\n",
            "23/23 [==============================] - 1s 39ms/step - loss: 1.3149 - accuracy: 0.3573 - val_loss: 1.3240 - val_accuracy: 0.3662\n",
            "Epoch 30/100\n",
            "23/23 [==============================] - 1s 40ms/step - loss: 1.3149 - accuracy: 0.3573 - val_loss: 1.3240 - val_accuracy: 0.3662\n",
            "Epoch 31/100\n",
            "23/23 [==============================] - 1s 40ms/step - loss: 1.3149 - accuracy: 0.3573 - val_loss: 1.3240 - val_accuracy: 0.3662\n",
            "Epoch 32/100\n",
            "23/23 [==============================] - 1s 39ms/step - loss: 1.3149 - accuracy: 0.3573 - val_loss: 1.3240 - val_accuracy: 0.3662\n",
            "Epoch 33/100\n",
            "23/23 [==============================] - 1s 40ms/step - loss: 1.3149 - accuracy: 0.3573 - val_loss: 1.3240 - val_accuracy: 0.3662\n",
            "Epoch 34/100\n",
            "23/23 [==============================] - 1s 40ms/step - loss: 1.3149 - accuracy: 0.3573 - val_loss: 1.3240 - val_accuracy: 0.3662\n",
            "Epoch 35/100\n",
            "23/23 [==============================] - 1s 40ms/step - loss: 1.3149 - accuracy: 0.3573 - val_loss: 1.3240 - val_accuracy: 0.3662\n",
            "Epoch 36/100\n",
            "23/23 [==============================] - 1s 40ms/step - loss: 1.3148 - accuracy: 0.3573 - val_loss: 1.3240 - val_accuracy: 0.3662\n",
            "Epoch 37/100\n",
            "23/23 [==============================] - 1s 39ms/step - loss: 1.3148 - accuracy: 0.3573 - val_loss: 1.3240 - val_accuracy: 0.3662\n"
          ],
          "name": "stdout"
        },
        {
          "output_type": "display_data",
          "data": {
            "image/png": "[encoded data removed]",
            "text/plain": [
              "<Figure size 1080x360 with 2 Axes>"
            ]
          },
          "metadata": {
            "tags": [],
            "needs_background": "light"
          }
        },
        {
          "output_type": "stream",
          "text": [
            "6/6 [==============================] - 0s 17ms/step - loss: 1.3240 - accuracy: 0.3662\n",
            "Evaluation Results: [1.3240277767181396, 0.3661971688270569]\n"
          ],
          "name": "stdout"
        }
      ]
    },
    {
      "cell_type": "markdown",
      "metadata": {
        "id": "fa4Lq54LuHJC"
      },
      "source": [
        "4. Embedding + RNN"
      ]
    },
    {
      "cell_type": "code",
      "metadata": {
        "colab": {
          "base_uri": "https://localhost:8080/",
          "height": 694
        },
        "id": "TuWSoeGNm2Vm",
        "outputId": "ee371d56-2ff6-4af8-9611-86f90bcc74b4"
      },
      "source": [
        "latent_dim=64 # latent space dimension of embedding\n",
        "def embedding_rnn_model(i):\n",
        "  K.clear_session()\n",
        "  input=layers.Input(shape=(1000,))\n",
        "  embedding=layers.Embedding(max_features,latent_dim)(input)\n",
        "  rnn=layers.SimpleRNN(100)(embedding)\n",
        "  output=layers.Dense(num_classes[i],activation='softmax')(rnn)\n",
        "  model=Model(input,output)\n",
        "  return model\n",
        "\n",
        "i=4\n",
        "model_em_rnn=embedding_rnn_model(i)\n",
        "model_em_rnn.summary()\n",
        "\n",
        "learning_rate = 0.001\n",
        "epochs = 100\n",
        "loss = losses.categorical_crossentropy\n",
        "optimizer = optimizers.Adam(learning_rate=learning_rate)\n",
        "#optimizer = optimizers.SGD(lr=0.1, decay=1e-2, momentum=0.9)\n",
        "model_em_rnn.compile(loss = loss, optimizer = optimizer, metrics = 'accuracy')\n",
        "\n",
        "early_stopping = tf.keras.callbacks.EarlyStopping(\n",
        "    monitor='val_loss', min_delta=0, patience=15, verbose=0, mode='auto'\n",
        ")\n",
        "training_result_em_rnn=model_em_rnn.fit(train_data[i], validation_data = val_data[i], callbacks=early_stopping, epochs = 100, verbose = 1)\n",
        "evaluate_model(model_em_rnn,val_data[i], training_result_em_rnn)"
      ],
      "execution_count": 21,
      "outputs": [
        {
          "output_type": "stream",
          "text": [
            "Model: \"functional_1\"\n",
            "_________________________________________________________________\n",
            "Layer (type)                 Output Shape              Param #   \n",
            "=================================================================\n",
            "input_1 (InputLayer)         [(None, 1000)]            0         \n",
            "_________________________________________________________________\n",
            "embedding (Embedding)        (None, 1000, 64)          960000    \n",
            "_________________________________________________________________\n",
            "simple_rnn (SimpleRNN)       (None, 100)               16500     \n",
            "_________________________________________________________________\n",
            "dense (Dense)                (None, 4)                 404       \n",
            "=================================================================\n",
            "Total params: 976,904\n",
            "Trainable params: 976,904\n",
            "Non-trainable params: 0\n",
            "_________________________________________________________________\n",
            "Epoch 1/100\n",
            "23/23 [==============================] - 17s 741ms/step - loss: 1.3332 - accuracy: 0.3665 - val_loss: 1.3316 - val_accuracy: 0.3662\n",
            "Epoch 2/100\n",
            " 3/23 [==>...........................] - ETA: 9s - loss: 1.3104 - accuracy: 0.3646"
          ],
          "name": "stdout"
        },
        {
          "output_type": "error",
          "ename": "KeyboardInterrupt",
          "evalue": "ignored",
          "traceback": [
            "\u001b[0;31m---------------------------------------------------------------------------\u001b[0m",
            "\u001b[0;31mKeyboardInterrupt\u001b[0m                         Traceback (most recent call last)",
            "\u001b[0;32m<ipython-input-21-300614d4f8cc>\u001b[0m in \u001b[0;36m<module>\u001b[0;34m()\u001b[0m\n\u001b[1;32m     23\u001b[0m     \u001b[0mmonitor\u001b[0m\u001b[0;34m=\u001b[0m\u001b[0;34m'val_loss'\u001b[0m\u001b[0;34m,\u001b[0m \u001b[0mmin_delta\u001b[0m\u001b[0;34m=\u001b[0m\u001b[0;36m0\u001b[0m\u001b[0;34m,\u001b[0m \u001b[0mpatience\u001b[0m\u001b[0;34m=\u001b[0m\u001b[0;36m15\u001b[0m\u001b[0;34m,\u001b[0m \u001b[0mverbose\u001b[0m\u001b[0;34m=\u001b[0m\u001b[0;36m0\u001b[0m\u001b[0;34m,\u001b[0m \u001b[0mmode\u001b[0m\u001b[0;34m=\u001b[0m\u001b[0;34m'auto'\u001b[0m\u001b[0;34m\u001b[0m\u001b[0;34m\u001b[0m\u001b[0m\n\u001b[1;32m     24\u001b[0m )\n\u001b[0;32m---> 25\u001b[0;31m \u001b[0mtraining_result_em_rnn\u001b[0m\u001b[0;34m=\u001b[0m\u001b[0mmodel_em_rnn\u001b[0m\u001b[0;34m.\u001b[0m\u001b[0mfit\u001b[0m\u001b[0;34m(\u001b[0m\u001b[0mtrain_data\u001b[0m\u001b[0;34m[\u001b[0m\u001b[0mi\u001b[0m\u001b[0;34m]\u001b[0m\u001b[0;34m,\u001b[0m \u001b[0mvalidation_data\u001b[0m \u001b[0;34m=\u001b[0m \u001b[0mval_data\u001b[0m\u001b[0;34m[\u001b[0m\u001b[0mi\u001b[0m\u001b[0;34m]\u001b[0m\u001b[0;34m,\u001b[0m \u001b[0mcallbacks\u001b[0m\u001b[0;34m=\u001b[0m\u001b[0mearly_stopping\u001b[0m\u001b[0;34m,\u001b[0m \u001b[0mepochs\u001b[0m \u001b[0;34m=\u001b[0m \u001b[0;36m100\u001b[0m\u001b[0;34m,\u001b[0m \u001b[0mverbose\u001b[0m \u001b[0;34m=\u001b[0m \u001b[0;36m1\u001b[0m\u001b[0;34m)\u001b[0m\u001b[0;34m\u001b[0m\u001b[0;34m\u001b[0m\u001b[0m\n\u001b[0m\u001b[1;32m     26\u001b[0m \u001b[0mevaluate_model\u001b[0m\u001b[0;34m(\u001b[0m\u001b[0mmodel_em_rnn\u001b[0m\u001b[0;34m,\u001b[0m\u001b[0mval_data\u001b[0m\u001b[0;34m[\u001b[0m\u001b[0mi\u001b[0m\u001b[0;34m]\u001b[0m\u001b[0;34m,\u001b[0m \u001b[0mtraining_result_em_rnn\u001b[0m\u001b[0;34m)\u001b[0m\u001b[0;34m\u001b[0m\u001b[0;34m\u001b[0m\u001b[0m\n",
            "\u001b[0;32m/usr/local/lib/python3.6/dist-packages/tensorflow/python/keras/engine/training.py\u001b[0m in \u001b[0;36m_method_wrapper\u001b[0;34m(self, *args, **kwargs)\u001b[0m\n\u001b[1;32m    106\u001b[0m   \u001b[0;32mdef\u001b[0m \u001b[0m_method_wrapper\u001b[0m\u001b[0;34m(\u001b[0m\u001b[0mself\u001b[0m\u001b[0;34m,\u001b[0m \u001b[0;34m*\u001b[0m\u001b[0margs\u001b[0m\u001b[0;34m,\u001b[0m \u001b[0;34m**\u001b[0m\u001b[0mkwargs\u001b[0m\u001b[0;34m)\u001b[0m\u001b[0;34m:\u001b[0m\u001b[0;34m\u001b[0m\u001b[0;34m\u001b[0m\u001b[0m\n\u001b[1;32m    107\u001b[0m     \u001b[0;32mif\u001b[0m \u001b[0;32mnot\u001b[0m \u001b[0mself\u001b[0m\u001b[0;34m.\u001b[0m\u001b[0m_in_multi_worker_mode\u001b[0m\u001b[0;34m(\u001b[0m\u001b[0;34m)\u001b[0m\u001b[0;34m:\u001b[0m  \u001b[0;31m# pylint: disable=protected-access\u001b[0m\u001b[0;34m\u001b[0m\u001b[0;34m\u001b[0m\u001b[0m\n\u001b[0;32m--> 108\u001b[0;31m       \u001b[0;32mreturn\u001b[0m \u001b[0mmethod\u001b[0m\u001b[0;34m(\u001b[0m\u001b[0mself\u001b[0m\u001b[0;34m,\u001b[0m \u001b[0;34m*\u001b[0m\u001b[0margs\u001b[0m\u001b[0;34m,\u001b[0m \u001b[0;34m**\u001b[0m\u001b[0mkwargs\u001b[0m\u001b[0;34m)\u001b[0m\u001b[0;34m\u001b[0m\u001b[0;34m\u001b[0m\u001b[0m\n\u001b[0m\u001b[1;32m    109\u001b[0m \u001b[0;34m\u001b[0m\u001b[0m\n\u001b[1;32m    110\u001b[0m     \u001b[0;31m# Running inside `run_distribute_coordinator` already.\u001b[0m\u001b[0;34m\u001b[0m\u001b[0;34m\u001b[0m\u001b[0;34m\u001b[0m\u001b[0m\n",
            "\u001b[0;32m/usr/local/lib/python3.6/dist-packages/tensorflow/python/keras/engine/training.py\u001b[0m in \u001b[0;36mfit\u001b[0;34m(self, x, y, batch_size, epochs, verbose, callbacks, validation_split, validation_data, shuffle, class_weight, sample_weight, initial_epoch, steps_per_epoch, validation_steps, validation_batch_size, validation_freq, max_queue_size, workers, use_multiprocessing)\u001b[0m\n\u001b[1;32m   1096\u001b[0m                 batch_size=batch_size):\n\u001b[1;32m   1097\u001b[0m               \u001b[0mcallbacks\u001b[0m\u001b[0;34m.\u001b[0m\u001b[0mon_train_batch_begin\u001b[0m\u001b[0;34m(\u001b[0m\u001b[0mstep\u001b[0m\u001b[0;34m)\u001b[0m\u001b[0;34m\u001b[0m\u001b[0;34m\u001b[0m\u001b[0m\n\u001b[0;32m-> 1098\u001b[0;31m               \u001b[0mtmp_logs\u001b[0m \u001b[0;34m=\u001b[0m \u001b[0mtrain_function\u001b[0m\u001b[0;34m(\u001b[0m\u001b[0miterator\u001b[0m\u001b[0;34m)\u001b[0m\u001b[0;34m\u001b[0m\u001b[0;34m\u001b[0m\u001b[0m\n\u001b[0m\u001b[1;32m   1099\u001b[0m               \u001b[0;32mif\u001b[0m \u001b[0mdata_handler\u001b[0m\u001b[0;34m.\u001b[0m\u001b[0mshould_sync\u001b[0m\u001b[0;34m:\u001b[0m\u001b[0;34m\u001b[0m\u001b[0;34m\u001b[0m\u001b[0m\n\u001b[1;32m   1100\u001b[0m                 \u001b[0mcontext\u001b[0m\u001b[0;34m.\u001b[0m\u001b[0masync_wait\u001b[0m\u001b[0;34m(\u001b[0m\u001b[0;34m)\u001b[0m\u001b[0;34m\u001b[0m\u001b[0;34m\u001b[0m\u001b[0m\n",
            "\u001b[0;32m/usr/local/lib/python3.6/dist-packages/tensorflow/python/eager/def_function.py\u001b[0m in \u001b[0;36m__call__\u001b[0;34m(self, *args, **kwds)\u001b[0m\n\u001b[1;32m    778\u001b[0m       \u001b[0;32melse\u001b[0m\u001b[0;34m:\u001b[0m\u001b[0;34m\u001b[0m\u001b[0;34m\u001b[0m\u001b[0m\n\u001b[1;32m    779\u001b[0m         \u001b[0mcompiler\u001b[0m \u001b[0;34m=\u001b[0m \u001b[0;34m\"nonXla\"\u001b[0m\u001b[0;34m\u001b[0m\u001b[0;34m\u001b[0m\u001b[0m\n\u001b[0;32m--> 780\u001b[0;31m         \u001b[0mresult\u001b[0m \u001b[0;34m=\u001b[0m \u001b[0mself\u001b[0m\u001b[0;34m.\u001b[0m\u001b[0m_call\u001b[0m\u001b[0;34m(\u001b[0m\u001b[0;34m*\u001b[0m\u001b[0margs\u001b[0m\u001b[0;34m,\u001b[0m \u001b[0;34m**\u001b[0m\u001b[0mkwds\u001b[0m\u001b[0;34m)\u001b[0m\u001b[0;34m\u001b[0m\u001b[0;34m\u001b[0m\u001b[0m\n\u001b[0m\u001b[1;32m    781\u001b[0m \u001b[0;34m\u001b[0m\u001b[0m\n\u001b[1;32m    782\u001b[0m       \u001b[0mnew_tracing_count\u001b[0m \u001b[0;34m=\u001b[0m \u001b[0mself\u001b[0m\u001b[0;34m.\u001b[0m\u001b[0m_get_tracing_count\u001b[0m\u001b[0;34m(\u001b[0m\u001b[0;34m)\u001b[0m\u001b[0;34m\u001b[0m\u001b[0;34m\u001b[0m\u001b[0m\n",
            "\u001b[0;32m/usr/local/lib/python3.6/dist-packages/tensorflow/python/eager/def_function.py\u001b[0m in \u001b[0;36m_call\u001b[0;34m(self, *args, **kwds)\u001b[0m\n\u001b[1;32m    805\u001b[0m       \u001b[0;31m# In this case we have created variables on the first call, so we run the\u001b[0m\u001b[0;34m\u001b[0m\u001b[0;34m\u001b[0m\u001b[0;34m\u001b[0m\u001b[0m\n\u001b[1;32m    806\u001b[0m       \u001b[0;31m# defunned version which is guaranteed to never create variables.\u001b[0m\u001b[0;34m\u001b[0m\u001b[0;34m\u001b[0m\u001b[0;34m\u001b[0m\u001b[0m\n\u001b[0;32m--> 807\u001b[0;31m       \u001b[0;32mreturn\u001b[0m \u001b[0mself\u001b[0m\u001b[0;34m.\u001b[0m\u001b[0m_stateless_fn\u001b[0m\u001b[0;34m(\u001b[0m\u001b[0;34m*\u001b[0m\u001b[0margs\u001b[0m\u001b[0;34m,\u001b[0m \u001b[0;34m**\u001b[0m\u001b[0mkwds\u001b[0m\u001b[0;34m)\u001b[0m  \u001b[0;31m# pylint: disable=not-callable\u001b[0m\u001b[0;34m\u001b[0m\u001b[0;34m\u001b[0m\u001b[0m\n\u001b[0m\u001b[1;32m    808\u001b[0m     \u001b[0;32melif\u001b[0m \u001b[0mself\u001b[0m\u001b[0;34m.\u001b[0m\u001b[0m_stateful_fn\u001b[0m \u001b[0;32mis\u001b[0m \u001b[0;32mnot\u001b[0m \u001b[0;32mNone\u001b[0m\u001b[0;34m:\u001b[0m\u001b[0;34m\u001b[0m\u001b[0;34m\u001b[0m\u001b[0m\n\u001b[1;32m    809\u001b[0m       \u001b[0;31m# Release the lock early so that multiple threads can perform the call\u001b[0m\u001b[0;34m\u001b[0m\u001b[0;34m\u001b[0m\u001b[0;34m\u001b[0m\u001b[0m\n",
            "\u001b[0;32m/usr/local/lib/python3.6/dist-packages/tensorflow/python/eager/function.py\u001b[0m in \u001b[0;36m__call__\u001b[0;34m(self, *args, **kwargs)\u001b[0m\n\u001b[1;32m   2827\u001b[0m     \u001b[0;32mwith\u001b[0m \u001b[0mself\u001b[0m\u001b[0;34m.\u001b[0m\u001b[0m_lock\u001b[0m\u001b[0;34m:\u001b[0m\u001b[0;34m\u001b[0m\u001b[0;34m\u001b[0m\u001b[0m\n\u001b[1;32m   2828\u001b[0m       \u001b[0mgraph_function\u001b[0m\u001b[0;34m,\u001b[0m \u001b[0margs\u001b[0m\u001b[0;34m,\u001b[0m \u001b[0mkwargs\u001b[0m \u001b[0;34m=\u001b[0m \u001b[0mself\u001b[0m\u001b[0;34m.\u001b[0m\u001b[0m_maybe_define_function\u001b[0m\u001b[0;34m(\u001b[0m\u001b[0margs\u001b[0m\u001b[0;34m,\u001b[0m \u001b[0mkwargs\u001b[0m\u001b[0;34m)\u001b[0m\u001b[0;34m\u001b[0m\u001b[0;34m\u001b[0m\u001b[0m\n\u001b[0;32m-> 2829\u001b[0;31m     \u001b[0;32mreturn\u001b[0m \u001b[0mgraph_function\u001b[0m\u001b[0;34m.\u001b[0m\u001b[0m_filtered_call\u001b[0m\u001b[0;34m(\u001b[0m\u001b[0margs\u001b[0m\u001b[0;34m,\u001b[0m \u001b[0mkwargs\u001b[0m\u001b[0;34m)\u001b[0m  \u001b[0;31m# pylint: disable=protected-access\u001b[0m\u001b[0;34m\u001b[0m\u001b[0;34m\u001b[0m\u001b[0m\n\u001b[0m\u001b[1;32m   2830\u001b[0m \u001b[0;34m\u001b[0m\u001b[0m\n\u001b[1;32m   2831\u001b[0m   \u001b[0;34m@\u001b[0m\u001b[0mproperty\u001b[0m\u001b[0;34m\u001b[0m\u001b[0;34m\u001b[0m\u001b[0m\n",
            "\u001b[0;32m/usr/local/lib/python3.6/dist-packages/tensorflow/python/eager/function.py\u001b[0m in \u001b[0;36m_filtered_call\u001b[0;34m(self, args, kwargs, cancellation_manager)\u001b[0m\n\u001b[1;32m   1846\u001b[0m                            resource_variable_ops.BaseResourceVariable))],\n\u001b[1;32m   1847\u001b[0m         \u001b[0mcaptured_inputs\u001b[0m\u001b[0;34m=\u001b[0m\u001b[0mself\u001b[0m\u001b[0;34m.\u001b[0m\u001b[0mcaptured_inputs\u001b[0m\u001b[0;34m,\u001b[0m\u001b[0;34m\u001b[0m\u001b[0;34m\u001b[0m\u001b[0m\n\u001b[0;32m-> 1848\u001b[0;31m         cancellation_manager=cancellation_manager)\n\u001b[0m\u001b[1;32m   1849\u001b[0m \u001b[0;34m\u001b[0m\u001b[0m\n\u001b[1;32m   1850\u001b[0m   \u001b[0;32mdef\u001b[0m \u001b[0m_call_flat\u001b[0m\u001b[0;34m(\u001b[0m\u001b[0mself\u001b[0m\u001b[0;34m,\u001b[0m \u001b[0margs\u001b[0m\u001b[0;34m,\u001b[0m \u001b[0mcaptured_inputs\u001b[0m\u001b[0;34m,\u001b[0m \u001b[0mcancellation_manager\u001b[0m\u001b[0;34m=\u001b[0m\u001b[0;32mNone\u001b[0m\u001b[0;34m)\u001b[0m\u001b[0;34m:\u001b[0m\u001b[0;34m\u001b[0m\u001b[0;34m\u001b[0m\u001b[0m\n",
            "\u001b[0;32m/usr/local/lib/python3.6/dist-packages/tensorflow/python/eager/function.py\u001b[0m in \u001b[0;36m_call_flat\u001b[0;34m(self, args, captured_inputs, cancellation_manager)\u001b[0m\n\u001b[1;32m   1922\u001b[0m       \u001b[0;31m# No tape is watching; skip to running the function.\u001b[0m\u001b[0;34m\u001b[0m\u001b[0;34m\u001b[0m\u001b[0;34m\u001b[0m\u001b[0m\n\u001b[1;32m   1923\u001b[0m       return self._build_call_outputs(self._inference_function.call(\n\u001b[0;32m-> 1924\u001b[0;31m           ctx, args, cancellation_manager=cancellation_manager))\n\u001b[0m\u001b[1;32m   1925\u001b[0m     forward_backward = self._select_forward_and_backward_functions(\n\u001b[1;32m   1926\u001b[0m         \u001b[0margs\u001b[0m\u001b[0;34m,\u001b[0m\u001b[0;34m\u001b[0m\u001b[0;34m\u001b[0m\u001b[0m\n",
            "\u001b[0;32m/usr/local/lib/python3.6/dist-packages/tensorflow/python/eager/function.py\u001b[0m in \u001b[0;36mcall\u001b[0;34m(self, ctx, args, cancellation_manager)\u001b[0m\n\u001b[1;32m    548\u001b[0m               \u001b[0minputs\u001b[0m\u001b[0;34m=\u001b[0m\u001b[0margs\u001b[0m\u001b[0;34m,\u001b[0m\u001b[0;34m\u001b[0m\u001b[0;34m\u001b[0m\u001b[0m\n\u001b[1;32m    549\u001b[0m               \u001b[0mattrs\u001b[0m\u001b[0;34m=\u001b[0m\u001b[0mattrs\u001b[0m\u001b[0;34m,\u001b[0m\u001b[0;34m\u001b[0m\u001b[0;34m\u001b[0m\u001b[0m\n\u001b[0;32m--> 550\u001b[0;31m               ctx=ctx)\n\u001b[0m\u001b[1;32m    551\u001b[0m         \u001b[0;32melse\u001b[0m\u001b[0;34m:\u001b[0m\u001b[0;34m\u001b[0m\u001b[0;34m\u001b[0m\u001b[0m\n\u001b[1;32m    552\u001b[0m           outputs = execute.execute_with_cancellation(\n",
            "\u001b[0;32m/usr/local/lib/python3.6/dist-packages/tensorflow/python/eager/execute.py\u001b[0m in \u001b[0;36mquick_execute\u001b[0;34m(op_name, num_outputs, inputs, attrs, ctx, name)\u001b[0m\n\u001b[1;32m     58\u001b[0m     \u001b[0mctx\u001b[0m\u001b[0;34m.\u001b[0m\u001b[0mensure_initialized\u001b[0m\u001b[0;34m(\u001b[0m\u001b[0;34m)\u001b[0m\u001b[0;34m\u001b[0m\u001b[0;34m\u001b[0m\u001b[0m\n\u001b[1;32m     59\u001b[0m     tensors = pywrap_tfe.TFE_Py_Execute(ctx._handle, device_name, op_name,\n\u001b[0;32m---> 60\u001b[0;31m                                         inputs, attrs, num_outputs)\n\u001b[0m\u001b[1;32m     61\u001b[0m   \u001b[0;32mexcept\u001b[0m \u001b[0mcore\u001b[0m\u001b[0;34m.\u001b[0m\u001b[0m_NotOkStatusException\u001b[0m \u001b[0;32mas\u001b[0m \u001b[0me\u001b[0m\u001b[0;34m:\u001b[0m\u001b[0;34m\u001b[0m\u001b[0;34m\u001b[0m\u001b[0m\n\u001b[1;32m     62\u001b[0m     \u001b[0;32mif\u001b[0m \u001b[0mname\u001b[0m \u001b[0;32mis\u001b[0m \u001b[0;32mnot\u001b[0m \u001b[0;32mNone\u001b[0m\u001b[0;34m:\u001b[0m\u001b[0;34m\u001b[0m\u001b[0;34m\u001b[0m\u001b[0m\n",
            "\u001b[0;31mKeyboardInterrupt\u001b[0m: "
          ]
        }
      ]
    },
    {
      "cell_type": "markdown",
      "metadata": {
        "id": "at9qSbvmxV6x"
      },
      "source": [
        "5. Pre-trained embedding (glove) + LSTM (Transfer learning)"
      ]
    },
    {
      "cell_type": "code",
      "metadata": {
        "id": "zaZ93fK9m2Xl"
      },
      "source": [
        "!wget http://nlp.stanford.edu/data/glove.6B.zip\n",
        "!unzip -q glove.6B.zip"
      ],
      "execution_count": null,
      "outputs": []
    },
    {
      "cell_type": "markdown",
      "metadata": {
        "id": "3oiMrrU3yz2U"
      },
      "source": [
        "Text vectorizer based on dataset"
      ]
    },
    {
      "cell_type": "code",
      "metadata": {
        "id": "SzjYu7y5yykp"
      },
      "source": [
        "vocabulary = text_vectorizer.get_vocabulary()\n",
        "vocabulary_size = len(vocabulary)\n",
        "print(\"Vocabulary Size:\",vocabulary_size)\n",
        "# Generate word index\n",
        "word_index = dict(zip(vocabulary, range(vocabulary_size)))"
      ],
      "execution_count": null,
      "outputs": []
    },
    {
      "cell_type": "markdown",
      "metadata": {
        "id": "jTg2032Ky5We"
      },
      "source": [
        "Compared with glove"
      ]
    },
    {
      "cell_type": "code",
      "metadata": {
        "id": "dJ9dupZnhD1-"
      },
      "source": [
        "path_to_glove_file = \"glove.6B.100d.txt\"\n",
        "\n",
        "embeddings_index = {}\n",
        "with open(path_to_glove_file) as f:\n",
        "    for line in f:\n",
        "        word, coefs = line.split(maxsplit=1)\n",
        "        coefs = np.fromstring(coefs, \"f\", sep=\" \")\n",
        "        embeddings_index[word] = coefs\n",
        "\n",
        "print(\"Found %s word vectors.\" % len(embeddings_index))"
      ],
      "execution_count": null,
      "outputs": []
    },
    {
      "cell_type": "code",
      "metadata": {
        "id": "4PoJnQQwzBKG"
      },
      "source": [
        "num_tokens = vocabulary_size \n",
        "embedding_dim = 100\n",
        "hits = 0\n",
        "misses = 0\n",
        "\n",
        "# Prepare embedding matrix\n",
        "embedding_matrix = np.zeros((num_tokens, embedding_dim))\n",
        "for word, i in word_index.items():\n",
        "    embedding_vector = embeddings_index.get(word)\n",
        "    if embedding_vector is not None:\n",
        "        # Words not found in embedding index will be all-zeros.\n",
        "        # This includes the representation for \"padding\" and \"OOV\"\n",
        "        embedding_matrix[i] = embedding_vector\n",
        "        hits += 1\n",
        "    else:\n",
        "        misses += 1\n",
        "print(\"Converted %d words (%d misses)\" % (hits, misses))"
      ],
      "execution_count": null,
      "outputs": []
    },
    {
      "cell_type": "code",
      "metadata": {
        "id": "wTKafhyGfrEN"
      },
      "source": [
        "# glove embedding\n",
        "embedding_layer = layers.Embedding(\n",
        "    num_tokens,\n",
        "    embedding_dim,\n",
        "    embeddings_initializer=keras.initializers.Constant(embedding_matrix),\n",
        "    trainable=False,\n",
        ")"
      ],
      "execution_count": null,
      "outputs": []
    },
    {
      "cell_type": "code",
      "metadata": {
        "id": "KkTUTiCbzKWP"
      },
      "source": [
        "def pre_embedding_cnn_model(i):\n",
        "  K.clear_session()\n",
        "  input=layers.Input(shape=(1000,))\n",
        "  embedding=embedding_layer(input)\n",
        "  conv1=layers.Conv1D(16,3,activation='relu')(embedding)\n",
        "  flatten=layers.GlobalAveragePooling1D()(conv1)\n",
        "  output=layers.Dense(num_classes[i],activation='softmax')(flatten)\n",
        "  model=Model(input,output)\n",
        "  return model\n",
        "\n",
        "def pre_embedding_lstm_model(i):\n",
        "  K.clear_session()\n",
        "  input=layers.Input(shape=(1000,))\n",
        "  embedding=embedding_layer(input)\n",
        "  lstm=layers.LSTM(100)(embedding)\n",
        "  flatten=layers.Dense(64,activation='relu')(lstm)\n",
        "  output=layers.Dense(num_classes[i],activation='softmax')(flatten)\n",
        "  model=Model(input,output)\n",
        "  return model\n"
      ],
      "execution_count": 24,
      "outputs": []
    },
    {
      "cell_type": "code",
      "metadata": {
        "id": "DeiU_AkJz09e"
      },
      "source": [
        "i=3\n",
        "\n",
        "learning_rate = 0.001\n",
        "epochs = 100\n",
        "\n",
        "optimizer = optimizers.Adam(learning_rate=learning_rate)\n",
        "loss=losses.categorical_crossentropy\n",
        "\n",
        "model_glove_cnn=pre_embedding_cnn_model(i)\n",
        "model_glove_cnn.compile(loss=loss,optimizer=optimizer, metrics=['accuracy'])\n",
        "model_glove_cnn.summary()\n",
        "\n",
        "early_stopping = tf.keras.callbacks.EarlyStopping(\n",
        "    monitor='val_loss', min_delta=0, patience=15, verbose=0, mode='auto'\n",
        ")\n",
        "training_result_glove_cnn=model_glove_cnn.fit(train_data[i], validation_data = val_data[i], callbacks=early_stopping, epochs = 100, verbose = 1)\n",
        "evaluate_model(model_glove_cnn,val_data[i], training_result_glove_cnn)"
      ],
      "execution_count": null,
      "outputs": []
    },
    {
      "cell_type": "code",
      "metadata": {
        "id": "UmaYnqQD0Ndu"
      },
      "source": [
        "i=3\n",
        "\n",
        "learning_rate = 0.001\n",
        "epochs = 100\n",
        "\n",
        "optimizer = optimizers.Adam(learning_rate=learning_rate)\n",
        "loss=losses.categorical_crossentropy\n",
        "\n",
        "model_glove_lstm=pre_embedding_lstm_model(i)\n",
        "model_glove_lstm.compile(loss=loss,optimizer=optimizer, metrics=['accuracy'])\n",
        "model_glove_lstm.summary()\n",
        "\n",
        "early_stopping = tf.keras.callbacks.EarlyStopping(\n",
        "    monitor='val_loss', min_delta=0, patience=15, verbose=0, mode='auto'\n",
        ")\n",
        "training_result_glove_lstm=model_glove_lstm.fit(train_data[i], validation_data = val_data[i], callbacks=early_stopping, epochs = 100, verbose = 1)\n",
        "evaluate_model(model_glove_lstm,val_data[i], training_result_glove_lstm)"
      ],
      "execution_count": null,
      "outputs": []
    },
    {
      "cell_type": "code",
      "metadata": {
        "id": "95lFCn49e-x_"
      },
      "source": [
        "def model_ffnn(i):\n",
        "  K.clear_session()\n",
        "  model = Sequential()\n",
        "  model.add(layers.Input(shape = (1000,)))\n",
        "  model.add(layers.Dense(512, activation = 'relu'))\n",
        "  model.add(layers.Dense(256, activation = 'relu'))\n",
        "  model.add(layers.Dense(128, activation = 'relu'))\n",
        "  model.add(layers.Dense(64, activation = 'relu'))\n",
        "  model.add(layers.Dense(32, activation = 'relu'))\n",
        "  model.add(layers.Dense(16, activation = 'relu'))\n",
        "  model.add(layers.Dense(num_classes[i], activation = 'softmax'))\n",
        "  return model"
      ],
      "execution_count": 25,
      "outputs": []
    },
    {
      "cell_type": "markdown",
      "metadata": {
        "id": "qVHVIhlZd89t"
      },
      "source": [
        "# Summary for milestone 3"
      ]
    },
    {
      "cell_type": "code",
      "metadata": {
        "colab": {
          "base_uri": "https://localhost:8080/"
        },
        "id": "Dcag03h5eaDv",
        "outputId": "658ab323-2509-4980-9d1f-44efe06e8c35"
      },
      "source": [
        "basemodel_result={}\n",
        "for i in range(1,9):\n",
        "  basemodel_result['essayset_'+str(i)]=[]\n",
        "\n",
        "loss = losses.categorical_crossentropy\n",
        "learning_rate = 0.0002\n",
        "epochs = 100\n",
        "optimizer = optimizers.Adam(learning_rate=learning_rate)\n",
        "early_stopping = tf.keras.callbacks.EarlyStopping(\n",
        "      monitor='val_loss', min_delta=0, patience=10, verbose=0, mode='auto'\n",
        "  )\n",
        "\n",
        "#FFNN\n",
        "for i in range(1,9):\n",
        "  model=model_ffnn(i)  \n",
        "  model.compile(loss = loss, optimizer = optimizer, metrics = 'accuracy')\n",
        "  training_result=model.fit(train_data[i], validation_data = val_data[i], callbacks=early_stopping, epochs = 100, verbose = 0)\n",
        "  basemodel_result['essayset_'+str(i)].append(training_result.history['val_accuracy'][-1])\n",
        "  print(f'FFNN for essay set {i} finished')\n",
        "  \n",
        "\n",
        "#embedding + CNN 1D\n",
        "for i in range(1,9):\n",
        "  model=embedding_cnn_model(i)\n",
        "  model.compile(loss = loss, optimizer = optimizer, metrics = 'accuracy')\n",
        "  training_result=model.fit(train_data[i], validation_data = val_data[i], callbacks=early_stopping, epochs = 100, verbose = 0)\n",
        "  basemodel_result['essayset_'+str(i)].append(training_result.history['val_accuracy'][-1])\n",
        "  print(f'embedding + CNN 1D for essay set {i} finished')\n",
        "  "
      ],
      "execution_count": 47,
      "outputs": [
        {
          "output_type": "stream",
          "text": [
            "FFNN for essay set 1 finished\n",
            "FFNN for essay set 2 finished\n",
            "FFNN for essay set 3 finished\n",
            "FFNN for essay set 4 finished\n",
            "FFNN for essay set 5 finished\n",
            "FFNN for essay set 6 finished\n",
            "FFNN for essay set 7 finished\n",
            "FFNN for essay set 8 finished\n",
            "embedding + CNN 1D for essay set 1 finished\n",
            "embedding + CNN 1D for essay set 2 finished\n",
            "embedding + CNN 1D for essay set 3 finished\n",
            "embedding + CNN 1D for essay set 4 finished\n",
            "embedding + CNN 1D for essay set 5 finished\n",
            "embedding + CNN 1D for essay set 6 finished\n",
            "embedding + CNN 1D for essay set 7 finished\n",
            "embedding + CNN 1D for essay set 8 finished\n"
          ],
          "name": "stdout"
        }
      ]
    },
    {
      "cell_type": "code",
      "metadata": {
        "colab": {
          "base_uri": "https://localhost:8080/",
          "height": 106
        },
        "id": "Z1D3tDoQjrjC",
        "outputId": "155db34c-ba07-462d-c666-9b6df5efa49a"
      },
      "source": [
        "basemodel_summary=pd.DataFrame(basemodel_result).round(4)\n",
        "basemodel_summary.index=['FFNN','Embedding + CNN 1D']\n",
        "basemodel_summary"
      ],
      "execution_count": 53,
      "outputs": [
        {
          "output_type": "execute_result",
          "data": {
            "text/html": [
              "<div>\n",
              "<style scoped>\n",
              "    .dataframe tbody tr th:only-of-type {\n",
              "        vertical-align: middle;\n",
              "    }\n",
              "\n",
              "    .dataframe tbody tr th {\n",
              "        vertical-align: top;\n",
              "    }\n",
              "\n",
              "    .dataframe thead th {\n",
              "        text-align: right;\n",
              "    }\n",
              "</style>\n",
              "<table border=\"1\" class=\"dataframe\">\n",
              "  <thead>\n",
              "    <tr style=\"text-align: right;\">\n",
              "      <th></th>\n",
              "      <th>essayset_1</th>\n",
              "      <th>essayset_2</th>\n",
              "      <th>essayset_3</th>\n",
              "      <th>essayset_4</th>\n",
              "      <th>essayset_5</th>\n",
              "      <th>essayset_6</th>\n",
              "      <th>essayset_7</th>\n",
              "      <th>essayset_8</th>\n",
              "    </tr>\n",
              "  </thead>\n",
              "  <tbody>\n",
              "    <tr>\n",
              "      <th>FFNN</th>\n",
              "      <td>0.3081</td>\n",
              "      <td>0.4583</td>\n",
              "      <td>0.3497</td>\n",
              "      <td>0.4535</td>\n",
              "      <td>0.5069</td>\n",
              "      <td>0.4278</td>\n",
              "      <td>0.1401</td>\n",
              "      <td>0.1862</td>\n",
              "    </tr>\n",
              "    <tr>\n",
              "      <th>Embedding + CNN 1D</th>\n",
              "      <td>0.5602</td>\n",
              "      <td>0.6778</td>\n",
              "      <td>0.6474</td>\n",
              "      <td>0.6254</td>\n",
              "      <td>0.6565</td>\n",
              "      <td>0.5667</td>\n",
              "      <td>0.1656</td>\n",
              "      <td>0.2483</td>\n",
              "    </tr>\n",
              "  </tbody>\n",
              "</table>\n",
              "</div>"
            ],
            "text/plain": [
              "                    essayset_1  essayset_2  ...  essayset_7  essayset_8\n",
              "FFNN                    0.3081      0.4583  ...      0.1401      0.1862\n",
              "Embedding + CNN 1D      0.5602      0.6778  ...      0.1656      0.2483\n",
              "\n",
              "[2 rows x 8 columns]"
            ]
          },
          "metadata": {
            "tags": []
          },
          "execution_count": 53
        }
      ]
    },
    {
      "cell_type": "code",
      "metadata": {
        "id": "TzXWEECKkEdU"
      },
      "source": [
        ""
      ],
      "execution_count": null,
      "outputs": []
    }
  ]
}