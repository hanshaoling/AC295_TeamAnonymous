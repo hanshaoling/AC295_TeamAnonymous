{
  "nbformat": 4,
  "nbformat_minor": 0,
  "metadata": {
    "colab": {
      "name": "VQA_modeling.ipynb",
      "provenance": [],
      "collapsed_sections": [],
      "toc_visible": true,
      "machine_shape": "hm"
    },
    "kernelspec": {
      "display_name": "Python 3",
      "name": "python3"
    },
    "accelerator": "GPU",
    "widgets": {
      "application/vnd.jupyter.widget-state+json": {
        "5ca2b658e0254155b6b33d692fd72d46": {
          "model_module": "@jupyter-widgets/controls",
          "model_name": "HBoxModel",
          "state": {
            "_view_name": "HBoxView",
            "_dom_classes": [],
            "_model_name": "HBoxModel",
            "_view_module": "@jupyter-widgets/controls",
            "_model_module_version": "1.5.0",
            "_view_count": null,
            "_view_module_version": "1.5.0",
            "box_style": "",
            "layout": "IPY_MODEL_ced88b6ab8eb4c2089763e52c3d59ed4",
            "_model_module": "@jupyter-widgets/controls",
            "children": [
              "IPY_MODEL_3bca384ab06b40eea86726ec2ef83558",
              "IPY_MODEL_84cd53a9a98c43eeb1ffc66e8787ba19"
            ]
          }
        },
        "ced88b6ab8eb4c2089763e52c3d59ed4": {
          "model_module": "@jupyter-widgets/base",
          "model_name": "LayoutModel",
          "state": {
            "_view_name": "LayoutView",
            "grid_template_rows": null,
            "right": null,
            "justify_content": null,
            "_view_module": "@jupyter-widgets/base",
            "overflow": null,
            "_model_module_version": "1.2.0",
            "_view_count": null,
            "flex_flow": null,
            "width": null,
            "min_width": null,
            "border": null,
            "align_items": null,
            "bottom": null,
            "_model_module": "@jupyter-widgets/base",
            "top": null,
            "grid_column": null,
            "overflow_y": null,
            "overflow_x": null,
            "grid_auto_flow": null,
            "grid_area": null,
            "grid_template_columns": null,
            "flex": null,
            "_model_name": "LayoutModel",
            "justify_items": null,
            "grid_row": null,
            "max_height": null,
            "align_content": null,
            "visibility": null,
            "align_self": null,
            "height": null,
            "min_height": null,
            "padding": null,
            "grid_auto_rows": null,
            "grid_gap": null,
            "max_width": null,
            "order": null,
            "_view_module_version": "1.2.0",
            "grid_template_areas": null,
            "object_position": null,
            "object_fit": null,
            "grid_auto_columns": null,
            "margin": null,
            "display": null,
            "left": null
          }
        },
        "3bca384ab06b40eea86726ec2ef83558": {
          "model_module": "@jupyter-widgets/controls",
          "model_name": "FloatProgressModel",
          "state": {
            "_view_name": "ProgressView",
            "style": "IPY_MODEL_c89f511bbf864d47b5ad7671c02a092d",
            "_dom_classes": [],
            "description": "Downloading: 100%",
            "_model_name": "FloatProgressModel",
            "bar_style": "success",
            "max": 231508,
            "_view_module": "@jupyter-widgets/controls",
            "_model_module_version": "1.5.0",
            "value": 231508,
            "_view_count": null,
            "_view_module_version": "1.5.0",
            "orientation": "horizontal",
            "min": 0,
            "description_tooltip": null,
            "_model_module": "@jupyter-widgets/controls",
            "layout": "IPY_MODEL_ee549cebb48246ce9d811d042c25ac21"
          }
        },
        "84cd53a9a98c43eeb1ffc66e8787ba19": {
          "model_module": "@jupyter-widgets/controls",
          "model_name": "HTMLModel",
          "state": {
            "_view_name": "HTMLView",
            "style": "IPY_MODEL_2cbc3f3b48474bf68e3911dd5a424de0",
            "_dom_classes": [],
            "description": "",
            "_model_name": "HTMLModel",
            "placeholder": "​",
            "_view_module": "@jupyter-widgets/controls",
            "_model_module_version": "1.5.0",
            "value": " 232k/232k [00:00&lt;00:00, 294kB/s]",
            "_view_count": null,
            "_view_module_version": "1.5.0",
            "description_tooltip": null,
            "_model_module": "@jupyter-widgets/controls",
            "layout": "IPY_MODEL_d290ede34b50429992c705d628e9b475"
          }
        },
        "c89f511bbf864d47b5ad7671c02a092d": {
          "model_module": "@jupyter-widgets/controls",
          "model_name": "ProgressStyleModel",
          "state": {
            "_view_name": "StyleView",
            "_model_name": "ProgressStyleModel",
            "description_width": "initial",
            "_view_module": "@jupyter-widgets/base",
            "_model_module_version": "1.5.0",
            "_view_count": null,
            "_view_module_version": "1.2.0",
            "bar_color": null,
            "_model_module": "@jupyter-widgets/controls"
          }
        },
        "ee549cebb48246ce9d811d042c25ac21": {
          "model_module": "@jupyter-widgets/base",
          "model_name": "LayoutModel",
          "state": {
            "_view_name": "LayoutView",
            "grid_template_rows": null,
            "right": null,
            "justify_content": null,
            "_view_module": "@jupyter-widgets/base",
            "overflow": null,
            "_model_module_version": "1.2.0",
            "_view_count": null,
            "flex_flow": null,
            "width": null,
            "min_width": null,
            "border": null,
            "align_items": null,
            "bottom": null,
            "_model_module": "@jupyter-widgets/base",
            "top": null,
            "grid_column": null,
            "overflow_y": null,
            "overflow_x": null,
            "grid_auto_flow": null,
            "grid_area": null,
            "grid_template_columns": null,
            "flex": null,
            "_model_name": "LayoutModel",
            "justify_items": null,
            "grid_row": null,
            "max_height": null,
            "align_content": null,
            "visibility": null,
            "align_self": null,
            "height": null,
            "min_height": null,
            "padding": null,
            "grid_auto_rows": null,
            "grid_gap": null,
            "max_width": null,
            "order": null,
            "_view_module_version": "1.2.0",
            "grid_template_areas": null,
            "object_position": null,
            "object_fit": null,
            "grid_auto_columns": null,
            "margin": null,
            "display": null,
            "left": null
          }
        },
        "2cbc3f3b48474bf68e3911dd5a424de0": {
          "model_module": "@jupyter-widgets/controls",
          "model_name": "DescriptionStyleModel",
          "state": {
            "_view_name": "StyleView",
            "_model_name": "DescriptionStyleModel",
            "description_width": "",
            "_view_module": "@jupyter-widgets/base",
            "_model_module_version": "1.5.0",
            "_view_count": null,
            "_view_module_version": "1.2.0",
            "_model_module": "@jupyter-widgets/controls"
          }
        },
        "d290ede34b50429992c705d628e9b475": {
          "model_module": "@jupyter-widgets/base",
          "model_name": "LayoutModel",
          "state": {
            "_view_name": "LayoutView",
            "grid_template_rows": null,
            "right": null,
            "justify_content": null,
            "_view_module": "@jupyter-widgets/base",
            "overflow": null,
            "_model_module_version": "1.2.0",
            "_view_count": null,
            "flex_flow": null,
            "width": null,
            "min_width": null,
            "border": null,
            "align_items": null,
            "bottom": null,
            "_model_module": "@jupyter-widgets/base",
            "top": null,
            "grid_column": null,
            "overflow_y": null,
            "overflow_x": null,
            "grid_auto_flow": null,
            "grid_area": null,
            "grid_template_columns": null,
            "flex": null,
            "_model_name": "LayoutModel",
            "justify_items": null,
            "grid_row": null,
            "max_height": null,
            "align_content": null,
            "visibility": null,
            "align_self": null,
            "height": null,
            "min_height": null,
            "padding": null,
            "grid_auto_rows": null,
            "grid_gap": null,
            "max_width": null,
            "order": null,
            "_view_module_version": "1.2.0",
            "grid_template_areas": null,
            "object_position": null,
            "object_fit": null,
            "grid_auto_columns": null,
            "margin": null,
            "display": null,
            "left": null
          }
        },
        "0e8824fa84e74d86ad4d61cfb3393f00": {
          "model_module": "@jupyter-widgets/controls",
          "model_name": "HBoxModel",
          "state": {
            "_view_name": "HBoxView",
            "_dom_classes": [],
            "_model_name": "HBoxModel",
            "_view_module": "@jupyter-widgets/controls",
            "_model_module_version": "1.5.0",
            "_view_count": null,
            "_view_module_version": "1.5.0",
            "box_style": "",
            "layout": "IPY_MODEL_decf1fd06c1d4f0cadad59822310d564",
            "_model_module": "@jupyter-widgets/controls",
            "children": [
              "IPY_MODEL_434bb6e5c3614ce08e4a3690cc7a86bb",
              "IPY_MODEL_44d67dc9b4d44832b80d88b0603de9b9"
            ]
          }
        },
        "decf1fd06c1d4f0cadad59822310d564": {
          "model_module": "@jupyter-widgets/base",
          "model_name": "LayoutModel",
          "state": {
            "_view_name": "LayoutView",
            "grid_template_rows": null,
            "right": null,
            "justify_content": null,
            "_view_module": "@jupyter-widgets/base",
            "overflow": null,
            "_model_module_version": "1.2.0",
            "_view_count": null,
            "flex_flow": null,
            "width": null,
            "min_width": null,
            "border": null,
            "align_items": null,
            "bottom": null,
            "_model_module": "@jupyter-widgets/base",
            "top": null,
            "grid_column": null,
            "overflow_y": null,
            "overflow_x": null,
            "grid_auto_flow": null,
            "grid_area": null,
            "grid_template_columns": null,
            "flex": null,
            "_model_name": "LayoutModel",
            "justify_items": null,
            "grid_row": null,
            "max_height": null,
            "align_content": null,
            "visibility": null,
            "align_self": null,
            "height": null,
            "min_height": null,
            "padding": null,
            "grid_auto_rows": null,
            "grid_gap": null,
            "max_width": null,
            "order": null,
            "_view_module_version": "1.2.0",
            "grid_template_areas": null,
            "object_position": null,
            "object_fit": null,
            "grid_auto_columns": null,
            "margin": null,
            "display": null,
            "left": null
          }
        },
        "434bb6e5c3614ce08e4a3690cc7a86bb": {
          "model_module": "@jupyter-widgets/controls",
          "model_name": "FloatProgressModel",
          "state": {
            "_view_name": "ProgressView",
            "style": "IPY_MODEL_f240918dad494d99a6654e64e9fcb8b1",
            "_dom_classes": [],
            "description": "Downloading: 100%",
            "_model_name": "FloatProgressModel",
            "bar_style": "success",
            "max": 433,
            "_view_module": "@jupyter-widgets/controls",
            "_model_module_version": "1.5.0",
            "value": 433,
            "_view_count": null,
            "_view_module_version": "1.5.0",
            "orientation": "horizontal",
            "min": 0,
            "description_tooltip": null,
            "_model_module": "@jupyter-widgets/controls",
            "layout": "IPY_MODEL_d2586c43cd784b42b33c37b79cb3d46d"
          }
        },
        "44d67dc9b4d44832b80d88b0603de9b9": {
          "model_module": "@jupyter-widgets/controls",
          "model_name": "HTMLModel",
          "state": {
            "_view_name": "HTMLView",
            "style": "IPY_MODEL_119cd6a755a2497d9ef0a9aa5457012c",
            "_dom_classes": [],
            "description": "",
            "_model_name": "HTMLModel",
            "placeholder": "​",
            "_view_module": "@jupyter-widgets/controls",
            "_model_module_version": "1.5.0",
            "value": " 433/433 [00:01&lt;00:00, 379B/s]",
            "_view_count": null,
            "_view_module_version": "1.5.0",
            "description_tooltip": null,
            "_model_module": "@jupyter-widgets/controls",
            "layout": "IPY_MODEL_9230c62aa49e40c6b03cf275f82a3758"
          }
        },
        "f240918dad494d99a6654e64e9fcb8b1": {
          "model_module": "@jupyter-widgets/controls",
          "model_name": "ProgressStyleModel",
          "state": {
            "_view_name": "StyleView",
            "_model_name": "ProgressStyleModel",
            "description_width": "initial",
            "_view_module": "@jupyter-widgets/base",
            "_model_module_version": "1.5.0",
            "_view_count": null,
            "_view_module_version": "1.2.0",
            "bar_color": null,
            "_model_module": "@jupyter-widgets/controls"
          }
        },
        "d2586c43cd784b42b33c37b79cb3d46d": {
          "model_module": "@jupyter-widgets/base",
          "model_name": "LayoutModel",
          "state": {
            "_view_name": "LayoutView",
            "grid_template_rows": null,
            "right": null,
            "justify_content": null,
            "_view_module": "@jupyter-widgets/base",
            "overflow": null,
            "_model_module_version": "1.2.0",
            "_view_count": null,
            "flex_flow": null,
            "width": null,
            "min_width": null,
            "border": null,
            "align_items": null,
            "bottom": null,
            "_model_module": "@jupyter-widgets/base",
            "top": null,
            "grid_column": null,
            "overflow_y": null,
            "overflow_x": null,
            "grid_auto_flow": null,
            "grid_area": null,
            "grid_template_columns": null,
            "flex": null,
            "_model_name": "LayoutModel",
            "justify_items": null,
            "grid_row": null,
            "max_height": null,
            "align_content": null,
            "visibility": null,
            "align_self": null,
            "height": null,
            "min_height": null,
            "padding": null,
            "grid_auto_rows": null,
            "grid_gap": null,
            "max_width": null,
            "order": null,
            "_view_module_version": "1.2.0",
            "grid_template_areas": null,
            "object_position": null,
            "object_fit": null,
            "grid_auto_columns": null,
            "margin": null,
            "display": null,
            "left": null
          }
        },
        "119cd6a755a2497d9ef0a9aa5457012c": {
          "model_module": "@jupyter-widgets/controls",
          "model_name": "DescriptionStyleModel",
          "state": {
            "_view_name": "StyleView",
            "_model_name": "DescriptionStyleModel",
            "description_width": "",
            "_view_module": "@jupyter-widgets/base",
            "_model_module_version": "1.5.0",
            "_view_count": null,
            "_view_module_version": "1.2.0",
            "_model_module": "@jupyter-widgets/controls"
          }
        },
        "9230c62aa49e40c6b03cf275f82a3758": {
          "model_module": "@jupyter-widgets/base",
          "model_name": "LayoutModel",
          "state": {
            "_view_name": "LayoutView",
            "grid_template_rows": null,
            "right": null,
            "justify_content": null,
            "_view_module": "@jupyter-widgets/base",
            "overflow": null,
            "_model_module_version": "1.2.0",
            "_view_count": null,
            "flex_flow": null,
            "width": null,
            "min_width": null,
            "border": null,
            "align_items": null,
            "bottom": null,
            "_model_module": "@jupyter-widgets/base",
            "top": null,
            "grid_column": null,
            "overflow_y": null,
            "overflow_x": null,
            "grid_auto_flow": null,
            "grid_area": null,
            "grid_template_columns": null,
            "flex": null,
            "_model_name": "LayoutModel",
            "justify_items": null,
            "grid_row": null,
            "max_height": null,
            "align_content": null,
            "visibility": null,
            "align_self": null,
            "height": null,
            "min_height": null,
            "padding": null,
            "grid_auto_rows": null,
            "grid_gap": null,
            "max_width": null,
            "order": null,
            "_view_module_version": "1.2.0",
            "grid_template_areas": null,
            "object_position": null,
            "object_fit": null,
            "grid_auto_columns": null,
            "margin": null,
            "display": null,
            "left": null
          }
        },
        "2736745e9d2d40379056d1c70f745d18": {
          "model_module": "@jupyter-widgets/controls",
          "model_name": "HBoxModel",
          "state": {
            "_view_name": "HBoxView",
            "_dom_classes": [],
            "_model_name": "HBoxModel",
            "_view_module": "@jupyter-widgets/controls",
            "_model_module_version": "1.5.0",
            "_view_count": null,
            "_view_module_version": "1.5.0",
            "box_style": "",
            "layout": "IPY_MODEL_249a8d5c677444f3880014b04d88621c",
            "_model_module": "@jupyter-widgets/controls",
            "children": [
              "IPY_MODEL_7c1a7fe856114e0e950d0319213cbf86",
              "IPY_MODEL_faa9f82d12f0496ca89cdad6083f771d"
            ]
          }
        },
        "249a8d5c677444f3880014b04d88621c": {
          "model_module": "@jupyter-widgets/base",
          "model_name": "LayoutModel",
          "state": {
            "_view_name": "LayoutView",
            "grid_template_rows": null,
            "right": null,
            "justify_content": null,
            "_view_module": "@jupyter-widgets/base",
            "overflow": null,
            "_model_module_version": "1.2.0",
            "_view_count": null,
            "flex_flow": null,
            "width": null,
            "min_width": null,
            "border": null,
            "align_items": null,
            "bottom": null,
            "_model_module": "@jupyter-widgets/base",
            "top": null,
            "grid_column": null,
            "overflow_y": null,
            "overflow_x": null,
            "grid_auto_flow": null,
            "grid_area": null,
            "grid_template_columns": null,
            "flex": null,
            "_model_name": "LayoutModel",
            "justify_items": null,
            "grid_row": null,
            "max_height": null,
            "align_content": null,
            "visibility": null,
            "align_self": null,
            "height": null,
            "min_height": null,
            "padding": null,
            "grid_auto_rows": null,
            "grid_gap": null,
            "max_width": null,
            "order": null,
            "_view_module_version": "1.2.0",
            "grid_template_areas": null,
            "object_position": null,
            "object_fit": null,
            "grid_auto_columns": null,
            "margin": null,
            "display": null,
            "left": null
          }
        },
        "7c1a7fe856114e0e950d0319213cbf86": {
          "model_module": "@jupyter-widgets/controls",
          "model_name": "FloatProgressModel",
          "state": {
            "_view_name": "ProgressView",
            "style": "IPY_MODEL_707e91e725e44180b953ccc674b655a2",
            "_dom_classes": [],
            "description": "Downloading: 100%",
            "_model_name": "FloatProgressModel",
            "bar_style": "success",
            "max": 536063208,
            "_view_module": "@jupyter-widgets/controls",
            "_model_module_version": "1.5.0",
            "value": 536063208,
            "_view_count": null,
            "_view_module_version": "1.5.0",
            "orientation": "horizontal",
            "min": 0,
            "description_tooltip": null,
            "_model_module": "@jupyter-widgets/controls",
            "layout": "IPY_MODEL_eee4ebbed23c4fba8b805fe293e95723"
          }
        },
        "faa9f82d12f0496ca89cdad6083f771d": {
          "model_module": "@jupyter-widgets/controls",
          "model_name": "HTMLModel",
          "state": {
            "_view_name": "HTMLView",
            "style": "IPY_MODEL_0d747492abdc49689302644ea4ee7db7",
            "_dom_classes": [],
            "description": "",
            "_model_name": "HTMLModel",
            "placeholder": "​",
            "_view_module": "@jupyter-widgets/controls",
            "_model_module_version": "1.5.0",
            "value": " 536M/536M [00:19&lt;00:00, 27.8MB/s]",
            "_view_count": null,
            "_view_module_version": "1.5.0",
            "description_tooltip": null,
            "_model_module": "@jupyter-widgets/controls",
            "layout": "IPY_MODEL_eb10f070ebd544af985562fa63dc63c2"
          }
        },
        "707e91e725e44180b953ccc674b655a2": {
          "model_module": "@jupyter-widgets/controls",
          "model_name": "ProgressStyleModel",
          "state": {
            "_view_name": "StyleView",
            "_model_name": "ProgressStyleModel",
            "description_width": "initial",
            "_view_module": "@jupyter-widgets/base",
            "_model_module_version": "1.5.0",
            "_view_count": null,
            "_view_module_version": "1.2.0",
            "bar_color": null,
            "_model_module": "@jupyter-widgets/controls"
          }
        },
        "eee4ebbed23c4fba8b805fe293e95723": {
          "model_module": "@jupyter-widgets/base",
          "model_name": "LayoutModel",
          "state": {
            "_view_name": "LayoutView",
            "grid_template_rows": null,
            "right": null,
            "justify_content": null,
            "_view_module": "@jupyter-widgets/base",
            "overflow": null,
            "_model_module_version": "1.2.0",
            "_view_count": null,
            "flex_flow": null,
            "width": null,
            "min_width": null,
            "border": null,
            "align_items": null,
            "bottom": null,
            "_model_module": "@jupyter-widgets/base",
            "top": null,
            "grid_column": null,
            "overflow_y": null,
            "overflow_x": null,
            "grid_auto_flow": null,
            "grid_area": null,
            "grid_template_columns": null,
            "flex": null,
            "_model_name": "LayoutModel",
            "justify_items": null,
            "grid_row": null,
            "max_height": null,
            "align_content": null,
            "visibility": null,
            "align_self": null,
            "height": null,
            "min_height": null,
            "padding": null,
            "grid_auto_rows": null,
            "grid_gap": null,
            "max_width": null,
            "order": null,
            "_view_module_version": "1.2.0",
            "grid_template_areas": null,
            "object_position": null,
            "object_fit": null,
            "grid_auto_columns": null,
            "margin": null,
            "display": null,
            "left": null
          }
        },
        "0d747492abdc49689302644ea4ee7db7": {
          "model_module": "@jupyter-widgets/controls",
          "model_name": "DescriptionStyleModel",
          "state": {
            "_view_name": "StyleView",
            "_model_name": "DescriptionStyleModel",
            "description_width": "",
            "_view_module": "@jupyter-widgets/base",
            "_model_module_version": "1.5.0",
            "_view_count": null,
            "_view_module_version": "1.2.0",
            "_model_module": "@jupyter-widgets/controls"
          }
        },
        "eb10f070ebd544af985562fa63dc63c2": {
          "model_module": "@jupyter-widgets/base",
          "model_name": "LayoutModel",
          "state": {
            "_view_name": "LayoutView",
            "grid_template_rows": null,
            "right": null,
            "justify_content": null,
            "_view_module": "@jupyter-widgets/base",
            "overflow": null,
            "_model_module_version": "1.2.0",
            "_view_count": null,
            "flex_flow": null,
            "width": null,
            "min_width": null,
            "border": null,
            "align_items": null,
            "bottom": null,
            "_model_module": "@jupyter-widgets/base",
            "top": null,
            "grid_column": null,
            "overflow_y": null,
            "overflow_x": null,
            "grid_auto_flow": null,
            "grid_area": null,
            "grid_template_columns": null,
            "flex": null,
            "_model_name": "LayoutModel",
            "justify_items": null,
            "grid_row": null,
            "max_height": null,
            "align_content": null,
            "visibility": null,
            "align_self": null,
            "height": null,
            "min_height": null,
            "padding": null,
            "grid_auto_rows": null,
            "grid_gap": null,
            "max_width": null,
            "order": null,
            "_view_module_version": "1.2.0",
            "grid_template_areas": null,
            "object_position": null,
            "object_fit": null,
            "grid_auto_columns": null,
            "margin": null,
            "display": null,
            "left": null
          }
        }
      }
    }
  },
  "cells": [
    {
      "cell_type": "markdown",
      "metadata": {
        "id": "9ocQBgXES5Bh"
      },
      "source": [
        "# **Practicum 2 - Visual Question Answering**\n",
        "### **Team Anonymous**\n"
      ]
    },
    {
      "cell_type": "code",
      "metadata": {
        "id": "gGra4DyaM6r-",
        "outputId": "7f34d1a4-cdc2-4625-92e3-d73864a6d8ce",
        "colab": {
          "base_uri": "https://localhost:8080/"
        }
      },
      "source": [
        "!pip install transformers #Installing Huggingface transformers "
      ],
      "execution_count": null,
      "outputs": [
        {
          "output_type": "stream",
          "text": [
            "Collecting transformers\n",
            "\u001b[?25l  Downloading https://files.pythonhosted.org/packages/3a/83/e74092e7f24a08d751aa59b37a9fc572b2e4af3918cb66f7766c3affb1b4/transformers-3.5.1-py3-none-any.whl (1.3MB)\n",
            "\u001b[K     |████████████████████████████████| 1.3MB 14.2MB/s \n",
            "\u001b[?25hRequirement already satisfied: requests in /usr/local/lib/python3.6/dist-packages (from transformers) (2.23.0)\n",
            "Requirement already satisfied: tqdm>=4.27 in /usr/local/lib/python3.6/dist-packages (from transformers) (4.41.1)\n",
            "Requirement already satisfied: filelock in /usr/local/lib/python3.6/dist-packages (from transformers) (3.0.12)\n",
            "Requirement already satisfied: packaging in /usr/local/lib/python3.6/dist-packages (from transformers) (20.4)\n",
            "Collecting sentencepiece==0.1.91\n",
            "\u001b[?25l  Downloading https://files.pythonhosted.org/packages/d4/a4/d0a884c4300004a78cca907a6ff9a5e9fe4f090f5d95ab341c53d28cbc58/sentencepiece-0.1.91-cp36-cp36m-manylinux1_x86_64.whl (1.1MB)\n",
            "\u001b[K     |████████████████████████████████| 1.1MB 53.6MB/s \n",
            "\u001b[?25hCollecting sacremoses\n",
            "\u001b[?25l  Downloading https://files.pythonhosted.org/packages/7d/34/09d19aff26edcc8eb2a01bed8e98f13a1537005d31e95233fd48216eed10/sacremoses-0.0.43.tar.gz (883kB)\n",
            "\u001b[K     |████████████████████████████████| 890kB 24.3MB/s \n",
            "\u001b[?25hRequirement already satisfied: protobuf in /usr/local/lib/python3.6/dist-packages (from transformers) (3.12.4)\n",
            "Requirement already satisfied: regex!=2019.12.17 in /usr/local/lib/python3.6/dist-packages (from transformers) (2019.12.20)\n",
            "Requirement already satisfied: dataclasses; python_version < \"3.7\" in /usr/local/lib/python3.6/dist-packages (from transformers) (0.7)\n",
            "Collecting tokenizers==0.9.3\n",
            "\u001b[?25l  Downloading https://files.pythonhosted.org/packages/4c/34/b39eb9994bc3c999270b69c9eea40ecc6f0e97991dba28282b9fd32d44ee/tokenizers-0.9.3-cp36-cp36m-manylinux1_x86_64.whl (2.9MB)\n",
            "\u001b[K     |████████████████████████████████| 2.9MB 35.3MB/s \n",
            "\u001b[?25hRequirement already satisfied: numpy in /usr/local/lib/python3.6/dist-packages (from transformers) (1.18.5)\n",
            "Requirement already satisfied: urllib3!=1.25.0,!=1.25.1,<1.26,>=1.21.1 in /usr/local/lib/python3.6/dist-packages (from requests->transformers) (1.24.3)\n",
            "Requirement already satisfied: idna<3,>=2.5 in /usr/local/lib/python3.6/dist-packages (from requests->transformers) (2.10)\n",
            "Requirement already satisfied: chardet<4,>=3.0.2 in /usr/local/lib/python3.6/dist-packages (from requests->transformers) (3.0.4)\n",
            "Requirement already satisfied: certifi>=2017.4.17 in /usr/local/lib/python3.6/dist-packages (from requests->transformers) (2020.6.20)\n",
            "Requirement already satisfied: six in /usr/local/lib/python3.6/dist-packages (from packaging->transformers) (1.15.0)\n",
            "Requirement already satisfied: pyparsing>=2.0.2 in /usr/local/lib/python3.6/dist-packages (from packaging->transformers) (2.4.7)\n",
            "Requirement already satisfied: click in /usr/local/lib/python3.6/dist-packages (from sacremoses->transformers) (7.1.2)\n",
            "Requirement already satisfied: joblib in /usr/local/lib/python3.6/dist-packages (from sacremoses->transformers) (0.17.0)\n",
            "Requirement already satisfied: setuptools in /usr/local/lib/python3.6/dist-packages (from protobuf->transformers) (50.3.2)\n",
            "Building wheels for collected packages: sacremoses\n",
            "  Building wheel for sacremoses (setup.py) ... \u001b[?25l\u001b[?25hdone\n",
            "  Created wheel for sacremoses: filename=sacremoses-0.0.43-cp36-none-any.whl size=893257 sha256=ee0586cd745eaeb70ed395b7b312748e10d7c2400af557fda478b03e10b0a337\n",
            "  Stored in directory: /root/.cache/pip/wheels/29/3c/fd/7ce5c3f0666dab31a50123635e6fb5e19ceb42ce38d4e58f45\n",
            "Successfully built sacremoses\n",
            "Installing collected packages: sentencepiece, sacremoses, tokenizers, transformers\n",
            "Successfully installed sacremoses-0.0.43 sentencepiece-0.1.91 tokenizers-0.9.3 transformers-3.5.1\n"
          ],
          "name": "stdout"
        }
      ]
    },
    {
      "cell_type": "code",
      "metadata": {
        "id": "rcTUbaTfMHu-",
        "outputId": "66b42f81-4c8f-4ba2-d93f-8e4e2def5275",
        "colab": {
          "base_uri": "https://localhost:8080/"
        }
      },
      "source": [
        "!pip install -q tensorflow_model_optimization"
      ],
      "execution_count": null,
      "outputs": [
        {
          "output_type": "stream",
          "text": [
            "\u001b[?25l\r\u001b[K     |██                              | 10kB 28.0MB/s eta 0:00:01\r\u001b[K     |███▉                            | 20kB 32.9MB/s eta 0:00:01\r\u001b[K     |█████▊                          | 30kB 29.7MB/s eta 0:00:01\r\u001b[K     |███████▋                        | 40kB 20.5MB/s eta 0:00:01\r\u001b[K     |█████████▌                      | 51kB 16.7MB/s eta 0:00:01\r\u001b[K     |███████████▍                    | 61kB 18.4MB/s eta 0:00:01\r\u001b[K     |█████████████▎                  | 71kB 14.7MB/s eta 0:00:01\r\u001b[K     |███████████████▏                | 81kB 14.9MB/s eta 0:00:01\r\u001b[K     |█████████████████               | 92kB 15.0MB/s eta 0:00:01\r\u001b[K     |███████████████████             | 102kB 13.9MB/s eta 0:00:01\r\u001b[K     |████████████████████▉           | 112kB 13.9MB/s eta 0:00:01\r\u001b[K     |██████████████████████▊         | 122kB 13.9MB/s eta 0:00:01\r\u001b[K     |████████████████████████▊       | 133kB 13.9MB/s eta 0:00:01\r\u001b[K     |██████████████████████████▋     | 143kB 13.9MB/s eta 0:00:01\r\u001b[K     |████████████████████████████▌   | 153kB 13.9MB/s eta 0:00:01\r\u001b[K     |██████████████████████████████▍ | 163kB 13.9MB/s eta 0:00:01\r\u001b[K     |████████████████████████████████| 174kB 13.9MB/s \n",
            "\u001b[?25h"
          ],
          "name": "stdout"
        }
      ]
    },
    {
      "cell_type": "code",
      "metadata": {
        "id": "9Gb1Ql0nPIQx"
      },
      "source": [
        "import os\n",
        "import requests\n",
        "import tempfile\n",
        "import zipfile\n",
        "import shutil\n",
        "import json\n",
        "import time\n",
        "import sys\n",
        "import cv2\n",
        "import numpy as np\n",
        "import pandas as pd\n",
        "from glob import glob\n",
        "import subprocess\n",
        "import matplotlib.pyplot as plt\n",
        "import tensorflow_model_optimization as tfmot\n",
        "%matplotlib inline\n",
        "\n",
        "import tensorflow as tf\n",
        "from tensorflow import keras\n",
        "from tensorflow.python.keras import backend as K\n",
        "from tensorflow.keras.models import Model, Sequential\n",
        "from tensorflow.keras import layers\n",
        "from tensorflow.keras import activations\n",
        "from tensorflow.keras import optimizers\n",
        "from tensorflow.keras import losses\n",
        "from tensorflow.keras import metrics\n",
        "from tensorflow.keras import initializers\n",
        "from tensorflow.keras import regularizers\n",
        "from tensorflow.keras.utils import to_categorical\n",
        "from tensorflow_model_optimization.sparsity.keras import prune_low_magnitude\n",
        "from keras.utils.layer_utils import count_params\n",
        "import tensorflow_hub as hub\n",
        "from collections import Counter\n",
        "from transformers import TFBertModel, TFDistilBertModel\n",
        "from keras.applications.mobilenet_v2 import MobileNetV2\n",
        "from tensorflow.keras.utils import plot_model\n",
        "\n",
        "\n",
        "from sklearn.model_selection import train_test_split\n",
        "from transformers import BertTokenizer, TFBertForSequenceClassification, TFDistilBertForSequenceClassification"
      ],
      "execution_count": null,
      "outputs": []
    },
    {
      "cell_type": "code",
      "metadata": {
        "id": "V-hE1GetYceu",
        "outputId": "5488fbf4-3906-4aeb-cdb1-fe060916caf5",
        "colab": {
          "base_uri": "https://localhost:8080/"
        }
      },
      "source": [
        "from google.colab import drive\n",
        "drive.mount('/content/gdrive')"
      ],
      "execution_count": null,
      "outputs": [
        {
          "output_type": "stream",
          "text": [
            "Mounted at /content/gdrive\n"
          ],
          "name": "stdout"
        }
      ]
    },
    {
      "cell_type": "code",
      "metadata": {
        "id": "SwafWL-CftQQ",
        "outputId": "78efaacd-c0ba-41f9-f946-2b1cb3c4d98e",
        "colab": {
          "base_uri": "https://localhost:8080/"
        }
      },
      "source": [
        "print(\"tensorflow version\", tf.__version__)\n",
        "print(\"keras version\", tf.keras.__version__)\n",
        "print(\"Eager Execution Enabled:\", tf.executing_eagerly())\n",
        "\n",
        "# Get the number of replicas \n",
        "strategy = tf.distribute.MirroredStrategy()\n",
        "print(\"Number of replicas:\", strategy.num_replicas_in_sync)\n",
        "\n",
        "devices = tf.config.experimental.get_visible_devices()\n",
        "print(\"Devices:\", devices)\n",
        "print(tf.config.experimental.list_logical_devices('GPU'))\n",
        "\n",
        "print(\"GPU Available: \", tf.config.list_physical_devices('GPU'))\n",
        "print(\"All Physical Devices\", tf.config.list_physical_devices())\n",
        "\n",
        "# Better performance with the tf.data API\n",
        "# Reference: https://www.tensorflow.org/guide/data_performance\n",
        "AUTOTUNE = tf.data.experimental.AUTOTUNE"
      ],
      "execution_count": null,
      "outputs": [
        {
          "output_type": "stream",
          "text": [
            "tensorflow version 2.3.0\n",
            "keras version 2.4.0\n",
            "Eager Execution Enabled: True\n",
            "INFO:tensorflow:Using MirroredStrategy with devices ('/job:localhost/replica:0/task:0/device:GPU:0',)\n",
            "Number of replicas: 1\n",
            "Devices: [PhysicalDevice(name='/physical_device:CPU:0', device_type='CPU'), PhysicalDevice(name='/physical_device:GPU:0', device_type='GPU')]\n",
            "[LogicalDevice(name='/device:GPU:0', device_type='GPU')]\n",
            "GPU Available:  [PhysicalDevice(name='/physical_device:GPU:0', device_type='GPU')]\n",
            "All Physical Devices [PhysicalDevice(name='/physical_device:CPU:0', device_type='CPU'), PhysicalDevice(name='/physical_device:XLA_CPU:0', device_type='XLA_CPU'), PhysicalDevice(name='/physical_device:XLA_GPU:0', device_type='XLA_GPU'), PhysicalDevice(name='/physical_device:GPU:0', device_type='GPU')]\n"
          ],
          "name": "stdout"
        }
      ]
    },
    {
      "cell_type": "code",
      "metadata": {
        "id": "UlawvHjTfyWF",
        "outputId": "c65b931a-adda-4256-9ddf-6fc4aacdfa37",
        "colab": {
          "base_uri": "https://localhost:8080/"
        }
      },
      "source": [
        "!nvidia-smi"
      ],
      "execution_count": null,
      "outputs": [
        {
          "output_type": "stream",
          "text": [
            "Tue Nov 17 04:53:26 2020       \n",
            "+-----------------------------------------------------------------------------+\n",
            "| NVIDIA-SMI 455.38       Driver Version: 418.67       CUDA Version: 10.1     |\n",
            "|-------------------------------+----------------------+----------------------+\n",
            "| GPU  Name        Persistence-M| Bus-Id        Disp.A | Volatile Uncorr. ECC |\n",
            "| Fan  Temp  Perf  Pwr:Usage/Cap|         Memory-Usage | GPU-Util  Compute M. |\n",
            "|                               |                      |               MIG M. |\n",
            "|===============================+======================+======================|\n",
            "|   0  Tesla P100-PCIE...  Off  | 00000000:00:04.0 Off |                    0 |\n",
            "| N/A   41C    P0    34W / 250W |    359MiB / 16280MiB |      0%      Default |\n",
            "|                               |                      |                 ERR! |\n",
            "+-------------------------------+----------------------+----------------------+\n",
            "                                                                               \n",
            "+-----------------------------------------------------------------------------+\n",
            "| Processes:                                                                  |\n",
            "|  GPU   GI   CI        PID   Type   Process name                  GPU Memory |\n",
            "|        ID   ID                                                   Usage      |\n",
            "|=============================================================================|\n",
            "|  No running processes found                                                 |\n",
            "+-----------------------------------------------------------------------------+\n"
          ],
          "name": "stdout"
        }
      ]
    },
    {
      "cell_type": "markdown",
      "metadata": {
        "id": "AIkyh1UyUAgU"
      },
      "source": [
        "### Utils"
      ]
    },
    {
      "cell_type": "code",
      "metadata": {
        "id": "9KSUzSXVPIz-"
      },
      "source": [
        "def download_file(packet_url, base_path=\"\", extract=False):\n",
        "  if base_path != \"\":\n",
        "    if not os.path.exists(base_path):\n",
        "      os.mkdir(base_path)\n",
        "  packet_file = os.path.basename(packet_url)\n",
        "  with requests.get(packet_url, stream=True) as r:\n",
        "      r.raise_for_status()\n",
        "      with open(os.path.join(base_path,packet_file), 'wb') as f:\n",
        "          for chunk in r.iter_content(chunk_size=8192):\n",
        "              f.write(chunk)\n",
        "  \n",
        "  if extract:\n",
        "    if packet_file.endswith(\".zip\"):\n",
        "      with zipfile.ZipFile(os.path.join(base_path,packet_file)) as zfile:\n",
        "        zfile.extractall(base_path)\n",
        "    \n",
        "    if packet_file.endswith(\".tar.gz\"):\n",
        "      packet_name = packet_file.split('.')[0]\n",
        "      with tarfile.open(os.path.join(base_path,packet_file)) as tfile:\n",
        "        tfile.extractall(base_path)\n",
        "\n",
        "# we use the following to save the models\n",
        "class JsonEncoder(json.JSONEncoder):\n",
        "  def default(self, obj):\n",
        "    if isinstance(obj, np.integer):\n",
        "        return int(obj)\n",
        "    elif isinstance(obj, np.floating):\n",
        "        return float(obj)\n",
        "    elif isinstance(obj, decimal.Decimal):\n",
        "        return float(obj)\n",
        "    elif isinstance(obj, np.ndarray):\n",
        "        return obj.tolist()\n",
        "    else:\n",
        "        return super(JsonEncoder, self).default(obj)\n",
        "\n",
        "# save_model saves everything. weights, statuses and results. \n",
        "def save_model(model,training_results,execution_time, learning_rate, epochs, optimizer, evaluation_results,path=\"/content/gdrive/My Drive/models\"):\n",
        "  model_name=model.name\n",
        "  # Get the model train history\n",
        "  model_train_history = training_results.history\n",
        "\n",
        "  # Ensure path exists\n",
        "  if not os.path.exists(path):\n",
        "      os.mkdir(path)\n",
        "  # Save the enitire model (structure + weights)\n",
        "  #model.save(os.path.join(path,model_name+\".hdf5\"))\n",
        "  # Save only the weights\n",
        "  model.save_weights(os.path.join(path,model_name+\".h5\"))\n",
        "\n",
        "  # Save the structure only\n",
        "  '''\n",
        "  model_json = model.to_json()\n",
        "  with open(os.path.join(path,model_name+\".json\"), \"w\") as json_file:\n",
        "      json_file.write(model_json)\n",
        "  '''\n",
        "    \n",
        "  #model_size = get_model_size(model_name=model_name)\n",
        "\n",
        "  # Save model history\n",
        "  with open(os.path.join(path,model_name+\"_train_history.json\"), \"w\") as json_file:\n",
        "      json_file.write(json.dumps(model_train_history,cls=JsonEncoder))\n",
        "\n",
        "  trainable_parameters = count_params(model.trainable_weights)\n",
        "  non_trainable_parameters = count_params(model.non_trainable_weights)\n",
        "  total_params = trainable_parameters + non_trainable_parameters\n",
        "\n",
        "  # Save model metrics\n",
        "  metrics ={\n",
        "      \"total_params\":total_params,\n",
        "      \"execution_time\":execution_time,\n",
        "      \"loss\":evaluation_results[0],\n",
        "      \"accuracy\":evaluation_results[1],\n",
        "      \"learning_rate\":learning_rate,\n",
        "      \"epochs\":epochs,\n",
        "      \"optimizer\":type(optimizer).__name__,\n",
        "      \"name\": model_name,\n",
        "      \"id\": int(time.time())\n",
        "  }\n",
        "\n",
        "  with open(os.path.join(path,model.name+\"_metrics.json\"), \"w\") as json_file:\n",
        "      json_file.write(json.dumps(metrics,cls=JsonEncoder))\n",
        "\n",
        "def get_model_size(path=\"models\",model_name=\"model01\"):\n",
        "  model_size = os.stat(os.path.join(path,model_name+\".hdf5\")).st_size\n",
        "  return model_size\n",
        "\n",
        "def evaluate_model(model,test_data, training_results,execution_time, learning_rate, epochs, \n",
        "                   optimizer,save=True, \n",
        "                   loss_metrics=[\"loss\",\"val_loss\"],\n",
        "                   acc_metrics=[\"accuracy\",\"val_accuracy\"]):\n",
        "    \n",
        "  # Get the model train history\n",
        "  model_train_history = training_results.history\n",
        "  # Get the number of epochs the training was run for\n",
        "  num_epochs = len(model_train_history[loss_metrics[0]])\n",
        "\n",
        "  # Plot training results\n",
        "  fig = plt.figure(figsize=(15,5))\n",
        "  axs = fig.add_subplot(1,2,1)\n",
        "  axs.set_title('Loss')\n",
        "  # Plot all metrics\n",
        "  for metric in loss_metrics:\n",
        "      axs.plot(np.arange(0, num_epochs), model_train_history[metric], label=metric)\n",
        "  axs.legend()\n",
        "  \n",
        "  axs = fig.add_subplot(1,2,2)\n",
        "  axs.set_title('Accuracy')\n",
        "  # Plot all metrics\n",
        "  for metric in acc_metrics:\n",
        "      axs.plot(np.arange(0, num_epochs), model_train_history[metric], label=metric)\n",
        "  axs.legend()\n",
        "\n",
        "  plt.show()\n",
        "  # Evaluate on test data\n",
        "  evaluation_results = model.evaluate(test_data, return_dict=True)\n",
        "  print(evaluation_results)\n",
        "\n",
        "  evaluation_results = [evaluation_results[loss_metrics[0]], evaluation_results[acc_metrics[0]]]\n",
        "  \n",
        "  if save:\n",
        "      # Save model\n",
        "      save_model(model,training_results,execution_time, learning_rate, epochs, optimizer, evaluation_results)\n",
        "  \n",
        "  return evaluation_results\n",
        "def get_dataset_size(base_path):\n",
        "  dataset_folder_size = subprocess.check_output(['du','-sh', base_path]).split()[0].decode('utf-8')\n",
        "  print(\"Dataset size on disk:\")\n",
        "  print(\"----------------\")\n",
        "  print(\"Total Size: \",dataset_folder_size)\n",
        "  dataset_folder_size = dataset_folder_size.replace(\"G\",\"000000000\")\n",
        "  dataset_folder_size = float(dataset_folder_size)\n",
        "\n",
        "  dataset_file_list = glob(base_path+'/*')\n",
        "  dataset_download_size = 0.0\n",
        "  for file in dataset_file_list:\n",
        "    if file.endswith(\".zip\"):\n",
        "      dataset_download_size += os.path.getsize(file)\n",
        "\n",
        "  dataset_download_size = dataset_download_size/1000000000\n",
        "  dataset_size = dataset_folder_size - dataset_download_size\n",
        "\n",
        "  print(\"Download Size: \",str(dataset_download_size)+\"G\")\n",
        "  print(\"Dataset Size: \",str(dataset_size)+\"G\")\n",
        "\n",
        "def get_dataset_list(base_path):\n",
        "  # Labels\n",
        "  label_names = os.listdir(base_path)\n",
        "\n",
        "  # Generate a list of labels and path to images\n",
        "  data_list = []\n",
        "  for label in label_names:\n",
        "      # Images\n",
        "      image_files = os.listdir(os.path.join(base_path,label))\n",
        "      data_list.extend([(label,os.path.join(base_path,label,f)) for f in image_files])\n",
        "\n",
        "  return label_names, data_list"
      ],
      "execution_count": null,
      "outputs": []
    },
    {
      "cell_type": "markdown",
      "metadata": {
        "id": "Jpy-GrzYUFi1"
      },
      "source": [
        "### Download and Read Data"
      ]
    },
    {
      "cell_type": "code",
      "metadata": {
        "id": "3dKX9uMrPREE",
        "outputId": "3562cc79-8821-45e7-d355-b29e92c3b48f",
        "colab": {
          "base_uri": "https://localhost:8080/"
        }
      },
      "source": [
        "train_image=\"https://storage.googleapis.com/ac295-data-store/visualqa_2017_small/train2014.zip\"\n",
        "train_question=\"https://public-dataset-store.s3.amazonaws.com/visualqa_2017/v2_Questions_Train_mscoco.zip\"\n",
        "train_answer=\"https://s3.amazonaws.com/cvmlp/vqa/mscoco/vqa/v2_Annotations_Train_mscoco.zip\"\n",
        "val_image=\"https://storage.googleapis.com/ac295-data-store/visualqa_2017_small/val2014.zip\"\n",
        "val_question=\"https://public-dataset-store.s3.amazonaws.com/visualqa_2017/v2_Questions_Val_mscoco.zip\"\n",
        "val_answer=\"https://s3.amazonaws.com/cvmlp/vqa/mscoco/vqa/v2_Annotations_Val_mscoco.zip\"\n",
        "start_time = time.time()\n",
        "download_file(train_image, base_path=\"images\", extract=True)\n",
        "execution_time = (time.time() - start_time)/60.0\n",
        "print(\"Download execution time (mins)\",execution_time)\n",
        "start_time = time.time()\n",
        "download_file(val_image, base_path=\"images\", extract=True)\n",
        "execution_time = (time.time() - start_time)/60.0\n",
        "print(\"Download execution time (mins)\",execution_time)"
      ],
      "execution_count": null,
      "outputs": [
        {
          "output_type": "stream",
          "text": [
            "Download execution time (mins) 1.0884111642837524\n",
            "Download execution time (mins) 0.702152955532074\n"
          ],
          "name": "stdout"
        }
      ]
    },
    {
      "cell_type": "code",
      "metadata": {
        "id": "t0MLZ0pZQiBJ",
        "outputId": "76a386de-7c56-487c-dfad-ffd297ebf7a3",
        "colab": {
          "base_uri": "https://localhost:8080/"
        }
      },
      "source": [
        "start_time = time.time()\n",
        "download_file(train_question, base_path=\"question_answer\", extract=True)\n",
        "download_file(train_answer, base_path=\"question_answer\", extract=True)\n",
        "download_file(val_question, base_path=\"question_answer\", extract=True)\n",
        "download_file(val_answer, base_path=\"question_answer\", extract=True)\n",
        "execution_time = (time.time() - start_time)/60.0\n",
        "print(\"Download execution time (mins)\",execution_time)"
      ],
      "execution_count": null,
      "outputs": [
        {
          "output_type": "stream",
          "text": [
            "Download execution time (mins) 0.24153080781300862\n"
          ],
          "name": "stdout"
        }
      ]
    },
    {
      "cell_type": "code",
      "metadata": {
        "id": "HIjBqq_OPbQ7"
      },
      "source": [
        "# Read data from json file\n",
        "with open('question_answer/v2_OpenEnded_mscoco_train2014_questions.json') as f:\n",
        "  train_question=json.load(f)\n",
        "train_data=pd.DataFrame.from_dict(train_question['questions'])\n",
        "with open('question_answer/v2_mscoco_train2014_annotations.json') as f:\n",
        "  train_answer=json.load(f)\n",
        "train_answer=pd.DataFrame(train_answer['annotations'])\n",
        "with open('question_answer/v2_OpenEnded_mscoco_val2014_questions.json') as f:\n",
        "  val_question=json.load(f)\n",
        "val_data=pd.DataFrame.from_dict(val_question['questions'])\n",
        "with open('question_answer/v2_mscoco_val2014_annotations.json') as f:\n",
        "  val_answer=json.load(f)\n",
        "val_answer=pd.DataFrame(val_answer['annotations'])"
      ],
      "execution_count": null,
      "outputs": []
    },
    {
      "cell_type": "markdown",
      "metadata": {
        "id": "_aX_-sROUMJq"
      },
      "source": [
        "### Data Pre-Processing"
      ]
    },
    {
      "cell_type": "code",
      "metadata": {
        "id": "fRZHmHfuWadY"
      },
      "source": [
        "#Merge question and answer\n",
        "train_data=pd.merge(train_data,train_answer[['multiple_choice_answer','question_id']],how='left',on='question_id')\n",
        "train_data.drop(columns=['question_id'],inplace=True)\n",
        "val_data=pd.merge(val_data,val_answer[['multiple_choice_answer','question_id']],how='left',on='question_id')\n",
        "val_data.drop(columns=['question_id'],inplace=True)"
      ],
      "execution_count": null,
      "outputs": []
    },
    {
      "cell_type": "code",
      "metadata": {
        "id": "FOWLjrfdW4ZL"
      },
      "source": [
        "#Find top 10 most common answers,can speicify number of answers\n",
        "number_of_answer=10\n",
        "counter=Counter(list(train_data.multiple_choice_answer.values)+list(val_data.multiple_choice_answer.values))\n",
        "top10_answers=[]\n",
        "for i in counter.most_common(number_of_answer):\n",
        "  top10_answers.append(i[0])"
      ],
      "execution_count": null,
      "outputs": []
    },
    {
      "cell_type": "code",
      "metadata": {
        "id": "i-m2LaukE0eR"
      },
      "source": [
        "#label2index,index2label\n",
        "label2index = dict((name, index) for index, name in enumerate(top10_answers))\n",
        "index2label = dict((index, name) for index, name in enumerate(top10_answers))"
      ],
      "execution_count": null,
      "outputs": []
    },
    {
      "cell_type": "code",
      "metadata": {
        "id": "4ab8gAMVXeZt"
      },
      "source": [
        "#Only pick questions have the most common answers\n",
        "train_data=train_data[train_data.multiple_choice_answer.isin(top10_answers)]\n",
        "val_data=val_data[val_data.multiple_choice_answer.isin(top10_answers)]"
      ],
      "execution_count": null,
      "outputs": []
    },
    {
      "cell_type": "code",
      "metadata": {
        "id": "32vBbq-aZeW9"
      },
      "source": [
        "#Build dataset\n",
        "train_image=train_data.image_id.values\n",
        "train_question=train_data.question.values\n",
        "train_y=train_data.multiple_choice_answer.values\n",
        "val_image=val_data.image_id.values\n",
        "val_question=val_data.question.values\n",
        "val_y=val_data.multiple_choice_answer.values\n",
        "train_image=['images/train2014/COCO_train2014_'+'0'*(12-len(str(i)))+str(i)+'.jpg' for i in train_image]\n",
        "val_image=[f'images/val2014/COCO_val2014_'+'0'*(12-len(str(i)))+str(i)+'.jpg' for i in val_image]\n",
        "AUTOTUNE = tf.data.experimental.AUTOTUNE\n",
        "image_width = 224\n",
        "image_height = 224\n",
        "num_channels = 3\n",
        "num_classes = len(top10_answers) \n",
        "batch_size = 32\n",
        "shuffle_buffer_size=3000 # For perfect shuffling, a buffer size greater than or equal to the full size of the dataset is required.\n",
        "train_processed_y = [label2index[label] for label in train_y]\n",
        "val_processed_y = [label2index[label] for label in val_y]\n"
      ],
      "execution_count": null,
      "outputs": []
    },
    {
      "cell_type": "code",
      "metadata": {
        "id": "Ts6B882kQQY8",
        "outputId": "3a21229c-c290-404a-9bc9-3439075b0f5a",
        "colab": {
          "base_uri": "https://localhost:8080/",
          "height": 66,
          "referenced_widgets": [
            "5ca2b658e0254155b6b33d692fd72d46",
            "ced88b6ab8eb4c2089763e52c3d59ed4",
            "3bca384ab06b40eea86726ec2ef83558",
            "84cd53a9a98c43eeb1ffc66e8787ba19",
            "c89f511bbf864d47b5ad7671c02a092d",
            "ee549cebb48246ce9d811d042c25ac21",
            "2cbc3f3b48474bf68e3911dd5a424de0",
            "d290ede34b50429992c705d628e9b475"
          ]
        }
      },
      "source": [
        "#Get Bert encoding\n",
        "tokenizer=BertTokenizer.from_pretrained('bert-base-uncased',do_lower_case=True)\n",
        "max_length=max(len(max(train_question,key=len)),len(max(val_question,key=len)))\n",
        "train_x=tokenizer.batch_encode_plus(\n",
        "        train_question,\n",
        "        return_tensors='tf',\n",
        "        add_special_tokens = True, # add [CLS], [SEP]\n",
        "        return_token_type_ids=True,\n",
        "        padding='max_length',\n",
        "        max_length=max_length, # max length of the text that can go to BERT (<=512)\n",
        "        return_attention_mask = True,\n",
        "        truncation='longest_first'\n",
        "    )\n",
        "validate_x=tokenizer.batch_encode_plus(\n",
        "        val_question,\n",
        "        return_tensors='tf',\n",
        "        add_special_tokens = True, # add [CLS], [SEP]\n",
        "        return_token_type_ids=True,\n",
        "        padding='max_length',\n",
        "        max_length=max_length, # max length of the text that can go to BERT (<=512)\n",
        "        return_attention_mask = True,\n",
        "        truncation='longest_first'\n",
        "    )\n",
        "num_vocab = tokenizer.vocab_size"
      ],
      "execution_count": null,
      "outputs": [
        {
          "output_type": "display_data",
          "data": {
            "application/vnd.jupyter.widget-view+json": {
              "model_id": "5ca2b658e0254155b6b33d692fd72d46",
              "version_minor": 0,
              "version_major": 2
            },
            "text/plain": [
              "HBox(children=(FloatProgress(value=0.0, description='Downloading', max=231508.0, style=ProgressStyle(descripti…"
            ]
          },
          "metadata": {
            "tags": []
          }
        },
        {
          "output_type": "stream",
          "text": [
            "\n"
          ],
          "name": "stdout"
        }
      ]
    },
    {
      "cell_type": "markdown",
      "metadata": {
        "id": "R-11Y_TzLFdQ"
      },
      "source": [
        "## Loading data without TFrecords"
      ]
    },
    {
      "cell_type": "code",
      "metadata": {
        "id": "Zs-o0fd3QrnC"
      },
      "source": [
        "#mapping function\n",
        "#load and normalize image\n",
        "def load_normalize_train_image(path):\n",
        "  image = tf.io.read_file(path)\n",
        "  image = tf.image.decode_jpeg(image, channels=num_channels)\n",
        "  image = tf.image.resize(image, [image_height,image_width])\n",
        "  #normlize pixel\n",
        "  image = image/255\n",
        "  return image\n",
        "#built desired input format\n",
        "def processing_input(image_path,input_ids,token_type_ids,attention_mask,label):\n",
        "  image=load_normalize_train_image(image_path)\n",
        "  return ((image,{'input_ids':input_ids,\n",
        "          'token_type_ids':token_type_ids,\n",
        "            'attention_mask':attention_mask}),label)"
      ],
      "execution_count": null,
      "outputs": []
    },
    {
      "cell_type": "code",
      "metadata": {
        "id": "PLKRbdMeP31h",
        "outputId": "a8abe152-702c-4ebf-e09e-495be45f4711",
        "colab": {
          "base_uri": "https://localhost:8080/"
        }
      },
      "source": [
        "#Specify parameters\n",
        "batch_size = 64 # You can try higher values but may run into OOM errors depending on which GPU you are using\n",
        "train_shuffle_buffer_size = 800\n",
        "validation_shuffle_buffer_size = 200\n",
        "#Build train dataset\n",
        "train_data=tf.data.Dataset.from_tensor_slices((train_image,train_x['input_ids'],train_x['token_type_ids'],train_x['attention_mask'],train_processed_y))\n",
        "train_data=train_data.map(processing_input, num_parallel_calls=AUTOTUNE)\n",
        "train_data = train_data.shuffle(buffer_size=train_shuffle_buffer_size)\n",
        "train_data = train_data.batch(batch_size)\n",
        "#Build validation dataset\n",
        "validation_data=tf.data.Dataset.from_tensor_slices((val_image,validate_x['input_ids'],validate_x['token_type_ids'],validate_x['attention_mask'],val_processed_y))\n",
        "validation_data =validation_data.map(processing_input, num_parallel_calls=AUTOTUNE)\n",
        "validation_data = validation_data.shuffle(buffer_size=train_shuffle_buffer_size)\n",
        "validation_data = validation_data.batch(batch_size)\n",
        "print(\"train_data\",train_data)\n",
        "print(\"validation_data\",validation_data)"
      ],
      "execution_count": null,
      "outputs": [
        {
          "output_type": "stream",
          "text": [
            "train_data <BatchDataset shapes: (((None, 224, 224, 3), {input_ids: (None, 100), token_type_ids: (None, 100), attention_mask: (None, 100)}), (None,)), types: ((tf.float32, {input_ids: tf.int32, token_type_ids: tf.int32, attention_mask: tf.int32}), tf.int32)>\n",
            "validation_data <BatchDataset shapes: (((None, 224, 224, 3), {input_ids: (None, 100), token_type_ids: (None, 100), attention_mask: (None, 100)}), (None,)), types: ((tf.float32, {input_ids: tf.int32, token_type_ids: tf.int32, attention_mask: tf.int32}), tf.int32)>\n"
          ],
          "name": "stdout"
        }
      ]
    },
    {
      "cell_type": "markdown",
      "metadata": {
        "id": "c3TPt_RPSHo3"
      },
      "source": [
        "## **Final Visual Question Answering Model**\n",
        "\n",
        "*pre-trained Bert + mobilenetv2*"
      ]
    },
    {
      "cell_type": "code",
      "metadata": {
        "id": "oA0ljEn8Nv9V",
        "outputId": "ebe22625-6bff-4863-ec83-9c7a2536c923",
        "colab": {
          "base_uri": "https://localhost:8080/"
        }
      },
      "source": [
        "\n",
        "K.clear_session()\n",
        "learning_rate=0.001\n",
        "## QA Model\n",
        "max_len = 100\n",
        "input_ids = layers.Input(shape=(max_len,), dtype=tf.int32, name = 'input_ids')\n",
        "token_type_ids = layers.Input(shape=(max_len,), dtype=tf.int32, name = 'token_type_ids')\n",
        "attention_mask = layers.Input(shape=(max_len,), dtype=tf.int32, name = 'attention_mask')\n",
        "image_input = layers.Input(shape=[224,224,3], name='image_input')\n",
        "\n",
        "#question model: BERT\n",
        "encoder = TFBertModel.from_pretrained(\"bert-base-uncased\")\n",
        "encoder.trainable=False\n",
        "embedding = encoder(\n",
        "    input_ids, token_type_ids=token_type_ids, attention_mask=attention_mask\n",
        ")[1]\n",
        "embedding_flatten = layers.Flatten(name=\"embedding_flatten\")(embedding)\n",
        "text_dropout=layers.Dropout(0.2)(embedding_flatten)\n",
        "bert_dense = layers.Dense(256, name=\"bert_dense\")(text_dropout)\n",
        "\n",
        "\n",
        "#image model: mobilenet\n",
        "mobilenetv2 = MobileNetV2(include_top=False, weights='imagenet')\n",
        "mobilenetv2.trainable=False\n",
        "image_flat = layers.Flatten(name = 'image_flat')(mobilenetv2(image_input))\n",
        "image_dropout=layers.Dropout(0.2)(image_flat)\n",
        "#image_flat = Flatten()(model.layers[-1].output)(image_pretrained)\n",
        "image_dense = layers.Dense(256, activation='relu')(image_dropout)\n",
        "\n",
        "#image + question\n",
        "image_question = layers.Multiply()([image_dense, bert_dense])                          \n",
        "image_question_dense_1 = layers.Dense(units=32, name = 'image_question_dense_1')(image_question)\n",
        "classifier = layers.Dense(units= 10, name = 'classifier')(image_question_dense_1)\n",
        "\n",
        "\n",
        "inputs = (image_input, {'input_ids': input_ids, 'token_type_ids': token_type_ids, 'attention_mask': attention_mask})\n",
        "\n",
        "model = keras.Model(inputs= inputs, outputs= classifier,name='Vqa_model_dropout')\n",
        "\n",
        "# Optimizer\n",
        "optimizer = optimizers.Adam(lr=learning_rate, epsilon=1e-08)\n",
        "\n",
        "# Loss\n",
        "loss = losses.SparseCategoricalCrossentropy(from_logits=True)\n",
        "\n",
        "model.compile(optimizer=optimizer, loss=loss, metrics=[metrics.SparseCategoricalAccuracy()])\n",
        "\n",
        "model.summary()"
      ],
      "execution_count": null,
      "outputs": [
        {
          "output_type": "stream",
          "text": [
            "Some layers from the model checkpoint at bert-base-uncased were not used when initializing TFBertModel: ['nsp___cls', 'mlm___cls']\n",
            "- This IS expected if you are initializing TFBertModel from the checkpoint of a model trained on another task or with another architecture (e.g. initializing a BertForSequenceClassification model from a BertForPreTraining model).\n",
            "- This IS NOT expected if you are initializing TFBertModel from the checkpoint of a model that you expect to be exactly identical (initializing a BertForSequenceClassification model from a BertForSequenceClassification model).\n",
            "All the layers of TFBertModel were initialized from the model checkpoint at bert-base-uncased.\n",
            "If your task is similar to the task the model of the checkpoint was trained on, you can already use TFBertModel for predictions without further training.\n"
          ],
          "name": "stderr"
        },
        {
          "output_type": "stream",
          "text": [
            "WARNING:tensorflow:`input_shape` is undefined or non-square, or `rows` is not in [96, 128, 160, 192, 224]. Weights for input shape (224, 224) will be loaded as the default.\n",
            "Model: \"Vqa_model_dropout\"\n",
            "__________________________________________________________________________________________________\n",
            "Layer (type)                    Output Shape         Param #     Connected to                     \n",
            "==================================================================================================\n",
            "image_input (InputLayer)        [(None, 224, 224, 3) 0                                            \n",
            "__________________________________________________________________________________________________\n",
            "input_ids (InputLayer)          [(None, 100)]        0                                            \n",
            "__________________________________________________________________________________________________\n",
            "attention_mask (InputLayer)     [(None, 100)]        0                                            \n",
            "__________________________________________________________________________________________________\n",
            "token_type_ids (InputLayer)     [(None, 100)]        0                                            \n",
            "__________________________________________________________________________________________________\n",
            "mobilenetv2_1.00_224 (Functiona (None, None, None, 1 2257984     image_input[0][0]                \n",
            "__________________________________________________________________________________________________\n",
            "tf_bert_model (TFBertModel)     ((None, 100, 768), ( 109482240   input_ids[0][0]                  \n",
            "                                                                 attention_mask[0][0]             \n",
            "                                                                 token_type_ids[0][0]             \n",
            "__________________________________________________________________________________________________\n",
            "image_flat (Flatten)            (None, 62720)        0           mobilenetv2_1.00_224[0][0]       \n",
            "__________________________________________________________________________________________________\n",
            "embedding_flatten (Flatten)     (None, 768)          0           tf_bert_model[0][1]              \n",
            "__________________________________________________________________________________________________\n",
            "dropout_38 (Dropout)            (None, 62720)        0           image_flat[0][0]                 \n",
            "__________________________________________________________________________________________________\n",
            "dropout_37 (Dropout)            (None, 768)          0           embedding_flatten[0][0]          \n",
            "__________________________________________________________________________________________________\n",
            "dense (Dense)                   (None, 256)          16056576    dropout_38[0][0]                 \n",
            "__________________________________________________________________________________________________\n",
            "bert_dense (Dense)              (None, 256)          196864      dropout_37[0][0]                 \n",
            "__________________________________________________________________________________________________\n",
            "multiply (Multiply)             (None, 256)          0           dense[0][0]                      \n",
            "                                                                 bert_dense[0][0]                 \n",
            "__________________________________________________________________________________________________\n",
            "image_question_dense_1 (Dense)  (None, 32)           8224        multiply[0][0]                   \n",
            "__________________________________________________________________________________________________\n",
            "classifier (Dense)              (None, 10)           330         image_question_dense_1[0][0]     \n",
            "==================================================================================================\n",
            "Total params: 128,002,218\n",
            "Trainable params: 16,261,994\n",
            "Non-trainable params: 111,740,224\n",
            "__________________________________________________________________________________________________\n"
          ],
          "name": "stdout"
        }
      ]
    },
    {
      "cell_type": "code",
      "metadata": {
        "id": "kxZxM33uLZ4p",
        "outputId": "ff305bd7-48f9-4311-dcf1-612382cc6ad9",
        "colab": {
          "base_uri": "https://localhost:8080/",
          "height": 725
        }
      },
      "source": [
        "plot_model(model, to_file='plot_model.png', show_shapes=False, show_layer_names=True)"
      ],
      "execution_count": null,
      "outputs": [
        {
          "output_type": "execute_result",
          "data": {
            "image/png": "[encoded data removed]",
            "text/plain": [
              "<IPython.core.display.Image object>"
            ]
          },
          "metadata": {
            "tags": []
          },
          "execution_count": 10
        }
      ]
    },
    {
      "cell_type": "code",
      "metadata": {
        "id": "nfPAnTnlSU8R",
        "outputId": "d5783c11-e06a-4e63-f235-33eb82e3fc0e",
        "colab": {
          "base_uri": "https://localhost:8080/",
          "height": 764
        }
      },
      "source": [
        "epochs=10\n",
        "start_time = time.time()\n",
        "training_results=model.fit( train_data, validation_data = validation_data.take(1000), epochs=epochs, verbose=1)\n",
        "execution_time = (time.time() - start_time)/60.0\n",
        "print(\"Training execution time (mins)\",execution_time)\n",
        "evaluate_model(model,validation_data, training_results,execution_time, \n",
        "               learning_rate, epochs, optimizer,save=False,\n",
        "               loss_metrics=[\"loss\",\"val_loss\"],\n",
        "               acc_metrics=[\"sparse_categorical_accuracy\",\"val_sparse_categorical_accuracy\"])"
      ],
      "execution_count": null,
      "outputs": [
        {
          "output_type": "stream",
          "text": [
            "Epoch 1/10\n",
            "3569/3569 [==============================] - 1565s 438ms/step - loss: 1.1985 - sparse_categorical_accuracy: 0.4225 - val_loss: 0.9166 - val_sparse_categorical_accuracy: 0.4501\n",
            "Epoch 2/10\n",
            "3569/3569 [==============================] - 1561s 437ms/step - loss: 1.0619 - sparse_categorical_accuracy: 0.4380 - val_loss: 0.9221 - val_sparse_categorical_accuracy: 0.4623\n",
            "Epoch 3/10\n",
            "3569/3569 [==============================] - 1560s 437ms/step - loss: 1.0534 - sparse_categorical_accuracy: 0.4376 - val_loss: 0.9145 - val_sparse_categorical_accuracy: 0.4576\n",
            "Epoch 4/10\n",
            "3569/3569 [==============================] - 1558s 437ms/step - loss: 1.0384 - sparse_categorical_accuracy: 0.4375 - val_loss: 0.9239 - val_sparse_categorical_accuracy: 0.4536\n",
            "Epoch 5/10\n",
            "3569/3569 [==============================] - 1552s 435ms/step - loss: 1.0326 - sparse_categorical_accuracy: 0.4388 - val_loss: 0.9041 - val_sparse_categorical_accuracy: 0.4526\n",
            "Epoch 6/10\n",
            "3569/3569 [==============================] - 1548s 434ms/step - loss: 1.0246 - sparse_categorical_accuracy: 0.4412 - val_loss: 0.9045 - val_sparse_categorical_accuracy: 0.4635\n",
            "Epoch 7/10\n",
            "3569/3569 [==============================] - 1546s 433ms/step - loss: 1.0165 - sparse_categorical_accuracy: 0.4414 - val_loss: 0.9031 - val_sparse_categorical_accuracy: 0.4514\n",
            "Epoch 8/10\n",
            "3569/3569 [==============================] - 1548s 434ms/step - loss: 1.0108 - sparse_categorical_accuracy: 0.4418 - val_loss: 0.8995 - val_sparse_categorical_accuracy: 0.4533\n",
            "Epoch 9/10\n",
            "3569/3569 [==============================] - 1544s 433ms/step - loss: 1.0111 - sparse_categorical_accuracy: 0.4435 - val_loss: 0.8936 - val_sparse_categorical_accuracy: 0.4645\n",
            "Epoch 10/10\n",
            "3569/3569 [==============================] - 1544s 433ms/step - loss: 1.0051 - sparse_categorical_accuracy: 0.4436 - val_loss: 0.8979 - val_sparse_categorical_accuracy: 0.4509\n",
            "Training execution time (mins) 259.158892873923\n"
          ],
          "name": "stdout"
        },
        {
          "output_type": "display_data",
          "data": {
            "image/png": "[encoded data removed]",
            "text/plain": [
              "<Figure size 1080x360 with 2 Axes>"
            ]
          },
          "metadata": {
            "tags": [],
            "needs_background": "light"
          }
        },
        {
          "output_type": "stream",
          "text": [
            "1721/1721 [==============================] - 561s 326ms/step - loss: 0.8969 - sparse_categorical_accuracy: 0.4532\n",
            "{'loss': 0.8969497084617615, 'sparse_categorical_accuracy': 0.45315423607826233}\n"
          ],
          "name": "stdout"
        },
        {
          "output_type": "execute_result",
          "data": {
            "text/plain": [
              "[0.8969497084617615, 0.45315423607826233]"
            ]
          },
          "metadata": {
            "tags": []
          },
          "execution_count": 85
        }
      ]
    },
    {
      "cell_type": "markdown",
      "metadata": {
        "id": "fDMeepOzKzB8"
      },
      "source": [
        "### Load VQA Model Weights and Performance Evaluation\n",
        "\n",
        "Note: the validation accuracy in the plot above is only evaluated on 1000 batches in order to speed up the training process, the performance printed below is evaluated on the full validation data, which is 47.1%."
      ]
    },
    {
      "cell_type": "code",
      "metadata": {
        "id": "FuH4UkU2bwYa",
        "outputId": "9e944a8a-c7f0-4cc1-8b02-505c0cd7230e",
        "colab": {
          "base_uri": "https://localhost:8080/",
          "height": 900,
          "referenced_widgets": [
            "0e8824fa84e74d86ad4d61cfb3393f00",
            "decf1fd06c1d4f0cadad59822310d564",
            "434bb6e5c3614ce08e4a3690cc7a86bb",
            "44d67dc9b4d44832b80d88b0603de9b9",
            "f240918dad494d99a6654e64e9fcb8b1",
            "d2586c43cd784b42b33c37b79cb3d46d",
            "119cd6a755a2497d9ef0a9aa5457012c",
            "9230c62aa49e40c6b03cf275f82a3758",
            "2736745e9d2d40379056d1c70f745d18",
            "249a8d5c677444f3880014b04d88621c",
            "7c1a7fe856114e0e950d0319213cbf86",
            "faa9f82d12f0496ca89cdad6083f771d",
            "707e91e725e44180b953ccc674b655a2",
            "eee4ebbed23c4fba8b805fe293e95723",
            "0d747492abdc49689302644ea4ee7db7",
            "eb10f070ebd544af985562fa63dc63c2"
          ]
        }
      },
      "source": [
        "weights_path= \"/content/gdrive/My Drive/models/Vqa_model_test.h5\"\n",
        "#weights_path=\"./Vqa_model_test.h5'\"\n",
        "K.clear_session()\n",
        "learning_rate=0.001\n",
        "## QA Model\n",
        "max_len = 100\n",
        "input_ids = layers.Input(shape=(max_len,), dtype=tf.int32)\n",
        "token_type_ids = layers.Input(shape=(max_len,), dtype=tf.int32)\n",
        "attention_mask = layers.Input(shape=(max_len,), dtype=tf.int32)\n",
        "image_input = layers.Input(shape=[224,224,3], name='image_input')\n",
        "\n",
        "#question model: BERT\n",
        "encoder = TFBertModel.from_pretrained(\"bert-base-uncased\")\n",
        "encoder.trainable=False\n",
        "embedding = encoder(\n",
        "    input_ids, token_type_ids=token_type_ids, attention_mask=attention_mask\n",
        ")[1]\n",
        "embedding_flatten = layers.Flatten(name=\"embedding_flatten\")(embedding)\n",
        "bert_dense = layers.Dense(256, name=\"bert_dense\")(embedding_flatten)\n",
        "\n",
        "\n",
        "#image model: mobilenet\n",
        "mobilenetv2 = MobileNetV2(include_top=False, weights='imagenet')\n",
        "mobilenetv2.trainable=False\n",
        "image_flat = layers.Flatten()(mobilenetv2(image_input))\n",
        "#image_flat = Flatten()(model.layers[-1].output)(image_pretrained)\n",
        "image_dense = layers.Dense(256, activation='relu')(image_flat)\n",
        "\n",
        "#image + question\n",
        "image_question = layers.Multiply()([bert_dense, image_dense])                          \n",
        "image_question_dense_1 = layers.Dense(units=32, name = 'image_question_dense_1')(image_question)\n",
        "classifier = layers.Dense(units= 10, name = 'classifier')(image_question_dense_1)\n",
        "\n",
        "\n",
        "inputs = (image_input, {'input_ids': input_ids, 'token_type_ids': token_type_ids, 'attention_mask': attention_mask})\n",
        "\n",
        "model = keras.Model(inputs= inputs, outputs= classifier,name='Vqa_model_test')\n",
        "model.load_weights(weights_path)\n",
        "\n",
        "# Optimizer\n",
        "optimizer = optimizers.Adam(lr=learning_rate, epsilon=1e-08)\n",
        "\n",
        "# Loss\n",
        "loss = losses.SparseCategoricalCrossentropy(from_logits=True)\n",
        "\n",
        "model.compile(optimizer=optimizer, loss=loss, metrics=[metrics.SparseCategoricalAccuracy()])\n",
        "\n",
        "model.summary()"
      ],
      "execution_count": null,
      "outputs": [
        {
          "output_type": "display_data",
          "data": {
            "application/vnd.jupyter.widget-view+json": {
              "model_id": "0e8824fa84e74d86ad4d61cfb3393f00",
              "version_minor": 0,
              "version_major": 2
            },
            "text/plain": [
              "HBox(children=(FloatProgress(value=0.0, description='Downloading', max=433.0, style=ProgressStyle(description_…"
            ]
          },
          "metadata": {
            "tags": []
          }
        },
        {
          "output_type": "stream",
          "text": [
            "\n"
          ],
          "name": "stdout"
        },
        {
          "output_type": "display_data",
          "data": {
            "application/vnd.jupyter.widget-view+json": {
              "model_id": "2736745e9d2d40379056d1c70f745d18",
              "version_minor": 0,
              "version_major": 2
            },
            "text/plain": [
              "HBox(children=(FloatProgress(value=0.0, description='Downloading', max=536063208.0, style=ProgressStyle(descri…"
            ]
          },
          "metadata": {
            "tags": []
          }
        },
        {
          "output_type": "stream",
          "text": [
            "\n"
          ],
          "name": "stdout"
        },
        {
          "output_type": "stream",
          "text": [
            "Some layers from the model checkpoint at bert-base-uncased were not used when initializing TFBertModel: ['nsp___cls', 'mlm___cls']\n",
            "- This IS expected if you are initializing TFBertModel from the checkpoint of a model trained on another task or with another architecture (e.g. initializing a BertForSequenceClassification model from a BertForPreTraining model).\n",
            "- This IS NOT expected if you are initializing TFBertModel from the checkpoint of a model that you expect to be exactly identical (initializing a BertForSequenceClassification model from a BertForSequenceClassification model).\n",
            "All the layers of TFBertModel were initialized from the model checkpoint at bert-base-uncased.\n",
            "If your task is similar to the task the model of the checkpoint was trained on, you can already use TFBertModel for predictions without further training.\n"
          ],
          "name": "stderr"
        },
        {
          "output_type": "stream",
          "text": [
            "WARNING:tensorflow:`input_shape` is undefined or non-square, or `rows` is not in [96, 128, 160, 192, 224]. Weights for input shape (224, 224) will be loaded as the default.\n",
            "Downloading data from https://storage.googleapis.com/tensorflow/keras-applications/mobilenet_v2/mobilenet_v2_weights_tf_dim_ordering_tf_kernels_1.0_224_no_top.h5\n",
            "9412608/9406464 [==============================] - 0s 0us/step\n",
            "Model: \"Vqa_model_test\"\n",
            "__________________________________________________________________________________________________\n",
            "Layer (type)                    Output Shape         Param #     Connected to                     \n",
            "==================================================================================================\n",
            "input_1 (InputLayer)            [(None, 100)]        0                                            \n",
            "__________________________________________________________________________________________________\n",
            "input_3 (InputLayer)            [(None, 100)]        0                                            \n",
            "__________________________________________________________________________________________________\n",
            "input_2 (InputLayer)            [(None, 100)]        0                                            \n",
            "__________________________________________________________________________________________________\n",
            "image_input (InputLayer)        [(None, 224, 224, 3) 0                                            \n",
            "__________________________________________________________________________________________________\n",
            "tf_bert_model (TFBertModel)     ((None, 100, 768), ( 109482240   input_1[0][0]                    \n",
            "                                                                 input_3[0][0]                    \n",
            "                                                                 input_2[0][0]                    \n",
            "__________________________________________________________________________________________________\n",
            "mobilenetv2_1.00_224 (Functiona (None, None, None, 1 2257984     image_input[0][0]                \n",
            "__________________________________________________________________________________________________\n",
            "embedding_flatten (Flatten)     (None, 768)          0           tf_bert_model[0][1]              \n",
            "__________________________________________________________________________________________________\n",
            "flatten (Flatten)               (None, 62720)        0           mobilenetv2_1.00_224[0][0]       \n",
            "__________________________________________________________________________________________________\n",
            "bert_dense (Dense)              (None, 256)          196864      embedding_flatten[0][0]          \n",
            "__________________________________________________________________________________________________\n",
            "dense (Dense)                   (None, 256)          16056576    flatten[0][0]                    \n",
            "__________________________________________________________________________________________________\n",
            "multiply (Multiply)             (None, 256)          0           bert_dense[0][0]                 \n",
            "                                                                 dense[0][0]                      \n",
            "__________________________________________________________________________________________________\n",
            "image_question_dense_1 (Dense)  (None, 32)           8224        multiply[0][0]                   \n",
            "__________________________________________________________________________________________________\n",
            "classifier (Dense)              (None, 10)           330         image_question_dense_1[0][0]     \n",
            "==================================================================================================\n",
            "Total params: 128,002,218\n",
            "Trainable params: 16,261,994\n",
            "Non-trainable params: 111,740,224\n",
            "__________________________________________________________________________________________________\n"
          ],
          "name": "stdout"
        }
      ]
    },
    {
      "cell_type": "code",
      "metadata": {
        "id": "kGI7pUz7K4D3",
        "outputId": "262d4abd-dbca-4242-c695-6576a4046e88",
        "colab": {
          "base_uri": "https://localhost:8080/"
        }
      },
      "source": [
        "model.evaluate(validation_data, return_dict=True)"
      ],
      "execution_count": null,
      "outputs": [
        {
          "output_type": "stream",
          "text": [
            "1721/1721 [==============================] - 562s 326ms/step - loss: 0.9013 - sparse_categorical_accuracy: 0.4712\n"
          ],
          "name": "stdout"
        },
        {
          "output_type": "execute_result",
          "data": {
            "text/plain": [
              "{'loss': 0.9013293385505676,\n",
              " 'sparse_categorical_accuracy': 0.47118231654167175}"
            ]
          },
          "metadata": {
            "tags": []
          },
          "execution_count": 82
        }
      ]
    },
    {
      "cell_type": "code",
      "metadata": {
        "id": "AlhaR0iDGx3X"
      },
      "source": [
        "teacher_model = model"
      ],
      "execution_count": null,
      "outputs": []
    },
    {
      "cell_type": "markdown",
      "metadata": {
        "id": "vFI24zr5djeV"
      },
      "source": [
        "## **Model Distillation**"
      ]
    },
    {
      "cell_type": "code",
      "metadata": {
        "id": "tlcSu7E2dpK_"
      },
      "source": [
        "# Student Model\n",
        "def build_student_model(image_height, image_width, num_channels, num_classes, model_name='student'):\n",
        "  # Model input\n",
        "  input_shape = [image_height, image_width, num_channels]  # height, width, channels\n",
        "  model_name =  model_name +\"_\"+ str(int(time.time()))\n",
        "\n",
        "  input_ids = layers.Input(shape=(max_len,), dtype=tf.int32)\n",
        "  token_type_ids = layers.Input(shape=(max_len,), dtype=tf.int32)\n",
        "  attention_mask = layers.Input(shape=(max_len,), dtype=tf.int32)\n",
        "  image_input = layers.Input(shape=[224,224,3], name='image_input')\n",
        "  \n",
        "  # Text model: LSTM\n",
        "  embedded_question = layers.Embedding(input_dim=num_vocab + 1, output_dim=256, input_length=100)(input_ids)\n",
        "  encoded_question = layers.LSTM(256)(embedded_question)\n",
        "  \n",
        "  #Image model: Simple CNN\n",
        "  conv1 = layers.Conv2D(filters=16, kernel_size=(3, 3), strides=(2, 2), padding=\"same\")(image_input)\n",
        "  conv1 = layers.LeakyReLU(alpha=0.2)(conv1)\n",
        "  maxpool1 = layers.MaxPooling2D(pool_size=(2, 2), strides=(2, 2), padding=\"same\")(conv1)\n",
        "  conv2 = layers.Conv2D(filters=32, kernel_size=(3, 3), strides=(2, 2), padding=\"same\")(conv1)\n",
        "  maxpool2 = layers.MaxPooling2D(pool_size=(2, 2), strides=(2, 2), padding=\"same\")(conv2)\n",
        "  image_flattened = layers.Flatten()(maxpool2)\n",
        "  image_dense = layers.Dense(256, name=\"image_dense\", activation='relu')(image_flattened)\n",
        "\n",
        "  image_question = layers.Multiply()([encoded_question, image_dense])                          \n",
        "  image_question_dense_1 = layers.Dense(units=32, name = 'image_question_dense_1')(image_question)\n",
        "  classifier = layers.Dense(units= 10, name = 'classifier')(image_question_dense_1)\n",
        "\n",
        "\n",
        "  inputs = (image_input, {'input_ids': input_ids, 'token_type_ids': token_type_ids, 'attention_mask': attention_mask})\n",
        "\n",
        "  model = keras.Model(inputs= inputs, outputs= classifier,name=model_name)    \n",
        "  return model"
      ],
      "execution_count": null,
      "outputs": []
    },
    {
      "cell_type": "code",
      "metadata": {
        "id": "F18pJsQRB-A1"
      },
      "source": [
        "# Distillation\n",
        "class Distiller(Model):\n",
        "    def __init__(self, teacher, student):\n",
        "        super(Distiller, self).__init__()\n",
        "        self.teacher = teacher\n",
        "        self.student = student\n",
        "\n",
        "    def compile(self,optimizer,metrics,student_loss_fn,distillation_loss_fn,alpha=0.1,temperature=3):\n",
        "      \"\"\"\n",
        "      optimizer: Keras optimizer for the student weights\n",
        "      metrics: Keras metrics for evaluation\n",
        "      student_loss_fn: Loss function of difference between student predictions and ground-truth\n",
        "      distillation_loss_fn: Loss function of difference between soft student predictions and soft teacher predictions\n",
        "      alpha: weight to student_loss_fn and 1-alpha to distillation_loss_fn\n",
        "      temperature: Temperature for softening probability distributions. Larger temperature gives softer distributions.\n",
        "      \"\"\"\n",
        "      super(Distiller, self).compile(optimizer=optimizer, metrics=metrics)\n",
        "      self.student_loss_fn = student_loss_fn\n",
        "      self.distillation_loss_fn = distillation_loss_fn\n",
        "      self.alpha = alpha\n",
        "      self.temperature = temperature\n",
        "\n",
        "    def train_step(self, data):\n",
        "        # Unpack data\n",
        "        x, y = data\n",
        "\n",
        "        # Forward pass of teacher\n",
        "        teacher_predictions = self.teacher(x, training=False)\n",
        "\n",
        "        with tf.GradientTape() as tape:\n",
        "            # Forward pass of student\n",
        "            student_predictions = self.student(x, training=True)\n",
        "\n",
        "            # Compute losses\n",
        "            student_loss = self.student_loss_fn(y, student_predictions)\n",
        "            distillation_loss = self.distillation_loss_fn(\n",
        "                tf.nn.softmax(teacher_predictions / self.temperature, axis=1),\n",
        "                tf.nn.softmax(student_predictions / self.temperature, axis=1),\n",
        "            )\n",
        "            loss = self.alpha * student_loss + (1 - self.alpha) * distillation_loss\n",
        "\n",
        "        # Compute gradients\n",
        "        trainable_vars = self.student.trainable_variables\n",
        "        gradients = tape.gradient(loss, trainable_vars)\n",
        "\n",
        "        # Update weights\n",
        "        self.optimizer.apply_gradients(zip(gradients, trainable_vars))\n",
        "\n",
        "        # Update the metrics configured in `compile()`.\n",
        "        self.compiled_metrics.update_state(y, student_predictions)\n",
        "\n",
        "        # Return a dict of performance\n",
        "        results = {m.name: m.result() for m in self.metrics}\n",
        "        results.update(\n",
        "            {\"student_loss\": student_loss, \"distillation_loss\": distillation_loss}\n",
        "        )\n",
        "        return results\n",
        "\n",
        "    def test_step(self, data):\n",
        "        # Unpack the data\n",
        "        x, y = data\n",
        "\n",
        "        # Compute predictions\n",
        "        y_prediction = self.student(x, training=False)\n",
        "\n",
        "        # Calculate the loss\n",
        "        student_loss = self.student_loss_fn(y, y_prediction)\n",
        "\n",
        "        # Update the metrics.\n",
        "        self.compiled_metrics.update_state(y, y_prediction)\n",
        "\n",
        "        # Return a dict of performance\n",
        "        results = {m.name: m.result() for m in self.metrics}\n",
        "        results.update({\"student_loss\": student_loss})\n",
        "        return results"
      ],
      "execution_count": null,
      "outputs": []
    },
    {
      "cell_type": "code",
      "metadata": {
        "id": "GKx6BcVXFrLT"
      },
      "source": [
        "############################\n",
        "# Training Params\n",
        "############################\n",
        "learning_rate = 0.01\n",
        "epochs = 10\n",
        "alphas=[0.1,0.2,0.3,0.5,1.0]\n",
        "temperatures=[1,5,10,15,30]\n",
        "alpha = 0.9\n",
        "temperature = 15\n",
        "# Free up memory\n",
        "K.clear_session()\n",
        "\n",
        "# Optimizer\n",
        "optimizer = optimizers.Adam(lr=learning_rate)\n",
        "# Loss\n",
        "student_loss = tf.keras.losses.SparseCategoricalCrossentropy(from_logits=True)\n",
        "distillation_loss = tf.keras.losses.KLDivergence()"
      ],
      "execution_count": null,
      "outputs": []
    },
    {
      "cell_type": "code",
      "metadata": {
        "id": "umEmT03xlY4A"
      },
      "source": [
        "# Hyperparameter tuning\n",
        "for a in alphas:\n",
        "  student_model = build_student_model(image_height, image_width, num_channels, num_classes, model_name='student_distill')\n",
        "  #print(student_model.summary())\n",
        "  # Build the distiller model\n",
        "  distiller_model = Distiller(teacher=teacher_model, student=student_model)\n",
        "  # Compile\n",
        "  distiller_model.compile(\n",
        "      optimizer=optimizer,\n",
        "      student_loss_fn=student_loss,\n",
        "      distillation_loss_fn=distillation_loss,\n",
        "      metrics=[metrics.SparseCategoricalAccuracy()],\n",
        "      alpha=a,\n",
        "      temperature=temperature\n",
        "  )\n",
        "\n",
        "  # Distill teacher to student\n",
        "  start_time = time.time()\n",
        "  training_results = distiller_model.fit(\n",
        "          train_data.take(1000),\n",
        "          validation_data=validation_data.take(500),\n",
        "          epochs=3, \n",
        "          verbose=1)\n",
        "  execution_time = (time.time() - start_time)/60.0\n",
        "  print(\"Training execution time (mins)\",execution_time)\n",
        "\n",
        "for t in alphas:\n",
        "  student_model = build_student_model(image_height, image_width, num_channels, num_classes, model_name='student_distill')\n",
        "  #print(student_model.summary())\n",
        "  # Build the distiller model\n",
        "  distiller_model = Distiller(teacher=teacher_model, student=student_model)\n",
        "  # Compile\n",
        "  distiller_model.compile(\n",
        "      optimizer=optimizer,\n",
        "      student_loss_fn=student_loss,\n",
        "      distillation_loss_fn=distillation_loss,\n",
        "      metrics=[metrics.SparseCategoricalAccuracy()],\n",
        "      alpha=alpha,\n",
        "      temperature=t\n",
        "  )\n",
        "\n",
        "  # Distill teacher to student\n",
        "  start_time = time.time()\n",
        "  training_results = distiller_model.fit(\n",
        "          train_data.take(1000),\n",
        "          validation_data=validation_data.take(500),\n",
        "          epochs=3, \n",
        "          verbose=1)\n",
        "  execution_time = (time.time() - start_time)/60.0\n",
        "  print(\"Training execution time (mins)\",execution_time)\n"
      ],
      "execution_count": null,
      "outputs": []
    },
    {
      "cell_type": "code",
      "metadata": {
        "id": "E9CU-pKwlrIU"
      },
      "source": [
        "# Choose alpha = 0.9 and temperature = 15\n",
        "student_model = build_student_model(image_height, image_width, num_channels, num_classes, model_name='student_distill')\n",
        "\n",
        "# Build the distiller model\n",
        "distiller_model = Distiller(teacher=teacher_model, student=student_model)\n",
        "# Compile\n",
        "distiller_model.compile(\n",
        "    optimizer=optimizer,\n",
        "    student_loss_fn=student_loss,\n",
        "    distillation_loss_fn=distillation_loss,\n",
        "    metrics=[metrics.SparseCategoricalAccuracy()],\n",
        "    alpha=alpha,\n",
        "    temperature=temperature\n",
        ")\n"
      ],
      "execution_count": null,
      "outputs": []
    },
    {
      "cell_type": "code",
      "metadata": {
        "id": "O8UWonW1l2Tu",
        "outputId": "721e3221-2005-4994-a6f1-2caeeb929212",
        "colab": {
          "base_uri": "https://localhost:8080/",
          "height": 953
        }
      },
      "source": [
        "plot_model(student_model, to_file='plot_model.png', show_shapes=False, show_layer_names=True)"
      ],
      "execution_count": null,
      "outputs": [
        {
          "output_type": "execute_result",
          "data": {
            "image/png": "[encoded data removed]",
            "text/plain": [
              "<IPython.core.display.Image object>"
            ]
          },
          "metadata": {
            "tags": []
          },
          "execution_count": 29
        }
      ]
    },
    {
      "cell_type": "code",
      "metadata": {
        "id": "qWu38nFWFyJh",
        "outputId": "00c9966d-3430-4f59-bc3b-88d7395e4bd9",
        "colab": {
          "base_uri": "https://localhost:8080/"
        }
      },
      "source": [
        "# Distill teacher to student\n",
        "print(student_model.summary())\n",
        "start_time = time.time()\n",
        "training_results = distiller_model.fit(\n",
        "        train_data,\n",
        "        validation_data=validation_data.take(1000),\n",
        "        epochs=epochs, \n",
        "        verbose=1)\n",
        "execution_time = (time.time() - start_time)/60.0\n",
        "print(\"Training execution time (mins)\",execution_time)"
      ],
      "execution_count": null,
      "outputs": [
        {
          "output_type": "stream",
          "text": [
            "Model: \"student_distill_1605480942\"\n",
            "__________________________________________________________________________________________________\n",
            "Layer (type)                    Output Shape         Param #     Connected to                     \n",
            "==================================================================================================\n",
            "image_input (InputLayer)        [(None, 224, 224, 3) 0                                            \n",
            "__________________________________________________________________________________________________\n",
            "conv2d_6 (Conv2D)               (None, 112, 112, 16) 448         image_input[0][0]                \n",
            "__________________________________________________________________________________________________\n",
            "leaky_re_lu_3 (LeakyReLU)       (None, 112, 112, 16) 0           conv2d_6[0][0]                   \n",
            "__________________________________________________________________________________________________\n",
            "conv2d_7 (Conv2D)               (None, 56, 56, 32)   4640        leaky_re_lu_3[0][0]              \n",
            "__________________________________________________________________________________________________\n",
            "input_10 (InputLayer)           [(None, 100)]        0                                            \n",
            "__________________________________________________________________________________________________\n",
            "max_pooling2d_7 (MaxPooling2D)  (None, 28, 28, 32)   0           conv2d_7[0][0]                   \n",
            "__________________________________________________________________________________________________\n",
            "embedding_3 (Embedding)         (None, 100, 256)     7813888     input_10[0][0]                   \n",
            "__________________________________________________________________________________________________\n",
            "flatten_3 (Flatten)             (None, 25088)        0           max_pooling2d_7[0][0]            \n",
            "__________________________________________________________________________________________________\n",
            "lstm_3 (LSTM)                   (None, 256)          525312      embedding_3[0][0]                \n",
            "__________________________________________________________________________________________________\n",
            "image_dense (Dense)             (None, 256)          6422784     flatten_3[0][0]                  \n",
            "__________________________________________________________________________________________________\n",
            "multiply_3 (Multiply)           (None, 256)          0           lstm_3[0][0]                     \n",
            "                                                                 image_dense[0][0]                \n",
            "__________________________________________________________________________________________________\n",
            "image_question_dense_1 (Dense)  (None, 32)           8224        multiply_3[0][0]                 \n",
            "__________________________________________________________________________________________________\n",
            "input_12 (InputLayer)           [(None, 100)]        0                                            \n",
            "__________________________________________________________________________________________________\n",
            "input_11 (InputLayer)           [(None, 100)]        0                                            \n",
            "__________________________________________________________________________________________________\n",
            "classifier (Dense)              (None, 10)           330         image_question_dense_1[0][0]     \n",
            "==================================================================================================\n",
            "Total params: 14,775,626\n",
            "Trainable params: 14,775,626\n",
            "Non-trainable params: 0\n",
            "__________________________________________________________________________________________________\n",
            "None\n",
            "Epoch 1/10\n",
            "3569/3569 [==============================] - 1507s 422ms/step - sparse_categorical_accuracy: 0.3669 - student_loss: 6.1065 - distillation_loss: 0.2241 - val_sparse_categorical_accuracy: 0.3714 - val_student_loss: 1.5761\n",
            "Epoch 2/10\n",
            "3569/3569 [==============================] - 1505s 422ms/step - sparse_categorical_accuracy: 0.3686 - student_loss: 16.9700 - distillation_loss: 0.1889 - val_sparse_categorical_accuracy: 0.3716 - val_student_loss: 1.6780\n",
            "Epoch 3/10\n",
            "3569/3569 [==============================] - 1503s 421ms/step - sparse_categorical_accuracy: 0.3679 - student_loss: 1.6261 - distillation_loss: 0.1720 - val_sparse_categorical_accuracy: 0.3609 - val_student_loss: 1.5769\n",
            "Epoch 4/10\n",
            "3569/3569 [==============================] - 1504s 421ms/step - sparse_categorical_accuracy: 0.3695 - student_loss: 1.6263 - distillation_loss: 0.1720 - val_sparse_categorical_accuracy: 0.3610 - val_student_loss: 1.4832\n",
            "Epoch 5/10\n",
            "3569/3569 [==============================] - 1504s 421ms/step - sparse_categorical_accuracy: 0.3687 - student_loss: 1.6263 - distillation_loss: 0.1720 - val_sparse_categorical_accuracy: 0.3715 - val_student_loss: 1.6511\n",
            "Epoch 6/10\n",
            "3569/3569 [==============================] - 1505s 422ms/step - sparse_categorical_accuracy: 0.3691 - student_loss: 1.6249 - distillation_loss: 0.1721 - val_sparse_categorical_accuracy: 0.3713 - val_student_loss: 1.6489\n",
            "Epoch 7/10\n",
            "3569/3569 [==============================] - 1508s 422ms/step - sparse_categorical_accuracy: 0.3682 - student_loss: 1.6243 - distillation_loss: 0.1720 - val_sparse_categorical_accuracy: 0.3715 - val_student_loss: 1.8738\n",
            "Epoch 8/10\n",
            "3569/3569 [==============================] - 1512s 424ms/step - sparse_categorical_accuracy: 0.3700 - student_loss: 1.6242 - distillation_loss: 0.1720 - val_sparse_categorical_accuracy: 0.3714 - val_student_loss: 1.6220\n",
            "Epoch 9/10\n",
            "3569/3569 [==============================] - 1519s 426ms/step - sparse_categorical_accuracy: 0.3683 - student_loss: 1.6244 - distillation_loss: 0.1720 - val_sparse_categorical_accuracy: 0.3717 - val_student_loss: 1.4972\n",
            "Epoch 10/10\n",
            "3569/3569 [==============================] - 1518s 425ms/step - sparse_categorical_accuracy: 0.3690 - student_loss: 1.6244 - distillation_loss: 0.1720 - val_sparse_categorical_accuracy: 0.3715 - val_student_loss: 1.6630\n",
            "Training execution time (mins) 251.72615708112716\n"
          ],
          "name": "stdout"
        }
      ]
    },
    {
      "cell_type": "code",
      "metadata": {
        "id": "SVxoQ1rpxkcV",
        "outputId": "b40bdfb5-e135-4c0a-dce6-c56f02db105f",
        "colab": {
          "base_uri": "https://localhost:8080/",
          "height": 370
        }
      },
      "source": [
        "evaluation_results = evaluate_model(distiller_model,validation_data, \n",
        "               training_results,execution_time, \n",
        "               learning_rate, epochs, optimizer,\n",
        "               save=False,\n",
        "               loss_metrics=[\"student_loss\",\"distillation_loss\",\"val_student_loss\"],\n",
        "               acc_metrics=[\"sparse_categorical_accuracy\",\"val_sparse_categorical_accuracy\"])"
      ],
      "execution_count": null,
      "outputs": [
        {
          "output_type": "display_data",
          "data": {
            "image/png": "[encoded data removed]",
            "text/plain": [
              "<Figure size 1080x360 with 2 Axes>"
            ]
          },
          "metadata": {
            "tags": [],
            "needs_background": "light"
          }
        },
        {
          "output_type": "stream",
          "text": [
            "1721/1721 [==============================] - 116s 67ms/step - sparse_categorical_accuracy: 0.3699 - student_loss: 1.6241\n",
            "{'sparse_categorical_accuracy': 0.36989811062812805, 'student_loss': 1.6650769710540771}\n"
          ],
          "name": "stdout"
        }
      ]
    },
    {
      "cell_type": "code",
      "metadata": {
        "id": "zzaaSyTlHmBg"
      },
      "source": [
        "save_model(student_model,training_results,execution_time,learning_rate, epochs, optimizer, evaluation_results)"
      ],
      "execution_count": null,
      "outputs": []
    },
    {
      "cell_type": "code",
      "metadata": {
        "id": "L0_LkOadonWO"
      },
      "source": [
        "def get_model_size(path=\"/content/gdrive/My Drive/models/\",model_name=\"model01\"):\n",
        "  #print(os.stat(os.path.join(path,model_name+\".h5\")))\n",
        "  model_size = os.stat(os.path.join(path,model_name+\".h5\")).st_size\n",
        "  return model_size"
      ],
      "execution_count": null,
      "outputs": []
    },
    {
      "cell_type": "code",
      "metadata": {
        "id": "u1ghBwGeorAN"
      },
      "source": [
        "teacher_size = get_model_size(model_name = 'Vqa_model_test')\n",
        "distilled_size = get_model_size(model_name = 'distiller_2')"
      ],
      "execution_count": null,
      "outputs": []
    },
    {
      "cell_type": "code",
      "metadata": {
        "id": "PTfIVEf-puwl",
        "outputId": "a118c165-e004-4b67-8152-53ef98f3eb71",
        "colab": {
          "base_uri": "https://localhost:8080/"
        }
      },
      "source": [
        "print(f'The teacher model size is {teacher_size}')\n",
        "print(f'The distilled model size is {distilled_size}')"
      ],
      "execution_count": null,
      "outputs": [
        {
          "output_type": "stream",
          "text": [
            "The teacher model size is 512490624\n",
            "The distilled model size is 571604312\n"
          ],
          "name": "stdout"
        }
      ]
    },
    {
      "cell_type": "markdown",
      "metadata": {
        "id": "wigCWixZqRjD"
      },
      "source": [
        "The number of total parameters is 14,775,626 for distilled model and 128,002,218 for the teacher model."
      ]
    },
    {
      "cell_type": "markdown",
      "metadata": {
        "id": "yjWl8yG5O2_T"
      },
      "source": [
        "## **Pruning**"
      ]
    },
    {
      "cell_type": "markdown",
      "metadata": {
        "id": "S9LeSl0JuQbW"
      },
      "source": [
        "First, we only prune the Conv2D layers in the mobilenet part."
      ]
    },
    {
      "cell_type": "code",
      "metadata": {
        "id": "swT36gYsDyCT",
        "outputId": "d4e3b7f6-49f5-4aff-e161-51434a646f03",
        "colab": {
          "base_uri": "https://localhost:8080/"
        }
      },
      "source": [
        "epochs=2\n",
        "learning_rate=0.001\n",
        "## QA Model\n",
        "max_len = 100\n",
        "input_ids = layers.Input(shape=(max_len,), dtype=tf.int32)\n",
        "token_type_ids = layers.Input(shape=(max_len,), dtype=tf.int32)\n",
        "attention_mask = layers.Input(shape=(max_len,), dtype=tf.int32)\n",
        "image_input = layers.Input(shape=[224,224,3], name='image_input')\n",
        "\n",
        "#question model: BERT\n",
        "encoder = TFBertModel.from_pretrained(\"bert-base-uncased\")\n",
        "encoder.trainable=False\n",
        "embedding = encoder(\n",
        "    input_ids, token_type_ids=token_type_ids, attention_mask=attention_mask\n",
        ")[1]\n",
        "embedding_flatten = layers.Flatten(name=\"embedding_flatten\")(embedding)\n",
        "text_dropout=layers.Dropout(0.2)(embedding_flatten)\n",
        "bert_dense = layers.Dense(256, name=\"bert_dense\")(text_dropout)\n",
        "\n",
        "end_step = np.ceil(len(train_x) / batch_size).astype(np.int32) * epochs\n",
        "pruning_params = {\n",
        "      'pruning_schedule': tfmot.sparsity.keras.PolynomialDecay(initial_sparsity=0.50,\n",
        "                                                               final_sparsity=0.80,\n",
        "                                                               begin_step=0,\n",
        "                                                               end_step=end_step)\n",
        "}\n",
        "\n",
        "def apply_pruning_to_conv2d(layer):\n",
        "  if isinstance(layer, tf.keras.layers.Conv2D):\n",
        "    return tfmot.sparsity.keras.prune_low_magnitude(layer,**pruning_params)\n",
        "  return layer\n",
        "\n",
        "#image model: mobilenet\n",
        "mobilenetv2_2 = MobileNetV2(include_top=False, weights='imagenet')\n",
        "mobilenetv2.trainable=False\n",
        "mobile_for_pruning = tf.keras.models.clone_model(\n",
        "    mobilenetv2_2,\n",
        "    clone_function=apply_pruning_to_conv2d,\n",
        ")\n",
        "\n",
        "image_flat = layers.Flatten()(mobile_for_pruning(image_input))\n",
        "image_dropout=layers.Dropout(0.2)(image_flat)\n",
        "#image_flat = Flatten()(model.layers[-1].output)(image_pretrained)\n",
        "image_dense = layers.Dense(256, activation='relu')(image_dropout)\n",
        "\n",
        "#image + question\n",
        "image_question = layers.Multiply()([bert_dense, image_dense])                          \n",
        "image_question_dense_1 = layers.Dense(units=32, name = 'image_question_dense_1')(image_question)\n",
        "classifier = layers.Dense(units= 10, name = 'classifier')(image_question_dense_1)\n",
        "\n",
        "\n",
        "inputs = (image_input, {'input_ids': input_ids, 'token_type_ids': token_type_ids, 'attention_mask': attention_mask})\n",
        "\n",
        "model_prune = keras.Model(inputs= inputs, outputs= classifier,name='Vqa_model_test_prune')\n",
        "\n",
        "# Optimizer\n",
        "optimizer = optimizers.Adam(lr=learning_rate, epsilon=1e-08)\n",
        "\n",
        "# Loss\n",
        "loss = losses.SparseCategoricalCrossentropy(from_logits=True)\n",
        "\n",
        "model_prune.compile(optimizer=optimizer, loss=loss, metrics=[metrics.SparseCategoricalAccuracy()])\n",
        "\n",
        "model_prune.summary()"
      ],
      "execution_count": null,
      "outputs": [
        {
          "output_type": "stream",
          "text": [
            "Some layers from the model checkpoint at bert-base-uncased were not used when initializing TFBertModel: ['nsp___cls', 'mlm___cls']\n",
            "- This IS expected if you are initializing TFBertModel from the checkpoint of a model trained on another task or with another architecture (e.g. initializing a BertForSequenceClassification model from a BertForPreTraining model).\n",
            "- This IS NOT expected if you are initializing TFBertModel from the checkpoint of a model that you expect to be exactly identical (initializing a BertForSequenceClassification model from a BertForSequenceClassification model).\n",
            "All the layers of TFBertModel were initialized from the model checkpoint at bert-base-uncased.\n",
            "If your task is similar to the task the model of the checkpoint was trained on, you can already use TFBertModel for predictions without further training.\n"
          ],
          "name": "stderr"
        },
        {
          "output_type": "stream",
          "text": [
            "WARNING:tensorflow:`input_shape` is undefined or non-square, or `rows` is not in [96, 128, 160, 192, 224]. Weights for input shape (224, 224) will be loaded as the default.\n",
            "WARNING:tensorflow:From /usr/local/lib/python3.6/dist-packages/tensorflow_model_optimization/python/core/sparsity/keras/pruning_wrapper.py:200: Layer.add_variable (from tensorflow.python.keras.engine.base_layer) is deprecated and will be removed in a future version.\n",
            "Instructions for updating:\n",
            "Please use `layer.add_weight` method instead.\n",
            "Model: \"Vqa_model_test_prune\"\n",
            "__________________________________________________________________________________________________\n",
            "Layer (type)                    Output Shape         Param #     Connected to                     \n",
            "==================================================================================================\n",
            "input_8 (InputLayer)            [(None, 100)]        0                                            \n",
            "__________________________________________________________________________________________________\n",
            "input_10 (InputLayer)           [(None, 100)]        0                                            \n",
            "__________________________________________________________________________________________________\n",
            "input_9 (InputLayer)            [(None, 100)]        0                                            \n",
            "__________________________________________________________________________________________________\n",
            "image_input (InputLayer)        [(None, 224, 224, 3) 0                                            \n",
            "__________________________________________________________________________________________________\n",
            "tf_bert_model_2 (TFBertModel)   ((None, 100, 768), ( 109482240   input_8[0][0]                    \n",
            "                                                                 input_10[0][0]                   \n",
            "                                                                 input_9[0][0]                    \n",
            "__________________________________________________________________________________________________\n",
            "mobilenetv2_1.00_224 (Functiona (None, None, None, 1 4383607     image_input[0][0]                \n",
            "__________________________________________________________________________________________________\n",
            "embedding_flatten (Flatten)     (None, 768)          0           tf_bert_model_2[0][1]            \n",
            "__________________________________________________________________________________________________\n",
            "flatten_1 (Flatten)             (None, 62720)        0           mobilenetv2_1.00_224[0][0]       \n",
            "__________________________________________________________________________________________________\n",
            "dropout_112 (Dropout)           (None, 768)          0           embedding_flatten[0][0]          \n",
            "__________________________________________________________________________________________________\n",
            "dropout_113 (Dropout)           (None, 62720)        0           flatten_1[0][0]                  \n",
            "__________________________________________________________________________________________________\n",
            "bert_dense (Dense)              (None, 256)          196864      dropout_112[0][0]                \n",
            "__________________________________________________________________________________________________\n",
            "dense_1 (Dense)                 (None, 256)          16056576    dropout_113[0][0]                \n",
            "__________________________________________________________________________________________________\n",
            "multiply_1 (Multiply)           (None, 256)          0           bert_dense[0][0]                 \n",
            "                                                                 dense_1[0][0]                    \n",
            "__________________________________________________________________________________________________\n",
            "image_question_dense_1 (Dense)  (None, 32)           8224        multiply_1[0][0]                 \n",
            "__________________________________________________________________________________________________\n",
            "classifier (Dense)              (None, 10)           330         image_question_dense_1[0][0]     \n",
            "==================================================================================================\n",
            "Total params: 130,127,841\n",
            "Trainable params: 18,485,866\n",
            "Non-trainable params: 111,641,975\n",
            "__________________________________________________________________________________________________\n"
          ],
          "name": "stdout"
        }
      ]
    },
    {
      "cell_type": "code",
      "metadata": {
        "id": "7y73bHEPO6SY",
        "outputId": "e3b069c7-8b9b-4663-c1ae-4ddf3ccebb4b",
        "colab": {
          "base_uri": "https://localhost:8080/"
        }
      },
      "source": [
        "\n",
        "# Callback\n",
        "callbacks = [\n",
        "  tfmot.sparsity.keras.UpdatePruningStep()\n",
        "]\n",
        "\n",
        "# Train\n",
        "start_time = time.time()\n",
        "training_results_prune = model_prune.fit(\n",
        "        train_data,\n",
        "        validation_data=validation_data.take(1000),\n",
        "        epochs=epochs,\n",
        "        callbacks=callbacks,\n",
        "        verbose=1)\n",
        "execution_time = (time.time() - start_time)/60.0\n",
        "print(\"Training execution time (mins)\",execution_time)"
      ],
      "execution_count": null,
      "outputs": [
        {
          "output_type": "stream",
          "text": [
            "Epoch 1/2\n",
            "3569/3569 [==============================] - 2506s 702ms/step - loss: 1.1462 - sparse_categorical_accuracy: 0.4295 - val_loss: 1.1142 - val_sparse_categorical_accuracy: 0.4330\n",
            "Epoch 2/2\n",
            "3569/3569 [==============================] - 2496s 699ms/step - loss: 1.0370 - sparse_categorical_accuracy: 0.4393 - val_loss: 0.9101 - val_sparse_categorical_accuracy: 0.4615\n",
            "Training execution time (mins) 83.93336793979009\n"
          ],
          "name": "stdout"
        }
      ]
    },
    {
      "cell_type": "code",
      "metadata": {
        "id": "3rohmEXzPuG0",
        "outputId": "65817845-10dc-4906-bdfc-ce3616653c98",
        "colab": {
          "base_uri": "https://localhost:8080/"
        }
      },
      "source": [
        "model_prune.evaluate(validation_data, return_dict = True)"
      ],
      "execution_count": null,
      "outputs": [
        {
          "output_type": "stream",
          "text": [
            "1721/1721 [==============================] - 553s 321ms/step - loss: 0.9090 - sparse_categorical_accuracy: 0.4600\n"
          ],
          "name": "stdout"
        },
        {
          "output_type": "execute_result",
          "data": {
            "text/plain": [
              "{'loss': 0.9090297222137451, 'sparse_categorical_accuracy': 0.4600294232368469}"
            ]
          },
          "metadata": {
            "tags": []
          },
          "execution_count": 30
        }
      ]
    },
    {
      "cell_type": "code",
      "metadata": {
        "id": "7ZIWG0D5Q-Um",
        "outputId": "9092e8e7-ae38-4966-e0b7-8a1d44708c60",
        "colab": {
          "base_uri": "https://localhost:8080/",
          "height": 387
        }
      },
      "source": [
        "evaluate_model(model_prune,validation_data, training_results_prune,execution_time, \n",
        "               learning_rate, epochs, optimizer,save=True,\n",
        "               loss_metrics=[\"loss\",\"val_loss\"],\n",
        "               acc_metrics=[\"sparse_categorical_accuracy\",\"val_sparse_categorical_accuracy\"])"
      ],
      "execution_count": null,
      "outputs": [
        {
          "output_type": "display_data",
          "data": {
            "image/png": "[encoded data removed]",
            "text/plain": [
              "<Figure size 1080x360 with 2 Axes>"
            ]
          },
          "metadata": {
            "tags": [],
            "needs_background": "light"
          }
        },
        {
          "output_type": "stream",
          "text": [
            "1721/1721 [==============================] - 551s 320ms/step - loss: 0.9090 - sparse_categorical_accuracy: 0.4600\n",
            "{'loss': 0.9090306758880615, 'sparse_categorical_accuracy': 0.4600294232368469}\n"
          ],
          "name": "stdout"
        },
        {
          "output_type": "execute_result",
          "data": {
            "text/plain": [
              "[0.9090306758880615, 0.4600294232368469]"
            ]
          },
          "metadata": {
            "tags": []
          },
          "execution_count": 31
        }
      ]
    },
    {
      "cell_type": "code",
      "metadata": {
        "id": "jkardnKtPSAO"
      },
      "source": [
        "def check_model_weights(model):\n",
        "  for i, w in enumerate(model.get_weights()):\n",
        "    print(model.weights[i].name,\"Total:\",w.size, \"Zeros:\", round(np.sum(w == 0) / w.size * 100,2),\"%\")\n",
        "\n",
        "def compare_model_sizes(path):\n",
        "    _, zip3 = tempfile.mkstemp(\".zip\")\n",
        "    with zipfile.ZipFile(zip3, \"w\", compression=zipfile.ZIP_DEFLATED) as f:\n",
        "        f.write(path)\n",
        "    print(\"Model before zipping: %.2f Kb\"% (os.path.getsize(path) / float(1000)))\n",
        "    print(\"Model after zipping: %.2f Kb\"% (os.path.getsize(zip3) / float(1000)))\n"
      ],
      "execution_count": null,
      "outputs": []
    },
    {
      "cell_type": "code",
      "metadata": {
        "id": "YxPpun7gPax-",
        "outputId": "a653756e-884c-42e3-f383-50b822612f8c",
        "colab": {
          "base_uri": "https://localhost:8080/"
        }
      },
      "source": [
        "compare_model_sizes('/content/gdrive/My Drive/models/Vqa_model_test.h5')"
      ],
      "execution_count": null,
      "outputs": [
        {
          "output_type": "stream",
          "text": [
            "Model before zipping: 512490.62 Kb\n",
            "Model after zipping: 474306.05 Kb\n"
          ],
          "name": "stdout"
        }
      ]
    },
    {
      "cell_type": "code",
      "metadata": {
        "id": "6SrraZGYn8_0",
        "outputId": "20e3459c-10ac-412c-bd8a-49e9f3200d8b",
        "colab": {
          "base_uri": "https://localhost:8080/"
        }
      },
      "source": [
        "compare_model_sizes('/content/gdrive/My Drive/models/Vqa_model_test_prune.h5')"
      ],
      "execution_count": null,
      "outputs": [
        {
          "output_type": "stream",
          "text": [
            "Model before zipping: 521100.04 Kb\n",
            "Model after zipping: 472016.47 Kb\n"
          ],
          "name": "stdout"
        }
      ]
    },
    {
      "cell_type": "markdown",
      "metadata": {
        "id": "iBwO01eDr1GX"
      },
      "source": [
        "And we also prune for the whole mobilenet, not only Conv2D layers."
      ]
    },
    {
      "cell_type": "code",
      "metadata": {
        "id": "H4M6ULATr0Vn",
        "outputId": "24d45d6b-6fac-42ab-b5a1-7d388e6611e5",
        "colab": {
          "base_uri": "https://localhost:8080/"
        }
      },
      "source": [
        "\n",
        "learning_rate=0.001\n",
        "## QA Model\n",
        "max_len = 100\n",
        "input_ids = layers.Input(shape=(max_len,), dtype=tf.int32)\n",
        "token_type_ids = layers.Input(shape=(max_len,), dtype=tf.int32)\n",
        "attention_mask = layers.Input(shape=(max_len,), dtype=tf.int32)\n",
        "image_input = layers.Input(shape=[224,224,3], name='image_input')\n",
        "\n",
        "\n",
        "def apply_pruning(layer):\n",
        "    return tfmot.sparsity.keras.prune_low_magnitude(layer)\n",
        "#question model: BERT\n",
        "encoder = TFBertModel.from_pretrained(\"bert-base-uncased\")\n",
        "encoder.trainable=False\n",
        "embedding = encoder(\n",
        "    input_ids, token_type_ids=token_type_ids, attention_mask=attention_mask\n",
        ")[1]\n",
        "embedding_flatten = layers.Flatten(name=\"embedding_flatten\")(embedding)\n",
        "text_dropout=layers.Dropout(0.2)(embedding_flatten)\n",
        "bert_dense = layers.Dense(256, name=\"bert_dense\")(text_dropout)\n",
        "\n",
        "end_step = np.ceil(len(train_x) / batch_size).astype(np.int32) * epochs\n",
        "pruning_params = {\n",
        "      'pruning_schedule': tfmot.sparsity.keras.PolynomialDecay(initial_sparsity=0.50,\n",
        "                                                               final_sparsity=0.80,\n",
        "                                                               begin_step=0,\n",
        "                                                               end_step=end_step)\n",
        "}\n",
        "\n",
        "\n",
        "\n",
        "#image model: mobilenet\n",
        "mobilenetv2_2 = MobileNetV2(include_top=False, weights='imagenet')\n",
        "mobilenetv2.trainable=False\n",
        "mobile_for_pruning = tf.keras.models.clone_model(\n",
        "    mobilenetv2_2,\n",
        "    clone_function=apply_pruning,\n",
        ")\n",
        "\n",
        "image_flat = layers.Flatten()(mobile_for_pruning(image_input))\n",
        "image_dropout=layers.Dropout(0.2)(image_flat)\n",
        "#image_flat = Flatten()(model.layers[-1].output)(image_pretrained)\n",
        "image_dense = layers.Dense(256, activation='relu')(image_dropout)\n",
        "\n",
        "#image + question\n",
        "image_question = layers.Multiply()([bert_dense, image_dense])                          \n",
        "image_question_dense_1 = layers.Dense(units=32, name = 'image_question_dense_1')(image_question)\n",
        "classifier = layers.Dense(units= 10, name = 'classifier')(image_question_dense_1)\n",
        "\n",
        "\n",
        "inputs = (image_input, {'input_ids': input_ids, 'token_type_ids': token_type_ids, 'attention_mask': attention_mask})\n",
        "\n",
        "model_prune = keras.Model(inputs= inputs, outputs= classifier,name='Vqa_model_test_prune_all')\n",
        "\n",
        "# Optimizer\n",
        "optimizer = optimizers.Adam(lr=learning_rate, epsilon=1e-08)\n",
        "\n",
        "# Loss\n",
        "loss = losses.SparseCategoricalCrossentropy(from_logits=True)\n",
        "\n",
        "model_prune.compile(optimizer=optimizer, loss=loss, metrics=[metrics.SparseCategoricalAccuracy()])\n",
        "\n",
        "model_prune.summary()"
      ],
      "execution_count": null,
      "outputs": [
        {
          "output_type": "stream",
          "text": [
            "Some layers from the model checkpoint at bert-base-uncased were not used when initializing TFBertModel: ['nsp___cls', 'mlm___cls']\n",
            "- This IS expected if you are initializing TFBertModel from the checkpoint of a model trained on another task or with another architecture (e.g. initializing a BertForSequenceClassification model from a BertForPreTraining model).\n",
            "- This IS NOT expected if you are initializing TFBertModel from the checkpoint of a model that you expect to be exactly identical (initializing a BertForSequenceClassification model from a BertForSequenceClassification model).\n",
            "All the layers of TFBertModel were initialized from the model checkpoint at bert-base-uncased.\n",
            "If your task is similar to the task the model of the checkpoint was trained on, you can already use TFBertModel for predictions without further training.\n"
          ],
          "name": "stderr"
        },
        {
          "output_type": "stream",
          "text": [
            "WARNING:tensorflow:`input_shape` is undefined or non-square, or `rows` is not in [96, 128, 160, 192, 224]. Weights for input shape (224, 224) will be loaded as the default.\n",
            "Model: \"Vqa_model_test_prune_all\"\n",
            "__________________________________________________________________________________________________\n",
            "Layer (type)                    Output Shape         Param #     Connected to                     \n",
            "==================================================================================================\n",
            "input_12 (InputLayer)           [(None, 100)]        0                                            \n",
            "__________________________________________________________________________________________________\n",
            "input_14 (InputLayer)           [(None, 100)]        0                                            \n",
            "__________________________________________________________________________________________________\n",
            "input_13 (InputLayer)           [(None, 100)]        0                                            \n",
            "__________________________________________________________________________________________________\n",
            "image_input (InputLayer)        [(None, 224, 224, 3) 0                                            \n",
            "__________________________________________________________________________________________________\n",
            "tf_bert_model_3 (TFBertModel)   ((None, 100, 768), ( 109482240   input_12[0][0]                   \n",
            "                                                                 input_14[0][0]                   \n",
            "                                                                 input_13[0][0]                   \n",
            "__________________________________________________________________________________________________\n",
            "mobilenetv2_1.00_224 (Functiona (None, None, None, 1 4383709     image_input[0][0]                \n",
            "__________________________________________________________________________________________________\n",
            "embedding_flatten (Flatten)     (None, 768)          0           tf_bert_model_3[0][1]            \n",
            "__________________________________________________________________________________________________\n",
            "flatten_2 (Flatten)             (None, 62720)        0           mobilenetv2_1.00_224[0][0]       \n",
            "__________________________________________________________________________________________________\n",
            "dropout_151 (Dropout)           (None, 768)          0           embedding_flatten[0][0]          \n",
            "__________________________________________________________________________________________________\n",
            "dropout_152 (Dropout)           (None, 62720)        0           flatten_2[0][0]                  \n",
            "__________________________________________________________________________________________________\n",
            "bert_dense (Dense)              (None, 256)          196864      dropout_151[0][0]                \n",
            "__________________________________________________________________________________________________\n",
            "dense_2 (Dense)                 (None, 256)          16056576    dropout_152[0][0]                \n",
            "__________________________________________________________________________________________________\n",
            "multiply_2 (Multiply)           (None, 256)          0           bert_dense[0][0]                 \n",
            "                                                                 dense_2[0][0]                    \n",
            "__________________________________________________________________________________________________\n",
            "image_question_dense_1 (Dense)  (None, 32)           8224        multiply_2[0][0]                 \n",
            "__________________________________________________________________________________________________\n",
            "classifier (Dense)              (None, 10)           330         image_question_dense_1[0][0]     \n",
            "==================================================================================================\n",
            "Total params: 130,127,943\n",
            "Trainable params: 18,485,866\n",
            "Non-trainable params: 111,642,077\n",
            "__________________________________________________________________________________________________\n"
          ],
          "name": "stdout"
        }
      ]
    },
    {
      "cell_type": "code",
      "metadata": {
        "id": "WIsTUDF2r0RD",
        "outputId": "8e974d5d-f15a-41f0-e76b-e701ccfb35cd",
        "colab": {
          "base_uri": "https://localhost:8080/"
        }
      },
      "source": [
        "epochs=2\n",
        "# Callback\n",
        "callbacks = [\n",
        "  tfmot.sparsity.keras.UpdatePruningStep()\n",
        "]\n",
        "\n",
        "# Train\n",
        "start_time = time.time()\n",
        "training_results_prune = model_prune.fit(\n",
        "        train_data,\n",
        "        validation_data=validation_data.take(1000),\n",
        "        epochs=epochs,\n",
        "        callbacks=callbacks,\n",
        "        verbose=1)\n",
        "execution_time = (time.time() - start_time)/60.0\n",
        "print(\"Training execution time (mins)\",execution_time)"
      ],
      "execution_count": null,
      "outputs": [
        {
          "output_type": "stream",
          "text": [
            "Epoch 1/2\n",
            "3569/3569 [==============================] - 2583s 724ms/step - loss: 1.1452 - sparse_categorical_accuracy: 0.4273 - val_loss: 0.9133 - val_sparse_categorical_accuracy: 0.4575\n",
            "Epoch 2/2\n",
            "3569/3569 [==============================] - 2580s 723ms/step - loss: 1.0274 - sparse_categorical_accuracy: 0.4398 - val_loss: 1.0167 - val_sparse_categorical_accuracy: 0.4419\n",
            "Training execution time (mins) 86.63014124234518\n"
          ],
          "name": "stdout"
        }
      ]
    },
    {
      "cell_type": "code",
      "metadata": {
        "id": "FdJVJz5Dr0OU",
        "outputId": "54b382ef-7aca-4fae-90f1-cb338d0cd8ae",
        "colab": {
          "base_uri": "https://localhost:8080/"
        }
      },
      "source": [
        "model_prune.evaluate(validation_data, return_dict = True)"
      ],
      "execution_count": null,
      "outputs": [
        {
          "output_type": "stream",
          "text": [
            "1721/1721 [==============================] - 551s 320ms/step - loss: 1.0177 - sparse_categorical_accuracy: 0.4443\n"
          ],
          "name": "stdout"
        },
        {
          "output_type": "execute_result",
          "data": {
            "text/plain": [
              "{'loss': 1.017687201499939, 'sparse_categorical_accuracy': 0.44425371289253235}"
            ]
          },
          "metadata": {
            "tags": []
          },
          "execution_count": 40
        }
      ]
    },
    {
      "cell_type": "code",
      "metadata": {
        "id": "UEd-uxwqH4Uj",
        "outputId": "9482aa5d-3c9a-4676-85a7-067ccba304f3",
        "colab": {
          "base_uri": "https://localhost:8080/",
          "height": 387
        }
      },
      "source": [
        "evaluate_model(model_prune,validation_data, training_results_prune,execution_time, \n",
        "               learning_rate, epochs, optimizer,save=True,\n",
        "               loss_metrics=[\"loss\",\"val_loss\"],\n",
        "               acc_metrics=[\"sparse_categorical_accuracy\",\"val_sparse_categorical_accuracy\"])"
      ],
      "execution_count": null,
      "outputs": [
        {
          "output_type": "display_data",
          "data": {
            "image/png": "[encoded data removed]",
            "text/plain": [
              "<Figure size 1080x360 with 2 Axes>"
            ]
          },
          "metadata": {
            "tags": [],
            "needs_background": "light"
          }
        },
        {
          "output_type": "stream",
          "text": [
            "1721/1721 [==============================] - 552s 321ms/step - loss: 1.0177 - sparse_categorical_accuracy: 0.4443\n",
            "{'loss': 1.0176862478256226, 'sparse_categorical_accuracy': 0.44425371289253235}\n"
          ],
          "name": "stdout"
        },
        {
          "output_type": "execute_result",
          "data": {
            "text/plain": [
              "[1.0176862478256226, 0.44425371289253235]"
            ]
          },
          "metadata": {
            "tags": []
          },
          "execution_count": 41
        }
      ]
    },
    {
      "cell_type": "code",
      "metadata": {
        "id": "syqHcwKOIBN4",
        "outputId": "e0005673-fcb2-43d2-e066-000ac8e5e27d",
        "colab": {
          "base_uri": "https://localhost:8080/"
        }
      },
      "source": [
        "compare_model_sizes('/content/gdrive/My Drive/models/Vqa_model_test_prune_all.h5')"
      ],
      "execution_count": null,
      "outputs": [
        {
          "output_type": "stream",
          "text": [
            "Model before zipping: 521257.55 Kb\n",
            "Model after zipping: 471959.20 Kb\n"
          ],
          "name": "stdout"
        }
      ]
    },
    {
      "cell_type": "code",
      "metadata": {
        "id": "acoGw2SVIGa5",
        "outputId": "be932694-7d5f-4940-a6a5-50a28c6b426f",
        "colab": {
          "base_uri": "https://localhost:8080/",
          "height": 136
        }
      },
      "source": [
        "model_names=['Before pruning', 'Only Conv2D pruning','Mobilenet pruning']\n",
        "evaltime_prune=[561,553,551]\n",
        "accu_prune=[0.47118231654167175,0.4600294232368469,0.44425371289253235]\n",
        "size_prune=[474306.05,472016.47,471959.20]\n",
        "df_summary=pd.DataFrame({'Model':model_names,'Model Size (kb)':size_prune,'Model Accuracy':accu_prune,'Inference Time (s)':evaltime_prune})\n",
        "df_summary"
      ],
      "execution_count": null,
      "outputs": [
        {
          "output_type": "execute_result",
          "data": {
            "text/html": [
              "<div>\n",
              "<style scoped>\n",
              "    .dataframe tbody tr th:only-of-type {\n",
              "        vertical-align: middle;\n",
              "    }\n",
              "\n",
              "    .dataframe tbody tr th {\n",
              "        vertical-align: top;\n",
              "    }\n",
              "\n",
              "    .dataframe thead th {\n",
              "        text-align: right;\n",
              "    }\n",
              "</style>\n",
              "<table border=\"1\" class=\"dataframe\">\n",
              "  <thead>\n",
              "    <tr style=\"text-align: right;\">\n",
              "      <th></th>\n",
              "      <th>Model</th>\n",
              "      <th>Model Size (kb)</th>\n",
              "      <th>Model Accuracy</th>\n",
              "      <th>Inference Time (s)</th>\n",
              "    </tr>\n",
              "  </thead>\n",
              "  <tbody>\n",
              "    <tr>\n",
              "      <th>0</th>\n",
              "      <td>Before pruning</td>\n",
              "      <td>474306.05</td>\n",
              "      <td>0.471182</td>\n",
              "      <td>561</td>\n",
              "    </tr>\n",
              "    <tr>\n",
              "      <th>1</th>\n",
              "      <td>Only Conv2D pruning</td>\n",
              "      <td>472016.47</td>\n",
              "      <td>0.460029</td>\n",
              "      <td>553</td>\n",
              "    </tr>\n",
              "    <tr>\n",
              "      <th>2</th>\n",
              "      <td>Mobilenet pruning</td>\n",
              "      <td>471959.20</td>\n",
              "      <td>0.444254</td>\n",
              "      <td>551</td>\n",
              "    </tr>\n",
              "  </tbody>\n",
              "</table>\n",
              "</div>"
            ],
            "text/plain": [
              "                 Model  Model Size (kb)  Model Accuracy  Inference Time (s)\n",
              "0       Before pruning        474306.05        0.471182                 561\n",
              "1  Only Conv2D pruning        472016.47        0.460029                 553\n",
              "2    Mobilenet pruning        471959.20        0.444254                 551"
            ]
          },
          "metadata": {
            "tags": []
          },
          "execution_count": 11
        }
      ]
    },
    {
      "cell_type": "markdown",
      "metadata": {
        "id": "lxXUn7ghzHo6"
      },
      "source": [
        "We can see the pruning doesn't quite decrease model size or inference time. The reason could be mobilenet is relatively optimized and further pruning doesn't yeild much gains."
      ]
    }
  ]
}