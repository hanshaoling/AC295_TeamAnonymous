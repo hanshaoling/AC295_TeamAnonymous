{
  "nbformat": 4,
  "nbformat_minor": 0,
  "metadata": {
    "colab": {
      "name": "\bTFrecord.ipynb",
      "provenance": [],
      "collapsed_sections": [],
      "toc_visible": true,
      "machine_shape": "hm"
    },
    "kernelspec": {
      "display_name": "Python 3",
      "name": "python3"
    },
    "accelerator": "GPU",
    "widgets": {
      "application/vnd.jupyter.widget-state+json": {
        "60c003f7f7574bdfb3bca1c368b44580": {
          "model_module": "@jupyter-widgets/controls",
          "model_name": "HBoxModel",
          "state": {
            "_view_name": "HBoxView",
            "_dom_classes": [],
            "_model_name": "HBoxModel",
            "_view_module": "@jupyter-widgets/controls",
            "_model_module_version": "1.5.0",
            "_view_count": null,
            "_view_module_version": "1.5.0",
            "box_style": "",
            "layout": "IPY_MODEL_80448bc5c5974a9cae333d382fd2decd",
            "_model_module": "@jupyter-widgets/controls",
            "children": [
              "IPY_MODEL_116caa98c92444c2bd28997e22373f5c",
              "IPY_MODEL_7c39a963142142d6a112d425c88eecb2"
            ]
          }
        },
        "80448bc5c5974a9cae333d382fd2decd": {
          "model_module": "@jupyter-widgets/base",
          "model_name": "LayoutModel",
          "state": {
            "_view_name": "LayoutView",
            "grid_template_rows": null,
            "right": null,
            "justify_content": null,
            "_view_module": "@jupyter-widgets/base",
            "overflow": null,
            "_model_module_version": "1.2.0",
            "_view_count": null,
            "flex_flow": null,
            "width": null,
            "min_width": null,
            "border": null,
            "align_items": null,
            "bottom": null,
            "_model_module": "@jupyter-widgets/base",
            "top": null,
            "grid_column": null,
            "overflow_y": null,
            "overflow_x": null,
            "grid_auto_flow": null,
            "grid_area": null,
            "grid_template_columns": null,
            "flex": null,
            "_model_name": "LayoutModel",
            "justify_items": null,
            "grid_row": null,
            "max_height": null,
            "align_content": null,
            "visibility": null,
            "align_self": null,
            "height": null,
            "min_height": null,
            "padding": null,
            "grid_auto_rows": null,
            "grid_gap": null,
            "max_width": null,
            "order": null,
            "_view_module_version": "1.2.0",
            "grid_template_areas": null,
            "object_position": null,
            "object_fit": null,
            "grid_auto_columns": null,
            "margin": null,
            "display": null,
            "left": null
          }
        },
        "116caa98c92444c2bd28997e22373f5c": {
          "model_module": "@jupyter-widgets/controls",
          "model_name": "FloatProgressModel",
          "state": {
            "_view_name": "ProgressView",
            "style": "IPY_MODEL_11f13e3720684ee2814434e2dc5bbb42",
            "_dom_classes": [],
            "description": "Downloading: 100%",
            "_model_name": "FloatProgressModel",
            "bar_style": "success",
            "max": 231508,
            "_view_module": "@jupyter-widgets/controls",
            "_model_module_version": "1.5.0",
            "value": 231508,
            "_view_count": null,
            "_view_module_version": "1.5.0",
            "orientation": "horizontal",
            "min": 0,
            "description_tooltip": null,
            "_model_module": "@jupyter-widgets/controls",
            "layout": "IPY_MODEL_b82079fabfc44a65adef87fcc9f24517"
          }
        },
        "7c39a963142142d6a112d425c88eecb2": {
          "model_module": "@jupyter-widgets/controls",
          "model_name": "HTMLModel",
          "state": {
            "_view_name": "HTMLView",
            "style": "IPY_MODEL_258da878e348420a8b161075f7b75e18",
            "_dom_classes": [],
            "description": "",
            "_model_name": "HTMLModel",
            "placeholder": "​",
            "_view_module": "@jupyter-widgets/controls",
            "_model_module_version": "1.5.0",
            "value": " 232k/232k [00:00&lt;00:00, 1.41MB/s]",
            "_view_count": null,
            "_view_module_version": "1.5.0",
            "description_tooltip": null,
            "_model_module": "@jupyter-widgets/controls",
            "layout": "IPY_MODEL_6d79ce9797494e7ab12a6fb6265b7bc7"
          }
        },
        "11f13e3720684ee2814434e2dc5bbb42": {
          "model_module": "@jupyter-widgets/controls",
          "model_name": "ProgressStyleModel",
          "state": {
            "_view_name": "StyleView",
            "_model_name": "ProgressStyleModel",
            "description_width": "initial",
            "_view_module": "@jupyter-widgets/base",
            "_model_module_version": "1.5.0",
            "_view_count": null,
            "_view_module_version": "1.2.0",
            "bar_color": null,
            "_model_module": "@jupyter-widgets/controls"
          }
        },
        "b82079fabfc44a65adef87fcc9f24517": {
          "model_module": "@jupyter-widgets/base",
          "model_name": "LayoutModel",
          "state": {
            "_view_name": "LayoutView",
            "grid_template_rows": null,
            "right": null,
            "justify_content": null,
            "_view_module": "@jupyter-widgets/base",
            "overflow": null,
            "_model_module_version": "1.2.0",
            "_view_count": null,
            "flex_flow": null,
            "width": null,
            "min_width": null,
            "border": null,
            "align_items": null,
            "bottom": null,
            "_model_module": "@jupyter-widgets/base",
            "top": null,
            "grid_column": null,
            "overflow_y": null,
            "overflow_x": null,
            "grid_auto_flow": null,
            "grid_area": null,
            "grid_template_columns": null,
            "flex": null,
            "_model_name": "LayoutModel",
            "justify_items": null,
            "grid_row": null,
            "max_height": null,
            "align_content": null,
            "visibility": null,
            "align_self": null,
            "height": null,
            "min_height": null,
            "padding": null,
            "grid_auto_rows": null,
            "grid_gap": null,
            "max_width": null,
            "order": null,
            "_view_module_version": "1.2.0",
            "grid_template_areas": null,
            "object_position": null,
            "object_fit": null,
            "grid_auto_columns": null,
            "margin": null,
            "display": null,
            "left": null
          }
        },
        "258da878e348420a8b161075f7b75e18": {
          "model_module": "@jupyter-widgets/controls",
          "model_name": "DescriptionStyleModel",
          "state": {
            "_view_name": "StyleView",
            "_model_name": "DescriptionStyleModel",
            "description_width": "",
            "_view_module": "@jupyter-widgets/base",
            "_model_module_version": "1.5.0",
            "_view_count": null,
            "_view_module_version": "1.2.0",
            "_model_module": "@jupyter-widgets/controls"
          }
        },
        "6d79ce9797494e7ab12a6fb6265b7bc7": {
          "model_module": "@jupyter-widgets/base",
          "model_name": "LayoutModel",
          "state": {
            "_view_name": "LayoutView",
            "grid_template_rows": null,
            "right": null,
            "justify_content": null,
            "_view_module": "@jupyter-widgets/base",
            "overflow": null,
            "_model_module_version": "1.2.0",
            "_view_count": null,
            "flex_flow": null,
            "width": null,
            "min_width": null,
            "border": null,
            "align_items": null,
            "bottom": null,
            "_model_module": "@jupyter-widgets/base",
            "top": null,
            "grid_column": null,
            "overflow_y": null,
            "overflow_x": null,
            "grid_auto_flow": null,
            "grid_area": null,
            "grid_template_columns": null,
            "flex": null,
            "_model_name": "LayoutModel",
            "justify_items": null,
            "grid_row": null,
            "max_height": null,
            "align_content": null,
            "visibility": null,
            "align_self": null,
            "height": null,
            "min_height": null,
            "padding": null,
            "grid_auto_rows": null,
            "grid_gap": null,
            "max_width": null,
            "order": null,
            "_view_module_version": "1.2.0",
            "grid_template_areas": null,
            "object_position": null,
            "object_fit": null,
            "grid_auto_columns": null,
            "margin": null,
            "display": null,
            "left": null
          }
        }
      }
    }
  },
  "cells": [
    {
      "cell_type": "markdown",
      "metadata": {
        "id": "3D7K3sLwJJzi"
      },
      "source": [
        "# Notebook for creating and loading tf record for model training\n"
      ]
    },
    {
      "cell_type": "code",
      "metadata": {
        "id": "gGra4DyaM6r-",
        "outputId": "7100869d-122f-44fa-e7c4-a4db0ba2db92",
        "colab": {
          "base_uri": "https://localhost:8080/"
        }
      },
      "source": [
        "!pip install transformers #Installing Huggingface transformers "
      ],
      "execution_count": 1,
      "outputs": [
        {
          "output_type": "stream",
          "text": [
            "Collecting transformers\n",
            "\u001b[?25l  Downloading https://files.pythonhosted.org/packages/3a/83/e74092e7f24a08d751aa59b37a9fc572b2e4af3918cb66f7766c3affb1b4/transformers-3.5.1-py3-none-any.whl (1.3MB)\n",
            "\u001b[K     |████████████████████████████████| 1.3MB 6.0MB/s \n",
            "\u001b[?25hRequirement already satisfied: requests in /usr/local/lib/python3.6/dist-packages (from transformers) (2.23.0)\n",
            "Collecting sacremoses\n",
            "\u001b[?25l  Downloading https://files.pythonhosted.org/packages/7d/34/09d19aff26edcc8eb2a01bed8e98f13a1537005d31e95233fd48216eed10/sacremoses-0.0.43.tar.gz (883kB)\n",
            "\u001b[K     |████████████████████████████████| 890kB 36.1MB/s \n",
            "\u001b[?25hRequirement already satisfied: regex!=2019.12.17 in /usr/local/lib/python3.6/dist-packages (from transformers) (2019.12.20)\n",
            "Requirement already satisfied: packaging in /usr/local/lib/python3.6/dist-packages (from transformers) (20.4)\n",
            "Requirement already satisfied: dataclasses; python_version < \"3.7\" in /usr/local/lib/python3.6/dist-packages (from transformers) (0.7)\n",
            "Requirement already satisfied: numpy in /usr/local/lib/python3.6/dist-packages (from transformers) (1.18.5)\n",
            "Requirement already satisfied: filelock in /usr/local/lib/python3.6/dist-packages (from transformers) (3.0.12)\n",
            "Collecting sentencepiece==0.1.91\n",
            "\u001b[?25l  Downloading https://files.pythonhosted.org/packages/d4/a4/d0a884c4300004a78cca907a6ff9a5e9fe4f090f5d95ab341c53d28cbc58/sentencepiece-0.1.91-cp36-cp36m-manylinux1_x86_64.whl (1.1MB)\n",
            "\u001b[K     |████████████████████████████████| 1.1MB 35.4MB/s \n",
            "\u001b[?25hCollecting tokenizers==0.9.3\n",
            "\u001b[?25l  Downloading https://files.pythonhosted.org/packages/4c/34/b39eb9994bc3c999270b69c9eea40ecc6f0e97991dba28282b9fd32d44ee/tokenizers-0.9.3-cp36-cp36m-manylinux1_x86_64.whl (2.9MB)\n",
            "\u001b[K     |████████████████████████████████| 2.9MB 47.5MB/s \n",
            "\u001b[?25hRequirement already satisfied: tqdm>=4.27 in /usr/local/lib/python3.6/dist-packages (from transformers) (4.41.1)\n",
            "Requirement already satisfied: protobuf in /usr/local/lib/python3.6/dist-packages (from transformers) (3.12.4)\n",
            "Requirement already satisfied: idna<3,>=2.5 in /usr/local/lib/python3.6/dist-packages (from requests->transformers) (2.10)\n",
            "Requirement already satisfied: urllib3!=1.25.0,!=1.25.1,<1.26,>=1.21.1 in /usr/local/lib/python3.6/dist-packages (from requests->transformers) (1.24.3)\n",
            "Requirement already satisfied: chardet<4,>=3.0.2 in /usr/local/lib/python3.6/dist-packages (from requests->transformers) (3.0.4)\n",
            "Requirement already satisfied: certifi>=2017.4.17 in /usr/local/lib/python3.6/dist-packages (from requests->transformers) (2020.6.20)\n",
            "Requirement already satisfied: six in /usr/local/lib/python3.6/dist-packages (from sacremoses->transformers) (1.15.0)\n",
            "Requirement already satisfied: click in /usr/local/lib/python3.6/dist-packages (from sacremoses->transformers) (7.1.2)\n",
            "Requirement already satisfied: joblib in /usr/local/lib/python3.6/dist-packages (from sacremoses->transformers) (0.17.0)\n",
            "Requirement already satisfied: pyparsing>=2.0.2 in /usr/local/lib/python3.6/dist-packages (from packaging->transformers) (2.4.7)\n",
            "Requirement already satisfied: setuptools in /usr/local/lib/python3.6/dist-packages (from protobuf->transformers) (50.3.2)\n",
            "Building wheels for collected packages: sacremoses\n",
            "  Building wheel for sacremoses (setup.py) ... \u001b[?25l\u001b[?25hdone\n",
            "  Created wheel for sacremoses: filename=sacremoses-0.0.43-cp36-none-any.whl size=893257 sha256=fb5a0a50dc822f9db9862cf471743962bfeae6168399b886553968380b747047\n",
            "  Stored in directory: /root/.cache/pip/wheels/29/3c/fd/7ce5c3f0666dab31a50123635e6fb5e19ceb42ce38d4e58f45\n",
            "Successfully built sacremoses\n",
            "Installing collected packages: sacremoses, sentencepiece, tokenizers, transformers\n",
            "Successfully installed sacremoses-0.0.43 sentencepiece-0.1.91 tokenizers-0.9.3 transformers-3.5.1\n"
          ],
          "name": "stdout"
        }
      ]
    },
    {
      "cell_type": "code",
      "metadata": {
        "id": "9Gb1Ql0nPIQx"
      },
      "source": [
        "import os\n",
        "import requests\n",
        "import tempfile\n",
        "import zipfile\n",
        "import shutil\n",
        "import json\n",
        "import time\n",
        "import sys\n",
        "import cv2\n",
        "import numpy as np\n",
        "import pandas as pd\n",
        "from glob import glob\n",
        "import subprocess\n",
        "import matplotlib.pyplot as plt\n",
        "%matplotlib inline\n",
        "\n",
        "import tensorflow as tf\n",
        "from tensorflow import keras\n",
        "from tensorflow.python.keras import backend as K\n",
        "from tensorflow.keras.models import Model, Sequential\n",
        "from tensorflow.keras import layers\n",
        "from tensorflow.keras import activations\n",
        "from tensorflow.keras import optimizers\n",
        "from tensorflow.keras import losses\n",
        "from tensorflow.keras import metrics\n",
        "from tensorflow.keras import initializers\n",
        "from tensorflow.keras import regularizers\n",
        "from tensorflow.keras.utils import to_categorical\n",
        "from keras.utils.layer_utils import count_params\n",
        "import tensorflow_hub as hub\n",
        "from collections import Counter\n",
        "from transformers import TFBertModel, TFDistilBertModel\n",
        "from keras.applications.mobilenet_v2 import MobileNetV2\n",
        "\n",
        "from sklearn.model_selection import train_test_split\n",
        "from transformers import BertTokenizer, TFBertForSequenceClassification, TFDistilBertForSequenceClassification"
      ],
      "execution_count": 3,
      "outputs": []
    },
    {
      "cell_type": "code",
      "metadata": {
        "id": "SwafWL-CftQQ",
        "outputId": "69f2560a-67b0-49be-e5b4-3677d057f65c",
        "colab": {
          "base_uri": "https://localhost:8080/"
        }
      },
      "source": [
        "print(\"tensorflow version\", tf.__version__)\n",
        "print(\"keras version\", tf.keras.__version__)\n",
        "print(\"Eager Execution Enabled:\", tf.executing_eagerly())\n",
        "\n",
        "# Get the number of replicas \n",
        "strategy = tf.distribute.MirroredStrategy()\n",
        "print(\"Number of replicas:\", strategy.num_replicas_in_sync)\n",
        "\n",
        "devices = tf.config.experimental.get_visible_devices()\n",
        "print(\"Devices:\", devices)\n",
        "print(tf.config.experimental.list_logical_devices('GPU'))\n",
        "\n",
        "print(\"GPU Available: \", tf.config.list_physical_devices('GPU'))\n",
        "print(\"All Physical Devices\", tf.config.list_physical_devices())\n",
        "\n",
        "# Better performance with the tf.data API\n",
        "# Reference: https://www.tensorflow.org/guide/data_performance\n",
        "AUTOTUNE = tf.data.experimental.AUTOTUNE"
      ],
      "execution_count": 4,
      "outputs": [
        {
          "output_type": "stream",
          "text": [
            "tensorflow version 2.3.0\n",
            "keras version 2.4.0\n",
            "Eager Execution Enabled: True\n",
            "INFO:tensorflow:Using MirroredStrategy with devices ('/job:localhost/replica:0/task:0/device:GPU:0',)\n",
            "Number of replicas: 1\n",
            "Devices: [PhysicalDevice(name='/physical_device:CPU:0', device_type='CPU'), PhysicalDevice(name='/physical_device:GPU:0', device_type='GPU')]\n",
            "[LogicalDevice(name='/device:GPU:0', device_type='GPU')]\n",
            "GPU Available:  [PhysicalDevice(name='/physical_device:GPU:0', device_type='GPU')]\n",
            "All Physical Devices [PhysicalDevice(name='/physical_device:CPU:0', device_type='CPU'), PhysicalDevice(name='/physical_device:XLA_CPU:0', device_type='XLA_CPU'), PhysicalDevice(name='/physical_device:XLA_GPU:0', device_type='XLA_GPU'), PhysicalDevice(name='/physical_device:GPU:0', device_type='GPU')]\n"
          ],
          "name": "stdout"
        }
      ]
    },
    {
      "cell_type": "code",
      "metadata": {
        "id": "UlawvHjTfyWF",
        "outputId": "b22802ca-b7f7-4a8e-c991-63e8dfd2caf5",
        "colab": {
          "base_uri": "https://localhost:8080/"
        }
      },
      "source": [
        "!nvidia-smi"
      ],
      "execution_count": 5,
      "outputs": [
        {
          "output_type": "stream",
          "text": [
            "Tue Nov 17 02:50:54 2020       \n",
            "+-----------------------------------------------------------------------------+\n",
            "| NVIDIA-SMI 455.38       Driver Version: 418.67       CUDA Version: 10.1     |\n",
            "|-------------------------------+----------------------+----------------------+\n",
            "| GPU  Name        Persistence-M| Bus-Id        Disp.A | Volatile Uncorr. ECC |\n",
            "| Fan  Temp  Perf  Pwr:Usage/Cap|         Memory-Usage | GPU-Util  Compute M. |\n",
            "|                               |                      |               MIG M. |\n",
            "|===============================+======================+======================|\n",
            "|   0  Tesla P100-PCIE...  Off  | 00000000:00:04.0 Off |                    0 |\n",
            "| N/A   40C    P0    31W / 250W |    359MiB / 16280MiB |      0%      Default |\n",
            "|                               |                      |                 ERR! |\n",
            "+-------------------------------+----------------------+----------------------+\n",
            "                                                                               \n",
            "+-----------------------------------------------------------------------------+\n",
            "| Processes:                                                                  |\n",
            "|  GPU   GI   CI        PID   Type   Process name                  GPU Memory |\n",
            "|        ID   ID                                                   Usage      |\n",
            "|=============================================================================|\n",
            "|  No running processes found                                                 |\n",
            "+-----------------------------------------------------------------------------+\n"
          ],
          "name": "stdout"
        }
      ]
    },
    {
      "cell_type": "code",
      "metadata": {
        "id": "9KSUzSXVPIz-"
      },
      "source": [
        "def download_file(packet_url, base_path=\"\", extract=False):\n",
        "  if base_path != \"\":\n",
        "    if not os.path.exists(base_path):\n",
        "      os.mkdir(base_path)\n",
        "  packet_file = os.path.basename(packet_url)\n",
        "  with requests.get(packet_url, stream=True) as r:\n",
        "      r.raise_for_status()\n",
        "      with open(os.path.join(base_path,packet_file), 'wb') as f:\n",
        "          for chunk in r.iter_content(chunk_size=8192):\n",
        "              f.write(chunk)\n",
        "  \n",
        "  if extract:\n",
        "    if packet_file.endswith(\".zip\"):\n",
        "      with zipfile.ZipFile(os.path.join(base_path,packet_file)) as zfile:\n",
        "        zfile.extractall(base_path)\n",
        "    \n",
        "    if packet_file.endswith(\".tar.gz\"):\n",
        "      packet_name = packet_file.split('.')[0]\n",
        "      with tarfile.open(os.path.join(base_path,packet_file)) as tfile:\n",
        "        tfile.extractall(base_path)\n",
        "\n",
        "# we use the following to save the models\n",
        "class JsonEncoder(json.JSONEncoder):\n",
        "  def default(self, obj):\n",
        "    if isinstance(obj, np.integer):\n",
        "        return int(obj)\n",
        "    elif isinstance(obj, np.floating):\n",
        "        return float(obj)\n",
        "    elif isinstance(obj, decimal.Decimal):\n",
        "        return float(obj)\n",
        "    elif isinstance(obj, np.ndarray):\n",
        "        return obj.tolist()\n",
        "    else:\n",
        "        return super(JsonEncoder, self).default(obj)\n",
        "\n",
        "# save_model saves everything. weights, statuses and results. \n",
        "def save_model(model,training_results,execution_time, learning_rate, epochs, optimizer, evaluation_results,path=\"/content/gdrive/My Drive/models\"):\n",
        "  model_name=model.name\n",
        "  # Get the model train history\n",
        "  model_train_history = training_results.history\n",
        "\n",
        "  # Ensure path exists\n",
        "  if not os.path.exists(path):\n",
        "      os.mkdir(path)\n",
        "  # Save the enitire model (structure + weights)\n",
        "  #model.save(os.path.join(path,model_name+\".hdf5\"))\n",
        "  # Save only the weights\n",
        "  model.save_weights(os.path.join(path,model_name+\".h5\"))\n",
        "\n",
        "  # Save the structure only\n",
        "  '''\n",
        "  model_json = model.to_json()\n",
        "  with open(os.path.join(path,model_name+\".json\"), \"w\") as json_file:\n",
        "      json_file.write(model_json)\n",
        "  '''\n",
        "    \n",
        "  #model_size = get_model_size(model_name=model_name)\n",
        "\n",
        "  # Save model history\n",
        "  with open(os.path.join(path,model_name+\"_train_history.json\"), \"w\") as json_file:\n",
        "      json_file.write(json.dumps(model_train_history,cls=JsonEncoder))\n",
        "\n",
        "  trainable_parameters = count_params(model.trainable_weights)\n",
        "  non_trainable_parameters = count_params(model.non_trainable_weights)\n",
        "  total_params = trainable_parameters + non_trainable_parameters\n",
        "\n",
        "  # Save model metrics\n",
        "  metrics ={\n",
        "      \"total_params\":total_params,\n",
        "      \"execution_time\":execution_time,\n",
        "      \"loss\":evaluation_results[0],\n",
        "      \"accuracy\":evaluation_results[1],\n",
        "      \"learning_rate\":learning_rate,\n",
        "      \"epochs\":epochs,\n",
        "      \"optimizer\":type(optimizer).__name__,\n",
        "      \"name\": model_name,\n",
        "      \"id\": int(time.time())\n",
        "  }\n",
        "\n",
        "  with open(os.path.join(path,model.name+\"_metrics.json\"), \"w\") as json_file:\n",
        "      json_file.write(json.dumps(metrics,cls=JsonEncoder))\n",
        "\n",
        "def get_model_size(path=\"models\",model_name=\"model01\"):\n",
        "  model_size = os.stat(os.path.join(path,model_name+\".hdf5\")).st_size\n",
        "  return model_size\n",
        "\n",
        "def evaluate_model(model,test_data, training_results,execution_time, learning_rate, epochs, \n",
        "                   optimizer,save=True, \n",
        "                   loss_metrics=[\"loss\",\"val_loss\"],\n",
        "                   acc_metrics=[\"accuracy\",\"val_accuracy\"]):\n",
        "    \n",
        "  # Get the model train history\n",
        "  model_train_history = training_results.history\n",
        "  # Get the number of epochs the training was run for\n",
        "  num_epochs = len(model_train_history[loss_metrics[0]])\n",
        "\n",
        "  # Plot training results\n",
        "  fig = plt.figure(figsize=(15,5))\n",
        "  axs = fig.add_subplot(1,2,1)\n",
        "  axs.set_title('Loss')\n",
        "  # Plot all metrics\n",
        "  for metric in loss_metrics:\n",
        "      axs.plot(np.arange(0, num_epochs), model_train_history[metric], label=metric)\n",
        "  axs.legend()\n",
        "  \n",
        "  axs = fig.add_subplot(1,2,2)\n",
        "  axs.set_title('Accuracy')\n",
        "  # Plot all metrics\n",
        "  for metric in acc_metrics:\n",
        "      axs.plot(np.arange(0, num_epochs), model_train_history[metric], label=metric)\n",
        "  axs.legend()\n",
        "\n",
        "  plt.show()\n",
        "  # Evaluate on test data\n",
        "  evaluation_results = model.evaluate(test_data, return_dict=True)\n",
        "  print(evaluation_results)\n",
        "\n",
        "  evaluation_results = [evaluation_results[loss_metrics[0]], evaluation_results[acc_metrics[0]]]\n",
        "  \n",
        "  if save:\n",
        "      # Save model\n",
        "      save_model(model,training_results,execution_time, learning_rate, epochs, optimizer, evaluation_results)\n",
        "  \n",
        "  return evaluation_results\n",
        "def get_dataset_size(base_path):\n",
        "  dataset_folder_size = subprocess.check_output(['du','-sh', base_path]).split()[0].decode('utf-8')\n",
        "  print(\"Dataset size on disk:\")\n",
        "  print(\"----------------\")\n",
        "  print(\"Total Size: \",dataset_folder_size)\n",
        "  dataset_folder_size = dataset_folder_size.replace(\"G\",\"000000000\")\n",
        "  dataset_folder_size = float(dataset_folder_size)\n",
        "\n",
        "  dataset_file_list = glob(base_path+'/*')\n",
        "  dataset_download_size = 0.0\n",
        "  for file in dataset_file_list:\n",
        "    if file.endswith(\".zip\"):\n",
        "      dataset_download_size += os.path.getsize(file)\n",
        "\n",
        "  dataset_download_size = dataset_download_size/1000000000\n",
        "  dataset_size = dataset_folder_size - dataset_download_size\n",
        "\n",
        "  print(\"Download Size: \",str(dataset_download_size)+\"G\")\n",
        "  print(\"Dataset Size: \",str(dataset_size)+\"G\")\n",
        "\n",
        "def get_dataset_list(base_path):\n",
        "  # Labels\n",
        "  label_names = os.listdir(base_path)\n",
        "\n",
        "  # Generate a list of labels and path to images\n",
        "  data_list = []\n",
        "  for label in label_names:\n",
        "      # Images\n",
        "      image_files = os.listdir(os.path.join(base_path,label))\n",
        "      data_list.extend([(label,os.path.join(base_path,label,f)) for f in image_files])\n",
        "\n",
        "  return label_names, data_list"
      ],
      "execution_count": 6,
      "outputs": []
    },
    {
      "cell_type": "code",
      "metadata": {
        "id": "3dKX9uMrPREE",
        "outputId": "c3be4c59-1c87-4db6-82de-8f19acac56b8",
        "colab": {
          "base_uri": "https://localhost:8080/"
        }
      },
      "source": [
        "train_image=\"https://storage.googleapis.com/ac295-data-store/visualqa_2017_small/train2014.zip\"\n",
        "train_question=\"https://public-dataset-store.s3.amazonaws.com/visualqa_2017/v2_Questions_Train_mscoco.zip\"\n",
        "train_answer=\"https://s3.amazonaws.com/cvmlp/vqa/mscoco/vqa/v2_Annotations_Train_mscoco.zip\"\n",
        "val_image=\"https://storage.googleapis.com/ac295-data-store/visualqa_2017_small/val2014.zip\"\n",
        "val_question=\"https://public-dataset-store.s3.amazonaws.com/visualqa_2017/v2_Questions_Val_mscoco.zip\"\n",
        "val_answer=\"https://s3.amazonaws.com/cvmlp/vqa/mscoco/vqa/v2_Annotations_Val_mscoco.zip\"\n",
        "start_time = time.time()\n",
        "download_file(train_image, base_path=\"images\", extract=True)\n",
        "execution_time = (time.time() - start_time)/60.0\n",
        "print(\"Download execution time (mins)\",execution_time)\n",
        "start_time = time.time()\n",
        "download_file(val_image, base_path=\"images\", extract=True)\n",
        "execution_time = (time.time() - start_time)/60.0\n",
        "print(\"Download execution time (mins)\",execution_time)"
      ],
      "execution_count": 7,
      "outputs": [
        {
          "output_type": "stream",
          "text": [
            "Download execution time (mins) 0.7632917602856953\n",
            "Download execution time (mins) 0.5464745799700419\n"
          ],
          "name": "stdout"
        }
      ]
    },
    {
      "cell_type": "code",
      "metadata": {
        "id": "t0MLZ0pZQiBJ",
        "outputId": "b65a8725-f29b-4818-a50e-1f48a123ab1d",
        "colab": {
          "base_uri": "https://localhost:8080/"
        }
      },
      "source": [
        "start_time = time.time()\n",
        "download_file(train_question, base_path=\"question_answer\", extract=True)\n",
        "download_file(train_answer, base_path=\"question_answer\", extract=True)\n",
        "download_file(val_question, base_path=\"question_answer\", extract=True)\n",
        "download_file(val_answer, base_path=\"question_answer\", extract=True)\n",
        "execution_time = (time.time() - start_time)/60.0\n",
        "print(\"Download execution time (mins)\",execution_time)"
      ],
      "execution_count": 8,
      "outputs": [
        {
          "output_type": "stream",
          "text": [
            "Download execution time (mins) 0.06951590379079182\n"
          ],
          "name": "stdout"
        }
      ]
    },
    {
      "cell_type": "markdown",
      "metadata": {
        "id": "sE63ygzeHsXY"
      },
      "source": [
        "#Preprocessing Data"
      ]
    },
    {
      "cell_type": "code",
      "metadata": {
        "id": "HIjBqq_OPbQ7"
      },
      "source": [
        "# Read data from json file\n",
        "with open('question_answer/v2_OpenEnded_mscoco_train2014_questions.json') as f:\n",
        "  train_question=json.load(f)\n",
        "train_data=pd.DataFrame.from_dict(train_question['questions'])\n",
        "with open('question_answer/v2_mscoco_train2014_annotations.json') as f:\n",
        "  train_answer=json.load(f)\n",
        "train_answer=pd.DataFrame(train_answer['annotations'])\n",
        "with open('question_answer/v2_OpenEnded_mscoco_val2014_questions.json') as f:\n",
        "  val_question=json.load(f)\n",
        "val_data=pd.DataFrame.from_dict(val_question['questions'])\n",
        "with open('question_answer/v2_mscoco_val2014_annotations.json') as f:\n",
        "  val_answer=json.load(f)\n",
        "val_answer=pd.DataFrame(val_answer['annotations'])\n",
        "#Merge question and answer\n",
        "train_data=pd.merge(train_data,train_answer[['multiple_choice_answer','question_id']],how='left',on='question_id')\n",
        "train_data.drop(columns=['question_id'],inplace=True)\n",
        "val_data=pd.merge(val_data,val_answer[['multiple_choice_answer','question_id']],how='left',on='question_id')\n",
        "val_data.drop(columns=['question_id'],inplace=True)\n",
        "number_of_answer=10\n",
        "counter=Counter(list(train_data.multiple_choice_answer.values)+list(val_data.multiple_choice_answer.values))\n",
        "top10_answers=[]\n",
        "for i in counter.most_common(number_of_answer):\n",
        "  top10_answers.append(i[0])\n",
        "label2index = dict((name, index) for index, name in enumerate(top10_answers))\n",
        "index2label = dict((index, name) for index, name in enumerate(top10_answers))\n",
        "train_data=train_data[train_data.multiple_choice_answer.isin(top10_answers)]\n",
        "val_data=val_data[val_data.multiple_choice_answer.isin(top10_answers)]"
      ],
      "execution_count": 9,
      "outputs": []
    },
    {
      "cell_type": "code",
      "metadata": {
        "id": "32vBbq-aZeW9"
      },
      "source": [
        "#Build dataset\n",
        "train_image=train_data.image_id.values\n",
        "train_question=train_data.question.values\n",
        "train_y=train_data.multiple_choice_answer.values\n",
        "val_image=val_data.image_id.values\n",
        "val_question=val_data.question.values\n",
        "val_y=val_data.multiple_choice_answer.values\n",
        "train_image=['images/train2014/COCO_train2014_'+'0'*(12-len(str(i)))+str(i)+'.jpg' for i in train_image]\n",
        "val_image=[f'images/val2014/COCO_val2014_'+'0'*(12-len(str(i)))+str(i)+'.jpg' for i in val_image]\n",
        "AUTOTUNE = tf.data.experimental.AUTOTUNE\n",
        "image_width = 224\n",
        "image_height = 224\n",
        "num_channels = 3\n",
        "num_classes = len(top10_answers) \n",
        "batch_size = 32\n",
        "shuffle_buffer_size=3000 # For perfect shuffling, a buffer size greater than or equal to the full size of the dataset is required.\n",
        "train_processed_y = [label2index[label] for label in train_y]\n",
        "val_processed_y = [label2index[label] for label in val_y]\n"
      ],
      "execution_count": 10,
      "outputs": []
    },
    {
      "cell_type": "code",
      "metadata": {
        "id": "Ts6B882kQQY8",
        "outputId": "c497a826-7ad9-4c14-8a9e-9462681ea6e6",
        "colab": {
          "base_uri": "https://localhost:8080/",
          "height": 66,
          "referenced_widgets": [
            "60c003f7f7574bdfb3bca1c368b44580",
            "80448bc5c5974a9cae333d382fd2decd",
            "116caa98c92444c2bd28997e22373f5c",
            "7c39a963142142d6a112d425c88eecb2",
            "11f13e3720684ee2814434e2dc5bbb42",
            "b82079fabfc44a65adef87fcc9f24517",
            "258da878e348420a8b161075f7b75e18",
            "6d79ce9797494e7ab12a6fb6265b7bc7"
          ]
        }
      },
      "source": [
        "# Preprocess Bert encoding\n",
        "tokenizer=BertTokenizer.from_pretrained('bert-base-uncased',do_lower_case=True)\n",
        "max_length=max(len(max(train_question,key=len)),len(max(val_question,key=len)))\n",
        "train_x=tokenizer.batch_encode_plus(\n",
        "        train_question,\n",
        "        return_tensors='tf',\n",
        "        add_special_tokens = True, # add [CLS], [SEP]\n",
        "        return_token_type_ids=True,\n",
        "        padding='max_length',\n",
        "        max_length=max_length, # max length of the text that can go to BERT (<=512)\n",
        "        return_attention_mask = True,\n",
        "        truncation='longest_first'\n",
        "    )\n",
        "validate_x=tokenizer.batch_encode_plus(\n",
        "        val_question,\n",
        "        return_tensors='tf',\n",
        "        add_special_tokens = True, # add [CLS], [SEP]\n",
        "        return_token_type_ids=True,\n",
        "        padding='max_length',\n",
        "        max_length=max_length, # max length of the text that can go to BERT (<=512)\n",
        "        return_attention_mask = True,\n",
        "        truncation='longest_first'\n",
        "    )\n",
        "num_vocab = tokenizer.vocab_size"
      ],
      "execution_count": 11,
      "outputs": [
        {
          "output_type": "display_data",
          "data": {
            "application/vnd.jupyter.widget-view+json": {
              "model_id": "60c003f7f7574bdfb3bca1c368b44580",
              "version_minor": 0,
              "version_major": 2
            },
            "text/plain": [
              "HBox(children=(FloatProgress(value=0.0, description='Downloading', max=231508.0, style=ProgressStyle(descripti…"
            ]
          },
          "metadata": {
            "tags": []
          }
        },
        {
          "output_type": "stream",
          "text": [
            "\n"
          ],
          "name": "stdout"
        }
      ]
    },
    {
      "cell_type": "markdown",
      "metadata": {
        "id": "-A-0uc0XLPf0"
      },
      "source": [
        "#Save data to TF record"
      ]
    },
    {
      "cell_type": "code",
      "metadata": {
        "id": "vgfEz-PHLR82"
      },
      "source": [
        "# Helper function\n",
        "def _bytes_feature(value):\n",
        "  \"\"\"Returns a bytes_list from a string / byte.\"\"\"\n",
        "  if isinstance(value, type(tf.constant(0))):\n",
        "    value = value.numpy() # BytesList won't unpack a string from an EagerTensor.\n",
        "  return tf.train.Feature(bytes_list=tf.train.BytesList(value=[value]))\n",
        "\n",
        "def _float_feature(value):\n",
        "  \"\"\"Returns a float_list from a float / double.\"\"\"\n",
        "  return tf.train.Feature(float_list=tf.train.FloatList(value=[value]))\n",
        "\n",
        "def _int64_feature(value):\n",
        "  \"\"\"Returns an int64_list from a bool / enum / int / uint.\"\"\"\n",
        "  return tf.train.Feature(int64_list=tf.train.Int64List(value=[value]))\n",
        "def serialize_example(feature0, feature1, feature2, feature3,feature4):\n",
        "  \"\"\"\n",
        "  Creates a tf.train.Example message ready to be written to a file.\n",
        "  \"\"\"\n",
        "  # Create a dictionary mapping the feature name to the tf.train.Example-compatible\n",
        "  # data type.\n",
        "  feature = {\n",
        "      'feature0': _bytes_feature(feature0),\n",
        "      'feature1': _bytes_feature(feature1),\n",
        "      'feature2': _bytes_feature(feature2),\n",
        "      'feature3': _bytes_feature(feature3),\n",
        "      'feature4': _int64_feature(feature4),\n",
        "  }\n",
        "\n",
        "  # Create a Features message using tf.train.Example.\n",
        "\n",
        "  example_proto = tf.train.Example(features=tf.train.Features(feature=feature))\n",
        "  return example_proto.SerializeToString()\n",
        "def load_normalize_train_image_tfrecord(path,input_id,token_type_ids,attention_mask,label):\n",
        "  image = tf.io.read_file(path)\n",
        "  #image=open(path,'rb').read()\n",
        "  return image,input_id,token_type_ids,attention_mask,label\n",
        "def tf_serialize_example(f0,f1,f2,f3,f4):\n",
        "  tf_string = tf.py_function(\n",
        "    serialize_example,\n",
        "    (f0,f1,f2,f3,f4),  # pass these args to the above function.\n",
        "    tf.string)      # the return type is `tf.string`.\n",
        "  return tf.reshape(tf_string, ()) # The result is a scalar\n",
        "#built desired input format\n",
        "def serialize_tensor(feature_0,feature_1,feature_2,feature_3,feature_4):\n",
        "  return feature_0,tf.io.serialize_tensor(feature_1),tf.io.serialize_tensor(feature_2),tf.io.serialize_tensor(feature_3),feature_4\n",
        "feature_description = {\n",
        "    'feature0': tf.io.FixedLenFeature([], tf.string, default_value=''),\n",
        "    'feature1': tf.io.FixedLenFeature([], tf.string, default_value=''),\n",
        "    'feature2': tf.io.FixedLenFeature([], tf.string, default_value=''),\n",
        "    'feature3': tf.io.FixedLenFeature([], tf.string, default_value=''),\n",
        "    'feature4': tf.io.FixedLenFeature([], tf.int64, default_value=0),\n",
        "}\n",
        "\n",
        "def _parse_function(example_proto):\n",
        "  # Parse the input `tf.train.Example` proto using the dictionary above.\n",
        "  return tf.io.parse_single_example(example_proto, feature_description)\n",
        "def parse_data_set(dictionary):\n",
        "  image = tf.image.decode_jpeg(dictionary['feature0'], channels=num_channels)\n",
        "  image = tf.image.resize(image, [image_height,image_width])\n",
        "  #normlize pixel\n",
        "  image = image/255\n",
        "  input_ids=tf.ensure_shape(tf.io.parse_tensor(dictionary['feature1'], tf.int32, name=None),[100])\n",
        "  token_type_ids=tf.ensure_shape(tf.io.parse_tensor(dictionary['feature2'], tf.int32, name=None),[100])\n",
        "  attention_mask=tf.ensure_shape(tf.io.parse_tensor(dictionary['feature3'], tf.int32, name=None),[100])\n",
        "  label=dictionary['feature4']\n",
        "  return image,input_ids,token_type_ids,attention_mask,label\n",
        "def processing_tf_record_input(image,input_ids,token_type_ids,attention_mask,label):\n",
        "  return ((image,{'input_ids':input_ids,\n",
        "          'token_type_ids':token_type_ids,\n",
        "            'attention_mask':attention_mask}),label)"
      ],
      "execution_count": 12,
      "outputs": []
    },
    {
      "cell_type": "code",
      "metadata": {
        "id": "ILYdD-tALWfE"
      },
      "source": [
        "#Save train_record\n",
        "train_record=tf.data.Dataset.from_tensor_slices((train_image,train_x['input_ids'],train_x['token_type_ids'],train_x['attention_mask'],train_processed_y))\n",
        "train_record=train_record.map(load_normalize_train_image_tfrecord, num_parallel_calls=AUTOTUNE)\n",
        "train_record=train_record.map(serialize_tensor,num_parallel_calls=AUTOTUNE)\n",
        "train_record=train_record.map(tf_serialize_example)\n",
        "filename='train.tfrecord'\n",
        "writer = tf.data.experimental.TFRecordWriter(filename)\n",
        "writer.write(train_record)"
      ],
      "execution_count": 13,
      "outputs": []
    },
    {
      "cell_type": "code",
      "metadata": {
        "id": "S4O-aTsaMPMg"
      },
      "source": [
        "#Save validation_record\n",
        "validation_record=tf.data.Dataset.from_tensor_slices((val_image,validate_x['input_ids'],validate_x['token_type_ids'],validate_x['attention_mask'],val_processed_y))\n",
        "validation_record=validation_record.map(load_normalize_train_image_tfrecord, num_parallel_calls=AUTOTUNE)\n",
        "validation_record=validation_record.map(serialize_tensor,num_parallel_calls=AUTOTUNE)\n",
        "validation_record=validation_record.map(tf_serialize_example)\n",
        "filename='validation.tfrecord'\n",
        "writer = tf.data.experimental.TFRecordWriter(filename)\n",
        "writer.write(validation_record)"
      ],
      "execution_count": 14,
      "outputs": []
    },
    {
      "cell_type": "markdown",
      "metadata": {
        "id": "dL8HK7wFMk5V"
      },
      "source": [
        "# Read data from tf record"
      ]
    },
    {
      "cell_type": "code",
      "metadata": {
        "id": "aiIgio_KMnSR",
        "outputId": "358d6575-2c36-4373-e354-9a02aefb5b68",
        "colab": {
          "base_uri": "https://localhost:8080/"
        }
      },
      "source": [
        "#Reading train_data from tf_record\n",
        "batch_size = 64 # You can try higher values but may run into OOM errors depending on which GPU you are using\n",
        "train_shuffle_buffer_size = 800\n",
        "validation_shuffle_buffer_size = 200\n",
        "filenames = 'train.tfrecord'\n",
        "train_raw_dataset = tf.data.TFRecordDataset(filenames)\n",
        "train_parsed_dataset = train_raw_dataset.map(_parse_function,num_parallel_calls=AUTOTUNE)\n",
        "train_parsed_dataset = train_parsed_dataset.map(parse_data_set,num_parallel_calls=AUTOTUNE)\n",
        "train_data=train_parsed_dataset.map(processing_tf_record_input, num_parallel_calls=AUTOTUNE)\n",
        "train_data = train_data.shuffle(buffer_size=train_shuffle_buffer_size)\n",
        "train_data = train_data.batch(batch_size)\n",
        "print(train_data)"
      ],
      "execution_count": 15,
      "outputs": [
        {
          "output_type": "stream",
          "text": [
            "<BatchDataset shapes: (((None, 224, 224, 3), {input_ids: (None, 100), token_type_ids: (None, 100), attention_mask: (None, 100)}), (None,)), types: ((tf.float32, {input_ids: tf.int32, token_type_ids: tf.int32, attention_mask: tf.int32}), tf.int64)>\n"
          ],
          "name": "stdout"
        }
      ]
    },
    {
      "cell_type": "code",
      "metadata": {
        "id": "YvQKD8JKNQmY",
        "outputId": "66a1dea5-5173-47b5-9c37-8c9f82ded78a",
        "colab": {
          "base_uri": "https://localhost:8080/"
        }
      },
      "source": [
        "#Reading validation data from tf_record\n",
        "filenames = 'validation.tfrecord'\n",
        "validation_raw_dataset = tf.data.TFRecordDataset(filenames)\n",
        "validation_parsed_dataset = validation_raw_dataset.map(_parse_function,num_parallel_calls=AUTOTUNE)\n",
        "validation_parsed_dataset = validation_parsed_dataset.map(parse_data_set,num_parallel_calls=AUTOTUNE)\n",
        "validation_data=validation_parsed_dataset.map(processing_tf_record_input, num_parallel_calls=AUTOTUNE)\n",
        "validation_data = validation_data.shuffle(buffer_size=train_shuffle_buffer_size)\n",
        "validation_data = validation_data.batch(batch_size)\n",
        "print(validation_data)"
      ],
      "execution_count": 16,
      "outputs": [
        {
          "output_type": "stream",
          "text": [
            "<BatchDataset shapes: (((None, 224, 224, 3), {input_ids: (None, 100), token_type_ids: (None, 100), attention_mask: (None, 100)}), (None,)), types: ((tf.float32, {input_ids: tf.int32, token_type_ids: tf.int32, attention_mask: tf.int32}), tf.int64)>\n"
          ],
          "name": "stdout"
        }
      ]
    },
    {
      "cell_type": "markdown",
      "metadata": {
        "id": "c3TPt_RPSHo3"
      },
      "source": [
        "### Visual Question Answering Model"
      ]
    },
    {
      "cell_type": "code",
      "metadata": {
        "id": "oA0ljEn8Nv9V",
        "outputId": "75755674-8e69-4e4e-eea1-7a2e9ed8a5f9",
        "colab": {
          "base_uri": "https://localhost:8080/"
        }
      },
      "source": [
        "\n",
        "K.clear_session()\n",
        "learning_rate=0.001\n",
        "## QA Model\n",
        "max_len = 100\n",
        "input_ids = layers.Input(shape=(max_len,), dtype=tf.int32)\n",
        "token_type_ids = layers.Input(shape=(max_len,), dtype=tf.int32)\n",
        "attention_mask = layers.Input(shape=(max_len,), dtype=tf.int32)\n",
        "image_input = layers.Input(shape=[224,224,3], name='image_input')\n",
        "\n",
        "#question model: BERT\n",
        "encoder = TFBertModel.from_pretrained(\"bert-base-uncased\")\n",
        "encoder.trainable=False\n",
        "embedding = encoder(\n",
        "    input_ids, token_type_ids=token_type_ids, attention_mask=attention_mask\n",
        ")[1]\n",
        "embedding_flatten = layers.Flatten(name=\"embedding_flatten\")(embedding)\n",
        "text_dropout=layers.Dropout(0.2)(embedding_flatten)\n",
        "bert_dense = layers.Dense(256, name=\"bert_dense\")(text_dropout)\n",
        "\n",
        "\n",
        "#image model: mobilenet\n",
        "mobilenetv2 = MobileNetV2(include_top=False, weights='imagenet')\n",
        "mobilenetv2.trainable=False\n",
        "image_flat = layers.Flatten()(mobilenetv2(image_input))\n",
        "image_dropout=layers.Dropout(0.2)(image_flat)\n",
        "#image_flat = Flatten()(model.layers[-1].output)(image_pretrained)\n",
        "image_dense = layers.Dense(256, activation='relu')(image_dropout)\n",
        "\n",
        "#image + question\n",
        "image_question = layers.Multiply()([bert_dense, image_dense])                          \n",
        "image_question_dense_1 = layers.Dense(units=32, name = 'image_question_dense_1')(image_question)\n",
        "classifier = layers.Dense(units= 10, name = 'classifier')(image_question_dense_1)\n",
        "\n",
        "\n",
        "inputs = (image_input, {'input_ids': input_ids, 'token_type_ids': token_type_ids, 'attention_mask': attention_mask})\n",
        "\n",
        "model = keras.Model(inputs= inputs, outputs= classifier,name='Vqa_model_dropout')\n",
        "\n",
        "# Optimizer\n",
        "optimizer = optimizers.Adam(lr=learning_rate, epsilon=1e-08)\n",
        "\n",
        "# Loss\n",
        "loss = losses.SparseCategoricalCrossentropy(from_logits=True)\n",
        "\n",
        "model.compile(optimizer=optimizer, loss=loss, metrics=[metrics.SparseCategoricalAccuracy()])\n",
        "\n",
        "model.summary()"
      ],
      "execution_count": null,
      "outputs": [
        {
          "output_type": "stream",
          "text": [
            "Some layers from the model checkpoint at bert-base-uncased were not used when initializing TFBertModel: ['mlm___cls', 'nsp___cls']\n",
            "- This IS expected if you are initializing TFBertModel from the checkpoint of a model trained on another task or with another architecture (e.g. initializing a BertForSequenceClassification model from a BertForPreTraining model).\n",
            "- This IS NOT expected if you are initializing TFBertModel from the checkpoint of a model that you expect to be exactly identical (initializing a BertForSequenceClassification model from a BertForSequenceClassification model).\n",
            "All the layers of TFBertModel were initialized from the model checkpoint at bert-base-uncased.\n",
            "If your task is similar to the task the model of the checkpoint was trained on, you can already use TFBertModel for predictions without further training.\n"
          ],
          "name": "stderr"
        },
        {
          "output_type": "stream",
          "text": [
            "WARNING:tensorflow:`input_shape` is undefined or non-square, or `rows` is not in [96, 128, 160, 192, 224]. Weights for input shape (224, 224) will be loaded as the default.\n",
            "Model: \"Vqa_model_dropout\"\n",
            "__________________________________________________________________________________________________\n",
            "Layer (type)                    Output Shape         Param #     Connected to                     \n",
            "==================================================================================================\n",
            "input_1 (InputLayer)            [(None, 100)]        0                                            \n",
            "__________________________________________________________________________________________________\n",
            "input_3 (InputLayer)            [(None, 100)]        0                                            \n",
            "__________________________________________________________________________________________________\n",
            "input_2 (InputLayer)            [(None, 100)]        0                                            \n",
            "__________________________________________________________________________________________________\n",
            "image_input (InputLayer)        [(None, 224, 224, 3) 0                                            \n",
            "__________________________________________________________________________________________________\n",
            "tf_bert_model (TFBertModel)     ((None, 100, 768), ( 109482240   input_1[0][0]                    \n",
            "                                                                 input_3[0][0]                    \n",
            "                                                                 input_2[0][0]                    \n",
            "__________________________________________________________________________________________________\n",
            "mobilenetv2_1.00_224 (Functiona (None, None, None, 1 2257984     image_input[0][0]                \n",
            "__________________________________________________________________________________________________\n",
            "embedding_flatten (Flatten)     (None, 768)          0           tf_bert_model[0][1]              \n",
            "__________________________________________________________________________________________________\n",
            "flatten (Flatten)               (None, 62720)        0           mobilenetv2_1.00_224[0][0]       \n",
            "__________________________________________________________________________________________________\n",
            "dropout_37 (Dropout)            (None, 768)          0           embedding_flatten[0][0]          \n",
            "__________________________________________________________________________________________________\n",
            "dropout_38 (Dropout)            (None, 62720)        0           flatten[0][0]                    \n",
            "__________________________________________________________________________________________________\n",
            "bert_dense (Dense)              (None, 256)          196864      dropout_37[0][0]                 \n",
            "__________________________________________________________________________________________________\n",
            "dense (Dense)                   (None, 256)          16056576    dropout_38[0][0]                 \n",
            "__________________________________________________________________________________________________\n",
            "multiply (Multiply)             (None, 256)          0           bert_dense[0][0]                 \n",
            "                                                                 dense[0][0]                      \n",
            "__________________________________________________________________________________________________\n",
            "image_question_dense_1 (Dense)  (None, 32)           8224        multiply[0][0]                   \n",
            "__________________________________________________________________________________________________\n",
            "classifier (Dense)              (None, 10)           330         image_question_dense_1[0][0]     \n",
            "==================================================================================================\n",
            "Total params: 128,002,218\n",
            "Trainable params: 16,261,994\n",
            "Non-trainable params: 111,740,224\n",
            "__________________________________________________________________________________________________\n"
          ],
          "name": "stdout"
        }
      ]
    },
    {
      "cell_type": "markdown",
      "metadata": {
        "id": "yYKLfoDzIWnn"
      },
      "source": [
        "#Training using data from TF record"
      ]
    },
    {
      "cell_type": "code",
      "metadata": {
        "id": "nfPAnTnlSU8R",
        "outputId": "d5783c11-e06a-4e63-f235-33eb82e3fc0e",
        "colab": {
          "base_uri": "https://localhost:8080/",
          "height": 764
        }
      },
      "source": [
        "#Training use TF record\n",
        "epochs=10\n",
        "start_time = time.time()\n",
        "training_results=model.fit( train_data, validation_data = validation_data.take(1000), epochs=epochs, verbose=1)\n",
        "execution_time = (time.time() - start_time)/60.0\n",
        "print(\"Training execution time (mins)\",execution_time)\n",
        "evaluate_model(model,validation_data, training_results,execution_time, \n",
        "               learning_rate, epochs, optimizer,save=False,\n",
        "               loss_metrics=[\"loss\",\"val_loss\"],\n",
        "               acc_metrics=[\"sparse_categorical_accuracy\",\"val_sparse_categorical_accuracy\"])"
      ],
      "execution_count": null,
      "outputs": [
        {
          "output_type": "stream",
          "text": [
            "Epoch 1/10\n",
            "3569/3569 [==============================] - 1565s 438ms/step - loss: 1.1985 - sparse_categorical_accuracy: 0.4225 - val_loss: 0.9166 - val_sparse_categorical_accuracy: 0.4501\n",
            "Epoch 2/10\n",
            "3569/3569 [==============================] - 1561s 437ms/step - loss: 1.0619 - sparse_categorical_accuracy: 0.4380 - val_loss: 0.9221 - val_sparse_categorical_accuracy: 0.4623\n",
            "Epoch 3/10\n",
            "3569/3569 [==============================] - 1560s 437ms/step - loss: 1.0534 - sparse_categorical_accuracy: 0.4376 - val_loss: 0.9145 - val_sparse_categorical_accuracy: 0.4576\n",
            "Epoch 4/10\n",
            "3569/3569 [==============================] - 1558s 437ms/step - loss: 1.0384 - sparse_categorical_accuracy: 0.4375 - val_loss: 0.9239 - val_sparse_categorical_accuracy: 0.4536\n",
            "Epoch 5/10\n",
            "3569/3569 [==============================] - 1552s 435ms/step - loss: 1.0326 - sparse_categorical_accuracy: 0.4388 - val_loss: 0.9041 - val_sparse_categorical_accuracy: 0.4526\n",
            "Epoch 6/10\n",
            "3569/3569 [==============================] - 1548s 434ms/step - loss: 1.0246 - sparse_categorical_accuracy: 0.4412 - val_loss: 0.9045 - val_sparse_categorical_accuracy: 0.4635\n",
            "Epoch 7/10\n",
            "3569/3569 [==============================] - 1546s 433ms/step - loss: 1.0165 - sparse_categorical_accuracy: 0.4414 - val_loss: 0.9031 - val_sparse_categorical_accuracy: 0.4514\n",
            "Epoch 8/10\n",
            "3569/3569 [==============================] - 1548s 434ms/step - loss: 1.0108 - sparse_categorical_accuracy: 0.4418 - val_loss: 0.8995 - val_sparse_categorical_accuracy: 0.4533\n",
            "Epoch 9/10\n",
            "3569/3569 [==============================] - 1544s 433ms/step - loss: 1.0111 - sparse_categorical_accuracy: 0.4435 - val_loss: 0.8936 - val_sparse_categorical_accuracy: 0.4645\n",
            "Epoch 10/10\n",
            "3569/3569 [==============================] - 1544s 433ms/step - loss: 1.0051 - sparse_categorical_accuracy: 0.4436 - val_loss: 0.8979 - val_sparse_categorical_accuracy: 0.4509\n",
            "Training execution time (mins) 259.158892873923\n"
          ],
          "name": "stdout"
        },
        {
          "output_type": "display_data",
          "data": {
            "image/png": "[encoded data removed]",
            "text/plain": [
              "<Figure size 1080x360 with 2 Axes>"
            ]
          },
          "metadata": {
            "tags": [],
            "needs_background": "light"
          }
        },
        {
          "output_type": "stream",
          "text": [
            "1721/1721 [==============================] - 561s 326ms/step - loss: 0.8969 - sparse_categorical_accuracy: 0.4532\n",
            "{'loss': 0.8969497084617615, 'sparse_categorical_accuracy': 0.45315423607826233}\n"
          ],
          "name": "stdout"
        },
        {
          "output_type": "execute_result",
          "data": {
            "text/plain": [
              "[0.8969497084617615, 0.45315423607826233]"
            ]
          },
          "metadata": {
            "tags": []
          },
          "execution_count": 85
        }
      ]
    },
    {
      "cell_type": "code",
      "metadata": {
        "id": "acoGw2SVIGa5"
      },
      "source": [
        ""
      ],
      "execution_count": null,
      "outputs": []
    }
  ]
}