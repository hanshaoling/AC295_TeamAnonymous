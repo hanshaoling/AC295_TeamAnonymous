{
 "cells": [
  {
   "cell_type": "code",
   "execution_count": 4,
   "metadata": {},
   "outputs": [],
   "source": [
    "from tensorflow.keras.preprocessing.image import ImageDataGenerator\n",
    "import tensorflow as tf\n",
    "from tensorflow.keras import Input\n",
    "from tensorflow.keras.models import Model\n",
    "from tensorflow.keras.layers import Dense, Dropout, Flatten, Activation, Reshape\n",
    "from tensorflow.keras.layers import Conv2D, MaxPooling2D, UpSampling2D\n",
    "from tensorflow.keras.optimizers import Adam"
   ]
  },
  {
   "cell_type": "code",
   "execution_count": 5,
   "metadata": {},
   "outputs": [
    {
     "name": "stdout",
     "output_type": "stream",
     "text": [
      "Found 9294 images belonging to 1 classes.\n"
     ]
    }
   ],
   "source": [
    "#read data\n",
    "train_datagen=ImageDataGenerator(rescale=(1/255.)) \n",
    "IMG_SIZE = 64\n",
    "#directory should be 'gap_images/gap_images/xxxx.jpg'\n",
    "train_generator=train_datagen.flow_from_directory('gap_images/',#has to have subdirectory under it, otherwise 0 file found\n",
    "                                                 target_size=(IMG_SIZE,IMG_SIZE),\n",
    "                                                 color_mode='rgb',\n",
    "                                                 batch_size=64,\n",
    "                                                 class_mode= 'input',\n",
    "                                                 shuffle=True, \n",
    "                                                 classes= None)\n"
   ]
  },
  {
   "cell_type": "code",
   "execution_count": 6,
   "metadata": {},
   "outputs": [
    {
     "name": "stdout",
     "output_type": "stream",
     "text": [
      "Model: \"ae_model\"\n",
      "_________________________________________________________________\n",
      "Layer (type)                 Output Shape              Param #   \n",
      "=================================================================\n",
      "input_1 (InputLayer)         [(None, 64, 64, 3)]       0         \n",
      "_________________________________________________________________\n",
      "conv2d (Conv2D)              (None, 64, 64, 64)        1792      \n",
      "_________________________________________________________________\n",
      "max_pooling2d (MaxPooling2D) (None, 32, 32, 64)        0         \n",
      "_________________________________________________________________\n",
      "conv2d_1 (Conv2D)            (None, 32, 32, 32)        18464     \n",
      "_________________________________________________________________\n",
      "max_pooling2d_1 (MaxPooling2 (None, 16, 16, 32)        0         \n",
      "_________________________________________________________________\n",
      "flatten (Flatten)            (None, 8192)              0         \n",
      "_________________________________________________________________\n",
      "dense (Dense)                (None, 128)               1048704   \n",
      "_________________________________________________________________\n",
      "dense_1 (Dense)              (None, 4)                 516       \n",
      "_________________________________________________________________\n",
      "dense_2 (Dense)              (None, 128)               640       \n",
      "_________________________________________________________________\n",
      "dense_3 (Dense)              (None, 8192)              1056768   \n",
      "_________________________________________________________________\n",
      "reshape (Reshape)            (None, 16, 16, 32)        0         \n",
      "_________________________________________________________________\n",
      "conv2d_2 (Conv2D)            (None, 16, 16, 32)        9248      \n",
      "_________________________________________________________________\n",
      "up_sampling2d (UpSampling2D) (None, 32, 32, 32)        0         \n",
      "_________________________________________________________________\n",
      "conv2d_3 (Conv2D)            (None, 32, 32, 64)        18496     \n",
      "_________________________________________________________________\n",
      "up_sampling2d_1 (UpSampling2 (None, 64, 64, 64)        0         \n",
      "_________________________________________________________________\n",
      "conv2d_4 (Conv2D)            (None, 64, 64, 3)         1731      \n",
      "=================================================================\n",
      "Total params: 2,156,359\n",
      "Trainable params: 2,156,359\n",
      "Non-trainable params: 0\n",
      "_________________________________________________________________\n"
     ]
    }
   ],
   "source": [
    "h, w, d = train_generator[0][0].shape[1:]\n",
    "input_layer = Input(shape=(h, w, d))\n",
    "latent_dimension=4\n",
    "encoded_layer1 = Conv2D(64, (3, 3), activation='relu', padding='same')(input_layer)\n",
    "encoded_layer1 = MaxPooling2D( (2, 2), padding='same')(encoded_layer1)\n",
    "encoded_layer2 = Conv2D(32, (3, 3), activation='relu', padding='same')(encoded_layer1)\n",
    "encoded_layer2 = MaxPooling2D( (2, 2), padding='same')(encoded_layer2)\n",
    "\n",
    "encoded_layer3=Flatten()(encoded_layer2)\n",
    "encoded_layer4=Dense(128, activation='relu', use_bias=True)(encoded_layer3)\n",
    "latent_view =Dense(4, activation='linear', use_bias=True)(encoded_layer4)\n",
    "decoded_layer1=Dense(128, activation='relu', use_bias=True)(latent_view)\n",
    "decoded_layer2=Dense(8192, activation='relu', use_bias=True)(decoded_layer1)\n",
    "decoded_layer3=Reshape(target_shape=(16,16,32))(decoded_layer2)\n",
    "\n",
    "decoded_layer4 = Conv2D(32, (3, 3), activation='relu', padding='same')(decoded_layer3)\n",
    "decoded_layer4 = UpSampling2D((2, 2))(decoded_layer4)\n",
    "decoded_layer5 = Conv2D(64, (3, 3), activation='relu',padding='same')(decoded_layer4)\n",
    "decoded_layer5 = UpSampling2D((2, 2))(decoded_layer5)\n",
    "output_layer   = Conv2D(3, (3, 3), activation='sigmoid', padding='same')(decoded_layer5)\n",
    "\n",
    "cae = Model(input_layer, output_layer, name='ae_model')\n",
    "cae.summary()"
   ]
  },
  {
   "cell_type": "code",
   "execution_count": 7,
   "metadata": {},
   "outputs": [
    {
     "name": "stdout",
     "output_type": "stream",
     "text": [
      "Epoch 1/2\n",
      "145/145 [==============================] - 117s 807ms/step - loss: 0.0404\n",
      "Epoch 2/2\n",
      "145/145 [==============================] - 113s 780ms/step - loss: 0.0264\n"
     ]
    }
   ],
   "source": [
    "#training: no decrease after 2 epochs\n",
    "cae.compile(loss='mse', optimizer=Adam(lr=0.001))\n",
    "step_size_train=train_generator.n//train_generator.batch_size\n",
    "history = cae.fit_generator(generator=train_generator, \n",
    "                            steps_per_epoch=step_size_train,\n",
    "                            #validation_data= train_generator,\n",
    "                            epochs=2)"
   ]
  },
  {
   "cell_type": "code",
   "execution_count": null,
   "metadata": {},
   "outputs": [],
   "source": [
    "#Save Model\n",
    "\n",
    "model_json = cae.to_json()\n",
    "with open(\"autoencoder.json\", \"w\") as json_file:\n",
    "    json_file.write(model_json)\n",
    "# serialize weights to HDF5\n",
    "cae.save_weights(\"ae_weights.h5\")\n",
    "print(\"Saved model to disk\")"
   ]
  }
 ],
 "metadata": {
  "kernelspec": {
   "display_name": "Python 3",
   "language": "python",
   "name": "python3"
  },
  "language_info": {
   "codemirror_mode": {
    "name": "ipython",
    "version": 3
   },
   "file_extension": ".py",
   "mimetype": "text/x-python",
   "name": "python",
   "nbconvert_exporter": "python",
   "pygments_lexer": "ipython3",
   "version": "3.7.3"
  },
  "toc": {
   "base_numbering": 1,
   "nav_menu": {},
   "number_sections": true,
   "sideBar": true,
   "skip_h1_title": false,
   "title_cell": "Table of Contents",
   "title_sidebar": "Contents",
   "toc_cell": false,
   "toc_position": {},
   "toc_section_display": true,
   "toc_window_display": false
  }
 },
 "nbformat": 4,
 "nbformat_minor": 2
}
